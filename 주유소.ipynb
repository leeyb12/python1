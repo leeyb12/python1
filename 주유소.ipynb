{
 "cells": [
  {
   "cell_type": "code",
   "execution_count": 1,
   "id": "144486a3-d1aa-4024-8cf5-320d99638017",
   "metadata": {},
   "outputs": [],
   "source": [
    "from selenium import webdriver\n",
    "from selenium.webdriver.common.action_chains import ActionChains\n",
    "from selenium.webdriver.chrome.service import Service\n",
    "from selenium.webdriver.chrome.options import Options\n",
    "from selenium.webdriver.common.keys import Keys\n",
    "from selenium.webdriver.common.by import By\n",
    "from datetime import datetime\n",
    "from bs4 import BeautifulSoup as bs\n",
    "import pandas as pd\n",
    "import time"
   ]
  },
  {
   "cell_type": "code",
   "execution_count": 2,
   "id": "e40f6ec4-669e-4c82-9b37-5f7f67d345ce",
   "metadata": {},
   "outputs": [
    {
     "name": "stdout",
     "output_type": "stream",
     "text": [
      "싼 주유소 찾기 오피넷\n"
     ]
    },
    {
     "ename": "AttributeError",
     "evalue": "move_to requires a WebElement",
     "output_type": "error",
     "traceback": [
      "\u001b[1;31m---------------------------------------------------------------------------\u001b[0m",
      "\u001b[1;31mAttributeError\u001b[0m                            Traceback (most recent call last)",
      "Cell \u001b[1;32mIn[2], line 22\u001b[0m\n\u001b[0;32m     20\u001b[0m \u001b[38;5;66;03m# 마우스 호버 액션\u001b[39;00m\n\u001b[0;32m     21\u001b[0m actions \u001b[38;5;241m=\u001b[39m ActionChains(driver)\n\u001b[1;32m---> 22\u001b[0m \u001b[43mactions\u001b[49m\u001b[38;5;241;43m.\u001b[39;49m\u001b[43mmove_to_element\u001b[49m\u001b[43m(\u001b[49m\u001b[43mhover_element\u001b[49m\u001b[43m)\u001b[49m\u001b[38;5;241m.\u001b[39mperform()\n\u001b[0;32m     24\u001b[0m \u001b[38;5;66;03m# 약간의 시간을 기다린 후 클릭\u001b[39;00m\n\u001b[0;32m     25\u001b[0m time\u001b[38;5;241m.\u001b[39msleep(\u001b[38;5;241m1\u001b[39m)\n",
      "File \u001b[1;32m~\\AppData\\Local\\Programs\\Python\\Python313\\Lib\\site-packages\\selenium\\webdriver\\common\\action_chains.py:253\u001b[0m, in \u001b[0;36mActionChains.move_to_element\u001b[1;34m(self, to_element)\u001b[0m\n\u001b[0;32m    246\u001b[0m \u001b[38;5;28;01mdef\u001b[39;00m\u001b[38;5;250m \u001b[39m\u001b[38;5;21mmove_to_element\u001b[39m(\u001b[38;5;28mself\u001b[39m, to_element: WebElement) \u001b[38;5;241m-\u001b[39m\u001b[38;5;241m>\u001b[39m ActionChains:\n\u001b[0;32m    247\u001b[0m \u001b[38;5;250m    \u001b[39m\u001b[38;5;124;03m\"\"\"Moving the mouse to the middle of an element.\u001b[39;00m\n\u001b[0;32m    248\u001b[0m \n\u001b[0;32m    249\u001b[0m \u001b[38;5;124;03m    :Args:\u001b[39;00m\n\u001b[0;32m    250\u001b[0m \u001b[38;5;124;03m     - to_element: The WebElement to move to.\u001b[39;00m\n\u001b[0;32m    251\u001b[0m \u001b[38;5;124;03m    \"\"\"\u001b[39;00m\n\u001b[1;32m--> 253\u001b[0m     \u001b[38;5;28;43mself\u001b[39;49m\u001b[38;5;241;43m.\u001b[39;49m\u001b[43mw3c_actions\u001b[49m\u001b[38;5;241;43m.\u001b[39;49m\u001b[43mpointer_action\u001b[49m\u001b[38;5;241;43m.\u001b[39;49m\u001b[43mmove_to\u001b[49m\u001b[43m(\u001b[49m\u001b[43mto_element\u001b[49m\u001b[43m)\u001b[49m\n\u001b[0;32m    254\u001b[0m     \u001b[38;5;28mself\u001b[39m\u001b[38;5;241m.\u001b[39mw3c_actions\u001b[38;5;241m.\u001b[39mkey_action\u001b[38;5;241m.\u001b[39mpause()\n\u001b[0;32m    256\u001b[0m     \u001b[38;5;28;01mreturn\u001b[39;00m \u001b[38;5;28mself\u001b[39m\n",
      "File \u001b[1;32m~\\AppData\\Local\\Programs\\Python\\Python313\\Lib\\site-packages\\selenium\\webdriver\\common\\actions\\pointer_actions.py:88\u001b[0m, in \u001b[0;36mPointerActions.move_to\u001b[1;34m(self, element, x, y, width, height, pressure, tangential_pressure, tilt_x, tilt_y, twist, altitude_angle, azimuth_angle)\u001b[0m\n\u001b[0;32m     72\u001b[0m \u001b[38;5;28;01mdef\u001b[39;00m\u001b[38;5;250m \u001b[39m\u001b[38;5;21mmove_to\u001b[39m(\n\u001b[0;32m     73\u001b[0m     \u001b[38;5;28mself\u001b[39m,\n\u001b[0;32m     74\u001b[0m     element,\n\u001b[1;32m   (...)\u001b[0m\n\u001b[0;32m     85\u001b[0m     azimuth_angle\u001b[38;5;241m=\u001b[39m\u001b[38;5;28;01mNone\u001b[39;00m,\n\u001b[0;32m     86\u001b[0m ):\n\u001b[0;32m     87\u001b[0m     \u001b[38;5;28;01mif\u001b[39;00m \u001b[38;5;129;01mnot\u001b[39;00m \u001b[38;5;28misinstance\u001b[39m(element, WebElement):\n\u001b[1;32m---> 88\u001b[0m         \u001b[38;5;28;01mraise\u001b[39;00m \u001b[38;5;167;01mAttributeError\u001b[39;00m(\u001b[38;5;124m\"\u001b[39m\u001b[38;5;124mmove_to requires a WebElement\u001b[39m\u001b[38;5;124m\"\u001b[39m)\n\u001b[0;32m     90\u001b[0m     \u001b[38;5;28mself\u001b[39m\u001b[38;5;241m.\u001b[39msource\u001b[38;5;241m.\u001b[39mcreate_pointer_move(\n\u001b[0;32m     91\u001b[0m         origin\u001b[38;5;241m=\u001b[39melement,\n\u001b[0;32m     92\u001b[0m         duration\u001b[38;5;241m=\u001b[39m\u001b[38;5;28mself\u001b[39m\u001b[38;5;241m.\u001b[39m_duration,\n\u001b[1;32m   (...)\u001b[0m\n\u001b[0;32m    103\u001b[0m         azimuth_angle\u001b[38;5;241m=\u001b[39mazimuth_angle,\n\u001b[0;32m    104\u001b[0m     )\n\u001b[0;32m    105\u001b[0m     \u001b[38;5;28;01mreturn\u001b[39;00m \u001b[38;5;28mself\u001b[39m\n",
      "\u001b[1;31mAttributeError\u001b[0m: move_to requires a WebElement"
     ]
    }
   ],
   "source": [
    "# Chrome 옵션 설정\n",
    "options = Options()\n",
    "options.binary_location = \"..\\\\chrome-win64\\\\chrome.exe\" # chrome 경로 설정\n",
    "options.add_argument(\"--no-sandbox\") # sandbox 설정\n",
    "options.add_argument(\"--disable-dev-shm-usage\") # 공유메모리 설정\n",
    "options.add_argument(\"--window-size=1920,1080\") # 화면크기설정, 반응형 웹 대비\n",
    "# options.add_argument(\"--disable-gpu\") # GPU 비활성화\n",
    "\n",
    "# ChromeDriver 설정\n",
    "service = Service(\"..\\\\chromedriver.exe\")\n",
    "driver = webdriver.Chrome(service=service, options=options)\n",
    "driver.get(\"https://www.opinet.co.kr/\")\n",
    "print(driver.title)\n",
    "\n",
    "# 요소찾기\n",
    "time.sleep(2)\n",
    "hover_element = driver.find_element(By.CSS_SELECTOR, \"#header > div > ul > li:nth-child(1) > a\").click()\n",
    "menu_option = driver.find_element(By.CSS_SELECTOR,\"#header > div > ul > li:nth-child(1) > ul > li:nth-child(1) > a\").click()\n",
    "\n",
    "# 마우스 호버 액션\n",
    "actions = ActionChains(driver)\n",
    "actions.move_to_element(hover_element).perform()\n",
    "\n",
    "# 약간의 시간을 기다린 후 클릭\n",
    "time.sleep(1)\n",
    "menu_option.click()\n",
    "time.sleep(5)"
   ]
  },
  {
   "cell_type": "code",
   "execution_count": 3,
   "id": "cd1cbd4e-db25-45b2-a78c-86a4fde609dd",
   "metadata": {},
   "outputs": [],
   "source": [
    "import matplotlib\n",
    "import matplotlib.pyplot as plt\n",
    "import matplotlib.font_manager as fm\n",
    "\n",
    "import pandas as pd\n",
    "import numpy as np\n",
    "import folium\n",
    "\n",
    "from hdfs import InsecureClient"
   ]
  },
  {
   "cell_type": "code",
   "execution_count": 4,
   "id": "9a1d1fbc-cdc6-43d2-a7c6-c34667d71cf4",
   "metadata": {},
   "outputs": [
    {
     "data": {
      "text/plain": [
       "Text(0.2, 0.4, '한글')"
      ]
     },
     "execution_count": 4,
     "metadata": {},
     "output_type": "execute_result"
    },
    {
     "data": {
      "image/png": "[encoded data removed]",
      "text/plain": [
       "<Figure size 640x480 with 1 Axes>"
      ]
     },
     "metadata": {},
     "output_type": "display_data"
    }
   ],
   "source": [
    "from matplotlib import rc\n",
    "path = \"C:\\\\Windows\\\\Fonts\\\\Hancom Gothic Regular.ttf\"\n",
    "font_name = fm.FontProperties(fname=path).get_name()\n",
    "rc('font',family=font_name)\n",
    "plt.text(0.2,0.4,'한글',size=100)"
   ]
  },
  {
   "cell_type": "code",
   "execution_count": null,
   "id": "c3ed29c4-2167-4906-a2a5-1b4fd6ec8f22",
   "metadata": {},
   "outputs": [],
   "source": [
    "hdfs = InsecureClient(\"http://namenode:9870\", user=\"hadoop\") \n",
    "path = '/user/hadoop/'\n",
    "file = '부산 강서구.csv'\n",
    "full_path = path + file\n",
    "# with hdfs.read(full_path, encoding=\"UTF-8\") as reader:\n",
    "#     data = pd.read_csv(reader)\n",
    "# data\n",
    "with hdfs.read(full_path,encoding=\"UTF-8\") as reader:\n",
    "    data = pd.read_csv(reader)\n",
    "data\n",
    "# paths = [\n",
    "#     \"부산 강서구.csv\", \"부산 금정구.csv\", \"부산 기장군.csv\", \"부산 남구.csv\",\n",
    "#     \"부산 동구.csv\", \"부산 동래구.csv\", \"부산 부산진구.csv\", \"부산 북구.csv\",\n",
    "#     \"부산 사상구.csv\", \"부산 사하구.csv\", \"부산 서구.csv\", \"부산 수영구.csv\",\n",
    "#     \"부산 연제구.csv\", \"부산 영도구.csv\", \"부산 중구.csv\", \"부산 해운대구.csv\"\n",
    "# ]\n",
    "data.append()\n",
    "data\n",
    "# datas = []\n",
    "# for path in paths:  # 리스트에서 각 파일의 경로를 하나씩 읽음\n",
    "#     with hdfs.read(path, encoding=\"UTF-8\") as reader:\n",
    "#         datas.append(pd.read_csv(reader))\n",
    "# datas"
   ]
  },
  {
   "cell_type": "code",
   "execution_count": null,
   "id": "68c08e1f-b821-4eaf-aa4c-4a33cada970e",
   "metadata": {},
   "outputs": [],
   "source": [
    "hdfs = InsecureClient(\"http://namenode:9870\", user=\"hadoop\") \n",
    "path = '/user/hadoop/'\n",
    "files = [\n",
    "    \"부산 강서구.csv\", \"부산 금정구.csv\", \"부산 남구.csv\",\"부산 동구.csv\", \n",
    "    \"부산 동래구.csv\", \"부산 부산진구.csv\", \"부산 북구.csv\",\"부산 사상구.csv\", \n",
    "    \"부산 사하구.csv\", \"부산 서구.csv\", \"부산 수영구.csv\",\"부산 연제구.csv\", \n",
    "    \"부산 영도구.csv\", \"부산 중구.csv\", \"부산 해운대구.csv\"]\n",
    "full_path = path + file\n",
    "# with hdfs.read(full_path, encoding=\"UTF-8\") as reader:\n",
    "#     data = pd.read_csv(reader)\n",
    "data = []\n",
    "with hdfs.read(full_path,encoding=\"UTF-8\") as reader:\n",
    "    data = pd.read_csv(reader)\n",
    "data\n",
    "# paths = [\n",
    "#     \"부산 강서구.csv\", \"부산 금정구.csv\", \"부산 기장군.csv\", \"부산 남구.csv\",\n",
    "#     \"부산 동구.csv\", \"부산 동래구.csv\", \"부산 부산진구.csv\", \"부산 북구.csv\",\n",
    "#     \"부산 사상구.csv\", \"부산 사하구.csv\", \"부산 서구.csv\", \"부산 수영구.csv\",\n",
    "#     \"부산 연제구.csv\", \"부산 영도구.csv\", \"부산 중구.csv\", \"부산 해운대구.csv\"\n",
    "# ]\n",
    "data.append()\n",
    "data\n",
    "# datas = []\n",
    "# for path in paths:  # 리스트에서 각 파일의 경로를 하나씩 읽음\n",
    "#     with hdfs.read(path, encoding=\"UTF-8\") as reader:\n",
    "#         datas.append(pd.read_csv(reader))\n",
    "# datas"
   ]
  },
  {
   "cell_type": "code",
   "execution_count": null,
   "id": "15c9bfde-dc79-4402-942c-9180182d455c",
   "metadata": {},
   "outputs": [],
   "source": [
    "from hdfs import InsecureClient\n",
    "import pandas as pd\n",
    "\n",
    "# HDFS 연결\n",
    "hdfs = InsecureClient(\"http://namenode:9870\", user=\"hadoop\") \n",
    "base_path = '/user/hadoop/'\n",
    "\n",
    "# 파일 경로 리스트\n",
    "paths = [\n",
    "    \"부산 강서구.csv\", \"부산 금정구.csv\", \"부산 남구.csv\",\"부산 동구.csv\", \n",
    "    \"부산 동래구.csv\", \"부산 부산진구.csv\", \"부산 북구.csv\",\"부산 사상구.csv\", \n",
    "    \"부산 사하구.csv\", \"부산 서구.csv\", \"부산 수영구.csv\",\"부산 연제구.csv\", \n",
    "    \"부산 영도구.csv\", \"부산 중구.csv\", \"부산 해운대구.csv\"]\n",
    "\n",
    "# 전체 데이터를 저장할 리스트\n",
    "all_data = []\n",
    "\n",
    "# 각 파일 반복하며 읽기\n",
    "for file in paths:\n",
    "    full_path = base_path + file\n",
    "    with hdfs.read(full_path, encoding=\"UTF-8\") as reader:\n",
    "        df = pd.read_csv(reader)\n",
    "        df['구'] = file.replace(\".csv\", \"\")  # '구' 컬럼 추가\n",
    "        all_data.append(df)\n",
    "\n",
    "# 통합 DataFrame 생성\n",
    "combined_df = pd.concat(all_data, ignore_index=True)\n",
    "\n",
    "# 확인\n",
    "print(combined_df.head())"
   ]
  },
  {
   "cell_type": "code",
   "execution_count": null,
   "id": "f31459dd-78e0-4d93-9fa2-dd8ed4245a63",
   "metadata": {},
   "outputs": [],
   "source": []
  },
  {
   "cell_type": "code",
   "execution_count": null,
   "id": "3f4259ad-8ac3-4cff-87df-1ca6adb80ec9",
   "metadata": {},
   "outputs": [],
   "source": []
  },
  {
   "cell_type": "code",
   "execution_count": null,
   "id": "461afaff-bab3-448c-b0c3-575d2dfb39aa",
   "metadata": {},
   "outputs": [],
   "source": []
  },
  {
   "cell_type": "code",
   "execution_count": null,
   "id": "f449f413-6c67-4c3d-abf8-2480014d6714",
   "metadata": {},
   "outputs": [],
   "source": []
  },
  {
   "cell_type": "code",
   "execution_count": null,
   "id": "05b5eeda-1352-43b6-9175-ee53dadfc1a5",
   "metadata": {},
   "outputs": [],
   "source": []
  },
  {
   "cell_type": "code",
   "execution_count": null,
   "id": "98c5ea53-bbca-4b15-88f3-12543a7b1952",
   "metadata": {},
   "outputs": [],
   "source": []
  },
  {
   "cell_type": "code",
   "execution_count": null,
   "id": "a8882d63-862c-486d-bc71-6d5a6d99adaa",
   "metadata": {},
   "outputs": [],
   "source": []
  },
  {
   "cell_type": "code",
   "execution_count": null,
   "id": "3b1166e6-048e-476f-9f68-1e4fcf58a288",
   "metadata": {},
   "outputs": [],
   "source": []
  },
  {
   "cell_type": "code",
   "execution_count": null,
   "id": "b7e0e25e-cb86-41bc-8350-5af62784a666",
   "metadata": {},
   "outputs": [],
   "source": []
  }
 ],
 "metadata": {
  "kernelspec": {
   "display_name": "Python 3 (ipykernel)",
   "language": "python",
   "name": "python3"
  },
  "language_info": {
   "codemirror_mode": {
    "name": "ipython",
    "version": 3
   },
   "file_extension": ".py",
   "mimetype": "text/x-python",
   "name": "python",
   "nbconvert_exporter": "python",
   "pygments_lexer": "ipython3",
   "version": "3.13.1"
  }
 },
 "nbformat": 4,
 "nbformat_minor": 5
}
