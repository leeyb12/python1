{
 "cells": [
  {
   "cell_type": "markdown",
   "id": "29dfa24d-fb1a-4d63-85cb-be2d07df73a6",
   "metadata": {},
   "source": [
    "# 제어문"
   ]
  },
  {
   "cell_type": "markdown",
   "id": "0d47cb7b-6630-4052-b59b-88e029b2b36e",
   "metadata": {},
   "source": [
    "## if 문"
   ]
  },
  {
   "cell_type": "code",
   "execution_count": 25,
   "id": "c328ae2c-bbdf-46ce-92af-c83dc55260dd",
   "metadata": {},
   "outputs": [
    {
     "name": "stdout",
     "output_type": "stream",
     "text": [
      "항상 동작합니다!\n",
      "5가 큽니다\n"
     ]
    }
   ],
   "source": [
    "if True:\n",
    "    print(\"항상 동작합니다!\")\n",
    "if False: \n",
    "    print(\"이건 동작할까요?\")\n",
    "if [1,3]:\n",
    "    print(\"5가 큽니다\")\n",
    "if 4 > 10: \n",
    "    print(\"나올까요?\")"
   ]
  },
  {
   "cell_type": "code",
   "execution_count": 14,
   "id": "09fbf103-66b9-4025-8aae-22a07e9aa1f3",
   "metadata": {},
   "outputs": [
    {
     "name": "stdout",
     "output_type": "stream",
     "text": [
      "가라\n"
     ]
    }
   ],
   "source": [
    "if False: \n",
    "    print(\"택시를\")\n",
    "    print(\"타고\")\n",
    "print(\"가라\")"
   ]
  },
  {
   "cell_type": "code",
   "execution_count": 20,
   "id": "62c3a771-f598-43b5-a6a5-b919de1aee03",
   "metadata": {},
   "outputs": [
    {
     "name": "stdin",
     "output_type": "stream",
     "text": [
      "얼마 가지고 있습니까? 1000\n"
     ]
    },
    {
     "name": "stdout",
     "output_type": "stream",
     "text": [
      "걸어가세요.\n"
     ]
    }
   ],
   "source": [
    "mymoney = int(input('얼마 가지고 있습니까?'))\n",
    "if mymoney >= 3000:\n",
    "    print('택시타고 가세요.')\n",
    "# if mymoney < 3000:\n",
    "else:    \n",
    "    print('걸어가세요.')"
   ]
  },
  {
   "cell_type": "code",
   "execution_count": 21,
   "id": "db5410b7-6690-4b5f-af27-76df0fd863e2",
   "metadata": {},
   "outputs": [],
   "source": [
    "# and, or, not"
   ]
  },
  {
   "cell_type": "code",
   "execution_count": 22,
   "id": "46055a8f-bb22-497c-88c2-c902d0f4c5ae",
   "metadata": {},
   "outputs": [
    {
     "name": "stdout",
     "output_type": "stream",
     "text": [
      "===== and 연산 =====\n",
      "True\n",
      "False\n",
      "False\n",
      "False\n",
      "===== or 연산 =====\n",
      "True\n",
      "True\n",
      "True\n",
      "False\n",
      "===== not 연산 =====\n",
      "True\n",
      "False\n",
      "True\n"
     ]
    }
   ],
   "source": [
    "print(\"===== and 연산 =====\")\n",
    "print(True and True)\n",
    "print(True and False)\n",
    "print(False and True)\n",
    "print(False and False)\n",
    "print(\"===== or 연산 =====\")\n",
    "print(True or True)\n",
    "print(True or False)\n",
    "print(False or True)\n",
    "print(False or False)\n",
    "print(\"===== not 연산 =====\")\n",
    "print(True)\n",
    "print(not True)\n",
    "print(not False)"
   ]
  },
  {
   "cell_type": "code",
   "execution_count": 24,
   "id": "9457126b-e7f3-4820-96df-60c9616e5953",
   "metadata": {},
   "outputs": [
    {
     "name": "stdout",
     "output_type": "stream",
     "text": [
      "만납시다\n"
     ]
    }
   ],
   "source": [
    "이상형 = True\n",
    "똑똑 = True\n",
    "if 이상형 and 똑똑:\n",
    "    print(\"만납시다\")\n",
    "else: \n",
    "    print(\"그래요..\")"
   ]
  },
  {
   "cell_type": "code",
   "execution_count": 30,
   "id": "029f5d71-99ad-40a1-b35b-047635c1a1b9",
   "metadata": {},
   "outputs": [
    {
     "name": "stdout",
     "output_type": "stream",
     "text": [
      "그렇군요...\n"
     ]
    }
   ],
   "source": [
    "이상형 = False\n",
    "다정 = False\n",
    "if 이상형 or 다정 : \n",
    "    print(\"만납시다\")\n",
    "else:\n",
    "    print(\"그렇군요...\")"
   ]
  },
  {
   "cell_type": "code",
   "execution_count": 31,
   "id": "b0354b11-49b2-4770-a4f8-4ee25b485ac9",
   "metadata": {},
   "outputs": [
    {
     "name": "stdout",
     "output_type": "stream",
     "text": [
      "잘가요\n"
     ]
    }
   ],
   "source": [
    "주사 = True\n",
    "if not 주사: \n",
    "    print(\"만나요\")\n",
    "else: \n",
    "    print(\"잘가요\")"
   ]
  },
  {
   "cell_type": "code",
   "execution_count": 33,
   "id": "478b7ff6-e8d7-46aa-9861-29a60531122b",
   "metadata": {},
   "outputs": [
    {
     "name": "stdout",
     "output_type": "stream",
     "text": [
      "걸어가라\n"
     ]
    }
   ],
   "source": [
    "money = 2000\n",
    "if money >= 3000:\n",
    "    print(\"택시를 타고 가라\")\n",
    "else: \n",
    "    print(\"걸어가라\")"
   ]
  },
  {
   "cell_type": "code",
   "execution_count": 35,
   "id": "7cb91806-747d-49d5-bcd0-fd72f7d057f0",
   "metadata": {},
   "outputs": [
    {
     "name": "stdout",
     "output_type": "stream",
     "text": [
      "택시를 타고 가라\n"
     ]
    }
   ],
   "source": [
    "money = 2000\n",
    "card = True\n",
    "if money >= 3000 or card: \n",
    "    print(\"택시를 타고 가라\")\n",
    "else:\n",
    "    print(\"걸어가라\")"
   ]
  },
  {
   "cell_type": "code",
   "execution_count": 46,
   "id": "39c45664-81b2-45dd-be15-d0106a21ff63",
   "metadata": {},
   "outputs": [
    {
     "name": "stdout",
     "output_type": "stream",
     "text": [
      "A회사 불합격입니다.\n",
      "B회사 합격입니다.\n",
      "C회사 합격입니다.\n"
     ]
    }
   ],
   "source": [
    "me = 'Python'\n",
    "compA = ['JAVA', 'CSS', 'HTML', 'Javascript', 'C', 'MySQL']\n",
    "compB = ['JAVA', 'Python', 'Javascript', 'C', 'MySQL']\n",
    "compC = ['JAVA', 'Python', 'HTML', 'MySQL']\n",
    "if me in compA:\n",
    "    print(\"A회사 합격입니다.\")\n",
    "else: \n",
    "    print(\"A회사 불합격입니다.\")\n",
    "if me in compB:\n",
    "    print(\"B회사 합격입니다.\")\n",
    "else: \n",
    "    print(\"B회사 불합격입니다.\")\n",
    "if me in compC:\n",
    "    print(\"C회사 합격입니다.\")\n",
    "else:\n",
    "    print(\"C회사 불합격입니다.\")"
   ]
  },
  {
   "cell_type": "code",
   "execution_count": 81,
   "id": "74809c3e-309c-447e-adc3-58943f01c10e",
   "metadata": {},
   "outputs": [
    {
     "name": "stdin",
     "output_type": "stream",
     "text": [
      "점수를 입력하세요. 79\n"
     ]
    },
    {
     "name": "stdout",
     "output_type": "stream",
     "text": [
      "C학점입니다.\n"
     ]
    }
   ],
   "source": [
    "score = int(input(\"점수를 입력하세요.\")) or 60\n",
    "if score>=90:\n",
    "    print('A학점입니다.')\n",
    "elif 90 > score >= 80:\n",
    "    print('B학점입니다.')\n",
    "elif 80 > score >= 70:\n",
    "    print('C학점입니다.')\n",
    "elif 70 > score >= 60:\n",
    "    print('D학점입니다.')\n",
    "elif score < 60:\n",
    "    print('F학점입니다.')\n",
    "else: \n",
    "    print(\"수고하셨습니다.\")"
   ]
  },
  {
   "cell_type": "code",
   "execution_count": 77,
   "id": "0ab112b7-71f3-4600-837d-e27c034a0c7d",
   "metadata": {},
   "outputs": [
    {
     "name": "stdin",
     "output_type": "stream",
     "text": [
      "점수를 입력하세요. 61\n"
     ]
    },
    {
     "name": "stdout",
     "output_type": "stream",
     "text": [
      "D 학점입니다.\n"
     ]
    }
   ],
   "source": [
    "# 방법1 if만 사용\n",
    "점수 = int(input(\"점수를 입력하세요.\") or 77) \n",
    "if 90 <= 점수:\n",
    "    grade = \"A\"\n",
    "if 80 <= 점수 < 90:\n",
    "    grade = \"B\"\n",
    "if 70 <= 점수 < 80:\n",
    "    grade = \"C\"\n",
    "if 60 <= 점수 < 70:\n",
    "    grade = \"D\"\n",
    "print(f\"{grade} 학점입니다.\")    "
   ]
  },
  {
   "cell_type": "code",
   "execution_count": 75,
   "id": "0afa64b0-e514-4a39-83ea-1d41fd0890af",
   "metadata": {},
   "outputs": [
    {
     "name": "stdin",
     "output_type": "stream",
     "text": [
      "점수를 입력하세요. 33\n"
     ]
    },
    {
     "name": "stdout",
     "output_type": "stream",
     "text": [
      "F 학점입니다.\n"
     ]
    }
   ],
   "source": [
    "# 방법2 if, elif, else 사용\n",
    "score = int(input(\"점수를 입력하세요.\"))\n",
    "if 90 <= score  : grade = 'A'\n",
    "elif 80 <= score : grade = 'B'\n",
    "elif 70 <= score : grade = 'C'\n",
    "elif 60 <= score : grade ='D'\n",
    "else: grade = 'F'\n",
    "print(f\"{grade} 학점입니다.\")"
   ]
  },
  {
   "cell_type": "code",
   "execution_count": 113,
   "id": "14b9c0f9-61ee-447b-a263-abfb79cb858f",
   "metadata": {},
   "outputs": [
    {
     "name": "stdin",
     "output_type": "stream",
     "text": [
      "현재 온도를 입력하세요 (°C):  -1\n"
     ]
    },
    {
     "name": "stdout",
     "output_type": "stream",
     "text": [
      "지금은 겨울입니다 ❄️\n"
     ]
    }
   ],
   "source": [
    "# 사용자로부터 온도 입력받기\n",
    "temperature = float(input(\"현재 온도를 입력하세요 (°C): \"))\n",
    "\n",
    "# 조건문으로 계절 구분 \n",
    "if 15 <= temperature < 25: \n",
    "    print(\"지금은 봄입니다 🌸\")\n",
    "elif temperature >= 25:\n",
    "    print(\"지금은 여름입니다 ☀️\")\n",
    "elif 10 <= temperature < 15: \n",
    "    print(\"지금은 가을입니다 🍂\")\n",
    "else:\n",
    "    print(\"지금은 겨울입니다 ❄️\")"
   ]
  },
  {
   "cell_type": "code",
   "execution_count": null,
   "id": "2876a442-b1c7-414b-8bf7-8c3705456c10",
   "metadata": {},
   "outputs": [],
   "source": [
    "# 사용자로부터 온도 입력받기\n",
    "temperature = int(input(\"현재 온도를 입력하세요 (°C): \"))\n",
    "\n",
    "# 조건문으로 계절 구분 \n",
    "if 15 <= temperature < 25: \n",
    "    print(\"지금은 봄입니다 🌸\")\n",
    "elif temperature >= 25:\n",
    "    print(\"지금은 여름입니다 ☀️\")\n",
    "elif 10 <= temperature < 15: \n",
    "    print(\"지금은 가을입니다 🍂\")\n",
    "else:\n",
    "    print(\"지금은 겨울입니다 ❄️\")"
   ]
  },
  {
   "cell_type": "code",
   "execution_count": 109,
   "id": "e4e98201-6d5f-4e1d-ab86-b880fdf3f17a",
   "metadata": {},
   "outputs": [
    {
     "name": "stdin",
     "output_type": "stream",
     "text": [
      "온도를 입력하세요. -7\n"
     ]
    },
    {
     "name": "stdout",
     "output_type": "stream",
     "text": [
      "올해의 계절은 겨울입니다.\n"
     ]
    }
   ],
   "source": [
    "온도 = int(input(\"온도를 입력하세요.\"))\n",
    "if 15 <= 온도 < 25 : 계절 = '봄'\n",
    "elif 25 <= 온도 : 계절 = '여름'\n",
    "elif 10 <= 온도 < 15 : 계절 = '가을'\n",
    "elif 온도 < 10 : 계절 = '겨울'\n",
    "print(f\"올해의 계절은 {계절}입니다.\")"
   ]
  },
  {
   "cell_type": "markdown",
   "id": "304d1e3d-44c3-42f9-b3a4-c5a71b949523",
   "metadata": {},
   "source": [
    "## While 문"
   ]
  },
  {
   "cell_type": "code",
   "execution_count": 1,
   "id": "82af6756-c1d9-4334-95d5-dc981cab2993",
   "metadata": {},
   "outputs": [
    {
     "name": "stdout",
     "output_type": "stream",
     "text": [
      "9 나화났어!\n",
      "8 나화났어!\n",
      "7 나화났어!\n",
      "6 나화났어!\n",
      "5 나화났어!\n",
      "4 나화났어!\n",
      "3 나화났어!\n",
      "2 나화났어!\n",
      "1 나화났어!\n",
      "0 나화났어!\n"
     ]
    }
   ],
   "source": [
    "num = 10 \n",
    "while num:\n",
    "    num-=1\n",
    "    print(num, \"나화났어!\")"
   ]
  },
  {
   "cell_type": "code",
   "execution_count": 110,
   "id": "c8419902-6fd6-4b1c-8aaa-45a18f1dced8",
   "metadata": {},
   "outputs": [
    {
     "name": "stdout",
     "output_type": "stream",
     "text": [
      "나무를 1번 찍었습니다.\n",
      "나무를 2번 찍었습니다.\n",
      "나무를 3번 찍었습니다.\n",
      "나무를 4번 찍었습니다.\n",
      "나무를 5번 찍었습니다.\n",
      "나무를 6번 찍었습니다.\n",
      "나무를 7번 찍었습니다.\n",
      "나무를 8번 찍었습니다.\n",
      "나무를 9번 찍었습니다.\n",
      "나무를 10번 찍었습니다.\n",
      "나무 넘어갑니다.\n"
     ]
    }
   ],
   "source": [
    "treeHit = 0 \n",
    "while treeHit < 10:\n",
    "    treeHit = treeHit + 1\n",
    "    print(\"나무를 %d번 찍었습니다.\" % treeHit)\n",
    "    if treeHit == 10: \n",
    "        print(\"나무 넘어갑니다.\")"
   ]
  },
  {
   "cell_type": "code",
   "execution_count": 112,
   "id": "73a8ee99-5579-4123-9d59-0ae10a185b5e",
   "metadata": {},
   "outputs": [
    {
     "name": "stdout",
     "output_type": "stream",
     "text": [
      "나무를 1번 찍었습니다.\n",
      "나무를 2번 찍었습니다.\n",
      "나무를 3번 찍었습니다.\n",
      "나무를 4번 찍었습니다.\n",
      "나무를 5번 찍었습니다.\n",
      "나무를 6번 찍었습니다.\n",
      "나무를 7번 찍었습니다.\n",
      "나무를 8번 찍었습니다.\n",
      "나무를 9번 찍었습니다.\n",
      "나무를 10번 찍었습니다.\n",
      "나무 넘어갑니다.\n"
     ]
    }
   ],
   "source": [
    "namu = 10\n",
    "while namu:\n",
    "    namu -=1\n",
    "    print(f\"나무를 {10 - namu}번 찍었습니다.\")\n",
    "print(\"나무 넘어갑니다.\")"
   ]
  },
  {
   "cell_type": "code",
   "execution_count": 1,
   "id": "f758b7c0-d76b-41c4-ae41-5faa5091b028",
   "metadata": {},
   "outputs": [
    {
     "name": "stdout",
     "output_type": "stream",
     "text": [
      "시스템이 종료되었습니다.\n"
     ]
    }
   ],
   "source": [
    "from IPython.display import clear_output\n",
    "prompt = \"\"\"\n",
    "선택해 주세요.\n",
    "    1. Add\n",
    "    2. Del\n",
    "    3. List\n",
    "    4. Quit\n",
    "\"\"\"\n",
    "number = 0\n",
    "while number != 4:\n",
    "    print(prompt)\n",
    "    number = int(input())\n",
    "    clear_output(wait=True) # 이전 질문 지우기\n",
    "print(\"시스템이 종료되었습니다.\")"
   ]
  },
  {
   "cell_type": "code",
   "execution_count": null,
   "id": "1f6d69cc-4ada-4d22-a31d-afa6bf426f2f",
   "metadata": {},
   "outputs": [],
   "source": []
  },
  {
   "cell_type": "code",
   "execution_count": null,
   "id": "fd00bbee-7126-4d9d-8aaf-74a14705d8d8",
   "metadata": {},
   "outputs": [],
   "source": []
  },
  {
   "cell_type": "code",
   "execution_count": null,
   "id": "8beb2c52-a0dc-4e98-b191-f1316cf45257",
   "metadata": {},
   "outputs": [],
   "source": []
  }
 ],
 "metadata": {
  "kernelspec": {
   "display_name": "Python 3 (ipykernel)",
   "language": "python",
   "name": "python3"
  },
  "language_info": {
   "codemirror_mode": {
    "name": "ipython",
    "version": 3
   },
   "file_extension": ".py",
   "mimetype": "text/x-python",
   "name": "python",
   "nbconvert_exporter": "python",
   "pygments_lexer": "ipython3",
   "version": "3.13.1"
  }
 },
 "nbformat": 4,
 "nbformat_minor": 5
}
