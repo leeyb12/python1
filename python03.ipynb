{
 "cells": [
  {
   "cell_type": "markdown",
   "id": "29dfa24d-fb1a-4d63-85cb-be2d07df73a6",
   "metadata": {},
   "source": [
    "# 제어문"
   ]
  },
  {
   "cell_type": "markdown",
   "id": "0d47cb7b-6630-4052-b59b-88e029b2b36e",
   "metadata": {},
   "source": [
    "## if 문"
   ]
  },
  {
   "cell_type": "code",
   "execution_count": 25,
   "id": "c328ae2c-bbdf-46ce-92af-c83dc55260dd",
   "metadata": {},
   "outputs": [
    {
     "name": "stdout",
     "output_type": "stream",
     "text": [
      "항상 동작합니다!\n",
      "5가 큽니다\n"
     ]
    }
   ],
   "source": [
    "if True:\n",
    "    print(\"항상 동작합니다!\")\n",
    "if False: \n",
    "    print(\"이건 동작할까요?\")\n",
    "if [1,3]:\n",
    "    print(\"5가 큽니다\")\n",
    "if 4 > 10: \n",
    "    print(\"나올까요?\")"
   ]
  },
  {
   "cell_type": "code",
   "execution_count": 14,
   "id": "09fbf103-66b9-4025-8aae-22a07e9aa1f3",
   "metadata": {},
   "outputs": [
    {
     "name": "stdout",
     "output_type": "stream",
     "text": [
      "가라\n"
     ]
    }
   ],
   "source": [
    "if False: \n",
    "    print(\"택시를\")\n",
    "    print(\"타고\")\n",
    "print(\"가라\")"
   ]
  },
  {
   "cell_type": "code",
   "execution_count": 20,
   "id": "62c3a771-f598-43b5-a6a5-b919de1aee03",
   "metadata": {},
   "outputs": [
    {
     "name": "stdin",
     "output_type": "stream",
     "text": [
      "얼마 가지고 있습니까? 1000\n"
     ]
    },
    {
     "name": "stdout",
     "output_type": "stream",
     "text": [
      "걸어가세요.\n"
     ]
    }
   ],
   "source": [
    "mymoney = int(input('얼마 가지고 있습니까?'))\n",
    "if mymoney >= 3000:\n",
    "    print('택시타고 가세요.')\n",
    "# if mymoney < 3000:\n",
    "else:    \n",
    "    print('걸어가세요.')"
   ]
  },
  {
   "cell_type": "code",
   "execution_count": 21,
   "id": "db5410b7-6690-4b5f-af27-76df0fd863e2",
   "metadata": {},
   "outputs": [],
   "source": [
    "# and, or, not"
   ]
  },
  {
   "cell_type": "code",
   "execution_count": 22,
   "id": "46055a8f-bb22-497c-88c2-c902d0f4c5ae",
   "metadata": {},
   "outputs": [
    {
     "name": "stdout",
     "output_type": "stream",
     "text": [
      "===== and 연산 =====\n",
      "True\n",
      "False\n",
      "False\n",
      "False\n",
      "===== or 연산 =====\n",
      "True\n",
      "True\n",
      "True\n",
      "False\n",
      "===== not 연산 =====\n",
      "True\n",
      "False\n",
      "True\n"
     ]
    }
   ],
   "source": [
    "print(\"===== and 연산 =====\")\n",
    "print(True and True)\n",
    "print(True and False)\n",
    "print(False and True)\n",
    "print(False and False)\n",
    "print(\"===== or 연산 =====\")\n",
    "print(True or True)\n",
    "print(True or False)\n",
    "print(False or True)\n",
    "print(False or False)\n",
    "print(\"===== not 연산 =====\")\n",
    "print(True)\n",
    "print(not True)\n",
    "print(not False)"
   ]
  },
  {
   "cell_type": "code",
   "execution_count": 24,
   "id": "9457126b-e7f3-4820-96df-60c9616e5953",
   "metadata": {},
   "outputs": [
    {
     "name": "stdout",
     "output_type": "stream",
     "text": [
      "만납시다\n"
     ]
    }
   ],
   "source": [
    "이상형 = True\n",
    "똑똑 = True\n",
    "if 이상형 and 똑똑:\n",
    "    print(\"만납시다\")\n",
    "else: \n",
    "    print(\"그래요..\")"
   ]
  },
  {
   "cell_type": "code",
   "execution_count": 30,
   "id": "029f5d71-99ad-40a1-b35b-047635c1a1b9",
   "metadata": {},
   "outputs": [
    {
     "name": "stdout",
     "output_type": "stream",
     "text": [
      "그렇군요...\n"
     ]
    }
   ],
   "source": [
    "이상형 = False\n",
    "다정 = False\n",
    "if 이상형 or 다정 : \n",
    "    print(\"만납시다\")\n",
    "else:\n",
    "    print(\"그렇군요...\")"
   ]
  },
  {
   "cell_type": "code",
   "execution_count": 31,
   "id": "b0354b11-49b2-4770-a4f8-4ee25b485ac9",
   "metadata": {},
   "outputs": [
    {
     "name": "stdout",
     "output_type": "stream",
     "text": [
      "잘가요\n"
     ]
    }
   ],
   "source": [
    "주사 = True\n",
    "if not 주사: \n",
    "    print(\"만나요\")\n",
    "else: \n",
    "    print(\"잘가요\")"
   ]
  },
  {
   "cell_type": "code",
   "execution_count": 33,
   "id": "478b7ff6-e8d7-46aa-9861-29a60531122b",
   "metadata": {},
   "outputs": [
    {
     "name": "stdout",
     "output_type": "stream",
     "text": [
      "걸어가라\n"
     ]
    }
   ],
   "source": [
    "money = 2000\n",
    "if money >= 3000:\n",
    "    print(\"택시를 타고 가라\")\n",
    "else: \n",
    "    print(\"걸어가라\")"
   ]
  },
  {
   "cell_type": "code",
   "execution_count": 35,
   "id": "7cb91806-747d-49d5-bcd0-fd72f7d057f0",
   "metadata": {},
   "outputs": [
    {
     "name": "stdout",
     "output_type": "stream",
     "text": [
      "택시를 타고 가라\n"
     ]
    }
   ],
   "source": [
    "money = 2000\n",
    "card = True\n",
    "if money >= 3000 or card: \n",
    "    print(\"택시를 타고 가라\")\n",
    "else:\n",
    "    print(\"걸어가라\")"
   ]
  },
  {
   "cell_type": "code",
   "execution_count": 46,
   "id": "39c45664-81b2-45dd-be15-d0106a21ff63",
   "metadata": {},
   "outputs": [
    {
     "name": "stdout",
     "output_type": "stream",
     "text": [
      "A회사 불합격입니다.\n",
      "B회사 합격입니다.\n",
      "C회사 합격입니다.\n"
     ]
    }
   ],
   "source": [
    "me = 'Python'\n",
    "compA = ['JAVA', 'CSS', 'HTML', 'Javascript', 'C', 'MySQL']\n",
    "compB = ['JAVA', 'Python', 'Javascript', 'C', 'MySQL']\n",
    "compC = ['JAVA', 'Python', 'HTML', 'MySQL']\n",
    "if me in compA:\n",
    "    print(\"A회사 합격입니다.\")\n",
    "else: \n",
    "    print(\"A회사 불합격입니다.\")\n",
    "if me in compB:\n",
    "    print(\"B회사 합격입니다.\")\n",
    "else: \n",
    "    print(\"B회사 불합격입니다.\")\n",
    "if me in compC:\n",
    "    print(\"C회사 합격입니다.\")\n",
    "else:\n",
    "    print(\"C회사 불합격입니다.\")"
   ]
  },
  {
   "cell_type": "code",
   "execution_count": 81,
   "id": "74809c3e-309c-447e-adc3-58943f01c10e",
   "metadata": {},
   "outputs": [
    {
     "name": "stdin",
     "output_type": "stream",
     "text": [
      "점수를 입력하세요. 79\n"
     ]
    },
    {
     "name": "stdout",
     "output_type": "stream",
     "text": [
      "C학점입니다.\n"
     ]
    }
   ],
   "source": [
    "score = int(input(\"점수를 입력하세요.\")) or 60\n",
    "if score>=90:\n",
    "    print('A학점입니다.')\n",
    "elif 90 > score >= 80:\n",
    "    print('B학점입니다.')\n",
    "elif 80 > score >= 70:\n",
    "    print('C학점입니다.')\n",
    "elif 70 > score >= 60:\n",
    "    print('D학점입니다.')\n",
    "elif score < 60:\n",
    "    print('F학점입니다.')\n",
    "else: \n",
    "    print(\"수고하셨습니다.\")"
   ]
  },
  {
   "cell_type": "code",
   "execution_count": 77,
   "id": "0ab112b7-71f3-4600-837d-e27c034a0c7d",
   "metadata": {},
   "outputs": [
    {
     "name": "stdin",
     "output_type": "stream",
     "text": [
      "점수를 입력하세요. 61\n"
     ]
    },
    {
     "name": "stdout",
     "output_type": "stream",
     "text": [
      "D 학점입니다.\n"
     ]
    }
   ],
   "source": [
    "# 방법1 if만 사용\n",
    "점수 = int(input(\"점수를 입력하세요.\") or 77) \n",
    "if 90 <= 점수:\n",
    "    grade = \"A\"\n",
    "if 80 <= 점수 < 90:\n",
    "    grade = \"B\"\n",
    "if 70 <= 점수 < 80:\n",
    "    grade = \"C\"\n",
    "if 60 <= 점수 < 70:\n",
    "    grade = \"D\"\n",
    "print(f\"{grade} 학점입니다.\")    "
   ]
  },
  {
   "cell_type": "code",
   "execution_count": 75,
   "id": "0afa64b0-e514-4a39-83ea-1d41fd0890af",
   "metadata": {},
   "outputs": [
    {
     "name": "stdin",
     "output_type": "stream",
     "text": [
      "점수를 입력하세요. 33\n"
     ]
    },
    {
     "name": "stdout",
     "output_type": "stream",
     "text": [
      "F 학점입니다.\n"
     ]
    }
   ],
   "source": [
    "# 방법2 if, elif, else 사용\n",
    "score = int(input(\"점수를 입력하세요.\"))\n",
    "if 90 <= score  : grade = 'A'\n",
    "elif 80 <= score : grade = 'B'\n",
    "elif 70 <= score : grade = 'C'\n",
    "elif 60 <= score : grade ='D'\n",
    "else: grade = 'F'\n",
    "print(f\"{grade} 학점입니다.\")"
   ]
  },
  {
   "cell_type": "code",
   "execution_count": 113,
   "id": "14b9c0f9-61ee-447b-a263-abfb79cb858f",
   "metadata": {},
   "outputs": [
    {
     "name": "stdin",
     "output_type": "stream",
     "text": [
      "현재 온도를 입력하세요 (°C):  -1\n"
     ]
    },
    {
     "name": "stdout",
     "output_type": "stream",
     "text": [
      "지금은 겨울입니다 ❄️\n"
     ]
    }
   ],
   "source": [
    "# 사용자로부터 온도 입력받기\n",
    "temperature = float(input(\"현재 온도를 입력하세요 (°C): \"))\n",
    "\n",
    "# 조건문으로 계절 구분 \n",
    "if 15 <= temperature < 25: \n",
    "    print(\"지금은 봄입니다 🌸\")\n",
    "elif temperature >= 25:\n",
    "    print(\"지금은 여름입니다 ☀️\")\n",
    "elif 10 <= temperature < 15: \n",
    "    print(\"지금은 가을입니다 🍂\")\n",
    "else:\n",
    "    print(\"지금은 겨울입니다 ❄️\")"
   ]
  },
  {
   "cell_type": "code",
   "execution_count": null,
   "id": "2876a442-b1c7-414b-8bf7-8c3705456c10",
   "metadata": {},
   "outputs": [],
   "source": [
    "# 사용자로부터 온도 입력받기\n",
    "temperature = int(input(\"현재 온도를 입력하세요 (°C): \"))\n",
    "\n",
    "# 조건문으로 계절 구분 \n",
    "if 15 <= temperature < 25: \n",
    "    print(\"지금은 봄입니다 🌸\")\n",
    "elif temperature >= 25:\n",
    "    print(\"지금은 여름입니다 ☀️\")\n",
    "elif 10 <= temperature < 15: \n",
    "    print(\"지금은 가을입니다 🍂\")\n",
    "else:\n",
    "    print(\"지금은 겨울입니다 ❄️\")"
   ]
  },
  {
   "cell_type": "code",
   "execution_count": 109,
   "id": "e4e98201-6d5f-4e1d-ab86-b880fdf3f17a",
   "metadata": {},
   "outputs": [
    {
     "name": "stdin",
     "output_type": "stream",
     "text": [
      "온도를 입력하세요. -7\n"
     ]
    },
    {
     "name": "stdout",
     "output_type": "stream",
     "text": [
      "올해의 계절은 겨울입니다.\n"
     ]
    }
   ],
   "source": [
    "온도 = int(input(\"온도를 입력하세요.\"))\n",
    "if 15 <= 온도 < 25 : 계절 = '봄'\n",
    "elif 25 <= 온도 : 계절 = '여름'\n",
    "elif 10 <= 온도 < 15 : 계절 = '가을'\n",
    "elif 온도 < 10 : 계절 = '겨울'\n",
    "print(f\"올해의 계절은 {계절}입니다.\")"
   ]
  },
  {
   "cell_type": "markdown",
   "id": "304d1e3d-44c3-42f9-b3a4-c5a71b949523",
   "metadata": {},
   "source": [
    "## While 문"
   ]
  },
  {
   "cell_type": "code",
   "execution_count": 1,
   "id": "82af6756-c1d9-4334-95d5-dc981cab2993",
   "metadata": {},
   "outputs": [
    {
     "name": "stdout",
     "output_type": "stream",
     "text": [
      "9 나화났어!\n",
      "8 나화났어!\n",
      "7 나화났어!\n",
      "6 나화났어!\n",
      "5 나화났어!\n",
      "4 나화났어!\n",
      "3 나화났어!\n",
      "2 나화났어!\n",
      "1 나화났어!\n",
      "0 나화났어!\n"
     ]
    }
   ],
   "source": [
    "num = 10 \n",
    "while num:\n",
    "    num-=1\n",
    "    print(num, \"나화났어!\")"
   ]
  },
  {
   "cell_type": "code",
   "execution_count": 110,
   "id": "c8419902-6fd6-4b1c-8aaa-45a18f1dced8",
   "metadata": {},
   "outputs": [
    {
     "name": "stdout",
     "output_type": "stream",
     "text": [
      "나무를 1번 찍었습니다.\n",
      "나무를 2번 찍었습니다.\n",
      "나무를 3번 찍었습니다.\n",
      "나무를 4번 찍었습니다.\n",
      "나무를 5번 찍었습니다.\n",
      "나무를 6번 찍었습니다.\n",
      "나무를 7번 찍었습니다.\n",
      "나무를 8번 찍었습니다.\n",
      "나무를 9번 찍었습니다.\n",
      "나무를 10번 찍었습니다.\n",
      "나무 넘어갑니다.\n"
     ]
    }
   ],
   "source": [
    "treeHit = 0 \n",
    "while treeHit < 10:\n",
    "    treeHit = treeHit + 1\n",
    "    print(\"나무를 %d번 찍었습니다.\" % treeHit)\n",
    "    if treeHit == 10: \n",
    "        print(\"나무 넘어갑니다.\")"
   ]
  },
  {
   "cell_type": "code",
   "execution_count": 112,
   "id": "73a8ee99-5579-4123-9d59-0ae10a185b5e",
   "metadata": {},
   "outputs": [
    {
     "name": "stdout",
     "output_type": "stream",
     "text": [
      "나무를 1번 찍었습니다.\n",
      "나무를 2번 찍었습니다.\n",
      "나무를 3번 찍었습니다.\n",
      "나무를 4번 찍었습니다.\n",
      "나무를 5번 찍었습니다.\n",
      "나무를 6번 찍었습니다.\n",
      "나무를 7번 찍었습니다.\n",
      "나무를 8번 찍었습니다.\n",
      "나무를 9번 찍었습니다.\n",
      "나무를 10번 찍었습니다.\n",
      "나무 넘어갑니다.\n"
     ]
    }
   ],
   "source": [
    "namu = 10\n",
    "while namu:\n",
    "    namu -=1\n",
    "    print(f\"나무를 {10 - namu}번 찍었습니다.\")\n",
    "print(\"나무 넘어갑니다.\")"
   ]
  },
  {
   "cell_type": "code",
   "execution_count": 1,
   "id": "f758b7c0-d76b-41c4-ae41-5faa5091b028",
   "metadata": {},
   "outputs": [
    {
     "name": "stdout",
     "output_type": "stream",
     "text": [
      "시스템이 종료되었습니다.\n"
     ]
    }
   ],
   "source": [
    "from IPython.display import clear_output\n",
    "prompt = \"\"\"\n",
    "선택해 주세요.\n",
    "    1. Add\n",
    "    2. Del\n",
    "    3. List\n",
    "    4. Quit\n",
    "\"\"\"\n",
    "number = 0\n",
    "while number != 4:\n",
    "    print(prompt)\n",
    "    number = int(input())\n",
    "    clear_output(wait=True) # 이전 질문 지우기\n",
    "print(\"시스템이 종료되었습니다.\")"
   ]
  },
  {
   "cell_type": "code",
   "execution_count": 133,
   "id": "5e3f5c35-f1fb-42f9-88ee-276ff9214f0b",
   "metadata": {},
   "outputs": [
    {
     "ename": "SyntaxError",
     "evalue": "invalid decimal literal (742584958.py, line 27)",
     "output_type": "error",
     "traceback": [
      "\u001b[1;36m  Cell \u001b[1;32mIn[133], line 27\u001b[1;36m\u001b[0m\n\u001b[1;33m    print(f\"가장 큰 숫자는 {box.count(max_count)번 ({box.count(max_count)/len(box)*100:.2f}%) 이다.\")\u001b[0m\n\u001b[1;37m                                                                                 ^\u001b[0m\n\u001b[1;31mSyntaxError\u001b[0m\u001b[1;31m:\u001b[0m invalid decimal literal\n"
     ]
    }
   ],
   "source": [
    "# random 주사위\n",
    "import random as r \n",
    "# ran = int(r.random()*6 + 1)\n",
    "box = [] # 초기화\n",
    "num = 0\n",
    "target = 250000\n",
    "max_count = print(max(ran))\n",
    "min_count = print(min(ran))\n",
    "while num < target:\n",
    "    num = num + 1\n",
    "    ran = r.randint(1,6) # randint(a,b): 인자로 들어온 a,b 사이의 랜덤한 정수(int)를 반환\n",
    "    box.append(ran)\n",
    "if target == len(box):\n",
    "    print(f\"{target}회 정상 진행되었습니다.\")\n",
    "else:\n",
    "    print(f\"검증 결과 횟수 이상이 있습니다. 이유:({target}회 목표로 동작하였으나, {len(box)}으로 측정되었습니다.)\")\n",
    "\n",
    "# 리스트의 특정한 숫자를 몇개인지 찾아내는 함수써서\n",
    "# count\n",
    "print(f\" 1번이 {box.count(1)}번({box.count(1)/len(box)*100:.2f}%) 나왔습니다.\")\n",
    "print(f\" 2번이 {box.count(2)}번({box.count(2)/len(box)*100:.2f}%) 나왔습니다.\")\n",
    "print(f\" 3번이 {box.count(3)}번({box.count(3)/len(box)*100:.2f}%) 나왔습니다.\")\n",
    "print(f\" 4번이 {box.count(4)}번({box.count(4)/len(box)*100:.2f}%) 나왔습니다.\")\n",
    "print(f\" 5번이 {box.count(5)}번({box.count(5)/len(box)*100:.2f}%) 나왔습니다.\")\n",
    "print(f\" 6번이 {box.count(6)}번({box.count(6)/len(box)*100:.2f}%) 나왔습니다.\")\n",
    "\n",
    "print(f\"가장 큰 숫자는 {box.count(max_count)번 ({box.count(max_count)/len(box)*100:.2f}%) 이다.\")\n",
    "print(f\"가장 작은 숫자는 {box.count.(min_count)번 ({box.count(min_count)/len(box)*100:.2f}%) 이다.\")\n",
    "# print(\"\") 3번이 가장 많이 출현하였습니다.\n",
    "# max (): 가장 큰 수, min () : 가장 작은 수"
   ]
  },
  {
   "cell_type": "markdown",
   "id": "2b2fb590-9d71-420c-b69a-43e205115a74",
   "metadata": {},
   "source": [
    "## for 문"
   ]
  },
  {
   "cell_type": "code",
   "execution_count": 41,
   "id": "ea453547-0431-498a-b947-792002747231",
   "metadata": {},
   "outputs": [
    {
     "name": "stdout",
     "output_type": "stream",
     "text": [
      "one\n",
      "two\n",
      "three\n"
     ]
    }
   ],
   "source": [
    "# 전형적인 for 문\n",
    "test_list = ['one', 'two', 'three']\n",
    "for i in test_list: # one, two, three를 순서대로 i에 대입\n",
    "    print(i)"
   ]
  },
  {
   "cell_type": "code",
   "execution_count": null,
   "id": "82d67482-9594-480f-b47a-2c3929be6773",
   "metadata": {},
   "outputs": [],
   "source": [
    "A, B = (1 , 2)"
   ]
  },
  {
   "cell_type": "code",
   "execution_count": 42,
   "id": "79309124-312e-4fd2-86c3-a14f6274298b",
   "metadata": {},
   "outputs": [
    {
     "name": "stdout",
     "output_type": "stream",
     "text": [
      "1 2 11\n",
      "3 4 33\n",
      "5 6 55\n"
     ]
    }
   ],
   "source": [
    "# 다양한 for 문의 사용\n",
    "a = [(1,2,11), (3,4,33), (5,6,55)]\n",
    "for (x , y , z ) in a: \n",
    "    print( x, y, z)"
   ]
  },
  {
   "cell_type": "code",
   "execution_count": 65,
   "id": "86d3a4f7-03ad-468f-b990-a442f55329f7",
   "metadata": {},
   "outputs": [
    {
     "name": "stdout",
     "output_type": "stream",
     "text": [
      "1번 학생은 합격입니다.\n",
      "2번 학생은 불합격입니다.\n",
      "3번 학생은 합격입니다.\n",
      "4번 학생은 불합격입니다.\n",
      "5번 학생은 합격입니다.\n"
     ]
    }
   ],
   "source": [
    "# p.143 marks1.py\n",
    "marks = [90, 25, 67, 45, 80]    # 학생들의 시험 점수 리스트\n",
    "\n",
    "number = 0          # 학생에게 붙여 줄 번호\n",
    "for mark in marks:       # 90, 25, 67, 45, 80을 순서대로 mark에 대입\n",
    "    number = number + 1\n",
    "    if mark >= 60:\n",
    "        print(\"%d번 학생은 합격입니다.\" % number)\n",
    "    else: \n",
    "        print(\"%d번 학생은 불합격입니다.\" % number)"
   ]
  },
  {
   "cell_type": "code",
   "execution_count": 5,
   "id": "d95b9911-0de4-4874-94b1-9d1f920c83af",
   "metadata": {},
   "outputs": [
    {
     "name": "stdout",
     "output_type": "stream",
     "text": [
      "1번 학생 축하합니다. 합격입니다.\n",
      "3번 학생 축하합니다. 합격입니다.\n",
      "5번 학생 축하합니다. 합격입니다.\n"
     ]
    }
   ],
   "source": [
    "# p.144 marks2.py\n",
    "marks = [90, 25, 67, 45, 80]\n",
    "\n",
    "number = 0\n",
    "for mark in marks: \n",
    "    number = number + 1\n",
    "    if mark < 60:\n",
    "        continue\n",
    "    print(\"%d번 학생 축하합니다. 합격입니다.\" % number)"
   ]
  },
  {
   "cell_type": "code",
   "execution_count": 3,
   "id": "031fe37f-d3ae-4ab4-8996-a739bb7f7bf4",
   "metadata": {},
   "outputs": [
    {
     "name": "stdout",
     "output_type": "stream",
     "text": [
      "1\n",
      "3\n",
      "5\n",
      "7\n",
      "9\n"
     ]
    }
   ],
   "source": [
    "numbers = [1,2,3,4,5,6,7,8,9,10]\n",
    "for x in numbers:\n",
    "    if x%2 ==0:\n",
    "        continue\n",
    "    print(x)"
   ]
  },
  {
   "cell_type": "code",
   "execution_count": 6,
   "id": "a561df5e-cdcd-445d-bc37-db671ae905e0",
   "metadata": {},
   "outputs": [
    {
     "name": "stdin",
     "output_type": "stream",
     "text": [
      "돈을 넣어주세요:  300\n"
     ]
    },
    {
     "name": "stdout",
     "output_type": "stream",
     "text": [
      "커피를 줍니다.\n"
     ]
    },
    {
     "name": "stdin",
     "output_type": "stream",
     "text": [
      "돈을 넣어주세요:  300\n"
     ]
    },
    {
     "name": "stdout",
     "output_type": "stream",
     "text": [
      "커피를 줍니다.\n"
     ]
    },
    {
     "name": "stdin",
     "output_type": "stream",
     "text": [
      "돈을 넣어주세요:  300\n"
     ]
    },
    {
     "name": "stdout",
     "output_type": "stream",
     "text": [
      "커피를 줍니다.\n"
     ]
    },
    {
     "name": "stdin",
     "output_type": "stream",
     "text": [
      "돈을 넣어주세요:  300\n"
     ]
    },
    {
     "name": "stdout",
     "output_type": "stream",
     "text": [
      "커피를 줍니다.\n"
     ]
    },
    {
     "name": "stdin",
     "output_type": "stream",
     "text": [
      "돈을 넣어주세요:  300\n"
     ]
    },
    {
     "name": "stdout",
     "output_type": "stream",
     "text": [
      "커피를 줍니다.\n"
     ]
    },
    {
     "name": "stdin",
     "output_type": "stream",
     "text": [
      "돈을 넣어주세요:  300\n"
     ]
    },
    {
     "name": "stdout",
     "output_type": "stream",
     "text": [
      "커피를 줍니다.\n"
     ]
    },
    {
     "name": "stdin",
     "output_type": "stream",
     "text": [
      "돈을 넣어주세요:  300\n"
     ]
    },
    {
     "name": "stdout",
     "output_type": "stream",
     "text": [
      "커피를 줍니다.\n"
     ]
    },
    {
     "name": "stdin",
     "output_type": "stream",
     "text": [
      "돈을 넣어주세요:  300\n"
     ]
    },
    {
     "name": "stdout",
     "output_type": "stream",
     "text": [
      "커피를 줍니다.\n"
     ]
    },
    {
     "name": "stdin",
     "output_type": "stream",
     "text": [
      "돈을 넣어주세요:  300\n"
     ]
    },
    {
     "name": "stdout",
     "output_type": "stream",
     "text": [
      "커피를 줍니다.\n"
     ]
    },
    {
     "name": "stdin",
     "output_type": "stream",
     "text": [
      "돈을 넣어주세요:  300\n"
     ]
    },
    {
     "name": "stdout",
     "output_type": "stream",
     "text": [
      "커피를 줍니다.\n",
      "커피가 다 떨어졌습니다. 판매를 중지합니다.\n"
     ]
    }
   ],
   "source": [
    "# p.137 coffee.py\n",
    "coffee = 10 \n",
    "while True: \n",
    "    money = int(input(\"돈을 넣어주세요: \"))\n",
    "    if money == 300:\n",
    "        print(\"커피를 줍니다.\")\n",
    "        coffee = coffee - 1\n",
    "    elif money > 300:\n",
    "        print(\"거스름돈 %d를 주고 커피를 줍니다.\" % (money-300))\n",
    "        coffee = coffee - 1\n",
    "    else:\n",
    "        print(\"돈을 다시 돌려 주고 커피를 주지 않습니다.\")\n",
    "        print(\"남은 커피의 양은 %d개입니다.\" % coffee)\n",
    "    if coffee == 0: \n",
    "        print(\"커피가 다 떨어졌습니다. 판매를 중지합니다.\")\n",
    "        break"
   ]
  },
  {
   "cell_type": "markdown",
   "id": "d149e027-f9de-4484-9c8c-e6d3659dca0b",
   "metadata": {},
   "source": [
    "### range 함수"
   ]
  },
  {
   "cell_type": "code",
   "execution_count": null,
   "id": "651533ea-4996-4012-acc4-6ace511e88b3",
   "metadata": {},
   "outputs": [
    {
     "name": "stdout",
     "output_type": "stream",
     "text": [
      "range(0, 10)\n"
     ]
    }
   ],
   "source": [
    "a = range(10)\n",
    "print(a)"
   ]
  },
  {
   "cell_type": "code",
   "execution_count": 23,
   "id": "33855843-bd1f-4d38-b3fc-f014ed522ece",
   "metadata": {},
   "outputs": [
    {
     "name": "stdout",
     "output_type": "stream",
     "text": [
      "10\n",
      "12\n",
      "14\n",
      "16\n",
      "18\n",
      "20\n",
      "22\n",
      "24\n",
      "26\n",
      "28\n",
      "30\n",
      "32\n",
      "34\n",
      "36\n",
      "38\n",
      "40\n",
      "42\n",
      "44\n",
      "46\n",
      "48\n"
     ]
    }
   ],
   "source": [
    "for n in range(10,50,2):\n",
    "    print(n)"
   ]
  },
  {
   "cell_type": "code",
   "execution_count": 25,
   "id": "966efa45-f374-49c3-b880-0bfd5148f115",
   "metadata": {},
   "outputs": [
    {
     "name": "stdout",
     "output_type": "stream",
     "text": [
      "[0, 2, 4, 6, 8, 10, 12, 14, 16, 18, 20, 22, 24, 26, 28, 30, 32, 34, 36, 38, 40, 42, 44, 46, 48, 50, 52, 54, 56, 58, 60, 62, 64, 66, 68, 70, 72, 74, 76, 78, 80, 82, 84, 86, 88, 90, 92, 94, 96, 98]\n"
     ]
    }
   ],
   "source": [
    "la = list(range(0,100,2))\n",
    "print(la)"
   ]
  },
  {
   "cell_type": "code",
   "execution_count": 15,
   "id": "74db4aa4-9937-4ec1-8b0a-6a14fec25b5f",
   "metadata": {},
   "outputs": [
    {
     "name": "stdout",
     "output_type": "stream",
     "text": [
      "0\n",
      "2\n",
      "4\n",
      "6\n",
      "8\n"
     ]
    }
   ],
   "source": [
    "for even in range(0,10,2):\n",
    "    print(even)"
   ]
  },
  {
   "cell_type": "code",
   "execution_count": 36,
   "id": "02f19f5d-b102-4f13-b4d5-23755ad18717",
   "metadata": {},
   "outputs": [
    {
     "name": "stdout",
     "output_type": "stream",
     "text": [
      "55\n"
     ]
    }
   ],
   "source": [
    "add = 0\n",
    "for i in range(1,11):\n",
    "    add = add + i \n",
    "print(add)    "
   ]
  },
  {
   "cell_type": "code",
   "execution_count": 35,
   "id": "b06c26dc-1254-4973-ae3b-685d7f658b0e",
   "metadata": {},
   "outputs": [
    {
     "name": "stdout",
     "output_type": "stream",
     "text": [
      "1번 학생 축하합니다. 합격입니다.\n",
      "3번 학생 축하합니다. 합격입니다.\n",
      "5번 학생 축하합니다. 합격입니다.\n"
     ]
    }
   ],
   "source": [
    "# p.145 marks3.py \n",
    "marks = [90, 25, 67, 45, 80]\n",
    "for number in range(len(marks)):\n",
    "    if marks[number] < 60:\n",
    "        continue    # 점수가 60점 미만이면 맨 처음으로 돌아간다. \n",
    "    print(\"%d번 학생 축하합니다. 합격입니다.\" % (number + 1))    "
   ]
  },
  {
   "cell_type": "code",
   "execution_count": 38,
   "id": "a9dcf5b1-6164-47d6-8b73-e8ab53f56cf6",
   "metadata": {},
   "outputs": [
    {
     "name": "stdout",
     "output_type": "stream",
     "text": [
      "5050\n"
     ]
    }
   ],
   "source": [
    "# p.145 1분 코딩 \n",
    "add = 0 \n",
    "for i in range(1,101): \n",
    "    add = add + i \n",
    "print(add)    "
   ]
  },
  {
   "cell_type": "code",
   "execution_count": 74,
   "id": "fd91ead9-e132-457b-ac0a-af627ec0f706",
   "metadata": {},
   "outputs": [
    {
     "name": "stdout",
     "output_type": "stream",
     "text": [
      "     March 2025\n",
      "Su Mo Tu We Th Fr Sa\n",
      "                   1\n",
      " 2  3  4  5  6  7  8\n",
      " 9 10 11 12 13 14 15\n",
      "16 17 18 19 20 21 22\n",
      "23 24 25 26 27 28 29\n",
      "30 31\n",
      "\n"
     ]
    }
   ],
   "source": [
    "# 연습\n",
    "import calendar\n",
    "c = calendar.TextCalendar(calendar.SUNDAY)\n",
    "print(c.formatmonth(2025,3))"
   ]
  },
  {
   "cell_type": "code",
   "execution_count": 79,
   "id": "0eb8365e-d706-44cb-8651-9e2c0bc50621",
   "metadata": {},
   "outputs": [
    {
     "name": "stdout",
     "output_type": "stream",
     "text": [
      "🟪🟪🟪🟪🟪🟪🟪🟪🟪🟪🟪🟪🟪🟪🟪🟪🟪🟪🟪🟪"
     ]
    }
   ],
   "source": [
    "# 테스트 타이\n",
    "import time as t\n",
    "for x in range(20):\n",
    "    print(f'🟪',end='')\n",
    "    t.sleep(1)\n",
    "# E키 한번, I키를 두 번 누르고 shift+Enter    "
   ]
  },
  {
   "cell_type": "code",
   "execution_count": 82,
   "id": "63cc6c38-b67e-43bc-97b1-633a535e8896",
   "metadata": {},
   "outputs": [
    {
     "name": "stdout",
     "output_type": "stream",
     "text": [
      "<class 'list'>\n",
      "<class 'tuple'>\n"
     ]
    }
   ],
   "source": [
    "# 리스트 속도측정\n",
    "import time as t\n",
    "lt = []\n",
    "tp = []\n",
    "length = 10*1000*1000\n",
    "for x in range(length):\n",
    "    lt.append(x)\n",
    "for t in range(length):\n",
    "    tp.append(t)\n",
    "tp = tuple(tp)\n",
    "print(type(lt))\n",
    "print(type(tp))"
   ]
  },
  {
   "cell_type": "code",
   "execution_count": 99,
   "id": "8e1874b4-6535-49ca-ac86-ae4c1da1d0ca",
   "metadata": {},
   "outputs": [
    {
     "name": "stdout",
     "output_type": "stream",
     "text": [
      "0.8351833820343018\n"
     ]
    }
   ],
   "source": [
    "import time\n",
    "start = time.time()\n",
    "for x in lt:\n",
    "    lts = [1,2,3,4,5]\n",
    "print(time.time() - start)"
   ]
  },
  {
   "cell_type": "code",
   "execution_count": 100,
   "id": "a6055894-db30-4d60-99ff-0c32bce5cab2",
   "metadata": {},
   "outputs": [
    {
     "name": "stdout",
     "output_type": "stream",
     "text": [
      "0.3964850902557373\n"
     ]
    }
   ],
   "source": [
    "import time\n",
    "start = time.time()\n",
    "for x in tp:\n",
    "    tps = (1,2,3,4,5)\n",
    "print(time.time() - start)"
   ]
  },
  {
   "cell_type": "code",
   "execution_count": 108,
   "id": "51ffcb9d-9635-438e-b9b9-d8c8fd48fa03",
   "metadata": {},
   "outputs": [
    {
     "name": "stdout",
     "output_type": "stream",
     "text": [
      "Collecting tqdm\n",
      "  Downloading tqdm-4.67.1-py3-none-any.whl.metadata (57 kB)\n",
      "Requirement already satisfied: colorama in c:\\users\\admin\\appdata\\local\\programs\\python\\python313\\lib\\site-packages (from tqdm) (0.4.6)\n",
      "Downloading tqdm-4.67.1-py3-none-any.whl (78 kB)\n",
      "Installing collected packages: tqdm\n",
      "Successfully installed tqdm-4.67.1\n"
     ]
    }
   ],
   "source": [
    "!pip install tqdm"
   ]
  },
  {
   "cell_type": "code",
   "execution_count": 2,
   "id": "40bea3cd-0809-4474-a57e-62256a45b821",
   "metadata": {},
   "outputs": [
    {
     "name": "stderr",
     "output_type": "stream",
     "text": [
      "100%|████████████████████████████████████████████████████████████████████████████████| 100/100 [00:10<00:00,  9.80it/s]\n"
     ]
    }
   ],
   "source": [
    "from tqdm import tqdm \n",
    "import time as tt\n",
    "for x in tqdm(range(100)):\n",
    "    pass\n",
    "    tt.sleep(0.1)"
   ]
  },
  {
   "cell_type": "code",
   "execution_count": 60,
   "id": "e7a89167-bf46-43f2-9543-8a074091845c",
   "metadata": {},
   "outputs": [
    {
     "name": "stdout",
     "output_type": "stream",
     "text": [
      "152817000\n",
      "149131000\n",
      "152630000\n",
      "3686000.0\n"
     ]
    }
   ],
   "source": [
    "# 비트코인시세로 상승장 하강장 구분하기\n",
    "import requests as req\n",
    "url = \"https://api.bithumb.com/public/ticker/ALL_KRW\"\n",
    "gdata = req.get(url).json()\n",
    "btc = gdata['data']['BTC']\n",
    "print(btc['max_price']) # 최대가\n",
    "print(btc['min_price']) # 최소가\n",
    "print(btc['opening_price']) # 시작가\n",
    "print(float(maxp) - float(minp)) # 변화폭"
   ]
  },
  {
   "cell_type": "code",
   "execution_count": 64,
   "id": "1421e2ee-126b-4129-af6a-49819bf9ef24",
   "metadata": {},
   "outputs": [
    {
     "name": "stdout",
     "output_type": "stream",
     "text": [
      "상승장\n"
     ]
    }
   ],
   "source": [
    "import requests as req\n",
    "url = \"https://api.bithumb.com/public/ticker/ALL_KRW\"\n",
    "gdata = req.get(url).json()\n",
    "btc = gdata['data']['BTC']\n",
    "maxp = float(btc['max_price']) # 최대가\n",
    "minp = float(btc['min_price']) # 최소가\n",
    "openp = float(btc['opening_price']) # 시작가\n",
    "bandp = float(maxp) - float(minp) # 변화폭\n",
    "if (openp + bandp) > maxp: \n",
    "    print('상승장')\n",
    "else: \n",
    "    print('하강장')"
   ]
  },
  {
   "cell_type": "code",
   "execution_count": 65,
   "id": "47cf0fd0-fb49-4235-ad41-fac6badb5ccc",
   "metadata": {},
   "outputs": [
    {
     "name": "stdout",
     "output_type": "stream",
     "text": [
      "149272000\n",
      "상승장\n"
     ]
    }
   ],
   "source": [
    "# 1분 캔들\n",
    "import requests as req\n",
    "url = 'https://api.bithumb.com/v1/candles/minutes/1?market=KRW-BTC&count=1'\n",
    "btc_data = req.get(url).json()\n",
    "print(btc_data[0]['trade_price']) # 1분 거래가\n",
    "highp = float(btc_data[0]['high_price']) # 최대가\n",
    "lowp = float(btc_data[0]['low_price']) # 최소가\n",
    "openp = float(btc_data[0]['opening_price']) # 시작가\n",
    "bandp = float(highp) - float(lowp) # 변화폭 \n",
    "if (openp + bandp) > highp:\n",
    "    print('상승장')\n",
    "else: \n",
    "    print('하강장')"
   ]
  },
  {
   "cell_type": "code",
   "execution_count": 58,
   "id": "407881f1-7f7d-49ae-808d-fc3cf55ca35e",
   "metadata": {},
   "outputs": [
    {
     "name": "stdout",
     "output_type": "stream",
     "text": [
      "149132000\n",
      "149148000\n",
      "149132000\n",
      "149148000\n",
      "51000.0\n"
     ]
    }
   ],
   "source": [
    "import requests as req\n",
    "url = 'https://api.bithumb.com/v1/candles/minutes/1?market=KRW-BTC&count=1'\n",
    "btc_data = req.get(url).json()\n",
    "print((btc_data[0]['trade_price'])) # 1분 거래가\n",
    "print(btc_data[0]['high_price']) # 최대가\n",
    "print(btc_data[0]['low_price']) # 최소가\n",
    "print(btc_data[0]['opening_price']) # 시작가\n",
    "print(float(highp) - float(lowp)) # 변화폭 "
   ]
  },
  {
   "cell_type": "code",
   "execution_count": 111,
   "id": "ba673564-498a-406e-9359-d4ed60eee487",
   "metadata": {},
   "outputs": [
    {
     "name": "stdout",
     "output_type": "stream",
     "text": [
      "2 x 1 = 2\n",
      "2 x 2 = 4\n",
      "2 x 3 = 6\n",
      "2 x 4 = 8\n",
      "2 x 5 = 10\n",
      "2 x 6 = 12\n",
      "2 x 7 = 14\n",
      "2 x 8 = 16\n",
      "2 x 9 = 18\n"
     ]
    }
   ],
   "source": [
    "for i in range(1,10):\n",
    "    print(f'{2} x {i} = {(2)*i}')"
   ]
  },
  {
   "cell_type": "code",
   "execution_count": 120,
   "id": "489ab239-29e5-47db-89b7-4e505b2341cd",
   "metadata": {},
   "outputs": [
    {
     "name": "stdout",
     "output_type": "stream",
     "text": [
      "====2단====\n",
      "2 x 1 = 2\n",
      "2 x 2 = 4\n",
      "2 x 3 = 6\n",
      "2 x 4 = 8\n",
      "2 x 5 = 10\n",
      "2 x 6 = 12\n",
      "2 x 7 = 14\n",
      "2 x 8 = 16\n",
      "2 x 9 = 18\n",
      "====3단====\n",
      "3 x 1 = 3\n",
      "3 x 2 = 6\n",
      "3 x 3 = 9\n",
      "3 x 4 = 12\n",
      "3 x 5 = 15\n",
      "3 x 6 = 18\n",
      "3 x 7 = 21\n",
      "3 x 8 = 24\n",
      "3 x 9 = 27\n",
      "====4단====\n",
      "4 x 1 = 4\n",
      "4 x 2 = 8\n",
      "4 x 3 = 12\n",
      "4 x 4 = 16\n",
      "4 x 5 = 20\n",
      "4 x 6 = 24\n",
      "4 x 7 = 28\n",
      "4 x 8 = 32\n",
      "4 x 9 = 36\n",
      "====5단====\n",
      "5 x 1 = 5\n",
      "5 x 2 = 10\n",
      "5 x 3 = 15\n",
      "5 x 4 = 20\n",
      "5 x 5 = 25\n",
      "5 x 6 = 30\n",
      "5 x 7 = 35\n",
      "5 x 8 = 40\n",
      "5 x 9 = 45\n",
      "====6단====\n",
      "6 x 1 = 6\n",
      "6 x 2 = 12\n",
      "6 x 3 = 18\n",
      "6 x 4 = 24\n",
      "6 x 5 = 30\n",
      "6 x 6 = 36\n",
      "6 x 7 = 42\n",
      "6 x 8 = 48\n",
      "6 x 9 = 54\n",
      "====7단====\n",
      "7 x 1 = 7\n",
      "7 x 2 = 14\n",
      "7 x 3 = 21\n",
      "7 x 4 = 28\n",
      "7 x 5 = 35\n",
      "7 x 6 = 42\n",
      "7 x 7 = 49\n",
      "7 x 8 = 56\n",
      "7 x 9 = 63\n",
      "====8단====\n",
      "8 x 1 = 8\n",
      "8 x 2 = 16\n",
      "8 x 3 = 24\n",
      "8 x 4 = 32\n",
      "8 x 5 = 40\n",
      "8 x 6 = 48\n",
      "8 x 7 = 56\n",
      "8 x 8 = 64\n",
      "8 x 9 = 72\n",
      "====9단====\n",
      "9 x 1 = 9\n",
      "9 x 2 = 18\n",
      "9 x 3 = 27\n",
      "9 x 4 = 36\n",
      "9 x 5 = 45\n",
      "9 x 6 = 54\n",
      "9 x 7 = 63\n",
      "9 x 8 = 72\n",
      "9 x 9 = 81\n"
     ]
    }
   ],
   "source": [
    "for j in range(2,10):\n",
    "    print(f\"{str(j)+'단':=^10}\")\n",
    "    for i in range(1,10):\n",
    "        print(f'{j} x {i} = {j*i}')"
   ]
  },
  {
   "cell_type": "code",
   "execution_count": 91,
   "id": "24e7e59f-cf01-4fb3-88c2-9d6be92c1703",
   "metadata": {},
   "outputs": [
    {
     "name": "stdout",
     "output_type": "stream",
     "text": [
      "2 4 6 8 10 12 14 16 18 \n",
      "3 6 9 12 15 18 21 24 27 \n",
      "4 8 12 16 20 24 28 32 36 \n",
      "5 10 15 20 25 30 35 40 45 \n",
      "6 12 18 24 30 36 42 48 54 \n",
      "7 14 21 28 35 42 49 56 63 \n",
      "8 16 24 32 40 48 56 64 72 \n",
      "9 18 27 36 45 54 63 72 81 \n"
     ]
    }
   ],
   "source": [
    "for i in range(2,10):\n",
    "    for j in range(1,10):\n",
    "        print(i*j,end=\" \")\n",
    "    print('')    "
   ]
  },
  {
   "cell_type": "markdown",
   "id": "95ca944b-8369-476b-ae01-13eb550ebee3",
   "metadata": {},
   "source": [
    "### 리스트 컴프리헨션"
   ]
  },
  {
   "cell_type": "code",
   "execution_count": 121,
   "id": "22d0da51-f2d4-46c4-90b9-0e5f7142cae3",
   "metadata": {},
   "outputs": [
    {
     "name": "stdout",
     "output_type": "stream",
     "text": [
      "[3, 6, 9, 12]\n"
     ]
    }
   ],
   "source": [
    "# 기본적인 리스트에 값 넣기\n",
    "a = [1,2,3,4]\n",
    "result = []\n",
    "for num in a:\n",
    "    result.append(num*3)\n",
    "print(result)"
   ]
  },
  {
   "cell_type": "code",
   "execution_count": 122,
   "id": "c8bf1680-b66d-46c4-8936-496c5771fed2",
   "metadata": {},
   "outputs": [
    {
     "data": {
      "text/plain": [
       "[3, 6, 9, 12]"
      ]
     },
     "execution_count": 122,
     "metadata": {},
     "output_type": "execute_result"
    }
   ],
   "source": [
    "# 리스트 컴프리헨션\n",
    "[num*3 for num in [1,2,3,4]]"
   ]
  },
  {
   "cell_type": "code",
   "execution_count": 125,
   "id": "dc107fca-2afe-45d4-b3c4-283fe5de0144",
   "metadata": {},
   "outputs": [
    {
     "data": {
      "text/plain": [
       "[0, 1, 2, 3, 4, 5, 6, 7, 8, 9]"
      ]
     },
     "execution_count": 125,
     "metadata": {},
     "output_type": "execute_result"
    }
   ],
   "source": [
    "# 테스트1\n",
    "# list(range(10))\n",
    "[x for x in range(10)]"
   ]
  },
  {
   "cell_type": "code",
   "execution_count": 127,
   "id": "34c1b669-a32c-415a-81bf-ae1f32697086",
   "metadata": {},
   "outputs": [
    {
     "name": "stdout",
     "output_type": "stream",
     "text": [
      "[0, 2, 4, 6, 8]\n"
     ]
    }
   ],
   "source": [
    "res=[]\n",
    "for x in range(10):\n",
    "    if x%2==0:\n",
    "        res.append(x)\n",
    "print(res)"
   ]
  },
  {
   "cell_type": "code",
   "execution_count": 129,
   "id": "4516f38f-b3f8-4555-bcac-82871136719c",
   "metadata": {},
   "outputs": [
    {
     "data": {
      "text/plain": [
       "[0, 6, 12, 18, 24]"
      ]
     },
     "execution_count": 129,
     "metadata": {},
     "output_type": "execute_result"
    }
   ],
   "source": [
    "[x*3 for x in range(10) if x%2==0]"
   ]
  },
  {
   "cell_type": "code",
   "execution_count": 131,
   "id": "64cfe00e-b0be-4e9f-9bbe-a482546e95f3",
   "metadata": {},
   "outputs": [
    {
     "name": "stdout",
     "output_type": "stream",
     "text": [
      "[2, 4, 6, 8, 10, 12, 14, 16, 18, 3, 6, 9, 12, 15, 18, 21, 24, 27, 4, 8, 12, 16, 20, 24, 28, 32, 36, 5, 10, 15, 20, 25, 30, 35, 40, 45, 6, 12, 18, 24, 30, 36, 42, 48, 54, 7, 14, 21, 28, 35, 42, 49, 56, 63, 8, 16, 24, 32, 40, 48, 56, 64, 72, 9, 18, 27, 36, 45, 54, 63, 72, 81]\n"
     ]
    }
   ],
   "source": [
    "result = [i * j for i in range(2,10) for j in range(1,10)]\n",
    "print(result)"
   ]
  },
  {
   "cell_type": "code",
   "execution_count": 132,
   "id": "5c959953-f8d6-4588-b9ad-798cfc8a6f2d",
   "metadata": {},
   "outputs": [
    {
     "name": "stdout",
     "output_type": "stream",
     "text": [
      "2 x 1 = 2\n",
      "2 x 2 = 4\n",
      "2 x 3 = 6\n",
      "2 x 4 = 8\n",
      "2 x 5 = 10\n",
      "2 x 6 = 12\n",
      "2 x 7 = 14\n",
      "2 x 8 = 16\n",
      "2 x 9 = 18\n",
      "3 x 1 = 3\n",
      "3 x 2 = 6\n",
      "3 x 3 = 9\n",
      "3 x 4 = 12\n",
      "3 x 5 = 15\n",
      "3 x 6 = 18\n",
      "3 x 7 = 21\n",
      "3 x 8 = 24\n",
      "3 x 9 = 27\n",
      "4 x 1 = 4\n",
      "4 x 2 = 8\n",
      "4 x 3 = 12\n",
      "4 x 4 = 16\n",
      "4 x 5 = 20\n",
      "4 x 6 = 24\n",
      "4 x 7 = 28\n",
      "4 x 8 = 32\n",
      "4 x 9 = 36\n",
      "5 x 1 = 5\n",
      "5 x 2 = 10\n",
      "5 x 3 = 15\n",
      "5 x 4 = 20\n",
      "5 x 5 = 25\n",
      "5 x 6 = 30\n",
      "5 x 7 = 35\n",
      "5 x 8 = 40\n",
      "5 x 9 = 45\n",
      "6 x 1 = 6\n",
      "6 x 2 = 12\n",
      "6 x 3 = 18\n",
      "6 x 4 = 24\n",
      "6 x 5 = 30\n",
      "6 x 6 = 36\n",
      "6 x 7 = 42\n",
      "6 x 8 = 48\n",
      "6 x 9 = 54\n",
      "7 x 1 = 7\n",
      "7 x 2 = 14\n",
      "7 x 3 = 21\n",
      "7 x 4 = 28\n",
      "7 x 5 = 35\n",
      "7 x 6 = 42\n",
      "7 x 7 = 49\n",
      "7 x 8 = 56\n",
      "7 x 9 = 63\n",
      "8 x 1 = 8\n",
      "8 x 2 = 16\n",
      "8 x 3 = 24\n",
      "8 x 4 = 32\n",
      "8 x 5 = 40\n",
      "8 x 6 = 48\n",
      "8 x 7 = 56\n",
      "8 x 8 = 64\n",
      "8 x 9 = 72\n",
      "9 x 1 = 9\n",
      "9 x 2 = 18\n",
      "9 x 3 = 27\n",
      "9 x 4 = 36\n",
      "9 x 5 = 45\n",
      "9 x 6 = 54\n",
      "9 x 7 = 63\n",
      "9 x 8 = 72\n",
      "9 x 9 = 81\n"
     ]
    }
   ],
   "source": [
    "# for j in range(2,10):\n",
    "    # print(f\"{str(j)+'단':=^10}\")\n",
    "    # for i in range(1,10):\n",
    "        # print(f'{j} x {i} = {j*i}')\n",
    "for a in [f'{j} x {i} = {j*i}' for j in range(2,10) for i in range(1,10)]: \n",
    "    print(a) "
   ]
  },
  {
   "cell_type": "code",
   "execution_count": 134,
   "id": "5c4228ec-a1f4-46d4-907d-3a94d378c92e",
   "metadata": {},
   "outputs": [
    {
     "name": "stdout",
     "output_type": "stream",
     "text": [
      "414\n",
      "[414, 313, 77, 66, 55, 22, 11]\n"
     ]
    }
   ],
   "source": [
    "a = [11,22,313,414,55,66,77]\n",
    "a.sort(reverse=True)\n",
    "print(a[0])\n",
    "print(a)\n",
    "# print(max(a))"
   ]
  },
  {
   "cell_type": "code",
   "execution_count": null,
   "id": "15d8e0eb-708b-4551-bd86-0d84b6efdd13",
   "metadata": {},
   "outputs": [],
   "source": []
  }
 ],
 "metadata": {
  "kernelspec": {
   "display_name": "Python 3 (ipykernel)",
   "language": "python",
   "name": "python3"
  },
  "language_info": {
   "codemirror_mode": {
    "name": "ipython",
    "version": 3
   },
   "file_extension": ".py",
   "mimetype": "text/x-python",
   "name": "python",
   "nbconvert_exporter": "python",
   "pygments_lexer": "ipython3",
   "version": "3.13.1"
  }
 },
 "nbformat": 4,
 "nbformat_minor": 5
}
