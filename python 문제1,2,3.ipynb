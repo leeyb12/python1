{
 "cells": [
  {
   "cell_type": "code",
   "execution_count": 1,
   "id": "f0905edd-70b7-4273-89ab-92ff9fee7eff",
   "metadata": {},
   "outputs": [
    {
     "name": "stdin",
     "output_type": "stream",
     "text": [
      "단어를 입력하세요: 파이썬\n"
     ]
    },
    {
     "name": "stdout",
     "output_type": "stream",
     "text": [
      "False\n"
     ]
    }
   ],
   "source": [
    "# p1 입력을 하면 그 단어가 거꾸로 해도 같은 단어인지 확인하는 프로그램을 만들어라.\n",
    "list = ['우영우', '인도인', '파이썬']\n",
    "word = input('단어를 입력하세요:')\n",
    "\n",
    "list = True\n",
    "for i in range(len(word) // 2):\n",
    "    if word[i] != word[-1 - i]:\n",
    "        list = False\n",
    "        break\n",
    "\n",
    "print(list)\n",
    "# 같은 단어이면 True, 다르면 False입니다."
   ]
  },
  {
   "cell_type": "code",
   "execution_count": 2,
   "id": "e53091d0-751c-4e49-b383-f533e1fa8bd5",
   "metadata": {},
   "outputs": [
    {
     "name": "stdout",
     "output_type": "stream",
     "text": [
      "[1, 2, 3, 4, 5, 6, 7, 8, 9, 10.11, 12, 13, 14, 15, 16, 17, 18, 19, 20]\n",
      " 짝수 리스트는 [0, 2, 4, 6, 8, 10, 12, 14, 16, 18]입니다.\n",
      " 홀수 리스트는 [1, 3, 5, 7, 9, 11, 13, 15, 17, 19]입니다.\n"
     ]
    }
   ],
   "source": [
    "# p2 하나의 긴 리스트값을 입력하면 두개의 리스트로 결과가 나오는데 각각 짝수의 값이 담기고 홀수의 값이 담기도록 한다. \n",
    "num = [1,2,3,4,5,6,7,8,9,10.11,12,13,14,15,16,17,18,19,20]\n",
    "result1 = []\n",
    "result2 = []\n",
    "for n in range(0,20,2):\n",
    "    if n % 2 == 0: \n",
    "        result1.append(n)\n",
    "for n in range(1,20,2):\n",
    "    if n % 2 == 1: \n",
    "        result2.append(n)\n",
    "print(num)\n",
    "print(f' 짝수 리스트는 {result1}입니다.')\n",
    "print(f' 홀수 리스트는 {result2}입니다.')"
   ]
  },
  {
   "cell_type": "code",
   "execution_count": 24,
   "id": "e2a61de7-b0f3-43d1-9900-43f40f702250",
   "metadata": {},
   "outputs": [
    {
     "name": "stdin",
     "output_type": "stream",
     "text": [
      "문장을 입력하세요 자신을 사랑하는 법을 아는 것이 가장 위대한 사랑입니다. \n"
     ]
    },
    {
     "name": "stdout",
     "output_type": "stream",
     "text": [
      "Longest word: 사랑입니다.\n"
     ]
    }
   ],
   "source": [
    "# p3 하나의 긴 문장을 입력받았을 때 그 문장 중에 가장 긴 단어를 밖으로 출력하게 하세요. (긴 글자가 하나이상 있으면 그 글자 모두)\n",
    "def find_longest_word(sentence):\n",
    "    words = sentence.split()\n",
    "    return max(words,key=len)\n",
    "text = input(\"문장을 입력하세요\")\n",
    "print(\"Longest word:\",find_longest_word(text))"
   ]
  },
  {
   "cell_type": "code",
   "execution_count": 9,
   "id": "bc7e7087-9036-40f9-9a0e-7919fdc1e38c",
   "metadata": {},
   "outputs": [
    {
     "name": "stdin",
     "output_type": "stream",
     "text": [
      "단어를 입력해주세요 기분이 좋아요\n"
     ]
    },
    {
     "data": {
      "text/plain": [
       "'기분이 좋아보이네요'"
      ]
     },
     "execution_count": 9,
     "metadata": {},
     "output_type": "execute_result"
    }
   ],
   "source": [
    "# p4 입력을 받은 문장을 분류하여라.\n",
    "def word():\n",
    "    positive_words = [\"좋아\",\"행복\",\"멋져\",\"최고\",\"사랑해\"]\n",
    "    negative_words = [\"싫어\",\"화나\",\"짜증\",\"별로\",\"나빠\"]\n",
    "    pos = set(\"=\".join(\"\".join(positive_words)).split('='))\n",
    "    neg = set(\"=\".join(\"\".join(negative_words)).split('='))\n",
    "    text = input(\"단어를 입력해주세요\")\n",
    "    text2 = set(\"=\".join(\"\".join(text.split())).split(\"=\"))\n",
    "    if pos.intersection(text2):\n",
    "        return \"기분이 좋아보이네요\"\n",
    "    elif neg.intersection(text2):\n",
    "        return \"기분이 나빠보이네요\"\n",
    "    else:\n",
    "        return \"평범한 하루네요\"\n",
    "word()"
   ]
  },
  {
   "cell_type": "code",
   "execution_count": 28,
   "id": "29101f45-ce7f-4698-b06d-a04f57cf9994",
   "metadata": {},
   "outputs": [
    {
     "name": "stdin",
     "output_type": "stream",
     "text": [
      "영어 문장을 입력하세요. life is what happens when you're busy making other plans!\n"
     ]
    },
    {
     "name": "stdout",
     "output_type": "stream",
     "text": [
      "Life Is What Happens When You'Re Busy Making Other Plans!\n"
     ]
    }
   ],
   "source": [
    "# p5 영어 소문자로 문장을 입력받으면 매 첫글자만 대문자로 변경되게 하라. 문징의 마지막은 마침표를 찍어라.\n",
    "original_string = input('영어 문장을 입력하세요.')\n",
    "capitalized_string = original_string.title()\n",
    "print(capitalized_string)"
   ]
  },
  {
   "cell_type": "code",
   "execution_count": 3,
   "id": "683b5f71-ea18-4bc5-801b-479f4fce73f6",
   "metadata": {},
   "outputs": [
    {
     "name": "stdout",
     "output_type": "stream",
     "text": [
      "1위: REBEL HEART - IVE (아이브)\n",
      "2위: HOME SWEET HOME (feat. 태양, 대성) - G-DRAGON\n",
      "3위: 나는 반딧불 - 황가람\n",
      "4위: Whiplash - aespa\n",
      "5위: APT. - 로제 (ROSÉ), Bruno Mars\n",
      "6위: Drowning - WOODZ\n",
      "7위: ATTITUDE - IVE (아이브)\n",
      "8위: 오늘만 I LOVE YOU - BOYNEXTDOOR\n",
      "9위: 모르시나요(PROD.로코베리) - 조째즈\n",
      "10위: Dash - PLAVE\n",
      "11위: toxic till the end - 로제 (ROSÉ)\n",
      "12위: POWER - G-DRAGON\n",
      "13위: HAPPY - DAY6 (데이식스)\n",
      "14위: RIZZ - PLAVE\n",
      "15위: 내게 사랑이 뭐냐고 물어본다면 - 로이킴\n",
      "16위: Chroma Drift - PLAVE\n",
      "17위: Island - PLAVE\n",
      "18위: 12:32 (A to T) - PLAVE\n",
      "19위: DRIP - BABYMONSTER\n",
      "20위: 사랑은 늘 도망가 - 임영웅\n",
      "21위: 소나기 - 이클립스 (ECLIPSE)\n",
      "22위: 너와의 모든 지금 - 재쓰비 (JAESSBEE)\n",
      "23위: 천상연 - 이창섭\n",
      "24위: Supernova - aespa\n",
      "25위: Welcome to the Show - DAY6 (데이식스)\n",
      "26위: 한 페이지가 될 수 있게 - DAY6 (데이식스)\n",
      "27위: 내 이름 맑음 - QWER\n",
      "28위: 우리들의 블루스 - 임영웅\n",
      "29위: UP (KARINA Solo) - aespa\n",
      "30위: 온기 - 임영웅\n",
      "31위: 슬픈 초대장 - 순순희(지환)\n",
      "32위: Home - 임영웅\n",
      "33위: 어떻게 이별까지 사랑하겠어, 널 사랑하는 거지 - AKMU (악뮤)\n",
      "34위: 모래 알갱이 - 임영웅\n",
      "35위: 다시 만날 수 있을까 - 임영웅\n",
      "36위: 이제 나만 믿어요 - 임영웅\n",
      "37위: Love wins all - 아이유\n",
      "38위: 고민중독 - QWER\n",
      "39위: 예뻤어 - DAY6 (데이식스)\n",
      "40위: 무지개 - 임영웅\n",
      "41위: Die With A Smile - Lady Gaga, Bruno Mars\n",
      "42위: Do or Die - 임영웅\n",
      "43위: Mantra - 제니 (JENNIE)\n",
      "44위: London Boy - 임영웅\n",
      "45위: 미치게 그리워서 - 황가람\n",
      "46위: How Sweet - NewJeans\n",
      "47위: Polaroid - 임영웅\n",
      "48위: 첫 만남은 계획대로 되지 않아 - TWS (투어스)\n",
      "49위: 인생찬가 - 임영웅\n",
      "50위: 너의 모든 순간 - 성시경\n",
      "51위: 그대만 있다면 (여름날 우리 X 너드커넥션 (Nerd Connection)) - 너드커넥션 (Nerd Connection)\n",
      "52위: 나는 아픈 건 딱 질색이니까 - (여자)아이들\n",
      "53위: Supersonic - 프로미스나인\n",
      "54위: 비의 랩소디 - 임재현\n",
      "55위: 무제(無題) (Untitled, 2014) - G-DRAGON\n",
      "56위: I AM - IVE (아이브)\n",
      "57위: 연애편지 - 임영웅\n",
      "58위: 에피소드 - 이무진\n",
      "59위: Small girl (feat. 도경수(D.O.)) - 이영지\n",
      "60위: 청춘만화 - 이무진\n",
      "61위: 미안해 미워해 사랑해 - Crush\n",
      "62위: 모든 날, 모든 순간 (Every day, Every Moment) - 폴킴\n",
      "63위: 헤어지자 말해요 - 박재정\n",
      "64위: Magnetic - 아일릿(ILLIT)\n",
      "65위: 다정히 내 이름을 부르면 - 경서예지, 전건호\n",
      "66위: number one girl - 로제 (ROSÉ)\n",
      "67위: 보금자리 - 임영웅\n",
      "68위: 청혼하지 않을 이유를 못 찾았어 - 이무진\n",
      "69위: 살기 위해서 - 순순희\n",
      "70위: Ditto - NewJeans\n",
      "71위: 인사 - 범진\n",
      "72위: Hype Boy - NewJeans\n",
      "73위: 해야 (HEYA) - IVE (아이브)\n",
      "74위: Armageddon - aespa\n",
      "75위: 주저하는 연인들을 위해 - 잔나비\n",
      "76위: Seven (feat. Latto) - Clean Ver. - 정국\n",
      "77위: 사랑인가 봐 - 멜로망스\n",
      "78위: Hug (포옹) - RIIZE\n",
      "79위: Igloo - KISS OF LIFE\n",
      "80위: 눈이 오잖아(Feat.헤이즈) - 이무진\n",
      "81위: Supernatural - NewJeans\n",
      "82위: 취중고백 - 김민석\n",
      "83위: Sticky - KISS OF LIFE\n",
      "84위: earthquake - 지수 (JISOO)\n",
      "85위: 녹아내려요 - DAY6 (데이식스)\n",
      "86위: 청바지 - 부석순 (SEVENTEEN)\n",
      "87위: 클락션 (Klaxon) - (여자)아이들\n",
      "88위: Love 119 - RIIZE\n",
      "89위: Boom Boom Bass - RIIZE\n",
      "90위: To. X - 태연 (TAEYEON)\n",
      "91위: 사막에서 꽃을 피우듯 - 우디 (Woody)\n",
      "92위: 봄여름가을겨울 (Still Life) - BIGBANG (빅뱅)\n",
      "93위: 사건의 지평선 - 윤하 (YOUNHA)\n",
      "94위: SPOT! (feat. JENNIE) - 지코 (ZICO)\n",
      "95위: 첫 눈 - EXO\n",
      "96위: 봄날 - 방탄소년단\n",
      "97위: Bubble Gum - NewJeans\n",
      "98위: Dynamite - 방탄소년단\n",
      "99위: Congratulations - DAY6 (데이식스)\n",
      "100위: Drama - aespa\n"
     ]
    }
   ],
   "source": [
    "import requests \n",
    "from bs4 import BeautifulSoup \n",
    "url = \"https://www.melon.com/chart/index.htm\"\n",
    "headers = {\n",
    "    'User-Agent':'Mozilla/5.0 (Windows NT 10.0; Win64; x64) AppleWebKit/537.36 (KHTML, like Gecko) Chrome/133.0.0.0 Safari/537.36 Edg/133.0.0.0'\n",
    "}\n",
    "\n",
    "response = requests.get(url, headers=headers)\n",
    "if response.status_code == 200:\n",
    "    soup = BeautifulSoup(response.content,\"html.parser\")\n",
    "    song_titles = soup.select(\"div.ellipsis.rank01 a\")\n",
    "    artists = soup.select(\"div.ellipsis.rank02 span.checkEllipsis\")\n",
    "    for idx, (title, artist) in enumerate(zip(song_titles,artists), start=1):\n",
    "        print(f\"{idx}위: {title.text.strip()} - {artist.text.strip()}\")\n",
    "else: \n",
    "    print(f\"페이지를 불러오는 데 실패했습니다. 상태 코드: {response.status_code}\")"
   ]
  },
  {
   "cell_type": "code",
   "execution_count": 11,
   "id": "6ade1f34-5624-455c-b513-30925a4ac939",
   "metadata": {},
   "outputs": [
    {
     "name": "stdout",
     "output_type": "stream",
     "text": [
      "1 삼성전자 58,400\n",
      "2 SK하이닉스 212,000\n",
      "3 LG에너지솔루션 374,500\n",
      "4 삼성바이오로직스 1,143,000\n",
      "5 현대차 202,000\n",
      "6 삼성전자우 49,400\n",
      "7 셀트리온 180,700\n",
      "8 기아 93,800\n",
      "9 NAVER 221,000\n",
      "10 KB금융 82,700\n",
      "11 한화에어로스페이스 653,000\n",
      "12 HD현대중공업 312,500\n",
      "13 신한지주 47,450\n",
      "14 삼성물산 132,800\n",
      "15 현대모비스 252,000\n",
      "16 메리츠금융지주 122,800\n",
      "17 한화오션 74,300\n",
      "18 POSCO홀딩스 268,500\n",
      "19 삼성생명 99,400\n",
      "20 SK이노베이션 130,600\n",
      "21 삼성화재 401,000\n",
      "22 두산에너빌리티 28,650\n",
      "23 하나금융지주 62,200\n",
      "24 카카오 39,750\n",
      "25 LG화학 246,500\n",
      "26 고려아연 825,000\n",
      "27 HMM 18,600\n",
      "28 크래프톤 332,000\n",
      "29 삼성SDI 226,000\n",
      "30 HD한국조선해양 218,500\n",
      "31 한국전력 21,550\n",
      "32 LG전자 82,600\n",
      "33 SK스퀘어 100,700\n",
      "34 HD현대일렉트릭 372,000\n",
      "35 KT&G 105,300\n",
      "36 우리금융지주 17,340\n",
      "37 SK텔레콤 58,800\n",
      "38 기업은행 15,570\n",
      "39 삼성중공업 13,740\n",
      "40 KT 47,300\n",
      "41 카카오뱅크 23,800\n",
      "42 LG 69,800\n",
      "43 포스코퓨처엠 141,200\n",
      "44 SK 148,600\n",
      "45 삼성전기 142,600\n",
      "46 하이브 247,500\n",
      "47 한미반도체 106,200\n",
      "48 삼성에스디에스 129,800\n",
      "49 유한양행 122,600\n",
      "50 현대글로비스 129,100\n"
     ]
    }
   ],
   "source": [
    "import requests as req \n",
    "from bs4 import BeautifulSoup as bs\n",
    "url = \"https://finance.naver.com/sise/sise_market_sum.naver\"\n",
    "headers = {\"User-Agent\":\"Mozilla/5.0 (Windows NT 10.0; Win64; x64) AppleWebKit/537.36 (KHTML, like Gecko) Chrome/133.0.0.0 Safari/537.36 Edg/133.0.0.0\"}\n",
    "web = req.get(url, headers = headers)\n",
    "soup = bs(web.content,\"html.parser\")\n",
    "number = soup.select(\"td:nth-child(3)\")[5:]\n",
    "tltle = soup.select(\".tltle\")\n",
    "no = soup.select(\".no\")[:100]\n",
    "for a, b, c in zip(no, tltle, number):\n",
    "    print(a.text+\" \"+b.text+\" \"+c.text)"
   ]
  },
  {
   "cell_type": "code",
   "execution_count": 2,
   "id": "f0c2e33e-5eb5-47dc-b115-9b9b58ac0737",
   "metadata": {},
   "outputs": [
    {
     "name": "stdout",
     "output_type": "stream",
     "text": [
      "1위 REBEL HEART = IVE (아이브)\n",
      "2위 나는 반딧불 = 황가람\n",
      "3위 HOME SWEET HOME (Feat. 태양 & 대성) = G-DRAGON\n",
      "4위 Whiplash = aespa\n",
      "5위 ATTITUDE = IVE (아이브)\n",
      "6위 APT. = 로제 (ROSÉ) & Bruno Mars\n",
      "7위 Drowning = WOODZ\n",
      "8위 모르시나요 (Prod. by 로코베리) = 조째즈\n",
      "9위 HAPPY = DAY6 (데이식스)\n",
      "10위 내게 사랑이 뭐냐고 물어본다면 = 로이킴\n",
      "11위 toxic till the end = 로제 (ROSÉ)\n",
      "12위 POWER = G-DRAGON\n",
      "13위 내 이름 맑음 = QWER\n",
      "14위 Welcome to the Show = DAY6 (데이식스)\n",
      "15위 한 페이지가 될 수 있게 = DAY6 (데이식스)\n",
      "16위 너와의 모든 지금 = 재쓰비 (JAESSBEE)\n",
      "17위 소나기 = 이클립스 (ECLIPSE)\n",
      "18위 Supernova = aespa\n",
      "19위 사랑은 늘 도망가 = 임영웅\n",
      "20위 슬픈 초대장 = 순순희 (지환)\n",
      "21위 고민중독 = QWER\n",
      "22위 오늘만 I LOVE YOU = BOYNEXTDOOR\n",
      "23위 예뻤어 = DAY6 (데이식스)\n",
      "24위 미치게 그리워서 = 황가람\n",
      "25위 천상연 = 이창섭\n",
      "26위 Die With A Smile = Lady Gaga & Bruno Mars\n",
      "27위 UP (KARINA Solo) = aespa\n",
      "28위 우리들의 블루스 = 임영웅\n",
      "29위 이제 나만 믿어요 = 임영웅\n",
      "30위 DRIP = BABYMONSTER\n",
      "31위 에피소드 = 이무진\n",
      "32위 나는 아픈 건 딱 질색이니까 = (여자)아이들\n",
      "33위 다시 만날 수 있을까 = 임영웅\n",
      "34위 모래 알갱이 = 임영웅\n",
      "35위 청춘만화 = 이무진\n",
      "36위 Mantra = 제니 (JENNIE)\n",
      "37위 Storm = 김보경 (NEON)\n",
      "38위 Home = 임영웅\n",
      "39위 무지개 = 임영웅\n",
      "40위 온기 = 임영웅\n",
      "41위 첫 만남은 계획대로 되지 않아 = TWS (투어스)\n",
      "42위 Love wins all = 아이유 (IU)\n",
      "43위 비의 랩소디 = 임재현\n",
      "44위 Do or Die = 임영웅\n",
      "45위 Polaroid = 임영웅\n",
      "46위 London Boy = 임영웅\n",
      "47위 인생찬가 = 임영웅\n",
      "48위 조조비행 = 개코 & 이수현\n",
      "49위 How Sweet = NewJeans\n",
      "50위 보금자리 = 임영웅\n"
     ]
    }
   ],
   "source": [
    "import requests as req\n",
    "from bs4 import BeautifulSoup as bs\n",
    "url = \"https://www.genie.co.kr/chart/top200\"\n",
    "headers = {'User-Agent':'Mozilla/5.0 (Windows NT 10.0; Win64; x64) AppleWebKit/537.36 (KHTML, like Gecko) Chrome/133.0.0.0 Safari/537.36 Edg/133.0.0.0'}\n",
    "web = req.get(url, headers = headers)\n",
    "soup = bs(web.content, 'html.parser')\n",
    "title = soup.select('.info .title')\n",
    "artist = soup.select('.info .artist')\n",
    "for i, (t, a) in enumerate(zip(title, artist),1):\n",
    "    print(f\"{i}위 {t.text.strip()} = {a.text.strip()}\")"
   ]
  },
  {
   "cell_type": "code",
   "execution_count": 1,
   "id": "5a1c1826-2db2-4f06-92b7-fedc7e8ab7ec",
   "metadata": {},
   "outputs": [
    {
     "name": "stdout",
     "output_type": "stream",
     "text": [
      "1위 REBEL HEART = IVE (아이브)\n",
      "2위 ATTITUDE = IVE (아이브)\n",
      "3위 나는 반딧불 = 황가람\n",
      "4위 Whiplash = aespa\n",
      "5위 HOME SWEET HOME (feat. 태양, 대성) = G-DRAGON\n",
      "6위 Drowning = WOODZ\n",
      "7위 toxic till the end = 로제(ROSÉ)\n",
      "8위 APT. = 로제(ROSÉ)\n",
      "9위 오늘만 I LOVE YOU = BOYNEXTDOOR\n",
      "10위 Die With A Smile = Lady GaGa(레이디 가가)\n",
      "11위 earthquake = 지수(JISOO)\n",
      "12위 Love Hangover (feat. Dominic Fike) = 제니 (JENNIE)\n",
      "13위 HAPPY = DAY6 (데이식스)\n",
      "14위 모르시나요(PROD.로코베리) = 조째즈\n",
      "15위 너와의 모든 지금 = 재쓰비 (JAESSBEE)\n",
      "16위 DRIP = BABYMONSTER\n",
      "17위 Supernova = aespa\n",
      "18위 Mantra = 제니 (JENNIE)\n",
      "19위 조조비행 = 개코\n",
      "20위 POWER = G-DRAGON\n",
      "21위 한 페이지가 될 수 있게 = DAY6 (데이식스)\n",
      "22위 내게 사랑이 뭐냐고 물어본다면 = 로이킴\n",
      "23위 UP (KARINA Solo) = aespa\n",
      "24위 고민중독 = QWER\n",
      "25위 luther = Kendrick Lamar(켄드릭 라마)\n",
      "26위 Welcome to the Show = DAY6 (데이식스)\n",
      "27위 내 이름 맑음 = QWER\n",
      "28위 Supernatural = NewJeans\n",
      "29위 Not Like Us = Kendrick Lamar(켄드릭 라마)\n",
      "30위 소나기 = 이클립스 (ECLIPSE)\n",
      "31위 number one girl = 로제(ROSÉ)\n",
      "32위 The Stranger = 온앤오프(ONF)\n",
      "33위 How Sweet = NewJeans\n",
      "34위 예뻤어 = DAY6 (데이식스)\n",
      "35위 미치게 그리워서 = 황가람\n",
      "36위 첫 만남은 계획대로 되지 않아 = TWS (투어스)\n",
      "37위 Love wins all = 아이유(IU)\n",
      "38위 어떻게 이별까지 사랑하겠어, 널 사랑하는 거지 = AKMU(악뮤)\n",
      "39위 녹아내려요 = DAY6 (데이식스)\n",
      "40위 청춘만화 = 이무진\n",
      "41위 Hug (포옹) = RIIZE\n",
      "42위 Dash = PLAVE\n",
      "43위 Magnetic = 아일릿(ILLIT)\n",
      "44위 나는 아픈 건 딱 질색이니까 = (여자)아이들\n",
      "45위 Igloo = KISS OF LIFE\n",
      "46위 Armageddon = aespa\n",
      "47위 천상연 = 이창섭\n",
      "48위 I AM = IVE (아이브)\n",
      "49위 에피소드 = 이무진\n",
      "50위 Ditto = NewJeans\n",
      "51위 너의 모든 순간 = 성시경\n",
      "52위 Hype Boy = NewJeans\n",
      "53위 우리의 다정한 계절 속에 (Season of Memories) = 여자친구(GFRIEND)\n",
      "54위 행복에게 = 비비(BIBI)\n",
      "55위 Bubble Gum = NewJeans\n",
      "56위 Congratulations = DAY6 (데이식스)\n",
      "57위 Love me or Leave me = DAY6 (데이식스)\n",
      "58위 청바지 = 부석순(SEVENTEEN)\n",
      "59위 Letter To Myself = 태연 (TAEYEON)\n",
      "60위 Small girl (feat. 도경수(D.O.)) = 이영지\n",
      "61위 해야 (HEYA) = IVE (아이브)\n",
      "62위 그대만 있다면 (여름날 우리 X 너드커넥션 (Nerd Connection)) = 너드커넥션(Nerd Connection)\n",
      "63위 내가 널 지켜줄게 = 폴킴(Paul Kim)\n",
      "64위 주저하는 연인들을 위해 = 잔나비\n",
      "65위 사건의 지평선 = 윤하(Younha/ユンナ)\n",
      "66위 After LIKE = IVE (아이브)\n",
      "67위 LOVE DIVE = IVE (아이브)\n",
      "68위 Cruel Summer = Taylor Swift(테일러 스위프트)\n",
      "69위 Your Love = 지수(JISOO)\n",
      "70위 Girls Never Die = tripleS (트리플에스)\n",
      "71위 밤양갱 = 비비(BIBI)\n",
      "72위 모든 날, 모든 순간 (Every day, Every Moment) = 폴킴(Paul Kim)\n",
      "73위 슬픈 초대장 = 순순희 (지환)\n",
      "74위 ETA = NewJeans\n",
      "75위 Cherish (My Love) = 아일릿(ILLIT)\n",
      "76위 Supersonic = 프로미스나인\n",
      "77위 무제(無題) (Untitled, 2014) = G-DRAGON\n",
      "78위 To. X = 태연 (TAEYEON)\n",
      "79위 비의 랩소디 = 임재현\n",
      "80위 청혼하지 않을 이유를 못 찾았어 = 이무진\n",
      "81위 Storm = 김보경 (NEON)\n",
      "82위 Drama = aespa\n",
      "83위 Attention = NewJeans\n",
      "84위 Sticky = KISS OF LIFE\n",
      "85위 Boom Boom Bass = RIIZE\n",
      "86위 Super Shy = NewJeans\n",
      "87위 미안해 미워해 사랑해 = Crush\n",
      "88위 인사 = 범진\n",
      "89위 네모네모 = YENA (최예나)\n",
      "90위 SPOT! (feat. JENNIE) = 지코 (ZICO)\n",
      "91위 클락션 (Klaxon) = (여자)아이들\n",
      "92위 내가 S면 넌 나의 N이 되어줘 = TWS (투어스)\n",
      "93위 헤어지자 말해요 = 박재정\n",
      "94위 MEOW = MEOVV (미야오)\n",
      "95위 숲 = 최유리\n",
      "96위 Spicy = aespa\n",
      "97위 살기 위해서 = 순순희\n",
      "98위 사랑인가 봐 = 멜로망스(MeloMance)\n",
      "99위 Live My Life = aespa\n",
      "100위 Dangerously = Charlie Puth(찰리 푸스)\n"
     ]
    }
   ],
   "source": [
    "import requests as req\n",
    "from bs4 import BeautifulSoup as bs\n",
    "url = \"https://music.bugs.co.kr/chart?wl_ref=M_left_02_01\"\n",
    "headers = {'User-Agent': 'Mozilla/5.0 (Windows NT 10.0; Win64; x64) AppleWebKit/537.36 (KHTML, like Gecko) Chrome/133.0.0.0 Safari/537.36 Edg/133.0.0.0'}\n",
    "web = req.get(url, headers = headers)\n",
    "soup = bs(web.content, 'html.parser')\n",
    "titles = soup.select('p.title')\n",
    "artists = soup.select('p.artist')\n",
    "for i in range(len(titles)):\n",
    "    title = titles[i].text.strip().split('\\n')[0]\n",
    "    artist = artists[i].text.strip().split('\\n')[0]\n",
    "    print('{}위 {} = {}'.format(i+1, title, artist))"
   ]
  },
  {
   "cell_type": "code",
   "execution_count": null,
   "id": "66fa7778-8745-46de-a558-f48bcb8fc4d8",
   "metadata": {
    "scrolled": true
   },
   "outputs": [],
   "source": []
  },
  {
   "cell_type": "code",
   "execution_count": null,
   "id": "8e0b550a-14d4-4105-95bd-00e1045dbae3",
   "metadata": {},
   "outputs": [],
   "source": []
  }
 ],
 "metadata": {
  "kernelspec": {
   "display_name": "Python 3 (ipykernel)",
   "language": "python",
   "name": "python3"
  },
  "language_info": {
   "codemirror_mode": {
    "name": "ipython",
    "version": 3
   },
   "file_extension": ".py",
   "mimetype": "text/x-python",
   "name": "python",
   "nbconvert_exporter": "python",
   "pygments_lexer": "ipython3",
   "version": "3.13.1"
  }
 },
 "nbformat": 4,
 "nbformat_minor": 5
}
