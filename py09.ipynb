{
 "cells": [
  {
   "cell_type": "code",
   "execution_count": 3,
   "id": "465faeae-92c9-4f40-8f3f-031b101e8dad",
   "metadata": {},
   "outputs": [],
   "source": [
    "!pip install -q -U google-genai"
   ]
  },
  {
   "cell_type": "code",
   "execution_count": 6,
   "id": "e5e12d7d-7abf-4c84-baab-21a1dcb1369c",
   "metadata": {
    "id": "jEfkS6eZJqjF"
   },
   "outputs": [
    {
     "name": "stdout",
     "output_type": "stream",
     "text": [
      "Pandas는 Python에서 데이터를 효율적으로 다루고 분석하기 위한 핵심 라이브러리입니다. 표 형태의 데이터를 다루는 데 특화되어 있으며, 엑셀 스프레드시트나 SQL 테이블과 유사한 데이터 구조를 제공합니다.\n",
      "\n",
      "**핵심 기능:**\n",
      "\n",
      "*   **DataFrame:** 행과 열로 구성된 2차원 테이블 형태의 데이터 구조입니다. 다양한 데이터 타입(숫자, 문자열, 날짜 등)을 담을 수 있으며, 데이터 정렬, 필터링, 그룹화, 합병 등 강력한 기능을 제공합니다.\n",
      "*   **Series:** 1차원 배열 형태의 데이터 구조로, DataFrame의 열을 구성합니다.\n",
      "*   **데이터 입출력:** CSV, Excel, SQL 데이터베이스 등 다양한 형식의 데이터를 읽고 쓸 수 있습니다.\n",
      "*   **결측치 처리:** 누락된 데이터를 쉽게 처리하고 관리할 수 있습니다.\n",
      "*   **데이터 분석:** 통계 분석, 데이터 시각화 등 다양한 분석 기능을 제공합니다.\n",
      "\n",
      "**Pandas를 사용하는 이유:**\n",
      "\n",
      "*   **쉬운 사용법:** 직관적인 API를 제공하여 데이터 분석 작업을 간편하게 수행할 수 있습니다.\n",
      "*   **높은 성능:** 대용량 데이터도 효율적으로 처리할 수 있도록 최적화되어 있습니다.\n",
      "*   **다양한 기능:** 데이터 전처리, 분석, 시각화 등 다양한 기능을 통합적으로 제공합니다.\n",
      "*   **활발한 커뮤니티:** 방대한 사용자 커뮤니티와 풍부한 온라인 자료를 통해 문제 해결에 도움을 받을 수 있습니다.\n"
     ]
    },
    {
     "data": {
      "text/plain": [
       "'Pandas는 Python에서 데이터를 효율적으로 다루고 분석하기 위한 핵심 라이브러리입니다. 표 형태의 데이터를 다루는 데 특화되어 있으며, 엑셀 스프레드시트나 SQL 테이블과 유사한 데이터 구조를 제공합니다.\\n\\n**핵심 기능:**\\n\\n*   **DataFrame:** 행과 열로 구성된 2차원 테이블 형태의 데이터 구조입니다. 다양한 데이터 타입(숫자, 문자열, 날짜 등)을 담을 수 있으며, 데이터 정렬, 필터링, 그룹화, 합병 등 강력한 기능을 제공합니다.\\n*   **Series:** 1차원 배열 형태의 데이터 구조로, DataFrame의 열을 구성합니다.\\n*   **데이터 입출력:** CSV, Excel, SQL 데이터베이스 등 다양한 형식의 데이터를 읽고 쓸 수 있습니다.\\n*   **결측치 처리:** 누락된 데이터를 쉽게 처리하고 관리할 수 있습니다.\\n*   **데이터 분석:** 통계 분석, 데이터 시각화 등 다양한 분석 기능을 제공합니다.\\n\\n**Pandas를 사용하는 이유:**\\n\\n*   **쉬운 사용법:** 직관적인 API를 제공하여 데이터 분석 작업을 간편하게 수행할 수 있습니다.\\n*   **높은 성능:** 대용량 데이터도 효율적으로 처리할 수 있도록 최적화되어 있습니다.\\n*   **다양한 기능:** 데이터 전처리, 분석, 시각화 등 다양한 기능을 통합적으로 제공합니다.\\n*   **활발한 커뮤니티:** 방대한 사용자 커뮤니티와 풍부한 온라인 자료를 통해 문제 해결에 도움을 받을 수 있습니다.'"
      ]
     },
     "execution_count": 6,
     "metadata": {},
     "output_type": "execute_result"
    }
   ],
   "source": [
    "# 구글 제미나이 AI\n",
    "from google import genai\n",
    "def aiai(text):\n",
    "    client = genai.Client(api_key=\"AIzaSyB0B8921314oRaufhBjoi_ewE-PlIzDEttu_sjA\")\n",
    "    response = client.models.generate_content(model=\"gemini-2.0-flash\",contents=text + \";단, 400자 이내 그리고 서술형으로 친절하게 알려줘.\" )\n",
    "    answer = response.text\n",
    "    print(answer)\n",
    "    return answer\n",
    "aiai(\"pandas에 대해서 궁금해\")"
   ]
  },
  {
   "cell_type": "code",
   "execution_count": null,
   "id": "03d66e0d-87c7-4b35-a1c1-51202a70507a",
   "metadata": {},
   "outputs": [],
   "source": []
  }
 ],
 "metadata": {
  "kernelspec": {
   "display_name": "Python 3 (ipykernel)",
   "language": "python",
   "name": "python3"
  },
  "language_info": {
   "codemirror_mode": {
    "name": "ipython",
    "version": 3
   },
   "file_extension": ".py",
   "mimetype": "text/x-python",
   "name": "python",
   "nbconvert_exporter": "python",
   "pygments_lexer": "ipython3",
   "version": "3.13.1"
  }
 },
 "nbformat": 4,
 "nbformat_minor": 5
}
