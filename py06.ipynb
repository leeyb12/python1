{
 "cells": [
  {
   "cell_type": "markdown",
   "id": "b5f954a4-0257-422c-9d5d-1118b8b2349d",
   "metadata": {},
   "source": [
    "# 모듈"
   ]
  },
  {
   "cell_type": "markdown",
   "id": "b7224d27-35a6-46ff-9073-c3247903c9c5",
   "metadata": {},
   "source": [
    "## 모듈 만들기"
   ]
  },
  {
   "cell_type": "code",
   "execution_count": 1,
   "id": "76c074b1-e443-4e29-b4e5-4a7d42845d0d",
   "metadata": {},
   "outputs": [],
   "source": [
    "# 모듈 만들기 - mod1.py\n",
    "# def add(a, b): \n",
    "#     return a + b\n",
    "# def sub(a, b):\n",
    "#     return a - b"
   ]
  },
  {
   "cell_type": "code",
   "execution_count": 2,
   "id": "4a8f1161-9aa2-4856-80da-102fbac64604",
   "metadata": {},
   "outputs": [
    {
     "name": "stdout",
     "output_type": "stream",
     "text": [
      "5\n",
      "2\n",
      "mod1\n",
      "전 모듈로 임포트 되었어요.\n",
      "5\n",
      "2\n",
      "5\n",
      "2\n",
      "5\n",
      "2\n",
      "5\n",
      "2\n",
      "5\n",
      "2\n",
      "5\n",
      "2\n",
      "5\n",
      "2\n",
      "5\n",
      "2\n",
      "5\n",
      "2\n",
      "5\n",
      "2\n",
      "33\n",
      "11\n"
     ]
    }
   ],
   "source": [
    "import mod1\n",
    "print(mod1.add(11,22))\n",
    "print(mod1.sub(33,22))"
   ]
  },
  {
   "cell_type": "code",
   "execution_count": 3,
   "id": "dd0a9ae8-c673-4889-9162-5ec63342b959",
   "metadata": {},
   "outputs": [],
   "source": [
    "with open(\"mod2.py\",\"w\") as f:\n",
    "    data=\"\"\"def mul(a,b):\n",
    "        return a*b\n",
    "def div(a,b):\n",
    "    return a/b\"\"\"\n",
    "    f.write(data)"
   ]
  },
  {
   "cell_type": "code",
   "execution_count": 4,
   "id": "52134b56-279e-428a-832a-088345ce6146",
   "metadata": {},
   "outputs": [
    {
     "name": "stdout",
     "output_type": "stream",
     "text": [
      "12\n",
      "2.0\n"
     ]
    }
   ],
   "source": [
    "import mod2\n",
    "print(mod2.mul(3,4))\n",
    "print(mod2.div(8,4))"
   ]
  },
  {
   "cell_type": "code",
   "execution_count": 5,
   "id": "921c6b60-7850-4c77-b280-11ab8ad305bf",
   "metadata": {},
   "outputs": [
    {
     "name": "stdout",
     "output_type": "stream",
     "text": [
      "33\n",
      "11\n",
      "12\n",
      "2.0\n"
     ]
    }
   ],
   "source": [
    "# import mod1 as m1\n",
    "# import mod2 as m2\n",
    "import mod1 as m1, mod2 as m2\n",
    "print(m1.add(11,22))\n",
    "print(m1.sub(33,22))\n",
    "print(m2.mul(3,4))\n",
    "print(m2.div(8,4))"
   ]
  },
  {
   "cell_type": "code",
   "execution_count": 6,
   "id": "f6001584-5f6a-4773-b04a-672fdf085a35",
   "metadata": {},
   "outputs": [
    {
     "name": "stdout",
     "output_type": "stream",
     "text": [
      "77\n"
     ]
    }
   ],
   "source": [
    "from mod1 import add , sub\n",
    "print(add(33,44))"
   ]
  },
  {
   "cell_type": "code",
   "execution_count": 7,
   "id": "7cae188f-30b1-45ff-b8d9-1886d40d6c9d",
   "metadata": {},
   "outputs": [
    {
     "name": "stdout",
     "output_type": "stream",
     "text": [
      "20\n"
     ]
    }
   ],
   "source": [
    "from mod2 import * \n",
    "print(mul(4,5))"
   ]
  },
  {
   "cell_type": "markdown",
   "id": "e12b8eb4-5f6d-400b-9bed-39c3dedbb6db",
   "metadata": {},
   "source": [
    "## `__main__` 의 의미"
   ]
  },
  {
   "cell_type": "code",
   "execution_count": 8,
   "id": "5554bd7b-d877-48bf-a743-02a2c60f14bb",
   "metadata": {},
   "outputs": [],
   "source": [
    "with open(\"mod1.py\",\"a\") as f:\n",
    "     text = \"\"\"\\nprint(add(1,4))\\nprint(sub(4,2))\"\"\"\n",
    "     f.write(text)"
   ]
  },
  {
   "cell_type": "code",
   "execution_count": 9,
   "id": "c7f13f3d-3c10-4028-a6c0-82f281abe55a",
   "metadata": {},
   "outputs": [
    {
     "name": "stdout",
     "output_type": "stream",
     "text": [
      "Microsoft Windows [Version 10.0.26100.3037]\n",
      "(c) Microsoft Corporation. All rights reserved.\n",
      "\n",
      "D:\\lyb\\code>python mod1.py\n",
      "5\n",
      "2\n",
      "__main__\n",
      "�� ���Ϸ� ������ �Ǿ����.\n",
      "5\n",
      "2\n",
      "5\n",
      "2\n",
      "5\n",
      "2\n",
      "5\n",
      "2\n",
      "5\n",
      "2\n",
      "5\n",
      "2\n",
      "5\n",
      "2\n",
      "5\n",
      "2\n",
      "5\n",
      "2\n",
      "5\n",
      "2\n",
      "5\n",
      "2\n",
      "\n",
      "D:\\lyb\\code>"
     ]
    }
   ],
   "source": [
    "%%cmd\n",
    "python mod1.py"
   ]
  },
  {
   "cell_type": "markdown",
   "id": "8fdaf2aa-afd9-4ac3-baf8-d39c73261fcb",
   "metadata": {},
   "source": [
    "매직커멘드\n",
    "- %%bash : 리눅스\n",
    "- %%cmd : 윈도우"
   ]
  },
  {
   "cell_type": "code",
   "execution_count": 10,
   "id": "6fd08917-78a2-46cf-9deb-06e9c05cc222",
   "metadata": {},
   "outputs": [
    {
     "data": {
      "text/plain": [
       "['__builtins__',\n",
       " '__cached__',\n",
       " '__doc__',\n",
       " '__file__',\n",
       " '__loader__',\n",
       " '__name__',\n",
       " '__package__',\n",
       " '__spec__',\n",
       " 'add',\n",
       " 'sub']"
      ]
     },
     "execution_count": 10,
     "metadata": {},
     "output_type": "execute_result"
    }
   ],
   "source": [
    "import mod1\n",
    "dir(mod1)"
   ]
  },
  {
   "cell_type": "code",
   "execution_count": 11,
   "id": "f47611b7-5bb5-458d-9b07-f01ad03eebfb",
   "metadata": {},
   "outputs": [
    {
     "data": {
      "text/plain": [
       "'삼성물산:121,600원'"
      ]
     },
     "execution_count": 11,
     "metadata": {},
     "output_type": "execute_result"
    }
   ],
   "source": [
    "import sam\n",
    "sam.sam('삼성물산')"
   ]
  },
  {
   "cell_type": "markdown",
   "id": "c4a67f0d-036c-4b42-837b-47ecc2f8b7ad",
   "metadata": {},
   "source": [
    "## 클래스나 변수 등을 포함한 모듈"
   ]
  },
  {
   "cell_type": "code",
   "execution_count": 12,
   "id": "e981397f-1376-4db6-9d00-6dd6c37757b2",
   "metadata": {},
   "outputs": [],
   "source": [
    "with open(\"mod3.py\",\"w\") as f:\n",
    "    text = \"\"\"PI = 3.141592\\n\\nclass Math:\\n\\tdef solv(self,r):\\n\\t\\treturn PI * (r**2)\\n\\ndef add(a,b):\\n\\treturn a+b\"\"\"\n",
    "    f.write(text)"
   ]
  },
  {
   "cell_type": "code",
   "execution_count": 13,
   "id": "1fa0ea16-7d15-4200-9858-7b6e1f01015e",
   "metadata": {},
   "outputs": [
    {
     "name": "stdout",
     "output_type": "stream",
     "text": [
      "Microsoft Windows [Version 10.0.26100.3037]\n",
      "(c) Microsoft Corporation. All rights reserved.\n",
      "\n",
      "D:\\lyb\\code>set PYTHONPATH=D:\\lyb\\code\n",
      "\n",
      "D:\\lyb\\code>"
     ]
    }
   ],
   "source": [
    "%%cmd\n",
    "set PYTHONPATH=D:\\lyb\\code"
   ]
  },
  {
   "cell_type": "markdown",
   "id": "0a0fb3f8-5559-491a-8b40-859acc9f550d",
   "metadata": {},
   "source": [
    "- CMD 에서 set PYTHONPATH= D:\\lyb\\code\\mymod\n",
    "- PS 에서 $env:PYTHONPATH= D:\\lyb\\code\\mymod"
   ]
  },
  {
   "cell_type": "code",
   "execution_count": 14,
   "id": "5bc2f814-9edd-4c19-aea8-6445d0c12c24",
   "metadata": {},
   "outputs": [
    {
     "name": "stdout",
     "output_type": "stream",
     "text": [
      "3.141592\n",
      "314.1592\n",
      "7.5415920000000005\n"
     ]
    }
   ],
   "source": [
    "import mod3\n",
    "# 변수\n",
    "print(mod3.PI)\n",
    "# 클래스\n",
    "a = mod3.Math()\n",
    "print(a.solv(10))\n",
    "# 함수\n",
    "print(mod3.add(mod3.PI, 4.4))"
   ]
  },
  {
   "cell_type": "markdown",
   "id": "15647085-aa49-428d-abf3-a7e52d0e65b0",
   "metadata": {},
   "source": [
    "## 다른 디렉터리에 있는 모듈 불러오는 방법"
   ]
  },
  {
   "cell_type": "code",
   "execution_count": 15,
   "id": "62933346-1175-46b5-8b60-1a846758c0f4",
   "metadata": {},
   "outputs": [
    {
     "data": {
      "text/plain": [
       "['C:\\\\Users\\\\Admin\\\\AppData\\\\Local\\\\Programs\\\\Python\\\\Python313\\\\python313.zip',\n",
       " 'C:\\\\Users\\\\Admin\\\\AppData\\\\Local\\\\Programs\\\\Python\\\\Python313\\\\DLLs',\n",
       " 'C:\\\\Users\\\\Admin\\\\AppData\\\\Local\\\\Programs\\\\Python\\\\Python313\\\\Lib',\n",
       " 'C:\\\\Users\\\\Admin\\\\AppData\\\\Local\\\\Programs\\\\Python\\\\Python313',\n",
       " '',\n",
       " 'C:\\\\Users\\\\Admin\\\\AppData\\\\Local\\\\Programs\\\\Python\\\\Python313\\\\Lib\\\\site-packages',\n",
       " 'C:\\\\Users\\\\Admin\\\\AppData\\\\Local\\\\Programs\\\\Python\\\\Python313\\\\Lib\\\\site-packages\\\\win32',\n",
       " 'C:\\\\Users\\\\Admin\\\\AppData\\\\Local\\\\Programs\\\\Python\\\\Python313\\\\Lib\\\\site-packages\\\\win32\\\\lib',\n",
       " 'C:\\\\Users\\\\Admin\\\\AppData\\\\Local\\\\Programs\\\\Python\\\\Python313\\\\Lib\\\\site-packages\\\\Pythonwin']"
      ]
     },
     "execution_count": 15,
     "metadata": {},
     "output_type": "execute_result"
    }
   ],
   "source": [
    "import sys\n",
    "sys.path"
   ]
  },
  {
   "cell_type": "code",
   "execution_count": 16,
   "id": "493afea4-1106-40dd-a514-1288055f4adf",
   "metadata": {},
   "outputs": [
    {
     "data": {
      "text/plain": [
       "['C:\\\\Users\\\\Admin\\\\AppData\\\\Local\\\\Programs\\\\Python\\\\Python313\\\\python313.zip',\n",
       " 'C:\\\\Users\\\\Admin\\\\AppData\\\\Local\\\\Programs\\\\Python\\\\Python313\\\\DLLs',\n",
       " 'C:\\\\Users\\\\Admin\\\\AppData\\\\Local\\\\Programs\\\\Python\\\\Python313\\\\Lib',\n",
       " 'C:\\\\Users\\\\Admin\\\\AppData\\\\Local\\\\Programs\\\\Python\\\\Python313',\n",
       " '',\n",
       " 'C:\\\\Users\\\\Admin\\\\AppData\\\\Local\\\\Programs\\\\Python\\\\Python313\\\\Lib\\\\site-packages',\n",
       " 'C:\\\\Users\\\\Admin\\\\AppData\\\\Local\\\\Programs\\\\Python\\\\Python313\\\\Lib\\\\site-packages\\\\win32',\n",
       " 'C:\\\\Users\\\\Admin\\\\AppData\\\\Local\\\\Programs\\\\Python\\\\Python313\\\\Lib\\\\site-packages\\\\win32\\\\lib',\n",
       " 'C:\\\\Users\\\\Admin\\\\AppData\\\\Local\\\\Programs\\\\Python\\\\Python313\\\\Lib\\\\site-packages\\\\Pythonwin',\n",
       " 'D:\\\\lyb\\\\code\\\\mymod>']"
      ]
     },
     "execution_count": 16,
     "metadata": {},
     "output_type": "execute_result"
    }
   ],
   "source": [
    "sys.path.append('D:\\\\lyb\\\\code\\\\mymod>') # 초기화하면 사라짐\n",
    "sys.path"
   ]
  },
  {
   "cell_type": "code",
   "execution_count": 17,
   "id": "35144f27-a36a-477d-8d56-4330213bd080",
   "metadata": {},
   "outputs": [],
   "source": [
    "# !python.exe -m pip install --upgrade pip\n",
    "# ! pip install python-dotenv"
   ]
  },
  {
   "cell_type": "code",
   "execution_count": 18,
   "id": "ce8778bb-29d3-4768-a22c-0c17afe92633",
   "metadata": {},
   "outputs": [
    {
     "name": "stdout",
     "output_type": "stream",
     "text": [
      "myphone 010-7777-7777zz\n",
      "https://www.google.com\n",
      "이게 될까?? 모르겠어요.!\n"
     ]
    }
   ],
   "source": [
    "from dotenv import load_dotenv\n",
    "import os \n",
    "\n",
    "# .env 파일 로드\n",
    "load_dotenv()\n",
    "\n",
    "SKEY = os.getenv(\"SECRET_KEY\")\n",
    "print(SKEY)\n",
    "DBUG = os.getenv(\"DEBUG\")\n",
    "print(DBUG)\n",
    "TEST = os.getenv(\"TEST\")\n",
    "print(TEST)"
   ]
  },
  {
   "cell_type": "code",
   "execution_count": 19,
   "id": "8349827c-479f-4fd7-809a-8afc10f6cee1",
   "metadata": {},
   "outputs": [
    {
     "name": "stdout",
     "output_type": "stream",
     "text": [
      "[속보]박지원, 홍장원 인사청탁 부정 “청탁자는 주영대사 역임 前 간부...\n",
      "박지원 더불어민주당 의원이 13일 “홍장원 전 국가정보원 1차장은 정보위 회의에서 첫 대면했다”라면서 홍 전 차장이 자신에게 인사 청탁을 했다는 의혹을 전면 부인했다. 박 의원은 이날 자신의 페이스북에 글을 올려... \n",
      "https://www.munhwa.com/news/view.html?no=2025021301039910289018\n",
      "[속보] KT, 올해 2500억 규모 자사주 소각\n",
      "KT는 올해 약 2500억원 규모의 자사주를 소각한다고 13일 밝혔다. 소각할 주식은 보통주 553만7099주다. KT는 지난해 11월 발표한 기업가치 제고 계획(밸류업 프로그램)을 발표하며 연결 자기자본이익률(ROE) 목표를 9... \n",
      "https://www.newsis.com/view/NISX20250213_0003064022\n",
      "[속보] 국힘 윤리위, 尹 제명·탈당 권유 등 징계 않기로 결정\n",
      "국민의힘 중앙윤리위원회가 한동훈 전 대표의 요구로 시작된 윤석열 대통령 징계 절차 종결을 선언하고 제명·탈당 권유 등 징계 조치를 하지 않기로 결론을 내렸다. 13일 여의도 당사에서 윤리위 회의를 마친 여상원 당... \n",
      "https://www.busan.com/view/busan/view.php?code=2025021315294691312\n",
      "[속보] '이재명 습격' 60대 남성 징역 15년 확정\n",
      "지난해 1월 이재명 더불어민주당 대표를 흉기로 살해하려고 시도한 60대 남성에게 징역 15년이 확정됐다. 13일 대법원 2부(오경미 대법관)는 살인미수와 공직선거법 위반 혐의로 기소된 김모(68)씨에게 징역 15년을... \n",
      "https://www.hankyung.com/article/2025021327947\n",
      "[속보] 국힘 윤리위, 尹 제명·탈당 등 징계 않기로\n",
      "국민의힘 중앙윤리위원회가 한동훈 전 대표의 요구로 시작된 윤석열 대통령 징계 절차 종결을 선언하고 제명·탈당 권유 등 징계 조치를 하지 않기로 했다. 여상원 당 윤리위원장은 13일 여의도 당사에서 윤리위 회의를... \n",
      "https://www.dt.co.kr/contents.html?article_no=2025021302109919607014&ref=naver\n",
      "[속보] ‘이재명 습격’ 60대 남성 징역 15년 확정\n",
      "이재명 더불어민주당 대표를 흉기로 살해하려고 시도했던 60대 남성에게 징역 15년이 확정됐다. 13일 법조계에 따르면 대법원 2부(주심 오경미 대법관)는 이날 살인미수와 공직선거법 위반 혐의로 기소된 김모(68) 씨에게... \n",
      "https://www.mk.co.kr/article/11239884\n",
      "[속보] 국힘 윤리위, '한동훈 요구' 尹 징계 절차 종결…징계 않기로\n",
      "국민의힘 중앙윤리위원회가 한동훈 전 대표의 요구로 시작된 윤석열 대통령 징계 절차 종결을 선언했다. 여상원 당 윤리위원장은 13일 여의도 당사에서 윤리위 회의를 마친 뒤 기자들과 만나 제명·탈당 권유 등 징계... \n",
      "http://www.kado.net/news/articleView.html?idxno=1293312\n",
      "[속보] ‘50억 클럽’ 의혹 박영수, 1심서 징역 7년 법정구속\n",
      "이른바 ‘50억 클럽’ 의혹으로 재판에 넘겨진 박영수 전 특별검사에게 법원이 1심에서 징역 7년을 선고했다. 서울중앙지법 형사합의33부(재판장 김동현)는 13일 열린 선고기일에서 박 전 특검에게 징역 7년에 벌금 5억... \n",
      "https://www.hani.co.kr/arti/society/society_general/1182215.html\n",
      "[속보] '2008년생' 김건희, 하얼빈AG 스노보드 男 하프파이프 금메달\n",
      "\n",
      "https://www.news1.kr/sports/general-sport/5688870\n",
      "[속보]김건희, 스노보드 남자 하프파이프 금메달[하얼빈AG]\n",
      "후속기사가 이어집니다\n",
      "https://www.newsis.com/view/NISX20250213_0003064112\n"
     ]
    }
   ],
   "source": [
    "# 네이버 검색 API 예제 - 블로그 검색\n",
    "import os\n",
    "import sys\n",
    "import urllib.request\n",
    "from dotenv import load_dotenv\n",
    "import json\n",
    "\n",
    "load_dotenv()\n",
    "client_id = os.environ.get(\"MY_ID\")\n",
    "client_secret = os.environ.get(\"MY_SECRET\")\n",
    "\n",
    "encText = urllib.parse.quote(\"속보\")\n",
    "url = \"https://openapi.naver.com/v1/search/news.json?query=\" + encText +'&display=10&start=2&sort=sim' # JSON 결과\n",
    "# url = \"https://openapi.naver.com/v1/search/blog.xml?query=\" + encText # XML 결과\n",
    "request = urllib.request.Request(url)\n",
    "request.add_header(\"X-Naver-Client-Id\",client_id)\n",
    "request.add_header(\"X-Naver-Client-Secret\",client_secret)\n",
    "response = urllib.request.urlopen(request)\n",
    "rescode = response.getcode()\n",
    "if(rescode==200):\n",
    "    response_body = response.read()\n",
    "    result = response_body.decode('utf-8')\n",
    "    data = json.loads(result)\n",
    "    ldata = data['items']\n",
    "    for n in ldata:\n",
    "        print(n['title'].replace('<b>','').replace('</b>',''))\n",
    "        print(n['description'])\n",
    "        print(n['originallink'])\n",
    "    \n",
    "else:\n",
    "    print(\"Error Code:\" + rescode)"
   ]
  },
  {
   "cell_type": "code",
   "execution_count": 20,
   "id": "11aa02ef-b2c5-4045-8a7f-29b8589d6d0e",
   "metadata": {},
   "outputs": [
    {
     "name": "stdout",
     "output_type": "stream",
     "text": [
      "[{'title': '[<b>속보</b>]박지원, 홍장원 인사청탁 부정 “청탁자는 주영대사 역임 前 간부...', 'originallink': 'https://www.munhwa.com/news/view.html?no=2025021301039910289018', 'link': 'https://n.news.naver.com/mnews/article/021/0002689986?sid=100', 'description': '박지원 더불어민주당 의원이 13일 “홍장원 전 국가정보원 1차장은 정보위 회의에서 첫 대면했다”라면서 홍 전 차장이 자신에게 인사 청탁을 했다는 의혹을 전면 부인했다. 박 의원은 이날 자신의 페이스북에 글을 올려... ', 'pubDate': 'Thu, 13 Feb 2025 15:55:00 +0900'}, {'title': '[<b>속보</b>] KT, 올해 2500억 규모 자사주 소각', 'originallink': 'https://www.newsis.com/view/NISX20250213_0003064022', 'link': 'https://n.news.naver.com/mnews/article/003/0013065187?sid=105', 'description': 'KT는 올해 약 2500억원 규모의 자사주를 소각한다고 13일 밝혔다. 소각할 주식은 보통주 553만7099주다. KT는 지난해 11월 발표한 기업가치 제고 계획(밸류업 프로그램)을 발표하며 연결 자기자본이익률(ROE) 목표를 9... ', 'pubDate': 'Thu, 13 Feb 2025 13:50:00 +0900'}, {'title': '[<b>속보</b>] 국힘 윤리위, 尹 제명·탈당 권유 등 징계 않기로 결정', 'originallink': 'https://www.busan.com/view/busan/view.php?code=2025021315294691312', 'link': 'https://n.news.naver.com/mnews/article/082/0001311655?sid=100', 'description': '국민의힘 중앙윤리위원회가 한동훈 전 대표의 요구로 시작된 윤석열 대통령 징계 절차 종결을 선언하고 제명·탈당 권유 등 징계 조치를 하지 않기로 결론을 내렸다. 13일 여의도 당사에서 윤리위 회의를 마친 여상원 당... ', 'pubDate': 'Thu, 13 Feb 2025 15:40:00 +0900'}, {'title': \"[<b>속보</b>] '이재명 습격' 60대 남성 징역 15년 확정\", 'originallink': 'https://www.hankyung.com/article/2025021327947', 'link': 'https://n.news.naver.com/mnews/article/015/0005093692?sid=102', 'description': '지난해 1월 이재명 더불어민주당 대표를 흉기로 살해하려고 시도한 60대 남성에게 징역 15년이 확정됐다. 13일 대법원 2부(오경미 대법관)는 살인미수와 공직선거법 위반 혐의로 기소된 김모(68)씨에게 징역 15년을... ', 'pubDate': 'Thu, 13 Feb 2025 10:26:00 +0900'}, {'title': '[<b>속보</b>] 국힘 윤리위, 尹 제명·탈당 등 징계 않기로', 'originallink': 'https://www.dt.co.kr/contents.html?article_no=2025021302109919607014&ref=naver', 'link': 'https://n.news.naver.com/mnews/article/029/0002935279?sid=100', 'description': '국민의힘 중앙윤리위원회가 한동훈 전 대표의 요구로 시작된 윤석열 대통령 징계 절차 종결을 선언하고 제명·탈당 권유 등 징계 조치를 하지 않기로 했다. 여상원 당 윤리위원장은 13일 여의도 당사에서 윤리위 회의를... ', 'pubDate': 'Thu, 13 Feb 2025 16:07:00 +0900'}, {'title': '[<b>속보</b>] ‘이재명 습격’ 60대 남성 징역 15년 확정', 'originallink': 'https://www.mk.co.kr/article/11239884', 'link': 'https://n.news.naver.com/mnews/article/009/0005443086?sid=100', 'description': '이재명 더불어민주당 대표를 흉기로 살해하려고 시도했던 60대 남성에게 징역 15년이 확정됐다. 13일 법조계에 따르면 대법원 2부(주심 오경미 대법관)는 이날 살인미수와 공직선거법 위반 혐의로 기소된 김모(68) 씨에게... ', 'pubDate': 'Thu, 13 Feb 2025 10:27:00 +0900'}, {'title': \"[<b>속보</b>] 국힘 윤리위, '한동훈 요구' 尹 징계 절차 종결…징계 않기로\", 'originallink': 'http://www.kado.net/news/articleView.html?idxno=1293312', 'link': 'https://n.news.naver.com/mnews/article/654/0000105902?sid=100', 'description': '국민의힘 중앙윤리위원회가 한동훈 전 대표의 요구로 시작된 윤석열 대통령 징계 절차 종결을 선언했다. 여상원 당 윤리위원장은 13일 여의도 당사에서 윤리위 회의를 마친 뒤 기자들과 만나 제명·탈당 권유 등 징계... ', 'pubDate': 'Thu, 13 Feb 2025 15:50:00 +0900'}, {'title': '[<b>속보</b>] ‘50억 클럽’ 의혹 박영수, 1심서 징역 7년 법정구속', 'originallink': 'https://www.hani.co.kr/arti/society/society_general/1182215.html', 'link': 'https://n.news.naver.com/mnews/article/028/0002730898?sid=102', 'description': '이른바 ‘50억 클럽’ 의혹으로 재판에 넘겨진 박영수 전 특별검사에게 법원이 1심에서 징역 7년을 선고했다. 서울중앙지법 형사합의33부(재판장 김동현)는 13일 열린 선고기일에서 박 전 특검에게 징역 7년에 벌금 5억... ', 'pubDate': 'Thu, 13 Feb 2025 11:10:00 +0900'}, {'title': \"[<b>속보</b>] '2008년생' 김건희, 하얼빈AG 스노보드 男 하프파이프 금메달\", 'originallink': 'https://www.news1.kr/sports/general-sport/5688870', 'link': 'https://n.news.naver.com/mnews/article/421/0008074418?sid=104', 'description': '', 'pubDate': 'Thu, 13 Feb 2025 13:44:00 +0900'}, {'title': '[<b>속보</b>]김건희, 스노보드 남자 하프파이프 금메달[하얼빈AG]', 'originallink': 'https://www.newsis.com/view/NISX20250213_0003064112', 'link': 'https://n.news.naver.com/mnews/article/003/0013065159?sid=104', 'description': '후속기사가 이어집니다', 'pubDate': 'Thu, 13 Feb 2025 13:42:00 +0900'}]\n"
     ]
    }
   ],
   "source": [
    "print(ldata)"
   ]
  },
  {
   "cell_type": "code",
   "execution_count": null,
   "id": "240a49a2-8b19-4681-aaf1-db84d7c75a74",
   "metadata": {},
   "outputs": [],
   "source": []
  }
 ],
 "metadata": {
  "kernelspec": {
   "display_name": "Python 3 (ipykernel)",
   "language": "python",
   "name": "python3"
  },
  "language_info": {
   "codemirror_mode": {
    "name": "ipython",
    "version": 3
   },
   "file_extension": ".py",
   "mimetype": "text/x-python",
   "name": "python",
   "nbconvert_exporter": "python",
   "pygments_lexer": "ipython3",
   "version": "3.13.1"
  }
 },
 "nbformat": 4,
 "nbformat_minor": 5
}
