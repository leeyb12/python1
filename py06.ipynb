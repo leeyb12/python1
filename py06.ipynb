{
 "cells": [
  {
   "cell_type": "markdown",
   "id": "b5f954a4-0257-422c-9d5d-1118b8b2349d",
   "metadata": {},
   "source": [
    "# 모듈"
   ]
  },
  {
   "cell_type": "markdown",
   "id": "b7224d27-35a6-46ff-9073-c3247903c9c5",
   "metadata": {},
   "source": [
    "## 모듈 만들기"
   ]
  },
  {
   "cell_type": "code",
   "execution_count": 1,
   "id": "76c074b1-e443-4e29-b4e5-4a7d42845d0d",
   "metadata": {},
   "outputs": [],
   "source": [
    "# 모듈 만들기 - mod1.py\n",
    "# def add(a, b): \n",
    "#     return a + b\n",
    "# def sub(a, b):\n",
    "#     return a - b"
   ]
  },
  {
   "cell_type": "code",
   "execution_count": 2,
   "id": "4a8f1161-9aa2-4856-80da-102fbac64604",
   "metadata": {},
   "outputs": [
    {
     "ename": "ModuleNotFoundError",
     "evalue": "No module named 'mod1'",
     "output_type": "error",
     "traceback": [
      "\u001b[1;31m---------------------------------------------------------------------------\u001b[0m",
      "\u001b[1;31mModuleNotFoundError\u001b[0m                       Traceback (most recent call last)",
      "Cell \u001b[1;32mIn[2], line 1\u001b[0m\n\u001b[1;32m----> 1\u001b[0m \u001b[38;5;28;01mimport\u001b[39;00m\u001b[38;5;250m \u001b[39m\u001b[38;5;21;01mmod1\u001b[39;00m\n\u001b[0;32m      2\u001b[0m \u001b[38;5;28mprint\u001b[39m(mod1\u001b[38;5;241m.\u001b[39madd(\u001b[38;5;241m11\u001b[39m,\u001b[38;5;241m22\u001b[39m))\n\u001b[0;32m      3\u001b[0m \u001b[38;5;28mprint\u001b[39m(mod1\u001b[38;5;241m.\u001b[39msub(\u001b[38;5;241m33\u001b[39m,\u001b[38;5;241m22\u001b[39m))\n",
      "\u001b[1;31mModuleNotFoundError\u001b[0m: No module named 'mod1'"
     ]
    }
   ],
   "source": [
    "import mod1\n",
    "print(mod1.add(11,22))\n",
    "print(mod1.sub(33,22))"
   ]
  },
  {
   "cell_type": "code",
   "execution_count": null,
   "id": "dd0a9ae8-c673-4889-9162-5ec63342b959",
   "metadata": {},
   "outputs": [],
   "source": [
    "with open(\"mod2.py\",\"w\") as f:\n",
    "    data=\"\"\"def mul(a,b):\n",
    "        return a*b\n",
    "def div(a,b):\n",
    "    return a/b\"\"\"\n",
    "    f.write(data)"
   ]
  },
  {
   "cell_type": "code",
   "execution_count": null,
   "id": "52134b56-279e-428a-832a-088345ce6146",
   "metadata": {},
   "outputs": [],
   "source": [
    "import mod2\n",
    "print(mod2.mul(3,4))\n",
    "print(mod2.div(8,4))"
   ]
  },
  {
   "cell_type": "code",
   "execution_count": null,
   "id": "921c6b60-7850-4c77-b280-11ab8ad305bf",
   "metadata": {},
   "outputs": [],
   "source": [
    "# import mod1 as m1\n",
    "# import mod2 as m2\n",
    "import mod1 as m1, mod2 as m2\n",
    "print(m1.add(11,22))\n",
    "print(m1.sub(33,22))\n",
    "print(m2.mul(3,4))\n",
    "print(m2.div(8,4))"
   ]
  },
  {
   "cell_type": "code",
   "execution_count": null,
   "id": "f6001584-5f6a-4773-b04a-672fdf085a35",
   "metadata": {},
   "outputs": [],
   "source": [
    "from mod1 import add , sub\n",
    "print(add(33,44))"
   ]
  },
  {
   "cell_type": "code",
   "execution_count": null,
   "id": "7cae188f-30b1-45ff-b8d9-1886d40d6c9d",
   "metadata": {},
   "outputs": [],
   "source": [
    "from mod2 import * \n",
    "print(mul(4,5))"
   ]
  },
  {
   "cell_type": "markdown",
   "id": "e12b8eb4-5f6d-400b-9bed-39c3dedbb6db",
   "metadata": {},
   "source": [
    "## `__main__` 의 의미"
   ]
  },
  {
   "cell_type": "code",
   "execution_count": null,
   "id": "5554bd7b-d877-48bf-a743-02a2c60f14bb",
   "metadata": {},
   "outputs": [],
   "source": [
    "with open(\"mod1.py\",\"a\") as f:\n",
    "     text = \"\"\"\\nprint(add(1,4))\\nprint(sub(4,2))\"\"\"\n",
    "     f.write(text)"
   ]
  },
  {
   "cell_type": "code",
   "execution_count": null,
   "id": "c7f13f3d-3c10-4028-a6c0-82f281abe55a",
   "metadata": {},
   "outputs": [],
   "source": [
    "%%cmd\n",
    "python mod1.py"
   ]
  },
  {
   "cell_type": "markdown",
   "id": "8fdaf2aa-afd9-4ac3-baf8-d39c73261fcb",
   "metadata": {},
   "source": [
    "매직커멘드\n",
    "- %%bash : 리눅스\n",
    "- %%cmd : 윈도우"
   ]
  },
  {
   "cell_type": "code",
   "execution_count": null,
   "id": "6fd08917-78a2-46cf-9deb-06e9c05cc222",
   "metadata": {},
   "outputs": [],
   "source": [
    "import mod1\n",
    "dir(mod1)"
   ]
  },
  {
   "cell_type": "code",
   "execution_count": null,
   "id": "f47611b7-5bb5-458d-9b07-f01ad03eebfb",
   "metadata": {},
   "outputs": [],
   "source": [
    "import sam\n",
    "sam.sam('삼성물산')"
   ]
  },
  {
   "cell_type": "markdown",
   "id": "c4a67f0d-036c-4b42-837b-47ecc2f8b7ad",
   "metadata": {},
   "source": [
    "## 클래스나 변수 등을 포함한 모듈"
   ]
  },
  {
   "cell_type": "code",
   "execution_count": null,
   "id": "e981397f-1376-4db6-9d00-6dd6c37757b2",
   "metadata": {},
   "outputs": [],
   "source": [
    "with open(\"mod3.py\",\"w\") as f:\n",
    "    text = \"\"\"PI = 3.141592\\n\\nclass Math:\\n\\tdef solv(self,r):\\n\\t\\treturn PI * (r**2)\\n\\ndef add(a,b):\\n\\treturn a+b\"\"\"\n",
    "    f.write(text)"
   ]
  },
  {
   "cell_type": "code",
   "execution_count": null,
   "id": "1fa0ea16-7d15-4200-9858-7b6e1f01015e",
   "metadata": {},
   "outputs": [],
   "source": [
    "%%cmd\n",
    "set PYTHONPATH=D:\\lyb\\code"
   ]
  },
  {
   "cell_type": "markdown",
   "id": "0a0fb3f8-5559-491a-8b40-859acc9f550d",
   "metadata": {},
   "source": [
    "- CMD 에서 set PYTHONPATH= D:\\lyb\\code\\mymod\n",
    "- PS 에서 $env:PYTHONPATH= D:\\lyb\\code\\mymod"
   ]
  },
  {
   "cell_type": "code",
   "execution_count": null,
   "id": "5bc2f814-9edd-4c19-aea8-6445d0c12c24",
   "metadata": {},
   "outputs": [],
   "source": [
    "import mod3\n",
    "# 변수\n",
    "print(mod3.PI)\n",
    "# 클래스\n",
    "a = mod3.Math()\n",
    "print(a.solv(10))\n",
    "# 함수\n",
    "print(mod3.add(mod3.PI, 4.4))"
   ]
  },
  {
   "cell_type": "markdown",
   "id": "15647085-aa49-428d-abf3-a7e52d0e65b0",
   "metadata": {},
   "source": [
    "## 다른 디렉터리에 있는 모듈 불러오는 방법"
   ]
  },
  {
   "cell_type": "code",
   "execution_count": null,
   "id": "62933346-1175-46b5-8b60-1a846758c0f4",
   "metadata": {},
   "outputs": [],
   "source": [
    "import sys\n",
    "sys.path"
   ]
  },
  {
   "cell_type": "code",
   "execution_count": null,
   "id": "493afea4-1106-40dd-a514-1288055f4adf",
   "metadata": {},
   "outputs": [],
   "source": [
    "sys.path.append('D:\\\\lyb\\\\code\\\\mymod>') # 초기화하면 사라짐\n",
    "sys.path"
   ]
  },
  {
   "cell_type": "code",
   "execution_count": null,
   "id": "35144f27-a36a-477d-8d56-4330213bd080",
   "metadata": {},
   "outputs": [],
   "source": [
    "# !python.exe -m pip install --upgrade pip\n",
    "# ! pip install python-dotenv"
   ]
  },
  {
   "cell_type": "code",
   "execution_count": null,
   "id": "ce8778bb-29d3-4768-a22c-0c17afe92633",
   "metadata": {},
   "outputs": [],
   "source": [
    "from dotenv import load_dotenv\n",
    "import os \n",
    "\n",
    "# .env 파일 로드\n",
    "load_dotenv()\n",
    "\n",
    "SKEY = os.getenv(\"SECRET_KEY\")\n",
    "print(SKEY)\n",
    "DBUG = os.getenv(\"DEBUG\")\n",
    "print(DBUG)\n",
    "TEST = os.getenv(\"TEST\")\n",
    "print(TEST)"
   ]
  },
  {
   "cell_type": "code",
   "execution_count": null,
   "id": "8349827c-479f-4fd7-809a-8afc10f6cee1",
   "metadata": {},
   "outputs": [],
   "source": [
    "# 네이버 검색 API 예제 - 블로그 검색\n",
    "import os\n",
    "import sys\n",
    "import urllib.request\n",
    "from dotenv import load_dotenv\n",
    "import json\n",
    "\n",
    "load_dotenv()\n",
    "client_id = os.environ.get(\"MY_ID\")\n",
    "client_secret = os.environ.get(\"MY_SECRET\")\n",
    "\n",
    "encText = urllib.parse.quote(\"속보\")\n",
    "url = \"https://openapi.naver.com/v1/search/news.json?query=\" + encText +'&display=10&start=2&sort=sim' # JSON 결과\n",
    "# url = \"https://openapi.naver.com/v1/search/blog.xml?query=\" + encText # XML 결과\n",
    "request = urllib.request.Request(url)\n",
    "request.add_header(\"X-Naver-Client-Id\",client_id)\n",
    "request.add_header(\"X-Naver-Client-Secret\",client_secret)\n",
    "response = urllib.request.urlopen(request)\n",
    "rescode = response.getcode()\n",
    "if(rescode==200):\n",
    "    response_body = response.read()\n",
    "    result = response_body.decode('utf-8')\n",
    "    data = json.loads(result)\n",
    "    ldata = data['items']\n",
    "    for n in ldata:\n",
    "        print(n['title'].replace('<b>','').replace('</b>',''))\n",
    "        print(n['description'])\n",
    "        print(n['originallink'])\n",
    "    \n",
    "else:\n",
    "    print(\"Error Code:\" + rescode)"
   ]
  },
  {
   "cell_type": "code",
   "execution_count": null,
   "id": "11aa02ef-b2c5-4045-8a7f-29b8589d6d0e",
   "metadata": {},
   "outputs": [],
   "source": [
    "print(ldata)"
   ]
  },
  {
   "cell_type": "code",
   "execution_count": null,
   "id": "240a49a2-8b19-4681-aaf1-db84d7c75a74",
   "metadata": {},
   "outputs": [],
   "source": [
    "! pip install qrcode"
   ]
  },
  {
   "cell_type": "code",
   "execution_count": null,
   "id": "a3881730-090c-496e-8c68-863b25bbcbf6",
   "metadata": {},
   "outputs": [],
   "source": [
    "import qrcode\n",
    "\n",
    "def qrcode_maker(text, filename='qr.png'):\n",
    "    qr = qrcode.make(text)\n",
    "    qr.save(filename)\n",
    "\n",
    "qrcode_maker('안녕하세요. 누구입니다!! ^^')\n",
    "# qrcode_maker('www.naver.com', 'naver.png')\n",
    "# qrcode_maker('www.daum.net', 'daum.png')"
   ]
  },
  {
   "cell_type": "code",
   "execution_count": null,
   "id": "41076214-9cd1-49cd-9aaa-a23564413514",
   "metadata": {},
   "outputs": [],
   "source": [
    "from IPython.display import display, HTML\n",
    "from PIL import Image\n",
    "\n",
    "image_path = \"qr.png\"\n",
    "img = Image.open(image_path)\n",
    "htmlcode = '<img src=\"qr.png\" width=100>'\n",
    "display(HTML(htmlcode))\n",
    "# display(img)"
   ]
  },
  {
   "cell_type": "code",
   "execution_count": 1,
   "id": "d8885ece-35dd-467c-8858-4017adaa3a34",
   "metadata": {},
   "outputs": [
    {
     "name": "stdout",
     "output_type": "stream",
     "text": [
      "['1', '캡틴 아메리카: 브레이브 뉴 월드', '113883']\n",
      "['2', '말할 수 없는 비밀', '16774']\n",
      "['3', '명탐정 코난: 14번째 표적', '15480']\n",
      "['4', '히트맨2', '15269']\n",
      "['5', '검은 수녀들', '5352']\n",
      "['6', '서브스턴스', '5082']\n",
      "['7', '엘리: 몬스터 패밀리', '4324']\n",
      "['8', '브루탈리스트', '3572']\n",
      "['9', '첫 번째 키스', '3163']\n",
      "['10', '500일의 썸머', '2708']\n"
     ]
    }
   ],
   "source": [
    "import requests\n",
    "import json\n",
    "\n",
    "url = \"http://kobis.or.kr/kobisopenapi/webservice/rest/boxoffice/searchDailyBoxOfficeList.json?key=86c5204088a51e4d9a9e26141ed5b4e5&targetDt=20250214\"\n",
    "res = requests.get(url)\n",
    "text = res.text\n",
    "\n",
    "d = json.loads(text)\n",
    "\n",
    "for b in d['boxOfficeResult']['dailyBoxOfficeList']:\n",
    "    print([b['rank'],b['movieNm'],b['audiCnt']])"
   ]
  },
  {
   "cell_type": "code",
   "execution_count": null,
   "id": "03373393-ad29-4855-8956-de9a78f18201",
   "metadata": {},
   "outputs": [],
   "source": []
  }
 ],
 "metadata": {
  "kernelspec": {
   "display_name": "Python 3 (ipykernel)",
   "language": "python",
   "name": "python3"
  },
  "language_info": {
   "codemirror_mode": {
    "name": "ipython",
    "version": 3
   },
   "file_extension": ".py",
   "mimetype": "text/x-python",
   "name": "python",
   "nbconvert_exporter": "python",
   "pygments_lexer": "ipython3",
   "version": "3.13.1"
  }
 },
 "nbformat": 4,
 "nbformat_minor": 5
}
