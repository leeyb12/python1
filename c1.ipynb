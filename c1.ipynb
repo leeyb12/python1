{
 "cells": [
  {
   "cell_type": "code",
   "execution_count": null,
   "id": "108d9dee-144a-461c-8cc4-928a71eb66e8",
   "metadata": {},
   "outputs": [],
   "source": [
    "import csv \n",
    "import requests as req\n",
    "from bs4 import BeautifulSoup as bs\n",
    "url = \"https://finance.naver.com/sise/sise_market_sum.naver\"\n",
    "headers = {'user-agent':'Mozilla/5.0 (Windows NT 10.0; Win64; x64) AppleWebKit/537.36 (KHTML, like Gecko) Chrome/133.0.0.0 Safari/537.36 Edg/133.0.0.0'}\n",
    "web = req.get(url, headers = headers)\n",
    "soup = bs(web.content,'html5lib')\n",
    "co1 = soup.select('box_type_l')\n",
    "co2 = soup.select('tab_style_1')\n",
    "co3 = soup.select('')"
   ]
  }
 ],
 "metadata": {
  "kernelspec": {
   "display_name": "Python 3 (ipykernel)",
   "language": "python",
   "name": "python3"
  },
  "language_info": {
   "codemirror_mode": {
    "name": "ipython",
    "version": 3
   },
   "file_extension": ".py",
   "mimetype": "text/x-python",
   "name": "python",
   "nbconvert_exporter": "python",
   "pygments_lexer": "ipython3",
   "version": "3.13.1"
  }
 },
 "nbformat": 4,
 "nbformat_minor": 5
}
