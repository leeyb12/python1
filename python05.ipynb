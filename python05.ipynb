{
 "cells": [
  {
   "cell_type": "markdown",
   "id": "8fb1822b-0718-4358-9493-e56c133c4251",
   "metadata": {},
   "source": [
    "# 클래스"
   ]
  },
  {
   "cell_type": "markdown",
   "id": "07868a04-ba09-4a1e-9c6d-4d99ed07fa53",
   "metadata": {},
   "source": [
    "## 클래스의 기본"
   ]
  },
  {
   "cell_type": "code",
   "execution_count": 3,
   "id": "2deefb83-0ca4-4245-a1b6-035d478c9d6b",
   "metadata": {},
   "outputs": [
    {
     "name": "stdout",
     "output_type": "stream",
     "text": [
      "[1, 2, 3, 4] <class 'list'>\n",
      "['a', 'b', 'c'] <class 'list'>\n",
      "(11, 22, 33, 44) <class 'tuple'>\n"
     ]
    }
   ],
   "source": [
    "what = [1,2,3,4]\n",
    "what2 = ['a','b','c']\n",
    "who = 11,22,33,44\n",
    "print(what,type(what))\n",
    "print(what2, type(what2))\n",
    "print(who,type(who))"
   ]
  },
  {
   "cell_type": "code",
   "execution_count": 6,
   "id": "a482c406-9ba6-4dae-901f-8a5e3ca7334f",
   "metadata": {},
   "outputs": [
    {
     "name": "stdout",
     "output_type": "stream",
     "text": [
      "3\n",
      "7\n"
     ]
    }
   ],
   "source": [
    "# calculator.py\n",
    "result = 0 \n",
    "def add(num):\n",
    "    global result\n",
    "    result += num   # 결괏값(result)에 입력값(num) 더하기\n",
    "    return result   # 결괏값 리턴\n",
    "\n",
    "print(add(3))\n",
    "print(add(4))"
   ]
  },
  {
   "cell_type": "code",
   "execution_count": 21,
   "id": "2b1820b2-dd8b-40e2-8c8f-461827f638e7",
   "metadata": {},
   "outputs": [
    {
     "name": "stdout",
     "output_type": "stream",
     "text": [
      "3\n",
      "7\n",
      "3\n",
      "10\n"
     ]
    }
   ],
   "source": [
    "# calculator2.py\n",
    "# 함수로 구성\n",
    "result1 = 0\n",
    "result2 = 0\n",
    "def add1(num):     # 계산기 1\n",
    "    global result1\n",
    "    result1 += num\n",
    "    return result1\n",
    "def add2(num):     # 계산기 2\n",
    "    global result2\n",
    "    result2 += num\n",
    "    return result2\n",
    "print(add1(3))  \n",
    "print(add1(4))  \n",
    "print(add2(3))  \n",
    "print(add2(7))  "
   ]
  },
  {
   "cell_type": "markdown",
   "id": "cc591096-be3b-4a3e-8553-d596fbf16d54",
   "metadata": {},
   "source": [
    "클래스(Class): 클래스는 객체의 설계도나 청사진과 같은 개념입니다. 속성과 메서드를 정의하여 객체의 구조와 동작을 설명합니다. \n",
    "인스턴스(Instance): 클래스에 정의된 속성과 메서드를 바탕으로 생성된 실제 객체를 인스턴스라고 합니다. 즉, 클래스의 구체적인 구현물입니다.\n",
    "객체(Object): 객체는 컴퓨터 프로그래밍 및 소프트웨어 개발에서 중요한 개념입니다. 객체는 속성(데이터)와 동작(매서드)을 모두 포함하는 독립적인 단위입니다. 즉, 객체는 데이터를 포함하면서도 그 데이터를 조작할 수 있는 기능을 가지고 있습니다. "
   ]
  },
  {
   "cell_type": "code",
   "execution_count": 22,
   "id": "d8d1f95d-a77b-44ab-b22d-fa5b63ea65cc",
   "metadata": {},
   "outputs": [
    {
     "name": "stdout",
     "output_type": "stream",
     "text": [
      "3\n",
      "7\n",
      "3\n",
      "10\n",
      "-1\n",
      "-3\n",
      "-3\n",
      "-10\n"
     ]
    }
   ],
   "source": [
    "# calculator3.py\n",
    "# 클래스 구성\n",
    "class Calculator:\n",
    "    def __init__(self):\n",
    "       self.result = 0\n",
    "    def add(self,num):\n",
    "        self.result += num\n",
    "        return self.result\n",
    "    def sub(self,num):\n",
    "        self.result -= num\n",
    "        return self.result\n",
    "# 인스턴스화\n",
    "cal1 = Calculator()   # [1,2,3,4,5]\n",
    "cal2 = Calculator()   # ['a','b']\n",
    "cal3 = Calculator()\n",
    "cal4 = Calculator()\n",
    "print(cal1.add(3)) \n",
    "print(cal1.add(4)) \n",
    "print(cal2.add(3)) \n",
    "print(cal2.add(7)) \n",
    "print(cal3.sub(1)) \n",
    "print(cal3.sub(2)) \n",
    "print(cal4.sub(3)) \n",
    "print(cal4.sub(7)) "
   ]
  },
  {
   "cell_type": "code",
   "execution_count": 110,
   "id": "18b8a532-f595-496d-92f5-a6c6e3cae811",
   "metadata": {},
   "outputs": [
    {
     "name": "stdout",
     "output_type": "stream",
     "text": [
      "1: 8\n",
      "2: 11\n",
      "2: 12\n",
      "2: 13\n",
      "1: 9\n",
      "1: 10\n"
     ]
    }
   ],
   "source": [
    "# 함수로 규정\n",
    "result = 0 \n",
    "result = 0 \n",
    "def add1(num):\n",
    "    global result1\n",
    "    result1 += num\n",
    "    return result1\n",
    "def add2(num):\n",
    "    global result2\n",
    "    result2 += num \n",
    "    return result2\n",
    "print('1:',add1(1))\n",
    "print('2:',add2(1))\n",
    "print('2:',add2(1))\n",
    "print('2:',add2(1))\n",
    "print('1:',add1(1))\n",
    "print('1:',add1(1))"
   ]
  },
  {
   "cell_type": "code",
   "execution_count": 111,
   "id": "d529e492-19e7-4c14-9d36-bdf56212214e",
   "metadata": {},
   "outputs": [
    {
     "name": "stdout",
     "output_type": "stream",
     "text": [
      "1: 1\n",
      "2: 1\n",
      "2: 2\n",
      "2: 3\n",
      "1: 2\n",
      "1: 3\n",
      "2: 2\n",
      "2: 1\n"
     ]
    }
   ],
   "source": [
    "# 클래스 구성\n",
    "class Calculator:\n",
    "    def __init__(self):\n",
    "        self.result = 0 \n",
    "    def add(self, num): \n",
    "        self.result += num\n",
    "        return self.result\n",
    "    def sub(self, num):\n",
    "        self.result -= num\n",
    "        return self.result\n",
    "# 인스턴스화\n",
    "cal1 = Calculator()\n",
    "cal2 = Calculator()\n",
    "print('1:',cal1.add(1))\n",
    "print('2:',cal2.add(1))\n",
    "print('2:',cal2.add(1))\n",
    "print('2:',cal2.add(1))\n",
    "print('1:',cal1.add(1))\n",
    "print('1:',cal1.add(1))\n",
    "\n",
    "print('2:',cal2.sub(1))\n",
    "print('2:',cal2.sub(1))"
   ]
  },
  {
   "cell_type": "markdown",
   "id": "fbf99680-1617-4b1f-a8e8-fc4f4a781016",
   "metadata": {},
   "source": [
    "## 생성자"
   ]
  },
  {
   "cell_type": "markdown",
   "id": "51d42453-dcd5-49fe-afd3-d62caf5b80b8",
   "metadata": {},
   "source": [
    "생성자(constructor): 객체가 생성될 때 자동으로 호출되는 메서드를 의미한다. "
   ]
  },
  {
   "cell_type": "code",
   "execution_count": 112,
   "id": "56d63c58-4d53-4fb1-b277-e828525affa9",
   "metadata": {},
   "outputs": [],
   "source": [
    "# 예제1\n",
    "class Dduk:\n",
    "    def __init__(self,won,ea):  # def __init__(self): \n",
    "        self.won = won            # self.won = 0\n",
    "        self.ea = ea             # self.ea = 0\n",
    "    def dduk(self):             # def ddub(self,won,ea): \n",
    "        result = self.won * self.ea\n",
    "        print(f\"배가 고파서 떡볶이집에서 떡볶이를 {result}원어치 먹었다.\")\n",
    "    def odeng(self): \n",
    "        result = self.won * 2 * self.ea\n",
    "        print(f\"배가 고파서 떡볶이집에서 오뎅을 {result}원어치 먹었다.\")"
   ]
  },
  {
   "cell_type": "code",
   "execution_count": 70,
   "id": "3082e6da-9d42-4938-a531-7aa3ec29143e",
   "metadata": {},
   "outputs": [],
   "source": [
    "성훈 = Dduk(2000,3)\n",
    "희성 = Dduk(3000,2)\n",
    "기윤 = Dduk(1500,6)"
   ]
  },
  {
   "cell_type": "code",
   "execution_count": 71,
   "id": "79d5129d-c90a-41bf-99d2-14573011b03b",
   "metadata": {},
   "outputs": [
    {
     "name": "stdout",
     "output_type": "stream",
     "text": [
      "배가 고파서 떡볶이집에서 떡볶이를 6000원어치 먹었다.\n",
      "배가 고파서 떡볶이집에서 오뎅을 12000원어치 먹었다.\n"
     ]
    }
   ],
   "source": [
    "성훈.dduk()\n",
    "성훈.odeng()"
   ]
  },
  {
   "cell_type": "code",
   "execution_count": 72,
   "id": "d6d013ee-c551-426d-9ae1-dce29839d48d",
   "metadata": {},
   "outputs": [
    {
     "name": "stdout",
     "output_type": "stream",
     "text": [
      "배가 고파서 떡볶이집에서 떡볶이를 6000원어치 먹었다.\n",
      "배가 고파서 떡볶이집에서 오뎅을 12000원어치 먹었다.\n"
     ]
    }
   ],
   "source": [
    "희성.dduk()\n",
    "희성.odeng()"
   ]
  },
  {
   "cell_type": "code",
   "execution_count": 73,
   "id": "e94d3bd4-69a9-4d2f-9def-8a98ddffc802",
   "metadata": {},
   "outputs": [
    {
     "name": "stdout",
     "output_type": "stream",
     "text": [
      "배가 고파서 떡볶이집에서 떡볶이를 9000원어치 먹었다.\n",
      "배가 고파서 떡볶이집에서 오뎅을 18000원어치 먹었다.\n"
     ]
    }
   ],
   "source": [
    "기윤.dduk()\n",
    "기윤.odeng()"
   ]
  },
  {
   "cell_type": "code",
   "execution_count": 74,
   "id": "d77e207d-df87-4e34-aa99-f50d60de57ff",
   "metadata": {},
   "outputs": [],
   "source": [
    "성훈.__init__(3300,2)"
   ]
  },
  {
   "cell_type": "code",
   "execution_count": 75,
   "id": "2ec6a76d-4889-46bb-93ac-b64821bab135",
   "metadata": {},
   "outputs": [
    {
     "name": "stdout",
     "output_type": "stream",
     "text": [
      "배가 고파서 떡볶이집에서 떡볶이를 6600원어치 먹었다.\n",
      "배가 고파서 떡볶이집에서 오뎅을 13200원어치 먹었다.\n"
     ]
    }
   ],
   "source": [
    "성훈.dduk()\n",
    "성훈.odeng()"
   ]
  },
  {
   "cell_type": "code",
   "execution_count": 76,
   "id": "09ad42fc-0c4b-4d97-8e60-52397affd9c0",
   "metadata": {},
   "outputs": [],
   "source": [
    "# 예제1-1\n",
    "class Dduk:\n",
    "    def __init__(self,won,ea):\n",
    "        self.won = won\n",
    "        self.ea = ea\n",
    "    def dduk(self):\n",
    "        result = self.won * self.ea\n",
    "        print(f\"배가 고파서 떡볶이집에서 떡볶이를 {result}원어치 먹었다.\")\n",
    "    def odeng(self): \n",
    "        result = self.won * 2 * self.ea\n",
    "        print(f\"배가 고파서 떡볶이집에서 오뎅을 {result}원어치 먹었다.\")\n",
    "    def sundae(self):\n",
    "        result = self.won * 3 * self.ea\n",
    "        print(f\"배가 고파서 떡볶이집에서 순대를 {result}원어치 먹었다.\")"
   ]
  },
  {
   "cell_type": "code",
   "execution_count": 77,
   "id": "27a8f54f-71cf-4c01-a1fb-370f421b4e68",
   "metadata": {},
   "outputs": [],
   "source": [
    "윤범 = Dduk(3000,2)"
   ]
  },
  {
   "cell_type": "code",
   "execution_count": 78,
   "id": "16bd7fc3-b0aa-46c9-b568-dac229a03269",
   "metadata": {},
   "outputs": [
    {
     "name": "stdout",
     "output_type": "stream",
     "text": [
      "배가 고파서 떡볶이집에서 떡볶이를 6000원어치 먹었다.\n",
      "배가 고파서 떡볶이집에서 오뎅을 12000원어치 먹었다.\n",
      "배가 고파서 떡볶이집에서 순대를 18000원어치 먹었다.\n"
     ]
    }
   ],
   "source": [
    "윤범.dduk()\n",
    "윤범.odeng()\n",
    "윤범.sundae()"
   ]
  },
  {
   "cell_type": "code",
   "execution_count": 79,
   "id": "b9857d40-f53a-4ee8-8f3c-c42291087c06",
   "metadata": {},
   "outputs": [],
   "source": [
    "윤범.__init__(4000,3)"
   ]
  },
  {
   "cell_type": "code",
   "execution_count": 80,
   "id": "25c9ef56-48f7-4b66-84c2-c7e8c31f155a",
   "metadata": {},
   "outputs": [
    {
     "name": "stdout",
     "output_type": "stream",
     "text": [
      "배가 고파서 떡볶이집에서 떡볶이를 12000원어치 먹었다.\n",
      "배가 고파서 떡볶이집에서 오뎅을 24000원어치 먹었다.\n",
      "배가 고파서 떡볶이집에서 순대를 36000원어치 먹었다.\n"
     ]
    }
   ],
   "source": [
    "윤범.dduk()\n",
    "윤범.odeng()\n",
    "윤범.sundae()"
   ]
  },
  {
   "cell_type": "markdown",
   "id": "314d9c05-285c-4658-9b08-305b6888af7a",
   "metadata": {},
   "source": [
    "## 예제들"
   ]
  },
  {
   "cell_type": "code",
   "execution_count": 23,
   "id": "49c84983-46f9-49a9-a33e-3092653399c6",
   "metadata": {},
   "outputs": [
    {
     "name": "stdout",
     "output_type": "stream",
     "text": [
      "방가방가1 저는 고전 인사입니다!!\n",
      "방가방가2 저는 고전 인사입니다!!\n",
      "방가방가3 저는 고전 인사입니다!!\n",
      "==============================\n",
      "\n",
      "이것은 예로부터 전해오는 고전 인사함수 입니다. DocStirng\n",
      "\n",
      "==============================\n",
      "Help on function test in module __main__:\n",
      "\n",
      "test()\n",
      "    이것은 예로부터 전해오는 고전 인사함수 입니다. DocStirng\n",
      "\n"
     ]
    }
   ],
   "source": [
    "# 테스트 1\n",
    "def test():\n",
    "    \"\"\"\n",
    "    이것은 예로부터 전해오는 고전 인사함수 입니다. DocStirng\n",
    "    \"\"\"\n",
    "    print(\"방가방가1 저는 고전 인사입니다!!\")\n",
    "    print(\"방가방가2 저는 고전 인사입니다!!\")\n",
    "    print(\"방가방가3 저는 고전 인사입니다!!\")\n",
    "test()\n",
    "print(\"=\"*30)\n",
    "print(test.__doc__)\n",
    "print(\"=\"*30)\n",
    "help(test)"
   ]
  },
  {
   "cell_type": "code",
   "execution_count": null,
   "id": "b15951cb-1db5-4110-8c3a-4c269a5fedbd",
   "metadata": {},
   "outputs": [],
   "source": [
    "# 테스트2\n",
    "# class의 self없이 함수 만들기\n",
    "def set_car(name,color):\n",
    "    return {\"name\":name, \"color\":color}\n",
    "def get_car_info(car):\n",
    "    return f\"Car:{car['name']},Color:{car['color']}\"\n",
    "\n",
    "# 자동차를 생성\n",
    "car = set_car(\"HD\", \"Blue\")\n",
    "print(car)\n",
    "# 자동차 정보를 생성\n",
    "print(get_car_info(car))\n",
    "\n",
    "print(get_car_info(set_car(\"Kia\", \"white\")))"
   ]
  },
  {
   "cell_type": "code",
   "execution_count": 25,
   "id": "48b029dc-c7fd-4336-9e88-a2d25e468bb8",
   "metadata": {},
   "outputs": [
    {
     "name": "stdout",
     "output_type": "stream",
     "text": [
      "car:HD,Color:Yellow\n",
      "car:Kia,Color:white\n"
     ]
    }
   ],
   "source": [
    "# 테스트 3\n",
    "class Car: \n",
    "    def set_car(name, color):\n",
    "        return {\"name\":name, \"color\":color}\n",
    "    def get_car_info(car):\n",
    "        return f\"car:{car['name']},Color:{car['color']}\"\n",
    "\n",
    "car1 = Car.set_car(\"HD\",\"Yellow\")\n",
    "car2 = Car.set_car(\"Kia\",\"white\")\n",
    "print(Car.get_car_info(car1))\n",
    "print(Car.get_car_info(car2))"
   ]
  },
  {
   "cell_type": "code",
   "execution_count": 31,
   "id": "d9317f76-71e4-468a-8ccd-65f567441f3a",
   "metadata": {},
   "outputs": [
    {
     "name": "stdout",
     "output_type": "stream",
     "text": [
      "Car:HD,Color:Black\n",
      "Car:Kia,Color:Gray\n"
     ]
    }
   ],
   "source": [
    "# 테스트 4\n",
    "class Car:\n",
    "    def __init__(self,name,color): # 생성자\n",
    "        self.name = name\n",
    "        self.color = color   \n",
    "    def get_car_info(self):\n",
    "        return f\"Car:{self.name},Color:{self.color}\"\n",
    "\n",
    "car1 = Car(\"HD\",\"Black\")\n",
    "car2 = Car(\"Kia\",\"Gray\")\n",
    "\n",
    "print(car1.get_car_info())\n",
    "print(car2.get_car_info())"
   ]
  },
  {
   "cell_type": "code",
   "execution_count": 32,
   "id": "d739b2b6-c7d3-4593-9caa-bd3452fe827e",
   "metadata": {},
   "outputs": [],
   "source": [
    "# 테스트 5\n",
    "class Car: \n",
    "    def __init__(self,name,color): # 생성자\n",
    "        self.name = name\n",
    "        self.color = color\n",
    "        self.speed = 0 # 초기값 0\n",
    "    def get_car_info(self):\n",
    "        return f\"Car:{self.name},Color:{self.color}\"\n",
    "    def acc(self,amount):\n",
    "        self.speed += amount # 속도가 증가\n",
    "        return f\"{self.color} {self.name} 속도 올려요. 현재속도는 {self.speed}km/h\""
   ]
  },
  {
   "cell_type": "code",
   "execution_count": 33,
   "id": "8bd53abb-9bab-40c5-b959-3cb03843ee79",
   "metadata": {},
   "outputs": [
    {
     "name": "stdout",
     "output_type": "stream",
     "text": [
      "Car:HD,Color:Black\n",
      "Car:Kia,Color:Gray\n"
     ]
    }
   ],
   "source": [
    "car1 = Car(\"HD\",\"Black\")\n",
    "car2 = Car(\"Kia\",\"Gray\")\n",
    "print(car1.get_car_info())\n",
    "print(car2.get_car_info())"
   ]
  },
  {
   "cell_type": "code",
   "execution_count": 34,
   "id": "19e10e45-86bc-43ad-a625-6158a985d89c",
   "metadata": {},
   "outputs": [
    {
     "name": "stdout",
     "output_type": "stream",
     "text": [
      "Black HD 속도 올려요. 현재속도는 30km/h\n",
      "Gray Kia 속도 올려요. 현재속도는 50km/h\n",
      "Black HD 속도 올려요. 현재속도는 40km/h\n"
     ]
    }
   ],
   "source": [
    "print(car1.acc(30))\n",
    "print(car2.acc(50))\n",
    "print(car1.acc(10))"
   ]
  },
  {
   "cell_type": "code",
   "execution_count": 35,
   "id": "35caec70-c44b-4e5e-a007-eb1cd03d71fd",
   "metadata": {},
   "outputs": [
    {
     "name": "stdout",
     "output_type": "stream",
     "text": [
      "Black HD 속도 올려요. 현재속도는 41km/h\n",
      "Black HD 속도 올려요. 현재속도는 42km/h\n",
      "Black HD 속도 올려요. 현재속도는 43km/h\n",
      "Black HD 속도 올려요. 현재속도는 44km/h\n",
      "Black HD 속도 올려요. 현재속도는 45km/h\n",
      "Black HD 속도 올려요. 현재속도는 46km/h\n",
      "Black HD 속도 올려요. 현재속도는 47km/h\n",
      "Black HD 속도 올려요. 현재속도는 48km/h\n",
      "Black HD 속도 올려요. 현재속도는 49km/h\n",
      "Black HD 속도 올려요. 현재속도는 50km/h\n",
      "100km/h 속도 유지중...\n"
     ]
    }
   ],
   "source": [
    "# 테스트 연습\n",
    "import time as t\n",
    "for n in range(10):\n",
    "    print(car1.acc(1))\n",
    "    t.sleep(1)\n",
    "print(\"100km/h 속도 유지중...\")"
   ]
  },
  {
   "cell_type": "code",
   "execution_count": 18,
   "id": "0f2f435e-6859-46c0-93cf-b199c9e6ab9b",
   "metadata": {},
   "outputs": [],
   "source": [
    "# 테스트 6 상속\n",
    "class Mycar(Car):\n",
    "    def turbo(self):\n",
    "        self.speed += 50\n",
    "        return(f\"내차가 나른다!! 터보! {self.speed} km/h\")\n",
    "    def acc(self):\n",
    "        self.speed += 30 # 속도가 증가\n",
    "        return f\"{self.name}의 {self.speed}!!\""
   ]
  },
  {
   "cell_type": "code",
   "execution_count": 19,
   "id": "9846eb1e-fd71-426f-b783-a38b2e60d17f",
   "metadata": {},
   "outputs": [
    {
     "name": "stdout",
     "output_type": "stream",
     "text": [
      "Gray Kia 속도 올려요. 현재속도는 10km/h\n",
      "mycar의 30!!\n"
     ]
    }
   ],
   "source": [
    "my = Mycar(\"mycar\",\"skyblue\")\n",
    "car0 = Car(\"Kia\",\"Gray\")\n",
    "print(car0.acc(10))\n",
    "print(my.acc())"
   ]
  },
  {
   "cell_type": "code",
   "execution_count": 20,
   "id": "ab7069c2-f8af-4ee9-8a98-aa65be5cb2ec",
   "metadata": {},
   "outputs": [
    {
     "name": "stdout",
     "output_type": "stream",
     "text": [
      "내차가 나른다!! 터보! 80 km/h\n",
      "내차가 나른다!! 터보! 130 km/h\n"
     ]
    }
   ],
   "source": [
    "print(my.turbo())\n",
    "print(my.turbo())"
   ]
  },
  {
   "cell_type": "code",
   "execution_count": 41,
   "id": "aa7d9728-f805-4a6f-a1bb-a513e480183b",
   "metadata": {},
   "outputs": [],
   "source": [
    "# 테스트 7\n",
    "class Pet:\n",
    "    def __init__(self,name,species):\n",
    "        \"\"\"펫을 생성\"\"\"\n",
    "        self.name = name\n",
    "        self.species = species\n",
    "        self.hunger = 50 # 초기 배고픔 수치 (0~100)\n",
    "    def feed(self):\n",
    "        \"\"\"밥을 주면 배고픔 감소\"\"\"\n",
    "        if self.hunger > 10:\n",
    "            self.hunger -= 10\n",
    "        return f\"{self.name}에게 밥을 줬습니다.! 배고픔:{self.hunger}\"\n",
    "    def play(self):\n",
    "        \"\"\"놀아주면 배고픔이 증가\"\"\"\n",
    "        if self.hunger < 80:\n",
    "            self.hunger += 20\n",
    "        else:\n",
    "            self.hunger = 100\n",
    "        return f\"{self.name}와 아주 잘 놀아줬어요!!!!~~~~ 배고픔:{self.hunger}\""
   ]
  },
  {
   "cell_type": "code",
   "execution_count": 43,
   "id": "39bba9ce-de72-4c97-89ad-30f35db96656",
   "metadata": {},
   "outputs": [
    {
     "name": "stdout",
     "output_type": "stream",
     "text": [
      "뽀삐에게 밥을 줬습니다.! 배고픔:40\n",
      "뽀삐에게 밥을 줬습니다.! 배고픔:30\n",
      "아지와 아주 잘 놀아줬어요!!!!~~~~ 배고픔:70\n",
      "아지와 아주 잘 놀아줬어요!!!!~~~~ 배고픔:90\n",
      "아지와 아주 잘 놀아줬어요!!!!~~~~ 배고픔:100\n",
      "뽀삐와 아주 잘 놀아줬어요!!!!~~~~ 배고픔:50\n",
      "뽀삐와 아주 잘 놀아줬어요!!!!~~~~ 배고픔:70\n",
      "컁이와 아주 잘 놀아줬어요!!!!~~~~ 배고픔:70\n",
      "컁이와 아주 잘 놀아줬어요!!!!~~~~ 배고픔:90\n",
      "컁이에게 밥을 줬습니다.! 배고픔:80\n"
     ]
    }
   ],
   "source": [
    "# 펫생성\n",
    "dog1 = Pet(\"뽀삐\", \"말티즈\")\n",
    "dog2 = Pet(\"아지\", \"요크\")\n",
    "cat = Pet(\"컁이\",\"나만고양없어\")\n",
    "print(dog1.feed())\n",
    "print(dog1.feed())\n",
    "print(dog2.play())\n",
    "print(dog2.play())\n",
    "print(dog2.play())\n",
    "print(dog1.play())\n",
    "print(dog1.play())\n",
    "print(cat.play())\n",
    "print(cat.play())\n",
    "print(cat.feed())"
   ]
  },
  {
   "cell_type": "code",
   "execution_count": 47,
   "id": "87758d98-347d-4969-9575-4388dde0176c",
   "metadata": {},
   "outputs": [],
   "source": [
    "# 테스트 8\n",
    "class Bacteria:\n",
    "    def __init__(self,initial_population,growth_rate):\n",
    "        \"\"\"세균초기화\"\"\"\n",
    "        self.population = initial_population\n",
    "        self.growth_rate = growth_rate\n",
    "        self.time = 0 # 시작시간\n",
    "\n",
    "    def grow(self,hours):\n",
    "        \"\"\"일정 시간이 지나면 세균이 증식함\"\"\"\n",
    "        self.time += hours\n",
    "        self.population *= self.growth_rate**hours\n",
    "        return f\"{self.time} 시간 후 세균 수: { int(self.population)} 마리\"\n",
    "    def check(self):\n",
    "        \"\"\"현재 세균 수 확인\"\"\"\n",
    "        return f\"현재 세균 수 : { int(self.population)} 마리\""
   ]
  },
  {
   "cell_type": "code",
   "execution_count": 48,
   "id": "60233900-b9de-4e0b-a887-85c3c669ac10",
   "metadata": {},
   "outputs": [],
   "source": [
    "bacteria = Bacteria( 100, 2)"
   ]
  },
  {
   "cell_type": "code",
   "execution_count": 49,
   "id": "9ae511a1-6e5d-4b32-85f7-e8cd4140e3a2",
   "metadata": {},
   "outputs": [
    {
     "name": "stdout",
     "output_type": "stream",
     "text": [
      "1 시간 후 세균 수: 200 마리\n",
      "3 시간 후 세균 수: 800 마리\n",
      "6 시간 후 세균 수: 6400 마리\n"
     ]
    }
   ],
   "source": [
    "print(bacteria.grow(1))\n",
    "print(bacteria.grow(2))\n",
    "print(bacteria.grow(3))"
   ]
  },
  {
   "cell_type": "code",
   "execution_count": 72,
   "id": "a7ef96ae-05d4-4fa1-94ce-c943e59aab2b",
   "metadata": {},
   "outputs": [
    {
     "name": "stdout",
     "output_type": "stream",
     "text": [
      "철수님의 잔고는 50000원 입니다. \n",
      "영희님의 잔고는 200000원 입니다. \n",
      "철수님의 잔고는 9000000원 입니다. \n",
      "9000000\n"
     ]
    }
   ],
   "source": [
    "# 테스트 9 은행예금 캡슐화 된 예제, 클래스 변수\n",
    "class BankAccount:\n",
    "    interest_rate = 0.02 # 클래스 변수\n",
    "    def __init__(self, owner, balance):\n",
    "        self.owner = owner\n",
    "        self.balance = balance or 0\n",
    "    def bprint(self):\n",
    "        return f\"{self.owner}님의 잔고는 {self.balance}원 입니다. \"\n",
    "\n",
    "acc1 = BankAccount(\"철수\",50000)\n",
    "acc2 = BankAccount(\"영희\",200000)\n",
    "print(acc1.bprint())\n",
    "print(acc2.bprint())\n",
    "# 공격후\n",
    "acc1.balance = 9000000\n",
    "print(acc1.bprint())\n",
    "print(acc1.balance)"
   ]
  },
  {
   "cell_type": "code",
   "execution_count": null,
   "id": "d72584f8-8a97-4d7b-a2a8-37f0c068e8ec",
   "metadata": {},
   "outputs": [],
   "source": [
    "# 테스트 9 은행예금 캡슐화 된 예제, 클래스 변수\n",
    "class BankAccount:\n",
    "    interest_rate = 0.02 # 클래스 변수\n",
    "    def __init__(self, owner, balance):\n",
    "\n",
    "        self.owner = owner\n",
    "        self.__balance = balance or 0\n",
    "    def bprint(self):\n",
    "        return f\"{self.owner}님의 잔고는 {self.__balance}원 입니다. \"\n",
    "    def deposit(self,amount):\n",
    "        self.__balance += amount\n",
    "        return f\"{self.owner}님의 계좌에 {amount}원이 입금 되었습니다. 현재 잔액: {self.__balance}원\"\n",
    "    def withdraw(self, amount):\n",
    "        if self.__balance >= amount:\n",
    "            self.__balance -= amount\n",
    "            return f\"{self.owner}님의 계좌에 {amount}원이 출금 되었습니다. 현재 잔액: {self.__balance}원\"\n",
    "        return \"잔액이 부족합니다.\" \n",
    "    def interest(self):\n",
    "        total = self.__balance * (1 + self.interest_rate)\n",
    "        return f\"{self.interest_rate}% 의 이자가 반영된 금액은 {total:.0f}원 입니다. \"\n",
    "# 인스턴스화\n",
    "acc3 = BankAccount(\"철수\",50000)\n",
    "acc4 = BankAccount(\"영희\",200000)\n",
    "print(acc3.bprint())\n",
    "print(acc4.bprint())\n",
    "print(acc3.interest())\n",
    "print(acc4.interest())\n",
    "# 클래스 변수 바꾸기\n",
    "acc3.interest_rate = 0.03\n",
    "print(acc3.interest())\n",
    "print(acc4.interest())\n",
    "\n",
    "# 공격후\n",
    "# acc3.balance = 9000000\n",
    "# print(acc3.balance)\n",
    "\n",
    "# 내장메소드로 캡슐화된 변수 접근\n",
    "# print(acc3.deposit(30000))\n",
    "# print(acc3.withdraw(5500))"
   ]
  },
  {
   "cell_type": "code",
   "execution_count": 93,
   "id": "da272f2c-2f2c-449f-b68d-9a87f1c7b7e3",
   "metadata": {},
   "outputs": [
    {
     "name": "stdout",
     "output_type": "stream",
     "text": [
      "잔액이 5000원으로 증가했습니다.\n",
      "콜라을(를) 구매했습니다! 남은 잔액: 3500원\n",
      "사이다을(를) 구매했습니다! 남은 잔액: 2100원\n",
      "물을(를) 구매했습니다! 남은 잔액: 1100원\n",
      "잔액 1100원이 반환되었습니다.\n"
     ]
    }
   ],
   "source": [
    "class VendingMachine:\n",
    "    def __init__(self):\n",
    "        \"\"\"자동판매기 초기화\"\"\"\n",
    "        self.balance = 0 # 사용자의 잔액\n",
    "        self.items = {  # 상품 목록 (이름: 가격)\n",
    "            \"콜라\": 1500, \n",
    "            \"사이다\": 1400, \n",
    "            \"물\": 1000\n",
    "        }\n",
    "        \n",
    "    def insert_money(self, amount):\n",
    "        \"\"\"잔액 충전\"\"\"\n",
    "        self.balance += amount\n",
    "        return f\"잔액이 {self.balance}원으로 증가했습니다.\"\n",
    "    def buy_item(self, item_name):\n",
    "        \"\"\"상품 구매\"\"\"\n",
    "        if item_name not in self.items:\n",
    "            return f\"{item_name}은(는) 판매하지 않는 상품입니다.\"\n",
    "        price = self.items[item_name]\n",
    "        if self.balance < price:\n",
    "            return f\"잔액이 부족합니다! ({item_name} 가격: {price}원, 현재 잔액: {self.balance}원)\"\n",
    "        self.balance -= price\n",
    "        return f\"{item_name}을(를) 구매했습니다! 남은 잔액: {self.balance}원\"\n",
    "    def refund(self):\n",
    "        \"\"\"잔액 반환\"\"\"\n",
    "        amount = self.balance\n",
    "        self.balance = 0\n",
    "        return f\"잔액 {amount}원이 반환되었습니다.\"\n",
    "# 자동판매기 객체 생성\n",
    "vm = VendingMachine()\n",
    "# 잔액 충전\n",
    "print(vm.insert_money(5000))    # 잔액이 2000원으로 증가했습니다. \n",
    "# 상품 판매\n",
    "print(vm.buy_item(\"콜라\")) # 콜라을(를) 구매했습니다! 남은 잔액은 500원\n",
    "print(vm.buy_item(\"사이다\")) # 잔액이 부족합니다! (사이다 가격: 1400원, 현재 잔액: 500원)\n",
    "print(vm.buy_item(\"물\"))\n",
    "# 잔액 반환\n",
    "print(vm.refund())"
   ]
  },
  {
   "cell_type": "code",
   "execution_count": null,
   "id": "5a1cd4ca-f588-402e-b29e-899e09ce2b94",
   "metadata": {},
   "outputs": [],
   "source": []
  }
 ],
 "metadata": {
  "kernelspec": {
   "display_name": "Python 3 (ipykernel)",
   "language": "python",
   "name": "python3"
  },
  "language_info": {
   "codemirror_mode": {
    "name": "ipython",
    "version": 3
   },
   "file_extension": ".py",
   "mimetype": "text/x-python",
   "name": "python",
   "nbconvert_exporter": "python",
   "pygments_lexer": "ipython3",
   "version": "3.13.1"
  }
 },
 "nbformat": 4,
 "nbformat_minor": 5
}
