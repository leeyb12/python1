{
 "cells": [
  {
   "cell_type": "markdown",
   "id": "5d8497fb-fcf1-44a1-8892-f6ee7ba31976",
   "metadata": {},
   "source": [
    "# 주피터랩 단축키\n",
    "- a: 위 셀 추가\n",
    "- b: 아래셀 추가\n",
    "- Ctrl + shift + 위: 셀 위로 이동\n",
    "- Ctrl + shift + 아래: 셀 아래로 이동\n",
    "- Shift + Enter : 셀 실행\n",
    "- dd: 셀 삭제\n",
    "- x: 셀 잘라내기\n",
    "- c: 셀 복사\n",
    "- v: 셀 붙여넣기\n",
    "- z: undo\n",
    "- shift + z: redo"
   ]
  },
  {
   "cell_type": "markdown",
   "id": "ed120b8c-1dd7-4f25-9941-565f1bd69115",
   "metadata": {},
   "source": [
    "# print 기초"
   ]
  },
  {
   "cell_type": "code",
   "execution_count": 1,
   "id": "b161ea43-bf84-4dbe-ac5a-5ad4f00b25b0",
   "metadata": {},
   "outputs": [
    {
     "name": "stdout",
     "output_type": "stream",
     "text": [
      "주피터랩에 처음이에요\n",
      "사실은 두번째~~\n"
     ]
    }
   ],
   "source": [
    "print('주피터랩에 처음이에요')\n",
    "print('사실은 두번째~~')"
   ]
  },
  {
   "cell_type": "code",
   "execution_count": 2,
   "id": "10a26844-e1f1-49e3-ac76-8cf5b248addb",
   "metadata": {
    "editable": true,
    "slideshow": {
     "slide_type": ""
    },
    "tags": []
   },
   "outputs": [
    {
     "name": "stdout",
     "output_type": "stream",
     "text": [
      "4610\n"
     ]
    }
   ],
   "source": [
    "print(1277+3333)"
   ]
  },
  {
   "cell_type": "code",
   "execution_count": 3,
   "id": "8789802b-c59d-4278-95f2-42b2fe23e0f9",
   "metadata": {},
   "outputs": [
    {
     "name": "stdout",
     "output_type": "stream",
     "text": [
      "잠이 와요\n"
     ]
    }
   ],
   "source": [
    "print('잠이 와요')"
   ]
  },
  {
   "cell_type": "code",
   "execution_count": 4,
   "id": "67fe0dac-8d84-40e9-9860-f47c8c393643",
   "metadata": {},
   "outputs": [
    {
     "name": "stdout",
     "output_type": "stream",
     "text": [
      "시간이 많이 남았어...\n"
     ]
    }
   ],
   "source": [
    "import time as t\n",
    "print('배고프다',end='\\r')\n",
    "t.sleep(1)\n",
    "print('근데',end='\\r')\n",
    "t.sleep(1)\n",
    "print('시간이 많이 남았어...')"
   ]
  },
  {
   "cell_type": "code",
   "execution_count": 5,
   "id": "4c045094-7fa5-478a-8768-ef2261043856",
   "metadata": {},
   "outputs": [
    {
     "name": "stdout",
     "output_type": "stream",
     "text": [
      "1-2-3-4-5\n"
     ]
    }
   ],
   "source": [
    "print(1,2,3,4,5, sep='-')"
   ]
  },
  {
   "cell_type": "markdown",
   "id": "b44851b9-b4a0-40d3-a136-0f5ab926291f",
   "metadata": {},
   "source": [
    "# 자료형"
   ]
  },
  {
   "cell_type": "markdown",
   "id": "3da038a7-d7b5-44a0-b8c5-311e16e5f291",
   "metadata": {},
   "source": [
    "## 숫자형"
   ]
  },
  {
   "cell_type": "code",
   "execution_count": 6,
   "id": "5ecd927d-8aa4-4300-a89b-42b81101defc",
   "metadata": {
    "editable": true,
    "slideshow": {
     "slide_type": ""
    },
    "tags": []
   },
   "outputs": [
    {
     "name": "stdout",
     "output_type": "stream",
     "text": [
      "덧셈 877\n",
      "==========================\n",
      "뺄셈 677\n",
      "==========================\n",
      "곱셈 77700\n",
      "==========================\n",
      "나누기 7.77\n",
      "==========================\n",
      "몫 7\n",
      "==========================\n",
      "나머지 77\n",
      "==========================\n",
      "승 603729\n",
      "==========================\n"
     ]
    }
   ],
   "source": [
    "# 사칙연산 예\n",
    "sachik = 777\n",
    "sem = 100\n",
    "print('덧셈',sachik + sem, end='\\n==========================\\n')\n",
    "print('뺄셈',sachik - sem, end='\\n==========================\\n')\n",
    "print('곱셈',sachik * sem, end='\\n==========================\\n')\n",
    "print('나누기',sachik / sem, end='\\n==========================\\n')\n",
    "print('몫',sachik //  sem, end='\\n==========================\\n')\n",
    "print('나머지',sachik % sem, end='\\n==========================\\n')\n",
    "print('승',sachik ** 2, end='\\n==========================\\n')"
   ]
  },
  {
   "cell_type": "code",
   "execution_count": 7,
   "id": "42754db2-f417-40c5-8451-d86e4146240a",
   "metadata": {},
   "outputs": [
    {
     "name": "stdout",
     "output_type": "stream",
     "text": [
      "123 -178 0\n"
     ]
    }
   ],
   "source": [
    "# 정수형\n",
    "a= 123\n",
    "b= -178\n",
    "c= 0\n",
    "print(a,b,c)"
   ]
  },
  {
   "cell_type": "code",
   "execution_count": 8,
   "id": "cf73c8c7-08aa-4296-984d-c811631cf793",
   "metadata": {},
   "outputs": [
    {
     "name": "stdout",
     "output_type": "stream",
     "text": [
      "1.2 -3.14 4.24e-10\n"
     ]
    }
   ],
   "source": [
    "# 실수형\n",
    "aa = 1.2\n",
    "bb = -3.14\n",
    "cc = 4.24e-10\n",
    "print(aa,bb,cc)"
   ]
  },
  {
   "cell_type": "code",
   "execution_count": 9,
   "id": "3985df89-7357-47c5-81f3-d2cce86d8720",
   "metadata": {},
   "outputs": [
    {
     "name": "stdout",
     "output_type": "stream",
     "text": [
      "15\n",
      "127 2748\n"
     ]
    }
   ],
   "source": [
    "# 2진수(bin)\n",
    "aaa = 0b1111\n",
    "print(aaa)\n",
    "#8진수(oct)와 16진수(hex)\n",
    "bbb = 0o177\n",
    "ccc = 0xABC\n",
    "print(bbb,ccc)"
   ]
  },
  {
   "cell_type": "code",
   "execution_count": 10,
   "id": "5cc00da0-a5ea-42bb-aeaa-9e7668077969",
   "metadata": {},
   "outputs": [
    {
     "name": "stdout",
     "output_type": "stream",
     "text": [
      "7\n"
     ]
    }
   ],
   "source": [
    "a = 3 \n",
    "b = 4\n",
    "print(a+b)"
   ]
  },
  {
   "cell_type": "code",
   "execution_count": 11,
   "id": "ab4adfc3-5c1f-46b6-955f-0f08acbe9990",
   "metadata": {},
   "outputs": [
    {
     "name": "stdout",
     "output_type": "stream",
     "text": [
      "2\n",
      "3\n",
      "4\n"
     ]
    }
   ],
   "source": [
    "# 복합연산자\n",
    "a = 1\n",
    "a = a + 1 # a += 1\n",
    "print(a)\n",
    "a = a + 1\n",
    "print(a)\n",
    "a = a + 1\n",
    "print(a)"
   ]
  },
  {
   "cell_type": "code",
   "execution_count": 12,
   "id": "07592207-59b4-42dd-9b83-717397ad104b",
   "metadata": {},
   "outputs": [
    {
     "name": "stdout",
     "output_type": "stream",
     "text": [
      "9\n",
      "8\n",
      "7\n"
     ]
    }
   ],
   "source": [
    "# 복합연산자\n",
    "a = 10\n",
    "a -= 1\n",
    "print(a)\n",
    "a -= 1\n",
    "print(a)\n",
    "a -= 1\n",
    "print(a)"
   ]
  },
  {
   "cell_type": "code",
   "execution_count": null,
   "id": "f0d8bf8a-3b7a-4872-a229-83b7691325e3",
   "metadata": {},
   "outputs": [],
   "source": [
    "#복합연산자\n",
    "-=, *=, /=, //=, %=, **="
   ]
  },
  {
   "cell_type": "markdown",
   "id": "8dd41dab-1a2e-402e-94f3-fe019b2eb78d",
   "metadata": {},
   "source": [
    "## 문자열 자료형"
   ]
  },
  {
   "cell_type": "markdown",
   "id": "b47392bc-c89b-4963-bb22-ce55063d12f0",
   "metadata": {},
   "source": [
    "### 문자열 연산하기"
   ]
  },
  {
   "cell_type": "code",
   "execution_count": 7,
   "id": "2c1a162d-5491-43c0-b83c-b41dc2292762",
   "metadata": {},
   "outputs": [
    {
     "name": "stdout",
     "output_type": "stream",
     "text": [
      "문자형입니다.\n",
      "\n",
      "이것은 여러 줄 문자열 처리입니다. \n",
      "\n",
      "\n",
      "이것도 여러 줄 문자열 입니다. \n",
      "\n"
     ]
    }
   ],
   "source": [
    "# 주석처리입니다.\n",
    "str1 = '문자형입니다.'\n",
    "print(str1)\n",
    "\n",
    "str2 = '''\n",
    "이것은 여러 줄 문자열 처리입니다. \n",
    "'''\n",
    "print(str2) \n",
    "str3 = \"\"\"\n",
    "이것도 여러 줄 문자열 입니다. \n",
    "\"\"\"\n",
    "print(str3)"
   ]
  },
  {
   "cell_type": "code",
   "execution_count": 8,
   "id": "212743d8-22ae-427a-9fbc-c3427ee910e5",
   "metadata": {},
   "outputs": [
    {
     "name": "stdout",
     "output_type": "stream",
     "text": [
      "Python's 'favorite' food is perl\n"
     ]
    }
   ],
   "source": [
    "#food = \"Python's favorite food is perl\"\n",
    "food = \"Python\\'s \\'favorite\\' food is perl\"\n",
    "print(food)"
   ]
  },
  {
   "cell_type": "code",
   "execution_count": 9,
   "id": "2c6eb12a-bc16-414c-98ee-af497df13cb3",
   "metadata": {},
   "outputs": [
    {
     "name": "stdout",
     "output_type": "stream",
     "text": [
      "Life is too short\n",
      "You need python\n"
     ]
    }
   ],
   "source": [
    "multiline = \"Life is too short\\nYou need python\"\n",
    "print(multiline)"
   ]
  },
  {
   "cell_type": "code",
   "execution_count": 10,
   "id": "57cf3a49-2445-44ab-a4df-111868134a6c",
   "metadata": {},
   "outputs": [
    {
     "name": "stdout",
     "output_type": "stream",
     "text": [
      "\n",
      "Life is too short\n",
      "You need python\n",
      "\n"
     ]
    }
   ],
   "source": [
    "multiline = '''\n",
    "Life is too short\n",
    "You need python\n",
    "'''\n",
    "print(multiline)"
   ]
  },
  {
   "cell_type": "code",
   "execution_count": 11,
   "id": "cd9d8b6b-fc80-4acd-8e9f-e346410886cd",
   "metadata": {},
   "outputs": [
    {
     "name": "stdout",
     "output_type": "stream",
     "text": [
      "\n",
      "Life is too short\n",
      "You need python\n",
      "\n"
     ]
    }
   ],
   "source": [
    "multiline =\"\"\"\n",
    "Life is too short\n",
    "You need python\n",
    "\"\"\"\n",
    "print(multiline)"
   ]
  },
  {
   "cell_type": "markdown",
   "id": "42e6d986-9637-49eb-acf6-edafa14907a2",
   "metadata": {},
   "source": [
    "<table>\n",
    "<thead>\n",
    "<tr>\n",
    "<th>코드</th>\n",
    "<th>설명</th>\n",
    "</tr>\n",
    "</thead>\n",
    "<tbody>\n",
    "<tr>\n",
    "<td><code>\\n</code></td>\n",
    "<td>문자열 안에서 줄을 바꿀 때 사용</td>\n",
    "</tr>\n",
    "<tr>\n",
    "<td><code>\\t</code></td>\n",
    "<td>문자열 사이에 탭 간격을 줄 때 사용</td>\n",
    "</tr>\n",
    "<tr>\n",
    "<td><code>\\\\</code></td>\n",
    "<td><code>\\</code>를 그대로 표현할 때 사용</td>\n",
    "</tr>\n",
    "<tr>\n",
    "<td><code>\\'</code></td>\n",
    "<td>작은따옴표(')를 그대로 표현할 때 사용</td>\n",
    "</tr>\n",
    "<tr>\n",
    "<td><code>\\\"</code></td>\n",
    "<td>큰따옴표(\")를 그대로 표현할 때 사용</td>\n",
    "</tr>\n",
    "<tr>\n",
    "<td><code>\\r</code></td>\n",
    "<td>캐리지 리턴(줄 바꿈 문자, 커서를 현재 줄의 가장 앞으로 이동)</td>\n",
    "</tr>\n",
    "<tr>\n",
    "<td><code>\\f</code></td>\n",
    "<td>폼 피드(줄 바꿈 문자, 커서를 현재 줄의 다음 줄로 이동)</td>\n",
    "</tr>\n",
    "<tr>\n",
    "<td><code>\\a</code></td>\n",
    "<td>벨 소리(출력할 때 PC 스피커에서 '삑' 소리가 난다)</td>\n",
    "</tr>\n",
    "<tr>\n",
    "<td><code>\\b</code></td>\n",
    "<td>백 스페이스</td>\n",
    "</tr>\n",
    "<tr>\n",
    "<td><code>\\000</code></td>\n",
    "<td>널 문자</td>\n",
    "</tr>\n",
    "</tbody>\n",
    "</table>"
   ]
  },
  {
   "cell_type": "code",
   "execution_count": 12,
   "id": "75cd6d62-b5b7-4327-a9ca-a5c327e7b1fe",
   "metadata": {},
   "outputs": [
    {
     "name": "stdout",
     "output_type": "stream",
     "text": [
      "Pythonis fun!\n"
     ]
    }
   ],
   "source": [
    "# 문자열 연산하기 \n",
    "head = \"Python\"\n",
    "tail = \"is fun!\"\n",
    "print(head + tail)"
   ]
  },
  {
   "cell_type": "code",
   "execution_count": 13,
   "id": "0bc11854-69b5-4e3e-a099-6bb3161625ca",
   "metadata": {},
   "outputs": [
    {
     "name": "stdout",
     "output_type": "stream",
     "text": [
      "Python\n",
      "Python\n",
      "Python\n",
      "Python\n",
      "Python\n",
      "\n"
     ]
    }
   ],
   "source": [
    "a = \"Python\" + \"\\n\"\n",
    "print(a * 5) "
   ]
  },
  {
   "cell_type": "code",
   "execution_count": 14,
   "id": "8333ec55-5a2e-41ed-917e-cf3d1ba5458e",
   "metadata": {},
   "outputs": [
    {
     "name": "stdout",
     "output_type": "stream",
     "text": [
      "===============\n",
      "    영 수 증\n",
      "===============\n",
      "아메리카노:17100원\n",
      "라떼:7200원\n",
      "허브티:13200원\n",
      "===============\n"
     ]
    }
   ],
   "source": [
    "# 숫자계산\n",
    "p1 = 5700 * 3\n",
    "p2 = 7200 * 1\n",
    "p3 = 6600 * 2\n",
    "\n",
    "# 문자열계산\n",
    "m1 = \"아메리카노:\" + str(p1) + \"원\\n\" # 문자랑 숫자는 더할 수 없다. \n",
    "m2 = \"라떼:\" + str(p2) + \"원\\n\"\n",
    "m3 = \"허브티:\" + str(p3) +\"원\"\n",
    "title = \"    \" + \"영 수 증\" #문자와 문자는 더할 수 있다. \n",
    "\n",
    "# 출력 조합\n",
    "pp = ''\n",
    "pp += (\"=\" * 15)+'\\n' # 문자랑 숫자는 곱할 수 있다. \n",
    "pp += (title)+'\\n'\n",
    "pp += (\"=\" * 15)+'\\n'\n",
    "pp += (m1+m2+m3)+'\\n'\n",
    "pp += (\"=\"*15)\n",
    "\n",
    "# 출력\n",
    "print(pp)"
   ]
  },
  {
   "cell_type": "code",
   "execution_count": 15,
   "id": "6f6025ea-fa24-48b6-99f2-b145b0b95b29",
   "metadata": {},
   "outputs": [
    {
     "name": "stdout",
     "output_type": "stream",
     "text": [
      "17\n"
     ]
    }
   ],
   "source": [
    "a = \"Life is too short\"\n",
    "print(len(a))"
   ]
  },
  {
   "cell_type": "markdown",
   "id": "414f5fc6-51ff-48ff-bf73-7f4db46e759c",
   "metadata": {},
   "source": [
    "### 문자열 인덱싱과 슬라이싱"
   ]
  },
  {
   "cell_type": "code",
   "execution_count": 16,
   "id": "4b50dea0-6b42-428b-815a-f098e7225cbb",
   "metadata": {},
   "outputs": [
    {
     "name": "stdout",
     "output_type": "stream",
     "text": [
      "Life\n",
      "L i f e\n"
     ]
    }
   ],
   "source": [
    "print(a[0] + a[1] + a[2] + a[3])\n",
    "print(a[0], a[1], a[2], a[3])"
   ]
  },
  {
   "cell_type": "code",
   "execution_count": 17,
   "id": "5fe91a13-37fe-4dbc-bbe2-5149eecd284f",
   "metadata": {},
   "outputs": [
    {
     "name": "stdout",
     "output_type": "stream",
     "text": [
      "too\n"
     ]
    }
   ],
   "source": [
    "# too 출력하기 \n",
    "print(a[8] + a[9] + a[10])"
   ]
  },
  {
   "cell_type": "code",
   "execution_count": 18,
   "id": "43158eaf-e5b4-4d3f-8222-75edb55210e5",
   "metadata": {},
   "outputs": [
    {
     "name": "stdout",
     "output_type": "stream",
     "text": [
      "t r\n"
     ]
    }
   ],
   "source": [
    "print(a[-1],a[-2])"
   ]
  },
  {
   "cell_type": "code",
   "execution_count": 19,
   "id": "1d0c587e-4f45-4fc7-b80f-078b1ac6f7b6",
   "metadata": {},
   "outputs": [
    {
     "name": "stdout",
     "output_type": "stream",
     "text": [
      "too\n",
      "need\n"
     ]
    }
   ],
   "source": [
    "a = \"Life is too short, You need Python\"\n",
    "# too 출력하기 \n",
    "print(a[8:11]) # 8 <= a < 11\n",
    "print(a[23:27])"
   ]
  },
  {
   "cell_type": "code",
   "execution_count": 20,
   "id": "94200f7e-759b-48be-baba-3385a4989d41",
   "metadata": {},
   "outputs": [
    {
     "name": "stdout",
     "output_type": "stream",
     "text": [
      "Life is too short, You need\n"
     ]
    }
   ],
   "source": [
    "a = \"Life is too short, You need Python\"\n",
    "print(a[:27])"
   ]
  },
  {
   "cell_type": "code",
   "execution_count": 21,
   "id": "7e2663c5-875a-4777-9da7-9f07d68e46cf",
   "metadata": {},
   "outputs": [
    {
     "name": "stdout",
     "output_type": "stream",
     "text": [
      "Python\n"
     ]
    }
   ],
   "source": [
    "print(a[28:])"
   ]
  },
  {
   "cell_type": "code",
   "execution_count": 34,
   "id": "d3a9dfc3-7af6-4514-828b-e6eff2f53b38",
   "metadata": {},
   "outputs": [
    {
     "name": "stdout",
     "output_type": "stream",
     "text": [
      "nohtyP deen uoY ,trohs oot si efiL\n"
     ]
    }
   ],
   "source": [
    "print(a[::-1])"
   ]
  },
  {
   "cell_type": "code",
   "execution_count": 40,
   "id": "3b953f3b-6075-4a75-a2e6-26a9eec0a757",
   "metadata": {},
   "outputs": [],
   "source": [
    "today = \"20250203오늘은화창하다!\""
   ]
  },
  {
   "cell_type": "code",
   "execution_count": 42,
   "id": "65f71e9f-ddd7-4e09-9ff6-e7e116b98118",
   "metadata": {},
   "outputs": [
    {
     "name": "stdout",
     "output_type": "stream",
     "text": [
      "20250203\n"
     ]
    }
   ],
   "source": [
    "print(today[0:4] + today[4:8])"
   ]
  },
  {
   "cell_type": "code",
   "execution_count": 43,
   "id": "51bbf43a-6c03-48b6-9f59-a38d8bf918c1",
   "metadata": {},
   "outputs": [
    {
     "name": "stdout",
     "output_type": "stream",
     "text": [
      "오늘은화창하다!\n"
     ]
    }
   ],
   "source": [
    "print(today[8:])"
   ]
  },
  {
   "cell_type": "code",
   "execution_count": 49,
   "id": "ef6184a1-f073-4ad0-8db6-6bae6f9e46f6",
   "metadata": {},
   "outputs": [
    {
     "name": "stdout",
     "output_type": "stream",
     "text": [
      "2025년 02월 03일 오늘은 화창하다!\n"
     ]
    }
   ],
   "source": [
    "year = today[0:4] + '년' + ' '\n",
    "month = today[4:6] + '월' + ' ' \n",
    "day = today[6:8] + '일' + ' '  \n",
    "date = today[8:11] + ' ' \n",
    "weather = today[11:] \n",
    "print(year + month + day + date + weather)"
   ]
  },
  {
   "cell_type": "code",
   "execution_count": 5,
   "id": "297fe08f-ca25-4e98-8ef2-4de26fc8b62e",
   "metadata": {},
   "outputs": [
    {
     "name": "stdout",
     "output_type": "stream",
     "text": [
      "한국서 돈벌고 '나 몰라라' 코스트코… 연회비 인상률은 미국의 2배\n",
      "한국서 돈벌고 '나 몰라라' 코스트코… 연회비 인상률은 미국의 3배\n"
     ]
    }
   ],
   "source": [
    "import requests\n",
    "url = 'https://v.daum.net/v/20250203151815463'\n",
    "res = requests.get(url).text\n",
    "result = res[374:411]\n",
    "out = (result[:-2] + '3' + result[-1])\n",
    "print(result)\n",
    "print(out)"
   ]
  },
  {
   "cell_type": "code",
   "execution_count": 6,
   "id": "22254787-ff53-4ee5-b3e1-baf89a293563",
   "metadata": {},
   "outputs": [
    {
     "name": "stdout",
     "output_type": "stream",
     "text": [
      "한국서 돈벌고 '나 몰라라' 코스트코… 연회비 인상률은 미국의 10배\n"
     ]
    }
   ],
   "source": [
    "# 목표 츨력\n",
    "print(\"한국서 돈벌고 '나 몰라라' 코스트코… 연회비 인상률은 미국의 %d배\" %10) "
   ]
  },
  {
   "cell_type": "code",
   "execution_count": 4,
   "id": "f5c1b324-dae7-401d-8cdd-1ef5d2a7c051",
   "metadata": {},
   "outputs": [
    {
     "name": "stdout",
     "output_type": "stream",
     "text": [
      "뿌요의 톡쏘는 일상 : 네이버 블로그\n",
      "핫토리의 톡쏘는 일상 : 네이버 블로그\n"
     ]
    }
   ],
   "source": [
    "import requests\n",
    "url = 'https://blog.naver.com/droad777'\n",
    "res = requests.get(url).text\n",
    "result = res[895:915]\n",
    "out = (result[:0] + \"핫토리\" + result[2:21])\n",
    "print(result)\n",
    "print(out)"
   ]
  },
  {
   "cell_type": "code",
   "execution_count": 1,
   "id": "4d8aafcf-99a2-422a-afa5-8ce112acd10f",
   "metadata": {},
   "outputs": [
    {
     "name": "stdout",
     "output_type": "stream",
     "text": [
      "대빵의 톡쏘는 일상 : 네어비 블로그\n"
     ]
    }
   ],
   "source": [
    "# 목표 출력\n",
    "print(\"대빵의 톡쏘는 일상 : 네어비 블로그\")"
   ]
  },
  {
   "cell_type": "code",
   "execution_count": null,
   "id": "ea3b38b6-d32e-48bd-8029-e9bfe5955f0d",
   "metadata": {},
   "outputs": [],
   "source": [
    "# p.62 "
   ]
  },
  {
   "cell_type": "markdown",
   "id": "6a49c4e4-d7eb-4ebc-adb8-3d15da89c9c8",
   "metadata": {},
   "source": [
    "### 문자열 포매팅"
   ]
  },
  {
   "cell_type": "code",
   "execution_count": 18,
   "id": "f7b6be24-0e50-4ce1-a155-7904bd368a72",
   "metadata": {},
   "outputs": [
    {
     "name": "stdout",
     "output_type": "stream",
     "text": [
      "I eat 3 apples.\n",
      "I eat 17 apples.\n",
      "I eat 12 apples.\n"
     ]
    }
   ],
   "source": [
    "print(\"I eat 3 apples.\")\n",
    "print(\"I eat %d apples.\" %17) # %d은 숫자\n",
    "print(\"I eat %s apples.\" %12) # %s는 문자열"
   ]
  },
  {
   "cell_type": "markdown",
   "id": "9e58cadc-16b4-4ca6-8d16-39d7b15a9f02",
   "metadata": {},
   "source": [
    "<table>\n",
    "<thead>\n",
    "<tr>\n",
    "<th>코드</th>\n",
    "<th>설명</th>\n",
    "</tr>\n",
    "</thead>\n",
    "<tbody>\n",
    "<tr>\n",
    "<td>%s</td>\n",
    "<td>문자열(String)</td>\n",
    "</tr>\n",
    "<tr>\n",
    "<td>%c</td>\n",
    "<td>문자 1개(character)</td>\n",
    "</tr>\n",
    "<tr>\n",
    "<td>%d</td>\n",
    "<td>정수(Integer)</td>\n",
    "</tr>\n",
    "<tr>\n",
    "<td>%f</td>\n",
    "<td>부동소수(floating-point)</td>\n",
    "</tr>\n",
    "<tr>\n",
    "<td>%o</td>\n",
    "<td>8진수</td>\n",
    "</tr>\n",
    "<tr>\n",
    "<td>%x</td>\n",
    "<td>16진수</td>\n",
    "</tr>\n",
    "<tr>\n",
    "<td>%%</td>\n",
    "<td>Literal % (문자 <code>%</code> 자체)</td>\n",
    "</tr>\n",
    "</tbody>\n",
    "</table>"
   ]
  },
  {
   "cell_type": "code",
   "execution_count": 17,
   "id": "8932d6bf-fc37-4421-af78-adbd50693737",
   "metadata": {},
   "outputs": [
    {
     "name": "stdout",
     "output_type": "stream",
     "text": [
      "사람 몸의 수분은 60% 이다\n"
     ]
    }
   ],
   "source": [
    "print(\"사람 몸의 수분은 %d%% 이다\" %60)"
   ]
  },
  {
   "cell_type": "code",
   "execution_count": 24,
   "id": "392fcbdd-ef6d-41c3-8d33-67948c18aed6",
   "metadata": {},
   "outputs": [
    {
     "name": "stdout",
     "output_type": "stream",
     "text": [
      "십진수로 123은 16진수로 7b이다\n",
      "십진수로 123은 8진수로 173이다\n"
     ]
    }
   ],
   "source": [
    "print(\"십진수로 %d은 16진수로 %x이다\" %(123,123))\n",
    "print(\"십진수로 %d은 8진수로 %o이다\" %(123,123))"
   ]
  },
  {
   "cell_type": "code",
   "execution_count": 26,
   "id": "1b2c6a45-c2eb-4b74-b384-d621ef6cd526",
   "metadata": {},
   "outputs": [
    {
     "name": "stdout",
     "output_type": "stream",
     "text": [
      "십진수은 130은 8진수은 202이고 16진수은 82이다.\n"
     ]
    }
   ],
   "source": [
    "print(\"십진수은 %d은 8진수은 %o이고 16진수은 %x이다.\" %(130,130,130))"
   ]
  },
  {
   "cell_type": "code",
   "execution_count": 29,
   "id": "88a2a2e9-7515-4a9c-b0cb-e5621a7fad0c",
   "metadata": {},
   "outputs": [
    {
     "name": "stdout",
     "output_type": "stream",
     "text": [
      "        hi\n"
     ]
    }
   ],
   "source": [
    "# 정렬과 공백 (오른쪽 정렬)\n",
    "print(\"%10s\" %\"hi\")"
   ]
  },
  {
   "cell_type": "markdown",
   "id": "e7caa1bb-9f14-4e1f-b5f8-43c8f44d7ce9",
   "metadata": {},
   "source": [
    "<img src=\"https://wikidocs.net/images/page/13/02_2_formating1.png\" width=400>"
   ]
  },
  {
   "cell_type": "code",
   "execution_count": 30,
   "id": "31854bde-f93d-4f4e-b38e-a9b5485bf97f",
   "metadata": {},
   "outputs": [
    {
     "name": "stdout",
     "output_type": "stream",
     "text": [
      "hi        jane\n"
     ]
    }
   ],
   "source": [
    "# 정렬과 공백 (음수일 때 왼쪽 정렬)\n",
    "print(\"%-10sjane\" % \"hi\")"
   ]
  },
  {
   "cell_type": "code",
   "execution_count": 46,
   "id": "7d567dac-51e4-4414-bfa7-9491dafa3e0a",
   "metadata": {},
   "outputs": [
    {
     "name": "stdout",
     "output_type": "stream",
     "text": [
      "3.1416\n",
      "    3.1416\n"
     ]
    }
   ],
   "source": [
    "# 소수점 표현하기\n",
    "print(\"%.4f\" %3.141592)\n",
    "print(\"%10.4f\" %3.141592)"
   ]
  },
  {
   "cell_type": "markdown",
   "id": "a39088a2-a223-4ab7-840d-aedf0e6101de",
   "metadata": {},
   "source": [
    "<img src=\"https://wikidocs.net/images/page/13/02_2_formating3.png\" width =400>"
   ]
  },
  {
   "attachments": {
    "a5527a11-7e6e-4527-ab45-7e48d955ca78.png": {
     "image/png": "[encoded data removed]"
    }
   },
   "cell_type": "markdown",
   "id": "fdd304c9-345f-46b7-b027-bfa7ad676195",
   "metadata": {},
   "source": [
    "![image.png](attachment:a5527a11-7e6e-4527-ab45-7e48d955ca78.png)"
   ]
  },
  {
   "cell_type": "code",
   "execution_count": 56,
   "id": "423d6371-79a2-44d9-a36f-0479e6a44e43",
   "metadata": {},
   "outputs": [],
   "source": [
    "# 스크린샷을 하고  Markdown으로 바꾸고 shift+ctrl으로 변환"
   ]
  },
  {
   "cell_type": "markdown",
   "id": "ca362632-a0a2-46d0-a5a7-8e6503b0c2e6",
   "metadata": {},
   "source": [
    "### format 함수를 사용한 포매팅"
   ]
  },
  {
   "cell_type": "code",
   "execution_count": 61,
   "id": "1238699e-75d2-4518-99c5-5ea17f9fced1",
   "metadata": {},
   "outputs": [
    {
     "name": "stdout",
     "output_type": "stream",
     "text": [
      "I eat 3 of 10 apples\n"
     ]
    }
   ],
   "source": [
    "# 바로 대입하기\n",
    "print(\"I eat {0} of {1} apples\".format(3, 10))"
   ]
  },
  {
   "cell_type": "code",
   "execution_count": 62,
   "id": "8773909e-40eb-4404-bd2e-bb1ec25d6429",
   "metadata": {},
   "outputs": [
    {
     "name": "stdout",
     "output_type": "stream",
     "text": [
      "I eat three of 10 apples\n"
     ]
    }
   ],
   "source": [
    "# 변수로 대입하기\n",
    "total = 10 \n",
    "ea = \"three\"\n",
    "print(\"I eat {0} of {1} apples\".format(ea, total))"
   ]
  },
  {
   "cell_type": "code",
   "execution_count": 59,
   "id": "26071c59-8350-4e98-a5ab-750e87f02751",
   "metadata": {},
   "outputs": [
    {
     "name": "stdout",
     "output_type": "stream",
     "text": [
      "I eat three of 10 apples\n"
     ]
    }
   ],
   "source": [
    "print(\"I eat {ea} of {total} apples\".format(ea=\"three\", total=10))"
   ]
  },
  {
   "cell_type": "code",
   "execution_count": 63,
   "id": "65186c73-636f-4a1e-9933-64fa5e682ea3",
   "metadata": {},
   "outputs": [
    {
     "name": "stdout",
     "output_type": "stream",
     "text": [
      "I ate 10 apples. so I was sick for 3 days.\n"
     ]
    }
   ],
   "source": [
    "# 인덱스와 이름을 혼용해서 넣기\n",
    "print(\"I ate {0} apples. so I was sick for {day} days.\".format(10, day=3))"
   ]
  },
  {
   "cell_type": "code",
   "execution_count": 72,
   "id": "bb9cf768-ec5a-443d-a3ce-36cba909c788",
   "metadata": {},
   "outputs": [
    {
     "name": "stdout",
     "output_type": "stream",
     "text": [
      "        hi\n"
     ]
    }
   ],
   "source": [
    "# 우측 정렬\n",
    "print(\"{0:>10}\".format(\"hi\"))"
   ]
  },
  {
   "cell_type": "code",
   "execution_count": 70,
   "id": "79178f76-86bc-4204-98d5-ee9b69fab74f",
   "metadata": {},
   "outputs": [
    {
     "name": "stdout",
     "output_type": "stream",
     "text": [
      "    hi    \n"
     ]
    }
   ],
   "source": [
    "# 가운데 정렬\n",
    "print(\"{0:^10}\".format(\"hi\")) "
   ]
  },
  {
   "cell_type": "code",
   "execution_count": 73,
   "id": "7c02a889-8d80-4390-bbab-ac505432b3b5",
   "metadata": {},
   "outputs": [
    {
     "name": "stdout",
     "output_type": "stream",
     "text": [
      "hi        \n"
     ]
    }
   ],
   "source": [
    "# 좌측 정렬\n",
    "print(\"{0:<10}\".format(\"hi\")) "
   ]
  },
  {
   "cell_type": "code",
   "execution_count": 77,
   "id": "6aa9b1c0-04d9-4ec2-9700-594f9bafedee",
   "metadata": {},
   "outputs": [
    {
     "name": "stdout",
     "output_type": "stream",
     "text": [
      "ㅋㅋㅋㅋㅋㅋㅋㅋ웃겨!ㅋㅋㅋㅋㅋㅋㅋㅋㅋ\n"
     ]
    }
   ],
   "source": [
    "# 가운데 정렬 + 글자 채우기\n",
    "print(\"{0:ㅋ^20}\".format(\"웃겨!\"))"
   ]
  },
  {
   "cell_type": "code",
   "execution_count": 79,
   "id": "c251f467-3c61-4e50-a6ec-4836cdd08a15",
   "metadata": {},
   "outputs": [
    {
     "name": "stdout",
     "output_type": "stream",
     "text": [
      "              3.1416\n"
     ]
    }
   ],
   "source": [
    "# 소수점 표현하기\n",
    "pi = 3.141592\n",
    "print(\"{0:20.4f}\".format(pi))"
   ]
  },
  {
   "cell_type": "code",
   "execution_count": 80,
   "id": "6cc6fe23-da35-4096-afe4-c8321322a78d",
   "metadata": {},
   "outputs": [
    {
     "name": "stdout",
     "output_type": "stream",
     "text": [
      "중괄호 는 { 과 } 입니다.\n"
     ]
    }
   ],
   "source": [
    "# 이스케이프 처리\n",
    "print(\"{0} 는 {{ 과 }} 입니다.\".format(\"중괄호\"))"
   ]
  },
  {
   "cell_type": "code",
   "execution_count": 81,
   "id": "939430c0-2dab-484e-ab92-1e0560e9fd2f",
   "metadata": {},
   "outputs": [
    {
     "name": "stdout",
     "output_type": "stream",
     "text": [
      "1111011\n"
     ]
    }
   ],
   "source": [
    "# 2진수 처리\n",
    "print(\"{0:b}\".format(123))"
   ]
  },
  {
   "cell_type": "code",
   "execution_count": 96,
   "id": "a304eff2-8072-4679-ab5a-cd05851b7df7",
   "metadata": {},
   "outputs": [
    {
     "name": "stdout",
     "output_type": "stream",
     "text": [
      "01111011\n"
     ]
    }
   ],
   "source": [
    "# 출력하라 0111 1011\n",
    "# 2진수 처리\n",
    "print(\"{0:0>8b}\".format(123))"
   ]
  },
  {
   "cell_type": "markdown",
   "id": "46056364-0d0d-456d-95e5-4d6351fce7d7",
   "metadata": {},
   "source": [
    "### f 문자열 포매팅"
   ]
  },
  {
   "cell_type": "code",
   "execution_count": 105,
   "id": "faafe735-2e1a-43e1-b566-b70ea17e17b8",
   "metadata": {},
   "outputs": [
    {
     "name": "stdout",
     "output_type": "stream",
     "text": [
      "나의 이름은 홍길동입니다. 나이는 30입니다.\n",
      "내년이면 31살이 됩니다.\n"
     ]
    }
   ],
   "source": [
    "# \" \" .format() -> f\" \"\n",
    "name = \"홍길동\"\n",
    "age = 30\n",
    "print(f\"나의 이름은 {name}입니다. 나이는 {age}입니다.\")\n",
    "print(f\"내년이면 {age+1}살이 됩니다.\")"
   ]
  },
  {
   "cell_type": "code",
   "execution_count": 102,
   "id": "9ab1a0e6-3a8c-4e98-bb09-952457691284",
   "metadata": {},
   "outputs": [
    {
     "name": "stdout",
     "output_type": "stream",
     "text": [
      "나의 이름은 홍길동 입니다. 나이는 30 입니다. 성별은 male 입니다.\n"
     ]
    }
   ],
   "source": [
    "d = {'name': '홍길동', 'age':30, 'gen':'male'}\n",
    "print(f'나의 이름은 {d[\"name\"]} 입니다. 나이는 {d[\"age\"]} 입니다. 성별은 {d[\"gen\"]} 입니다.')"
   ]
  },
  {
   "cell_type": "code",
   "execution_count": 104,
   "id": "5cc95e07-d3bb-45a2-acad-8251a672d858",
   "metadata": {},
   "outputs": [
    {
     "name": "stdout",
     "output_type": "stream",
     "text": [
      "hi        \n",
      "        hi\n",
      "    hi    \n"
     ]
    }
   ],
   "source": [
    "# 왼쪽 정렬\n",
    "print(f'{\"hi\":<10}')\n",
    "# 오른쪽 정렬\n",
    "print(f'{\"hi\":>10}')\n",
    "# 가운데 정렬\n",
    "print(f'{\"hi\":^10}')"
   ]
  },
  {
   "cell_type": "code",
   "execution_count": 113,
   "id": "94ba4a6e-9e7c-422a-af48-5d04ef794677",
   "metadata": {},
   "outputs": [
    {
     "name": "stdout",
     "output_type": "stream",
     "text": [
      "====hi====\n",
      "hi!!!!!!!!\n"
     ]
    }
   ],
   "source": [
    "print(f'{\"hi\":=^10}') # 가운데 정렬하고 '=' 문자로 공백 채우기\n",
    "print(f'{\"hi\":!<10}') # 왼쪽 정렬하고 '!' 문자로 공백 채우기"
   ]
  },
  {
   "cell_type": "code",
   "execution_count": 107,
   "id": "e91183b6-f93e-47e3-b483-96be46d5c281",
   "metadata": {
    "editable": true,
    "slideshow": {
     "slide_type": ""
    },
    "tags": []
   },
   "outputs": [
    {
     "name": "stdout",
     "output_type": "stream",
     "text": [
      "3.4213\n",
      "    3.4213\n"
     ]
    }
   ],
   "source": [
    "y = 3.42134234\n",
    "print(f'{y:0.4f}') # 소수점 4자리까지만 표현\n",
    "print(f'{y:10.4f}') # 소수점 4자리까지 표현하고 총 자리수를 10으로 맟춤"
   ]
  },
  {
   "cell_type": "code",
   "execution_count": 108,
   "id": "d1797243-4f5b-47c4-98fe-8520e7129d8d",
   "metadata": {},
   "outputs": [
    {
     "name": "stdout",
     "output_type": "stream",
     "text": [
      "{and}\n"
     ]
    }
   ],
   "source": [
    "print(f'{{and}}')"
   ]
  },
  {
   "cell_type": "markdown",
   "id": "932d6c2b-18a8-4759-9d97-73c7060e0e2b",
   "metadata": {},
   "source": [
    "### 문자열 관련 함수들"
   ]
  },
  {
   "cell_type": "code",
   "execution_count": 140,
   "id": "de2fd66e-44c0-46fc-9c4c-957d563d1abc",
   "metadata": {},
   "outputs": [
    {
     "data": {
      "text/plain": [
       "2"
      ]
     },
     "execution_count": 140,
     "metadata": {},
     "output_type": "execute_result"
    }
   ],
   "source": [
    "# 문자 개수 세기 Count\n",
    "\"hobby\".count('b')"
   ]
  },
  {
   "cell_type": "code",
   "execution_count": 118,
   "id": "f43d8269-38c4-434a-aef7-7cf6ee1856c4",
   "metadata": {},
   "outputs": [
    {
     "name": "stdout",
     "output_type": "stream",
     "text": [
      "한국서 돈벌고 '나 몰라라' 코스트코… 연회비 인상률은 미국의 3배\n",
      "1\n"
     ]
    }
   ],
   "source": [
    "import requests\n",
    "url = 'https://v.daum.net/v/20250203151815463'\n",
    "res = requests.get(url).text\n",
    "result = res[374:411]\n",
    "out = (result[:-2] + '3' + result[-1])\n",
    "print(out)\n",
    "print(out.count('한국'))"
   ]
  },
  {
   "cell_type": "code",
   "execution_count": 121,
   "id": "a373e5a9-a9d8-4746-932c-4982e4815a13",
   "metadata": {},
   "outputs": [
    {
     "name": "stdout",
     "output_type": "stream",
     "text": [
      "한국서 돈벌고 '나 몰라라' 코스트코… 연회비 인상률은 미국의 3배\n",
      "-1\n"
     ]
    }
   ],
   "source": [
    "# 위치알려주기1 find\n",
    "print(out)\n",
    "print(out.find('밥'))"
   ]
  },
  {
   "cell_type": "code",
   "execution_count": 125,
   "id": "dd4f688c-0e15-4114-a31d-11732e58a29f",
   "metadata": {},
   "outputs": [
    {
     "name": "stdout",
     "output_type": "stream",
     "text": [
      "374\n"
     ]
    }
   ],
   "source": [
    "import requests\n",
    "url = 'https://v.daum.net/v/20250203151815463'\n",
    "res = requests.get(url).text\n",
    "print(res.find('한'))"
   ]
  },
  {
   "cell_type": "code",
   "execution_count": 138,
   "id": "d0159998-ffdd-429f-89e7-d630e44b4f2b",
   "metadata": {},
   "outputs": [
    {
     "name": "stdout",
     "output_type": "stream",
     "text": [
      "41529\n",
      "좋아하는 노래제목: toxic till the end\n"
     ]
    }
   ],
   "source": [
    "import requests\n",
    "url = 'https://music.apple.com/kr/playlist/%EC%98%A4%EB%8A%98%EC%9D%98-top-100-%EB%8C%80%ED%95%9C%EB%AF%BC%EA%B5%AD/pl.d3d10c32fbc540b38e266367dc8cb00c' \n",
    "res = requests.get(url).text\n",
    "print(res.find('toxic till the end'))\n",
    "# print(res.find('toxic till the end')) # 없으면 오류 발생\n",
    "print('좋아하는 노래제목:',res[41529:41547])"
   ]
  },
  {
   "cell_type": "code",
   "execution_count": null,
   "id": "4a4c092a-42f1-4d03-88c0-5cfb1b540348",
   "metadata": {},
   "outputs": [],
   "source": [
    "dir(str)"
   ]
  },
  {
   "cell_type": "code",
   "execution_count": 141,
   "id": "ee3cb486-4e48-4f21-a1bd-568dcf42b03c",
   "metadata": {},
   "outputs": [
    {
     "name": "stdout",
     "output_type": "stream",
     "text": [
      "a,b,c,d,e,f,g\n"
     ]
    }
   ],
   "source": [
    "# 문자열 삽입 join *\n",
    "# 리스트, 튜플을 문자열로\n",
    "print(\",\".join('abcdefg'))"
   ]
  },
  {
   "cell_type": "code",
   "execution_count": 142,
   "id": "721bf5f9-00b5-401e-a4e2-b523236a64b6",
   "metadata": {},
   "outputs": [
    {
     "name": "stdout",
     "output_type": "stream",
     "text": [
      "a,b,c,d\n"
     ]
    }
   ],
   "source": [
    "print(\",\".join(['a', 'b', 'c', 'd']))"
   ]
  },
  {
   "cell_type": "code",
   "execution_count": 143,
   "id": "b9c5fd46-d924-4843-8123-97ab312d9608",
   "metadata": {},
   "outputs": [
    {
     "name": "stdout",
     "output_type": "stream",
     "text": [
      "HI\n"
     ]
    }
   ],
   "source": [
    "# 소문자를 대문자로 바꾸기 upper\n",
    "a =\"hi\"\n",
    "print(a.upper())"
   ]
  },
  {
   "cell_type": "code",
   "execution_count": 144,
   "id": "7e95530c-ca5d-4e05-ae57-3d46a6883d67",
   "metadata": {},
   "outputs": [
    {
     "name": "stdout",
     "output_type": "stream",
     "text": [
      "hi\n"
     ]
    }
   ],
   "source": [
    "# 대문자를 소문자로 바꾸기 lower\n",
    "a = \"HI\"\n",
    "print(a.lower())"
   ]
  },
  {
   "cell_type": "code",
   "execution_count": 147,
   "id": "72d3d3ab-16c8-487a-bb0e-f7ad231bafd1",
   "metadata": {},
   "outputs": [
    {
     "name": "stdout",
     "output_type": "stream",
     "text": [
      "Life is Egg\n",
      "LIFE IS EGG\n",
      "life is egg\n"
     ]
    }
   ],
   "source": [
    "# 연습\n",
    "v = \"Life is Egg\"\n",
    "big = v.upper()\n",
    "small = v.lower()\n",
    "print(v)\n",
    "print(big)\n",
    "print(small)"
   ]
  },
  {
   "cell_type": "code",
   "execution_count": 159,
   "id": "bc6c2ad4-da7d-4cb3-9482-a09aaf2dfef7",
   "metadata": {},
   "outputs": [
    {
     "name": "stdout",
     "output_type": "stream",
     "text": [
      "  !   hi   !   \n",
      "!   hi   !   \n",
      "  !   hi   !\n",
      "!   hi   !\n"
     ]
    }
   ],
   "source": [
    "a = \"  !   hi   !   \"\n",
    "aa = a.lstrip()\n",
    "bb = a.rstrip()\n",
    "cc = a.strip()\n",
    "print(a)\n",
    "print(aa)\n",
    "print(bb)\n",
    "print(cc)"
   ]
  },
  {
   "cell_type": "code",
   "execution_count": 158,
   "id": "ec7bdc1a-3375-44ba-bd4b-fa985cd9aaab",
   "metadata": {},
   "outputs": [
    {
     "name": "stdout",
     "output_type": "stream",
     "text": [
      "         hi         \n",
      "hi         \n",
      "         hi\n",
      "hi\n"
     ]
    }
   ],
   "source": [
    "f = f\"{'hi':^20}\"\n",
    "f1 = f.lstrip()\n",
    "f2 = f.rstrip()\n",
    "f3 = f.strip()\n",
    "print(f)\n",
    "print(f1)\n",
    "print(f2)\n",
    "print(f3)"
   ]
  },
  {
   "cell_type": "code",
   "execution_count": 161,
   "id": "0e51583a-f53c-4a87-a38f-ec22b5985a8b",
   "metadata": {},
   "outputs": [
    {
     "name": "stdout",
     "output_type": "stream",
     "text": [
      "Life is Egg\n",
      "Life is Beautiful\n"
     ]
    }
   ],
   "source": [
    "# 문자열 바꾸기 replace **\n",
    "a = \"Life is Egg\"\n",
    "c = a.replace(\"Egg\",\"Beautiful\")\n",
    "print(a)\n",
    "print(c)"
   ]
  },
  {
   "cell_type": "code",
   "execution_count": 170,
   "id": "028b3795-d8fd-4a22-9ae9-419f69551a1a",
   "metadata": {},
   "outputs": [
    {
     "name": "stdout",
     "output_type": "stream",
     "text": [
      "['Life', 'is', 'Egg']\n"
     ]
    }
   ],
   "source": [
    "# 문자열 나누기 split *\n",
    "# 문자열을 배열로\n",
    "a = \"Life-is-Egg\"\n",
    "aa = a.split('-')\n",
    "print(aa)"
   ]
  },
  {
   "cell_type": "code",
   "execution_count": 169,
   "id": "b6a631b5-744f-4744-aba7-5f04dbeb7f7e",
   "metadata": {},
   "outputs": [
    {
     "name": "stdout",
     "output_type": "stream",
     "text": [
      "['abcdefghi']\n",
      "a=b=c=d=e=f=g=h=i\n",
      "['a', 'b', 'c', 'd', 'e', 'f', 'g', 'h', 'i']\n",
      "abcdefghi\n"
     ]
    }
   ],
   "source": [
    "# 연습\n",
    "ex = \"abcdefghi\"\n",
    "ex2 = ex.split()\n",
    "print(ex2)\n",
    "ex_join = \"=\".join(ex)\n",
    "print(ex_join)\n",
    "ex_split = ex_join.split('=')\n",
    "print(ex_split)\n",
    "ex_replace = ex_join.replace(\"=\",\"\")\n",
    "print(ex_replace)"
   ]
  },
  {
   "cell_type": "code",
   "execution_count": null,
   "id": "04149260-b44a-4343-8f48-4ddda2d83dab",
   "metadata": {},
   "outputs": [],
   "source": []
  }
 ],
 "metadata": {
  "kernelspec": {
   "display_name": "Python 3 (ipykernel)",
   "language": "python",
   "name": "python3"
  },
  "language_info": {
   "codemirror_mode": {
    "name": "ipython",
    "version": 3
   },
   "file_extension": ".py",
   "mimetype": "text/x-python",
   "name": "python",
   "nbconvert_exporter": "python",
   "pygments_lexer": "ipython3",
   "version": "3.13.1"
  }
 },
 "nbformat": 4,
 "nbformat_minor": 5
}
