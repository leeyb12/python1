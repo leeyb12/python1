{
 "cells": [
  {
   "cell_type": "markdown",
   "id": "b6816798-b998-47fb-8b93-5d2d72c40059",
   "metadata": {},
   "source": [
    "# 자료형"
   ]
  },
  {
   "cell_type": "markdown",
   "id": "a5194093-6476-424f-8a99-5e3770d77b91",
   "metadata": {},
   "source": [
    "## 리스트 자료형"
   ]
  },
  {
   "cell_type": "markdown",
   "id": "08134683-177b-4d9d-9566-bfa04a081747",
   "metadata": {},
   "source": [
    "### 리스트의 인덱싱과 슬라이싱"
   ]
  },
  {
   "cell_type": "code",
   "execution_count": 1,
   "id": "2d1bc6e6-565c-4d37-81f5-7bfd6e4dada7",
   "metadata": {},
   "outputs": [],
   "source": [
    "odd = [1,3,5,7,9]"
   ]
  },
  {
   "cell_type": "code",
   "execution_count": 2,
   "id": "7bdc3fe6-0871-4624-adff-5ad24cb327a8",
   "metadata": {},
   "outputs": [
    {
     "name": "stdout",
     "output_type": "stream",
     "text": [
      "['Life', 'is']\n",
      "Life\n",
      "is\n"
     ]
    }
   ],
   "source": [
    "a = []\n",
    "b = [1, 2, 3]\n",
    "c = ['Life', 'is', 'too', 'short']\n",
    "d = [1, 2 ,'Life', 'is']\n",
    "e = [1, 2, ['Life', 'is']]\n",
    "print(e[2])\n",
    "print(e[2][0])\n",
    "print(e[2][1])"
   ]
  },
  {
   "cell_type": "code",
   "execution_count": 3,
   "id": "fd03e809-6bb7-4a55-a2ad-a4426dbdb6d3",
   "metadata": {},
   "outputs": [
    {
     "name": "stdout",
     "output_type": "stream",
     "text": [
      "5\n",
      "Lifeshort\n",
      "LifeLifeLife\n"
     ]
    }
   ],
   "source": [
    "# 리스트의 인덱싱과 연산\n",
    "print(b[1] + b[2])\n",
    "print(c[0] + c[3])\n",
    "print(c[0]*b[2])"
   ]
  },
  {
   "cell_type": "code",
   "execution_count": 4,
   "id": "5ab6ec70-6614-4eab-a300-b2511b227386",
   "metadata": {},
   "outputs": [
    {
     "name": "stdout",
     "output_type": "stream",
     "text": [
      "[11, 22, 33, 44, 55]\n",
      "[33, 44, 55]\n",
      "[11, 22]\n",
      "[44, 55]\n",
      "[55, 44, 33, 22, 11]\n"
     ]
    }
   ],
   "source": [
    "# 리스트의 슬라이싱 \n",
    "a = [11,22,33,44,55]\n",
    "print(a[:])\n",
    "print(a[2:])\n",
    "print(a[:-3])\n",
    "print(a[-2:])\n",
    "print(a[::-1])"
   ]
  },
  {
   "cell_type": "code",
   "execution_count": 5,
   "id": "0e520040-88da-4f39-85ed-cd7762b207ef",
   "metadata": {},
   "outputs": [
    {
     "name": "stdout",
     "output_type": "stream",
     "text": [
      "[2, 3]\n"
     ]
    }
   ],
   "source": [
    "a = [1,2,3,4,5]\n",
    "print(a[1:3])"
   ]
  },
  {
   "cell_type": "markdown",
   "id": "4d3dff72-c5d2-4342-986b-e14e848ce45b",
   "metadata": {},
   "source": [
    "### 리스트 연산하기"
   ]
  },
  {
   "cell_type": "code",
   "execution_count": 6,
   "id": "d609ed1b-594b-4d4f-9818-9099ec95c375",
   "metadata": {},
   "outputs": [
    {
     "name": "stdout",
     "output_type": "stream",
     "text": [
      "[11, 22, 33, 44, 55, 66]\n",
      "[11, 22, 33, 11, 22, 33, 11, 22, 33]\n"
     ]
    },
    {
     "data": {
      "text/plain": [
       "9"
      ]
     },
     "execution_count": 6,
     "metadata": {},
     "output_type": "execute_result"
    }
   ],
   "source": [
    "a = [11,22,33]\n",
    "b = [44,55,66]\n",
    "# 리스트 더하기\n",
    "print(a+b)\n",
    "# 리스트 반복하기\n",
    "c = a * 3\n",
    "print(c)\n",
    "len(c)"
   ]
  },
  {
   "cell_type": "code",
   "execution_count": 7,
   "id": "f88a3354-375a-4981-b658-8bc792a4b21b",
   "metadata": {},
   "outputs": [
    {
     "name": "stdout",
     "output_type": "stream",
     "text": [
      "[11, 22, 44]\n",
      "[11, 44]\n"
     ]
    }
   ],
   "source": [
    "# 리스트 값 수정하기\n",
    "a = [11,22,33]\n",
    "a[2] = 44\n",
    "print(a)\n",
    "# a[3] = 55 # 없는 요소를 수정하는 것은 에러\n",
    "# print(a)\n",
    "# a[1] = '' # 빈칸 수정 삽입\n",
    "# a[1] = 0  # 0으로 수정 삽입\n",
    "del (a[1])\n",
    "print(a)"
   ]
  },
  {
   "cell_type": "code",
   "execution_count": 8,
   "id": "3bde9c85-f4ae-4ad4-8c51-09ded59b0d9a",
   "metadata": {},
   "outputs": [
    {
     "name": "stdout",
     "output_type": "stream",
     "text": [
      "[11, 22, 33, 11, 22, 33, 11, 22, 33]\n",
      "[22, 33, 11, 22, 33]\n"
     ]
    }
   ],
   "source": [
    "# 리스트값 슬라이싱으로 삭제\n",
    "print(c)\n",
    "del c[:4]\n",
    "print(c)"
   ]
  },
  {
   "cell_type": "markdown",
   "id": "9559e930-4e63-4c29-a235-6b70d554498b",
   "metadata": {},
   "source": [
    "### 리스트 관련 함수"
   ]
  },
  {
   "cell_type": "code",
   "execution_count": 9,
   "id": "ce431e7c-e22a-48ac-8bb9-2938cd2ad5e2",
   "metadata": {},
   "outputs": [
    {
     "data": {
      "text/plain": [
       "['__add__',\n",
       " '__class__',\n",
       " '__class_getitem__',\n",
       " '__contains__',\n",
       " '__delattr__',\n",
       " '__delitem__',\n",
       " '__dir__',\n",
       " '__doc__',\n",
       " '__eq__',\n",
       " '__format__',\n",
       " '__ge__',\n",
       " '__getattribute__',\n",
       " '__getitem__',\n",
       " '__getstate__',\n",
       " '__gt__',\n",
       " '__hash__',\n",
       " '__iadd__',\n",
       " '__imul__',\n",
       " '__init__',\n",
       " '__init_subclass__',\n",
       " '__iter__',\n",
       " '__le__',\n",
       " '__len__',\n",
       " '__lt__',\n",
       " '__mul__',\n",
       " '__ne__',\n",
       " '__new__',\n",
       " '__reduce__',\n",
       " '__reduce_ex__',\n",
       " '__repr__',\n",
       " '__reversed__',\n",
       " '__rmul__',\n",
       " '__setattr__',\n",
       " '__setitem__',\n",
       " '__sizeof__',\n",
       " '__str__',\n",
       " '__subclasshook__',\n",
       " 'append',\n",
       " 'clear',\n",
       " 'copy',\n",
       " 'count',\n",
       " 'extend',\n",
       " 'index',\n",
       " 'insert',\n",
       " 'pop',\n",
       " 'remove',\n",
       " 'reverse',\n",
       " 'sort']"
      ]
     },
     "execution_count": 9,
     "metadata": {},
     "output_type": "execute_result"
    }
   ],
   "source": [
    "dir(list)"
   ]
  },
  {
   "cell_type": "code",
   "execution_count": 10,
   "id": "7c5bc16f-b744-431a-a649-798ba48a5a00",
   "metadata": {},
   "outputs": [
    {
     "name": "stdout",
     "output_type": "stream",
     "text": [
      "[]\n"
     ]
    }
   ],
   "source": [
    "# 리스트 요소 비우기 (초기화)\n",
    "c.clear()\n",
    "print(c)"
   ]
  },
  {
   "cell_type": "code",
   "execution_count": 11,
   "id": "260867f1-151a-4ef3-bfe0-af511b8c7898",
   "metadata": {},
   "outputs": [],
   "source": [
    "a=[] # 리스트 초기화"
   ]
  },
  {
   "cell_type": "code",
   "execution_count": 12,
   "id": "cb42cf66-8420-4d93-a722-235e9dbe7365",
   "metadata": {},
   "outputs": [
    {
     "name": "stdout",
     "output_type": "stream",
     "text": [
      "[4]\n",
      "[4, [11, 22]]\n"
     ]
    }
   ],
   "source": [
    "# 리스트에 요소 추가하기 - append\n",
    "a.append(4)\n",
    "print(a)\n",
    "a.append([11,22])\n",
    "print(a)"
   ]
  },
  {
   "cell_type": "code",
   "execution_count": 13,
   "id": "8795b9b9-3872-4b67-a2cf-a580fda4fc0d",
   "metadata": {},
   "outputs": [],
   "source": [
    "b = []\n",
    "num = 0"
   ]
  },
  {
   "cell_type": "code",
   "execution_count": 14,
   "id": "81825959-3584-4c05-8a7c-6d6e9fdec68b",
   "metadata": {},
   "outputs": [
    {
     "name": "stdout",
     "output_type": "stream",
     "text": [
      "[1]\n"
     ]
    }
   ],
   "source": [
    "num += 1\n",
    "b.append(num)\n",
    "print(b)"
   ]
  },
  {
   "cell_type": "code",
   "execution_count": 15,
   "id": "9f3c4ae6-1c0a-40bd-8511-e0a136924a0b",
   "metadata": {},
   "outputs": [
    {
     "name": "stdout",
     "output_type": "stream",
     "text": [
      "[11, 22, 33, 44, 55]\n"
     ]
    }
   ],
   "source": [
    "# 리스트 정렬(오름차순) - sort\n",
    "a =[11, 44, 33, 22, 55]\n",
    "a.sort()\n",
    "print(a)"
   ]
  },
  {
   "cell_type": "code",
   "execution_count": 16,
   "id": "0090f4c4-4e8d-44f2-b1cd-6fb7ebb97c9b",
   "metadata": {},
   "outputs": [
    {
     "name": "stdout",
     "output_type": "stream",
     "text": [
      "[55, 44, 33, 22, 11]\n"
     ]
    }
   ],
   "source": [
    "# 리스트 정렬(내림차순) - sort\n",
    "a =[11, 44, 33, 22, 55]\n",
    "a.sort(reverse=True)\n",
    "print(a)"
   ]
  },
  {
   "cell_type": "code",
   "execution_count": 17,
   "id": "df0aa1ab-11db-4418-bb40-f54422a3ef93",
   "metadata": {},
   "outputs": [
    {
     "name": "stdout",
     "output_type": "stream",
     "text": [
      "[66, 77, 88, 99, 0]\n",
      "[0, 66, 77, 88, 99]\n",
      "[99, 88, 77, 66, 0]\n"
     ]
    }
   ],
   "source": [
    "# 리스트정렬 원본유지하기\n",
    "aa = [66,77,88,99,0]\n",
    "bb = sorted(aa)\n",
    "cc = sorted(aa,reverse=True)\n",
    "print(aa)\n",
    "print(bb)\n",
    "print(cc)"
   ]
  },
  {
   "cell_type": "code",
   "execution_count": 18,
   "id": "1ef09ac1-fcd5-471e-b897-c1a55c63a5c7",
   "metadata": {},
   "outputs": [
    {
     "name": "stdout",
     "output_type": "stream",
     "text": [
      "[55, 22, 33, 44, 11]\n"
     ]
    }
   ],
   "source": [
    "# 리스트 뒤집기 - reverse\n",
    "a = [11, 44, 33, 22, 55]\n",
    "a.reverse()\n",
    "print(a)"
   ]
  },
  {
   "cell_type": "code",
   "execution_count": 19,
   "id": "d925d933-8a77-4033-adba-3548cd7d3f5c",
   "metadata": {},
   "outputs": [
    {
     "name": "stdout",
     "output_type": "stream",
     "text": [
      "['banana', 'kiwi', 'orange', 'melon', 'pear', 'apple', 'strawberry', 'blueberry']\n",
      "['kiwi', 'pear', 'melon', 'apple', 'banana', 'orange', 'blueberry', 'strawberry']\n",
      "['strawberry', 'blueberry', 'banana', 'orange', 'melon', 'apple', 'kiwi', 'pear']\n"
     ]
    }
   ],
   "source": [
    "# sorted 응용\n",
    "fruit = ['banana', 'kiwi', 'orange', 'melon', 'pear','apple','strawberry', 'blueberry']\n",
    "result = sorted(fruit,key=len)\n",
    "result2 = sorted(fruit,key=len,reverse=True)\n",
    "print(fruit)\n",
    "print(result)\n",
    "print(result2)"
   ]
  },
  {
   "cell_type": "code",
   "execution_count": 20,
   "id": "7fb54552-214d-4028-a7d1-ca5c5621b1e4",
   "metadata": {},
   "outputs": [
    {
     "name": "stdout",
     "output_type": "stream",
     "text": [
      "과일을 먹어볼까?\n",
      "kiwi 냠냠 맛있다.\n",
      "pear 냠냠 맛있다.\n",
      "melon 냠냠 맛있다.\n",
      "apple 냠냠 맛있다.\n",
      "banana 못먹겠어! 웩!\n",
      "orange 냠냠 맛있다.\n",
      "blueberry 냠냠 맛있다.\n",
      "strawberry 냠냠 맛있다.\n",
      "와 ~ 다먹었다\n"
     ]
    }
   ],
   "source": [
    "print('과일을 먹어볼까?')\n",
    "for r in result:\n",
    "    if r == 'banana':\n",
    "        print(r + ' 못먹겠어! 웩!')\n",
    "    if r != 'banana':\n",
    "        print(r + ' 냠냠 맛있다.')\n",
    "print('와 ~ 다먹었다')    "
   ]
  },
  {
   "cell_type": "code",
   "execution_count": 21,
   "id": "a3d01a31-e59f-4a5d-810c-b4971f332a7f",
   "metadata": {},
   "outputs": [
    {
     "data": {
      "text/plain": [
       "3"
      ]
     },
     "execution_count": 21,
     "metadata": {},
     "output_type": "execute_result"
    }
   ],
   "source": [
    "# 인덱스 반환 - index\n",
    "fruit = ['banana', 'kiwi', 'orange', 'melon', 'pear','apple','strawberry', 'blueberry']\n",
    "fruit.index('melon')"
   ]
  },
  {
   "cell_type": "code",
   "execution_count": 22,
   "id": "47cd2384-3f86-4e49-b8e6-4f6175b33b79",
   "metadata": {},
   "outputs": [
    {
     "name": "stdin",
     "output_type": "stream",
     "text": [
      "먹고 싶은 과일을 입력하세요 melon\n"
     ]
    },
    {
     "name": "stdout",
     "output_type": "stream",
     "text": [
      "melon를 좋아하시군요!!! 그것은 4번째에 있습니다.\n"
     ]
    }
   ],
   "source": [
    "# 인덱스 응용\n",
    "fruit = ['banana', 'kiwi', 'orange', 'melon', 'pear','apple','strawberry', 'blueberry']\n",
    "want = input('먹고 싶은 과일을 입력하세요')\n",
    "where = fruit.index(want)\n",
    "print(f'{want}를 좋아하시군요!!! 그것은 {where + 1}번째에 있습니다.')"
   ]
  },
  {
   "cell_type": "code",
   "execution_count": 23,
   "id": "bcec54be-ef83-4624-8055-fcbf2050fde3",
   "metadata": {},
   "outputs": [
    {
     "name": "stdout",
     "output_type": "stream",
     "text": [
      "[11, 22, 33, 55, 66, 77, 88]\n",
      "[11, 22, 33, 44, 55, 66, 77, 88]\n"
     ]
    }
   ],
   "source": [
    "# 리스트에 요소 삽입 - insert\n",
    "num = [11,22,33,55,66,77,88]\n",
    "print(num)\n",
    "num.insert(3,44) # 3은 인덱스 위치, 44는 원하는 값\n",
    "print(num)"
   ]
  },
  {
   "cell_type": "code",
   "execution_count": 24,
   "id": "1ddb6694-cb8a-478a-926b-55b92daa9ffa",
   "metadata": {},
   "outputs": [],
   "source": [
    "ex = []"
   ]
  },
  {
   "cell_type": "code",
   "execution_count": 25,
   "id": "17bd5009-0f19-4dc7-9b32-5718144e69f3",
   "metadata": {},
   "outputs": [
    {
     "name": "stdout",
     "output_type": "stream",
     "text": [
      "['맨앞']\n",
      "['-1인덱스', '맨앞']\n",
      "['맨앞', '-1인덱스', '맨앞']\n",
      "['맨앞', '-1인덱스', '맨앞', '제일 끝']\n"
     ]
    }
   ],
   "source": [
    "ex.insert(0,'맨앞')\n",
    "print(ex)\n",
    "ex.insert(-1,'-1인덱스' )\n",
    "print(ex)\n",
    "ex.insert(0,'맨앞')\n",
    "print(ex)\n",
    "ex.insert(len(ex),'제일 끝')\n",
    "print(ex)"
   ]
  },
  {
   "cell_type": "code",
   "execution_count": 26,
   "id": "f6b6042b-ccdd-4a04-86a2-36400dd6dc44",
   "metadata": {},
   "outputs": [
    {
     "name": "stdout",
     "output_type": "stream",
     "text": [
      "[1, 2, 1, 2, 3]\n"
     ]
    }
   ],
   "source": [
    "# 리스트 요소제거 - remove\n",
    "a = [1,2,3,1,2,3]\n",
    "a.remove(3)\n",
    "print(a)"
   ]
  },
  {
   "cell_type": "code",
   "execution_count": 27,
   "id": "4bc1a242-e97e-4dbb-b870-778d37a5a017",
   "metadata": {},
   "outputs": [],
   "source": [
    "# 리스트 요소 끄집어 내기 - pop\n",
    "a = [1,2,3]"
   ]
  },
  {
   "cell_type": "code",
   "execution_count": 28,
   "id": "79122e5b-9239-42ba-8887-402c79a0913d",
   "metadata": {},
   "outputs": [
    {
     "name": "stdout",
     "output_type": "stream",
     "text": [
      "[1, 2]\n",
      "받은거 3\n"
     ]
    }
   ],
   "source": [
    "hand = a.pop() # 리턴값을 받음\n",
    "print(a)\n",
    "print(\"받은거\",hand)"
   ]
  },
  {
   "cell_type": "code",
   "execution_count": 29,
   "id": "82980fc5-fe13-4392-9fe1-92b27485b763",
   "metadata": {},
   "outputs": [
    {
     "name": "stdout",
     "output_type": "stream",
     "text": [
      "[1, 3]\n"
     ]
    }
   ],
   "source": [
    "a = [1,2,3]\n",
    "a.pop(1)\n",
    "print(a)"
   ]
  },
  {
   "cell_type": "code",
   "execution_count": 30,
   "id": "44723fc7-c15e-474e-8b93-ac6e396af97e",
   "metadata": {},
   "outputs": [
    {
     "name": "stdout",
     "output_type": "stream",
     "text": [
      "2\n",
      "8\n"
     ]
    }
   ],
   "source": [
    "# 리스트에 포함된 요소 x의 개수 세기 - Count\n",
    "st = \"안녕하세요 반가워요\"\n",
    "print(st.count(\"요\"))\n",
    "a = [1,2,3,1,1,1,1,1,2,3,24,5,34,1,1]\n",
    "print(a.count(1))"
   ]
  },
  {
   "cell_type": "code",
   "execution_count": 31,
   "id": "ad0ff301-fe0f-407d-a86a-e94fbe8d03e1",
   "metadata": {},
   "outputs": [
    {
     "name": "stdout",
     "output_type": "stream",
     "text": [
      "[1, 2, 3, 4, 5]\n",
      "[11, 22, 33, 44, 55, 66]\n"
     ]
    }
   ],
   "source": [
    "# 리스트 확장\n",
    "a = [1,2,3]\n",
    "a.extend([4,5])\n",
    "print(a)\n",
    "b = [11,22,33]\n",
    "c = [44,55,66]\n",
    "print(b+c)"
   ]
  },
  {
   "cell_type": "code",
   "execution_count": 32,
   "id": "5ab0e45a-d2f4-4416-95d3-aac01aff296d",
   "metadata": {},
   "outputs": [],
   "source": [
    "# 장바구니\n",
    "bag = []"
   ]
  },
  {
   "cell_type": "code",
   "execution_count": 33,
   "id": "777695d3-ea3f-45c9-bb0f-0df34889e47b",
   "metadata": {},
   "outputs": [
    {
     "name": "stdin",
     "output_type": "stream",
     "text": [
      "필요한 항목을 넣어주세요. 배추\n"
     ]
    },
    {
     "name": "stdout",
     "output_type": "stream",
     "text": [
      "장바구니에는 ['배추']들이 있습니다.\n"
     ]
    }
   ],
   "source": [
    "# Create 생성\n",
    "inp = input('필요한 항목을 넣어주세요.')\n",
    "bag.append(inp)\n",
    "print(f'장바구니에는 {bag}들이 있습니다.')"
   ]
  },
  {
   "cell_type": "code",
   "execution_count": 34,
   "id": "ce531614-1684-4cfd-92eb-73b951c5cab4",
   "metadata": {},
   "outputs": [
    {
     "name": "stdout",
     "output_type": "stream",
     "text": [
      "배추꺼내서 장바구니에 []이(가) 남았습니다.\n"
     ]
    }
   ],
   "source": [
    "# FIFO 출력(큐 출력)\n",
    "hand = bag.pop(0)\n",
    "print(f'{hand}꺼내서 장바구니에 {bag}이(가) 남았습니다.')"
   ]
  },
  {
   "cell_type": "code",
   "execution_count": 35,
   "id": "d7427c4d-3f44-4a6c-a421-99ab83e71215",
   "metadata": {},
   "outputs": [
    {
     "name": "stdout",
     "output_type": "stream",
     "text": [
      "바구니에 ['호박', '감자', '치킨', '과자', '피자'] 물품이 있습니다.\n"
     ]
    },
    {
     "name": "stdin",
     "output_type": "stream",
     "text": [
      "꺼내고 싶은 물품을 입력하세요. 치킨\n"
     ]
    },
    {
     "name": "stdout",
     "output_type": "stream",
     "text": [
      "바구니에서 치킨 꺼내어 ['호박', '감자', '과자', '피자']이 남았습니다.\n"
     ]
    }
   ],
   "source": [
    "# 선택 출력\n",
    "bag = ['호박', '감자', '치킨', '과자', '피자']\n",
    "print(f\"바구니에 {bag} 물품이 있습니다.\")\n",
    "bring = input('꺼내고 싶은 물품을 입력하세요.')\n",
    "hand2 = bag.pop(bag.index(bring))\n",
    "print(f\"바구니에서 {hand2} 꺼내어 {bag}이 남았습니다.\")"
   ]
  },
  {
   "cell_type": "code",
   "execution_count": 36,
   "id": "30795591-30ac-49c0-9157-333903659f2d",
   "metadata": {},
   "outputs": [
    {
     "name": "stdout",
     "output_type": "stream",
     "text": [
      "33을(를) 제거 하였습니다.\n"
     ]
    }
   ],
   "source": [
    "# 테스트 remove는 리턴값이 없다. \n",
    "choice = 33\n",
    "a = [11,22,33,44,55,66]\n",
    "a.remove(choice)\n",
    "print(f'{choice}을(를) 제거 하였습니다.')"
   ]
  },
  {
   "cell_type": "code",
   "execution_count": 37,
   "id": "09c2ad1e-79e3-4655-8746-256d3bf8d7c3",
   "metadata": {},
   "outputs": [
    {
     "name": "stdin",
     "output_type": "stream",
     "text": [
      "추가할 물건 이름을 적어주세요 라면\n",
      "어느 물품의 오른쪽에 넣어둘까요? 감자\n"
     ]
    }
   ],
   "source": [
    "# 실습\n",
    "bag = ['호박', '감자', '치킨', '과자', '피자']\n",
    "# 물품 하나를 추가하기, 단 지정한 물품 바로 앞에 추가하기\n",
    "test1 = input('추가할 물건 이름을 적어주세요')\n",
    "test2 = input('어느 물품의 오른쪽에 넣어둘까요?')"
   ]
  },
  {
   "cell_type": "code",
   "execution_count": 38,
   "id": "d675e58c-5a9a-4661-85f3-d0ce7bc25594",
   "metadata": {},
   "outputs": [
    {
     "name": "stdin",
     "output_type": "stream",
     "text": [
      "추가할 물건 이름을 적어주세요 국수\n",
      "어느 물품의 앞에 넣어둘까요? 치킨\n"
     ]
    },
    {
     "name": "stdout",
     "output_type": "stream",
     "text": [
      "['국수', '호박', '감자', '치킨', '과자', '피자']\n"
     ]
    }
   ],
   "source": [
    "bag = ['호박', '감자', '치킨', '과자', '피자']\n",
    "thing = input('추가할 물건 이름을 적어주세요')\n",
    "where = input('어느 물품의 앞에 넣어둘까요?')\n",
    "bag.insert(0,thing)\n",
    "print(bag)"
   ]
  },
  {
   "cell_type": "code",
   "execution_count": 39,
   "id": "3482dbf1-8170-42c7-8ec8-7a361eb0a67e",
   "metadata": {},
   "outputs": [
    {
     "name": "stdin",
     "output_type": "stream",
     "text": [
      "추가할 물건 이름을 적어주세요 라면\n",
      "어느 물품의 뒤에 넣어둘까요? 감자\n"
     ]
    },
    {
     "name": "stdout",
     "output_type": "stream",
     "text": [
      "['호박', '감자', '라면', '치킨', '과자', '피자']\n"
     ]
    }
   ],
   "source": [
    "bag = ['호박', '감자', '치킨', '과자', '피자']\n",
    "thing = input('추가할 물건 이름을 적어주세요')\n",
    "where = input('어느 물품의 뒤에 넣어둘까요?')\n",
    "위치 = bag.index(where) + 1\n",
    "bag.insert(위치,thing)\n",
    "print(bag)"
   ]
  },
  {
   "cell_type": "code",
   "execution_count": 40,
   "id": "c58ca8f1-5ccb-4394-914c-01bcbd1524d9",
   "metadata": {},
   "outputs": [
    {
     "name": "stdin",
     "output_type": "stream",
     "text": [
      "내가 누구게? 숫자를 입력하세요. 22\n"
     ]
    },
    {
     "name": "stdout",
     "output_type": "stream",
     "text": [
      "26 <class 'int'>\n"
     ]
    }
   ],
   "source": [
    "# 테스트\n",
    "num = int(input('내가 누구게? 숫자를 입력하세요.'))\n",
    "print(int(num) + 4, type(num))"
   ]
  },
  {
   "cell_type": "code",
   "execution_count": 41,
   "id": "d2a30f5f-4b72-49bb-a398-c799b393ca9e",
   "metadata": {},
   "outputs": [
    {
     "name": "stdin",
     "output_type": "stream",
     "text": [
      "원화로 계산하고자 하는 달러를 입력하세요. 1\n"
     ]
    },
    {
     "name": "stdout",
     "output_type": "stream",
     "text": [
      "1달러는 1450원 이므로\n",
      "요청하신 1달러 변환값은 1,450원입니다.\n"
     ]
    }
   ],
   "source": [
    "# 환율 계산기 만들기\n",
    "exc = 1450 \n",
    "dollar = int(input(\"원화로 계산하고자 하는 달러를 입력하세요.\"))\n",
    "won = dollar * exc\n",
    "print(f\"1달러는 {exc}원 이므로\\n요청하신 {dollar}달러 변환값은 {won:,}원입니다.\")"
   ]
  },
  {
   "cell_type": "code",
   "execution_count": 3,
   "id": "40515d81-479c-4f25-993e-d7c9122f337a",
   "metadata": {},
   "outputs": [
    {
     "name": "stdout",
     "output_type": "stream",
     "text": [
      "<class 'list'>\n",
      "1,460.8 <class 'str'>\n",
      "오늘의 환율은 1달러에 1460.8 원입니다\n"
     ]
    },
    {
     "ename": "ValueError",
     "evalue": "invalid literal for int() with base 10: '1460.8'",
     "output_type": "error",
     "traceback": [
      "\u001b[1;31m---------------------------------------------------------------------------\u001b[0m",
      "\u001b[1;31mValueError\u001b[0m                                Traceback (most recent call last)",
      "Cell \u001b[1;32mIn[3], line 11\u001b[0m\n\u001b[0;32m      9\u001b[0m result2 \u001b[38;5;241m=\u001b[39m result\u001b[38;5;241m.\u001b[39mreplace(\u001b[38;5;124m\"\u001b[39m\u001b[38;5;124m,\u001b[39m\u001b[38;5;124m\"\u001b[39m,\u001b[38;5;124m\"\u001b[39m\u001b[38;5;124m\"\u001b[39m)\n\u001b[0;32m     10\u001b[0m \u001b[38;5;28mprint\u001b[39m(\u001b[38;5;124mf\u001b[39m\u001b[38;5;124m'\u001b[39m\u001b[38;5;124m오늘의 환율은 1달러에 \u001b[39m\u001b[38;5;132;01m{\u001b[39;00mresult2\u001b[38;5;132;01m}\u001b[39;00m\u001b[38;5;124m 원입니다\u001b[39m\u001b[38;5;124m'\u001b[39m)\n\u001b[1;32m---> 11\u001b[0m exc \u001b[38;5;241m=\u001b[39m \u001b[38;5;28;43mint\u001b[39;49m\u001b[43m(\u001b[49m\u001b[43mresult2\u001b[49m\u001b[43m)\u001b[49m\u001b[38;5;241m/\u001b[39m\u001b[38;5;241m10\u001b[39m\n\u001b[0;32m     12\u001b[0m \u001b[38;5;28mprint\u001b[39m(exc)\n\u001b[0;32m     13\u001b[0m \u001b[38;5;66;03m# 스트링을 숫자로 바꾸어라 단 쉼표는 전처리하여 사용 가능하게 하라.\u001b[39;00m\n",
      "\u001b[1;31mValueError\u001b[0m: invalid literal for int() with base 10: '1460.8'"
     ]
    }
   ],
   "source": [
    "import requests\n",
    "import json\n",
    "url = 'https://www.koreaexim.go.kr/site/program/financial/exchangeJSON?authkey=2ePkmyjmWEOy1ym1qC6Dlba1dcJ8J2m9&data=AP01'\n",
    "res = requests.get(url).text\n",
    "data = json.loads(res)\n",
    "print(type(data))\n",
    "result = data[-1]['deal_bas_r']\n",
    "print(result,type(result))\n",
    "result2 = result.replace(\",\",\"\")\n",
    "print(f'오늘의 환율은 1달러에 {result2} 원입니다')\n",
    "exc = int(result2)/10\n",
    "print(exc)\n",
    "# 스트링을 숫자로 바꾸어라 단 쉼표는 전처리하여 사용 가능하게 하라."
   ]
  },
  {
   "cell_type": "code",
   "execution_count": 73,
   "id": "a221c3a6-ead4-4e4d-812b-ddac27f1e208",
   "metadata": {},
   "outputs": [
    {
     "name": "stdin",
     "output_type": "stream",
     "text": [
      "질문3 ㅗㅗㅗ\n"
     ]
    },
    {
     "name": "stdout",
     "output_type": "stream",
     "text": [
      "ㅁㅁㅁ\n",
      "ㅈㅈㅈ\n",
      "ㅗㅗㅗ\n"
     ]
    }
   ],
   "source": [
    "from IPython.display import clear_output\n",
    "# test \n",
    "inp1 = input('질문1')\n",
    "clear_output(wait=True)\n",
    "inp2 = input('질문2')\n",
    "clear_output(wait=True)\n",
    "inp3 = input('질문3')\n",
    "print(inp1)\n",
    "print(inp2)\n",
    "print(inp3)"
   ]
  },
  {
   "cell_type": "code",
   "execution_count": 46,
   "id": "69986dce-608a-4006-b18c-b187c1139509",
   "metadata": {},
   "outputs": [
    {
     "data": {
      "text/plain": [
       "0.30000000000000004"
      ]
     },
     "execution_count": 46,
     "metadata": {},
     "output_type": "execute_result"
    }
   ],
   "source": [
    "0.1 + 0.2"
   ]
  },
  {
   "cell_type": "code",
   "execution_count": 47,
   "id": "f77a10a8-d4d7-4908-a031-0f8968703906",
   "metadata": {},
   "outputs": [
    {
     "name": "stdout",
     "output_type": "stream",
     "text": [
      "2898.8\n"
     ]
    }
   ],
   "source": [
    "# from decimal import Decimal # 더 정밀한 계산 \n",
    "# rr = Decimal(rr)*2\n",
    "rr = 1449.4 *2\n",
    "print(round(rr,1))"
   ]
  },
  {
   "cell_type": "markdown",
   "id": "f3f57a1a-287c-43af-97f8-047d3640c212",
   "metadata": {},
   "source": [
    "## 튜플 자료형"
   ]
  },
  {
   "cell_type": "code",
   "execution_count": 48,
   "id": "02873350-2220-4cc8-a848-7ac08e6c8906",
   "metadata": {},
   "outputs": [],
   "source": [
    "t1 = ()\n",
    "t2 = (1,)\n",
    "t3 = (1, 2, 3)\n",
    "t4 = 1, 2, 3\n",
    "t5 = ('a', 'b', ('ab', 'cd'))"
   ]
  },
  {
   "cell_type": "code",
   "execution_count": 49,
   "id": "823b2efc-3d21-4cde-b82e-ee7c897c0d5c",
   "metadata": {},
   "outputs": [
    {
     "ename": "TypeError",
     "evalue": "'tuple' object doesn't support item deletion",
     "output_type": "error",
     "traceback": [
      "\u001b[1;31m---------------------------------------------------------------------------\u001b[0m",
      "\u001b[1;31mTypeError\u001b[0m                                 Traceback (most recent call last)",
      "Cell \u001b[1;32mIn[49], line 3\u001b[0m\n\u001b[0;32m      1\u001b[0m \u001b[38;5;66;03m# 튜플 요솟값을 삭제하려 할 때\u001b[39;00m\n\u001b[0;32m      2\u001b[0m t1 \u001b[38;5;241m=\u001b[39m (\u001b[38;5;241m1\u001b[39m, \u001b[38;5;241m2\u001b[39m, \u001b[38;5;124m'\u001b[39m\u001b[38;5;124ma\u001b[39m\u001b[38;5;124m'\u001b[39m, \u001b[38;5;124m'\u001b[39m\u001b[38;5;124mb\u001b[39m\u001b[38;5;124m'\u001b[39m)\n\u001b[1;32m----> 3\u001b[0m \u001b[38;5;28;01mdel\u001b[39;00m \u001b[43mt1\u001b[49m\u001b[43m[\u001b[49m\u001b[38;5;241;43m0\u001b[39;49m\u001b[43m]\u001b[49m\n",
      "\u001b[1;31mTypeError\u001b[0m: 'tuple' object doesn't support item deletion"
     ]
    }
   ],
   "source": [
    "# 튜플 요솟값을 삭제하려 할 때\n",
    "t1 = (1, 2, 'a', 'b')\n",
    "del t1[0]"
   ]
  },
  {
   "cell_type": "code",
   "execution_count": 50,
   "id": "3ef75653-3107-4f7f-868c-1eeabae0a67d",
   "metadata": {},
   "outputs": [
    {
     "ename": "TypeError",
     "evalue": "'tuple' object does not support item assignment",
     "output_type": "error",
     "traceback": [
      "\u001b[1;31m---------------------------------------------------------------------------\u001b[0m",
      "\u001b[1;31mTypeError\u001b[0m                                 Traceback (most recent call last)",
      "Cell \u001b[1;32mIn[50], line 3\u001b[0m\n\u001b[0;32m      1\u001b[0m \u001b[38;5;66;03m# 튜플 요솟값을 변경하려 할 때\u001b[39;00m\n\u001b[0;32m      2\u001b[0m t1 \u001b[38;5;241m=\u001b[39m (\u001b[38;5;241m1\u001b[39m, \u001b[38;5;241m2\u001b[39m, \u001b[38;5;124m'\u001b[39m\u001b[38;5;124ma\u001b[39m\u001b[38;5;124m'\u001b[39m, \u001b[38;5;124m'\u001b[39m\u001b[38;5;124mb\u001b[39m\u001b[38;5;124m'\u001b[39m)\n\u001b[1;32m----> 3\u001b[0m \u001b[43mt1\u001b[49m\u001b[43m[\u001b[49m\u001b[38;5;241;43m0\u001b[39;49m\u001b[43m]\u001b[49m \u001b[38;5;241m=\u001b[39m \u001b[38;5;124m'\u001b[39m\u001b[38;5;124mc\u001b[39m\u001b[38;5;124m'\u001b[39m\n",
      "\u001b[1;31mTypeError\u001b[0m: 'tuple' object does not support item assignment"
     ]
    }
   ],
   "source": [
    "# 튜플 요솟값을 변경하려 할 때\n",
    "t1 = (1, 2, 'a', 'b')\n",
    "t1[0] = 'c'"
   ]
  },
  {
   "cell_type": "code",
   "execution_count": 51,
   "id": "3b38b005-1d48-46b7-90e5-f5c0705d0cdc",
   "metadata": {},
   "outputs": [
    {
     "data": {
      "text/plain": [
       "['__add__',\n",
       " '__class__',\n",
       " '__class_getitem__',\n",
       " '__contains__',\n",
       " '__delattr__',\n",
       " '__dir__',\n",
       " '__doc__',\n",
       " '__eq__',\n",
       " '__format__',\n",
       " '__ge__',\n",
       " '__getattribute__',\n",
       " '__getitem__',\n",
       " '__getnewargs__',\n",
       " '__getstate__',\n",
       " '__gt__',\n",
       " '__hash__',\n",
       " '__init__',\n",
       " '__init_subclass__',\n",
       " '__iter__',\n",
       " '__le__',\n",
       " '__len__',\n",
       " '__lt__',\n",
       " '__mul__',\n",
       " '__ne__',\n",
       " '__new__',\n",
       " '__reduce__',\n",
       " '__reduce_ex__',\n",
       " '__repr__',\n",
       " '__rmul__',\n",
       " '__setattr__',\n",
       " '__sizeof__',\n",
       " '__str__',\n",
       " '__subclasshook__',\n",
       " 'count',\n",
       " 'index']"
      ]
     },
     "execution_count": 51,
     "metadata": {},
     "output_type": "execute_result"
    }
   ],
   "source": [
    "dir(tuple) # tuple()"
   ]
  },
  {
   "cell_type": "code",
   "execution_count": 52,
   "id": "42955be9-642d-4f80-aea8-493190df6751",
   "metadata": {},
   "outputs": [
    {
     "name": "stdout",
     "output_type": "stream",
     "text": [
      "1 b\n"
     ]
    }
   ],
   "source": [
    "# 인덱싱하기\n",
    "t1 = (1,2,'a','b')\n",
    "print(t1[0],t1[3])"
   ]
  },
  {
   "cell_type": "code",
   "execution_count": 53,
   "id": "59d8a54d-3115-4787-8f59-c37315304f2a",
   "metadata": {},
   "outputs": [
    {
     "name": "stdout",
     "output_type": "stream",
     "text": [
      "(2, 'a', 'b')\n"
     ]
    }
   ],
   "source": [
    "# 슬라이싱\n",
    "t1 = (1, 2, 'a', 'b')\n",
    "print(t1[1:])"
   ]
  },
  {
   "cell_type": "code",
   "execution_count": 10,
   "id": "9af19246-f185-4539-933a-f11f2cf80c6d",
   "metadata": {},
   "outputs": [
    {
     "name": "stdout",
     "output_type": "stream",
     "text": [
      "(1, 2, 'a', 'b', 3, 4)\n"
     ]
    }
   ],
   "source": [
    "# 튜플 더하기\n",
    "t1 = (1,2,'a','b')\n",
    "t2 = (3,4)\n",
    "t3 = t1 + t2\n",
    "print(t3)"
   ]
  },
  {
   "cell_type": "code",
   "execution_count": 11,
   "id": "ebd4bcf9-2a01-4bd3-9c62-5ea8ad93a2f1",
   "metadata": {},
   "outputs": [
    {
     "name": "stdout",
     "output_type": "stream",
     "text": [
      "(3, 4, 3, 4, 3, 4)\n"
     ]
    }
   ],
   "source": [
    "# 튜플 곱하기 \n",
    "t2 = 3,4\n",
    "t3 = t2 * 3\n",
    "print(t3)"
   ]
  },
  {
   "cell_type": "code",
   "execution_count": 12,
   "id": "a47ffbe6-ea3a-4a04-88f7-a1d2f0ae5a9d",
   "metadata": {},
   "outputs": [
    {
     "data": {
      "text/plain": [
       "4"
      ]
     },
     "execution_count": 12,
     "metadata": {},
     "output_type": "execute_result"
    }
   ],
   "source": [
    "# 튜플 길이 구하기\n",
    "len(t1)"
   ]
  },
  {
   "cell_type": "code",
   "execution_count": null,
   "id": "d029a917-d2cc-4715-ba4f-621300ffc404",
   "metadata": {},
   "outputs": [],
   "source": [
    "# 튜플은 요솟값을 변경할 수 없기 때문에 sort, insert, remove, pop과 같은 내장 함수가 없다. "
   ]
  },
  {
   "cell_type": "markdown",
   "id": "e7128bb6-96a8-4ae7-8046-ff02caa2ffee",
   "metadata": {},
   "source": [
    "## 딕셔너리 자료형"
   ]
  },
  {
   "cell_type": "code",
   "execution_count": 57,
   "id": "a02ae11d-5bb7-430e-bef4-e9f67726fe7f",
   "metadata": {},
   "outputs": [],
   "source": [
    "dic = {'name': 'pey', 'phone': '010-9999-1234', 'birth': '1118'}"
   ]
  },
  {
   "cell_type": "code",
   "execution_count": 58,
   "id": "153eb46e-6a41-43f5-829f-0d875f0f966c",
   "metadata": {},
   "outputs": [
    {
     "name": "stdout",
     "output_type": "stream",
     "text": [
      "pey\n",
      "010-9999-1234\n",
      "1118\n"
     ]
    }
   ],
   "source": [
    "print(dic['name'])\n",
    "print(dic['phone'])\n",
    "print(dic['birth'])"
   ]
  },
  {
   "cell_type": "code",
   "execution_count": 59,
   "id": "2246c726-e773-4fb1-b1e9-1095d72b7f26",
   "metadata": {},
   "outputs": [
    {
     "name": "stdout",
     "output_type": "stream",
     "text": [
      "11\n",
      "11\n",
      "11\n"
     ]
    }
   ],
   "source": [
    "al = [11,22,33,44,55]\n",
    "at = 11,22,33,44,55\n",
    "ad = {0:11,1:22,2:33,3:44,4:55}\n",
    "print(al[0])\n",
    "print(at[0])\n",
    "print(ad[0])"
   ]
  },
  {
   "cell_type": "code",
   "execution_count": 60,
   "id": "2a7c83a4-535b-4c03-b911-7a333db86d37",
   "metadata": {},
   "outputs": [
    {
     "name": "stdout",
     "output_type": "stream",
     "text": [
      "11\n",
      "22\n",
      "33\n",
      "44\n",
      "55\n",
      "==========\n",
      "11\n",
      "22\n",
      "33\n",
      "44\n",
      "55\n"
     ]
    }
   ],
   "source": [
    "# test\n",
    "for l in al:\n",
    "    print(l)\n",
    "print('='*10)\n",
    "for t in at:\n",
    "    print(t)"
   ]
  },
  {
   "cell_type": "code",
   "execution_count": 61,
   "id": "45f919dd-c892-4575-a0d6-760619d741ac",
   "metadata": {},
   "outputs": [
    {
     "name": "stdout",
     "output_type": "stream",
     "text": [
      "[1, 2, 3, 4, 5]\n"
     ]
    }
   ],
   "source": [
    "a = {'aa':[1,2,3,4,5]}\n",
    "print(a['aa'])"
   ]
  },
  {
   "cell_type": "code",
   "execution_count": 62,
   "id": "67b8b35c-cdbc-42d4-bee1-ee56af9fc36f",
   "metadata": {},
   "outputs": [
    {
     "data": {
      "text/plain": [
       "'010-9999-1234'"
      ]
     },
     "execution_count": 62,
     "metadata": {},
     "output_type": "execute_result"
    }
   ],
   "source": [
    "dic2 = {'aa':{'name': 'pey', 'phone': '010-9999-1234', 'birth': '1118'}}\n",
    "dic2['aa']['phone']"
   ]
  },
  {
   "cell_type": "markdown",
   "id": "703f18d2-0e34-4fe0-86c4-3294314bd629",
   "metadata": {},
   "source": [
    "### 딕셔너리 쌍 추가, 삭제하기"
   ]
  },
  {
   "cell_type": "code",
   "execution_count": 63,
   "id": "b958d878-693c-42ca-8362-0292517013fb",
   "metadata": {},
   "outputs": [
    {
     "name": "stdout",
     "output_type": "stream",
     "text": [
      "{'name': 'pey', 'phone': '010-9999-1234', 'birth': '1118', 'address': 'busan'}\n"
     ]
    }
   ],
   "source": [
    "dic = {'name': 'pey', 'phone': '010-9999-1234', 'birth': '1118'}\n",
    "dic['address'] = 'busan'\n",
    "print(dic)"
   ]
  },
  {
   "cell_type": "code",
   "execution_count": 64,
   "id": "1c3ac9a0-aa59-40cb-8694-513b5e78126c",
   "metadata": {},
   "outputs": [
    {
     "name": "stdout",
     "output_type": "stream",
     "text": [
      "{'name': 'pey', 'phone': '010-9999-1234', 'birth': '1118', 'address': 'busan', 'array': [1, 2, 3, 4, 5]}\n"
     ]
    }
   ],
   "source": [
    "dic['array']=[1,2,3,4,5]\n",
    "print(dic)"
   ]
  },
  {
   "cell_type": "code",
   "execution_count": 65,
   "id": "dda4d2ef-3633-440f-87b4-257902c54042",
   "metadata": {},
   "outputs": [
    {
     "name": "stdout",
     "output_type": "stream",
     "text": [
      "{'name': 'pey', 'phone': '010-9999-1234', 'birth': '1118', 'address': 'busan', 'array': [1, 2, 3, 4, 5]}\n",
      "{'name': 'pey', 'phone': '010-9999-1234', 'address': 'busan', 'array': [1, 2, 3, 4, 5]}\n"
     ]
    }
   ],
   "source": [
    "print(dic)\n",
    "del dic['birth']\n",
    "print(dic)"
   ]
  },
  {
   "cell_type": "code",
   "execution_count": 66,
   "id": "2703760d-1990-4b69-9362-c1a784aa1f78",
   "metadata": {},
   "outputs": [
    {
     "name": "stdout",
     "output_type": "stream",
     "text": [
      "{1: 'b'}\n"
     ]
    }
   ],
   "source": [
    "# 딕셔너리 만들 때 주의할 사항\n",
    "a = {1:'a', 1:'b'}\n",
    "print(a)"
   ]
  },
  {
   "cell_type": "markdown",
   "id": "27519ba3-5582-44ef-8dfe-ab1e682451c3",
   "metadata": {},
   "source": [
    "### 딕셔너리 관련함수"
   ]
  },
  {
   "cell_type": "code",
   "execution_count": 2,
   "id": "3bf6e304-e2ee-428e-8a85-fdddf5e59158",
   "metadata": {},
   "outputs": [
    {
     "name": "stdout",
     "output_type": "stream",
     "text": [
      "dict_keys(['name', 'phone', 'birth', 'address', 'array'])\n",
      "dict_values(['pey', '010-9999-1234', '1118', 'busan', [1, 2, 3, 4, 5]])\n",
      "dict_items([('name', 'pey'), ('phone', '010-9999-1234'), ('birth', '1118'), ('address', 'busan'), ('array', [1, 2, 3, 4, 5])])\n"
     ]
    }
   ],
   "source": [
    "a = {'name': 'pey', 'phone' : '010-9999-1234', 'birth' : '1118', 'address' : 'busan', 'array' : [1, 2, 3, 4, 5]}\n",
    "# key 리스트 만들기 - keys\n",
    "print(a.keys())\n",
    "# value 리스트 만들기 - values\n",
    "print(a.values())\n",
    "# key, value 쌍 얻기 - items\n",
    "print(a.items())"
   ]
  },
  {
   "cell_type": "code",
   "execution_count": 3,
   "id": "f11e2437-af9f-48ce-976c-3a729e337a1f",
   "metadata": {},
   "outputs": [
    {
     "name": "stdout",
     "output_type": "stream",
     "text": [
      "name\n",
      "phone\n",
      "birth\n",
      "address\n",
      "array\n"
     ]
    }
   ],
   "source": [
    "for k in a.keys():\n",
    "      print(k)"
   ]
  },
  {
   "cell_type": "code",
   "execution_count": 7,
   "id": "1856833c-823a-42af-a57c-ea83b38dc478",
   "metadata": {},
   "outputs": [
    {
     "data": {
      "text/plain": [
       "['name', 'phone', 'birth', 'address', 'array']"
      ]
     },
     "execution_count": 7,
     "metadata": {},
     "output_type": "execute_result"
    }
   ],
   "source": [
    "list(a.keys())"
   ]
  },
  {
   "cell_type": "code",
   "execution_count": 69,
   "id": "50095ff9-c621-4e37-bdcf-f39911cc0a05",
   "metadata": {},
   "outputs": [
    {
     "name": "stdout",
     "output_type": "stream",
     "text": [
      "pey\n",
      "None\n"
     ]
    },
    {
     "ename": "KeyError",
     "evalue": "'money'",
     "output_type": "error",
     "traceback": [
      "\u001b[1;31m---------------------------------------------------------------------------\u001b[0m",
      "\u001b[1;31mKeyError\u001b[0m                                  Traceback (most recent call last)",
      "Cell \u001b[1;32mIn[69], line 4\u001b[0m\n\u001b[0;32m      2\u001b[0m \u001b[38;5;28mprint\u001b[39m(a\u001b[38;5;241m.\u001b[39mget(\u001b[38;5;124m'\u001b[39m\u001b[38;5;124mname\u001b[39m\u001b[38;5;124m'\u001b[39m))\n\u001b[0;32m      3\u001b[0m \u001b[38;5;28mprint\u001b[39m(a\u001b[38;5;241m.\u001b[39mget(\u001b[38;5;124m'\u001b[39m\u001b[38;5;124msuper\u001b[39m\u001b[38;5;124m'\u001b[39m))\n\u001b[1;32m----> 4\u001b[0m \u001b[38;5;28mprint\u001b[39m(\u001b[43ma\u001b[49m\u001b[43m[\u001b[49m\u001b[38;5;124;43m'\u001b[39;49m\u001b[38;5;124;43mmoney\u001b[39;49m\u001b[38;5;124;43m'\u001b[39;49m\u001b[43m]\u001b[49m)\n",
      "\u001b[1;31mKeyError\u001b[0m: 'money'"
     ]
    }
   ],
   "source": [
    "a = {'name': 'pey', 'phone': '010-9999-1234', 'birth': '1118', 'address': 'busan', 'array': [1, 2, 3, 4, 5]}\n",
    "print(a.get('name'))\n",
    "print(a.get('super'))\n",
    "print(a['money'])"
   ]
  },
  {
   "cell_type": "code",
   "execution_count": 8,
   "id": "878f47e3-d225-4847-8ee6-5b5edb07d70c",
   "metadata": {},
   "outputs": [
    {
     "name": "stdout",
     "output_type": "stream",
     "text": [
      "True\n",
      "False\n"
     ]
    }
   ],
   "source": [
    "a = {'name': 'pey', 'phone' : '010-9999-1234', 'birth' : '1118', 'address' : 'busan', 'array' : [1, 2, 3, 4, 5]}\n",
    "print('name' in a)\n",
    "print('email' in a)"
   ]
  },
  {
   "cell_type": "code",
   "execution_count": 71,
   "id": "6731d078-98b0-4e03-b19e-562b5d8cf77b",
   "metadata": {},
   "outputs": [
    {
     "name": "stdout",
     "output_type": "stream",
     "text": [
      "True\n",
      "False\n",
      "True\n"
     ]
    }
   ],
   "source": [
    "al = [11,22,33,44,55]\n",
    "at = 11,22,33,44,55\n",
    "ad = {0:11,1:22,2:33,3:44,4:55}\n",
    "\n",
    "print(22 in al) # 리스트\n",
    "print(99 in at) # 튜플\n",
    "print(1 in ad) # 딕셔너리의 키"
   ]
  },
  {
   "cell_type": "code",
   "execution_count": 74,
   "id": "b7b40c1e-93ed-4332-9046-de2aaa7ac9bc",
   "metadata": {},
   "outputs": [],
   "source": [
    "dic ={'name': '홍길동', 'birth':'1128', 'age':30}"
   ]
  },
  {
   "cell_type": "code",
   "execution_count": 28,
   "id": "d14e5a7d-a0ff-4326-8636-32a912ba5ee2",
   "metadata": {},
   "outputs": [
    {
     "name": "stdout",
     "output_type": "stream",
     "text": [
      " 0과 1사이의 랜덤 소수 0.8315986189334336\n",
      " 1과 100사이의 랜덤 실수 13\n",
      " 오늘 선택된 메뉴는 후문편의점를 추천드립니다.\n",
      "[9, 1, 2, 5, 10, 7, 8, 6, 3, 4]\n"
     ]
    }
   ],
   "source": [
    "# 실습 random 모듈\n",
    "import random \n",
    "menu = [\"구내식당\", \"후문편의점\", \"자가도시락\", \"굶기\", \"과자\"]\n",
    "\n",
    "num1 = random.random()\n",
    "print(f' 0과 1사이의 랜덤 소수 {num1}')\n",
    "num2 = random.randint(1,100)\n",
    "print(f' 1과 100사이의 랜덤 실수 {num2}')\n",
    "lunch = random.choice(menu)\n",
    "print(f' 오늘 선택된 메뉴는 {lunch}를 추천드립니다.')\n",
    "deck = [1,2,3,4,5,6,7,8,9,10]\n",
    "random.shuffle(deck)\n",
    "print(deck)"
   ]
  },
  {
   "cell_type": "markdown",
   "id": "98917638-d168-4725-b4e7-4cc2821b0c63",
   "metadata": {},
   "source": [
    "## 집합자료형"
   ]
  },
  {
   "cell_type": "code",
   "execution_count": 31,
   "id": "09fcd8f7-1538-4a8a-93e8-bcd2ab297c97",
   "metadata": {},
   "outputs": [
    {
     "name": "stdout",
     "output_type": "stream",
     "text": [
      "{1, 2, 3} <class 'set'>\n",
      "{'H', 'o', 'e', 'l'} <class 'set'>\n"
     ]
    }
   ],
   "source": [
    "# 중복을 허용하지 않는다. \n",
    "# 순서가 없다. \n",
    "s1 = set([1, 2, 3])\n",
    "print(s1,type(s1))\n",
    "s2 = set(\"Hello\")\n",
    "print(s2,type(s2))"
   ]
  },
  {
   "cell_type": "code",
   "execution_count": 36,
   "id": "0b63b253-1b72-4203-b5af-24998de63e0b",
   "metadata": {},
   "outputs": [
    {
     "name": "stdout",
     "output_type": "stream",
     "text": [
      "[33, 11, 22] <class 'list'>\n",
      "(33, 11, 22) <class 'tuple'>\n"
     ]
    }
   ],
   "source": [
    "# 집합 자료형의 특징\n",
    "s1 = set([11,22,33,11,22])\n",
    "l1 = list(s1)\n",
    "print(l1,type(l1))\n",
    "t1 = tuple(s1)\n",
    "print(t1,type(t1))"
   ]
  },
  {
   "cell_type": "markdown",
   "id": "c73030fd-ba84-4e53-a3ed-21e0f1555ebe",
   "metadata": {},
   "source": [
    "### 교집합, 합집합, 차집합 구하기"
   ]
  },
  {
   "cell_type": "code",
   "execution_count": null,
   "id": "2d465da3-180a-4b3c-baa2-c25451c96357",
   "metadata": {},
   "outputs": [
    {
     "name": "stdout",
     "output_type": "stream",
     "text": [
      "{4, 5, 6}\n",
      "{4, 5, 6}\n"
     ]
    }
   ],
   "source": [
    "# 교집합\n",
    "s1 = set([1,2,3,4,5,6])\n",
    "s2 = set([4,5,6,7,8,9])\n",
    "print(s1 & s2)\n",
    "print(s1.intersection(s2))"
   ]
  },
  {
   "cell_type": "code",
   "execution_count": 40,
   "id": "80242dbf-8bd1-4d8c-bb0b-c8a96b3e18f4",
   "metadata": {},
   "outputs": [
    {
     "name": "stdout",
     "output_type": "stream",
     "text": [
      "{1, 2, 3, 4, 5, 6, 7, 8, 9}\n",
      "{1, 2, 3, 4, 5, 6, 7, 8, 9}\n"
     ]
    }
   ],
   "source": [
    "# 합집합\n",
    "print(s1 | s2)\n",
    "print(s1.union(s2))"
   ]
  },
  {
   "cell_type": "code",
   "execution_count": 42,
   "id": "69e3700d-19dd-4df5-83fe-33500596447a",
   "metadata": {},
   "outputs": [
    {
     "name": "stdout",
     "output_type": "stream",
     "text": [
      "{1, 2, 3}\n",
      "{8, 9, 7}\n",
      "{1, 2, 3}\n",
      "{8, 9, 7}\n"
     ]
    }
   ],
   "source": [
    "# 차집합\n",
    "print(s1 - s2)\n",
    "print(s2 - s1)\n",
    "print(s1.difference(s2))\n",
    "print(s2.difference(s1))"
   ]
  },
  {
   "cell_type": "markdown",
   "id": "95b21d67-3e55-4463-a857-6a3f9a183e0f",
   "metadata": {},
   "source": [
    "### 집합 자료형 관련 함수"
   ]
  },
  {
   "cell_type": "code",
   "execution_count": 44,
   "id": "49a5182f-4fe0-4112-b151-572d0d577f21",
   "metadata": {},
   "outputs": [
    {
     "name": "stdout",
     "output_type": "stream",
     "text": [
      "{1, 2, 3, 4}\n"
     ]
    }
   ],
   "source": [
    "# 값 1개 추가하기 - add\n",
    "s1 = set([1,2,3])\n",
    "s1.add(4)\n",
    "print(s1)"
   ]
  },
  {
   "cell_type": "code",
   "execution_count": 45,
   "id": "ce485110-02d4-40e4-a6f3-9ea2009415f7",
   "metadata": {},
   "outputs": [
    {
     "name": "stdout",
     "output_type": "stream",
     "text": [
      "{1, 2, 3, 4, 5, 6}\n"
     ]
    }
   ],
   "source": [
    "# 값 여러개 추가하기 - update\n",
    "s1 = set([1,2,3])\n",
    "s1.update([4,5,6])\n",
    "print(s1)"
   ]
  },
  {
   "cell_type": "code",
   "execution_count": 46,
   "id": "3c564727-d708-4b21-870b-4d4483a7f902",
   "metadata": {},
   "outputs": [
    {
     "name": "stdout",
     "output_type": "stream",
     "text": [
      "{1, 3}\n"
     ]
    }
   ],
   "source": [
    "# 특정 값 제거하기 - remove\n",
    "s1 = set([1,2,3])\n",
    "s1.remove(2)\n",
    "print(s1)"
   ]
  },
  {
   "cell_type": "markdown",
   "id": "ee009bd7-bd75-4063-a0aa-438b51f24468",
   "metadata": {},
   "source": [
    "## 불 자료형"
   ]
  },
  {
   "cell_type": "code",
   "execution_count": null,
   "id": "8d6886a5-eee4-4fd2-bcf3-1eda16b83e1e",
   "metadata": {},
   "outputs": [],
   "source": [
    "# True: 참을 의미한다. (1)\n",
    "# False: 거짓을 의미한다. (0) "
   ]
  },
  {
   "cell_type": "code",
   "execution_count": 49,
   "id": "83488e6a-2954-4379-826b-e44640cf6d03",
   "metadata": {},
   "outputs": [
    {
     "name": "stdout",
     "output_type": "stream",
     "text": [
      "<class 'bool'>\n",
      "<class 'bool'>\n"
     ]
    }
   ],
   "source": [
    "print(type(True))\n",
    "print(type(False))"
   ]
  },
  {
   "cell_type": "code",
   "execution_count": 52,
   "id": "69c6d94c-0a1b-47dc-b88d-05203c37a86c",
   "metadata": {},
   "outputs": [
    {
     "data": {
      "text/plain": [
       "True"
      ]
     },
     "execution_count": 52,
     "metadata": {},
     "output_type": "execute_result"
    }
   ],
   "source": [
    "3 == 3"
   ]
  },
  {
   "cell_type": "code",
   "execution_count": 66,
   "id": "cdd786c8-e116-4bbf-a9fb-ca7b2c85e4e2",
   "metadata": {},
   "outputs": [
    {
     "name": "stdout",
     "output_type": "stream",
     "text": [
      "True\n",
      "False\n",
      "True\n",
      "False\n",
      "True\n",
      "False\n",
      "True\n",
      "False\n",
      "True\n",
      "False\n",
      "False\n"
     ]
    }
   ],
   "source": [
    "# 자료형의 참과 거짓\n",
    "print(bool(\"python\"))\n",
    "print(bool(\"\"))\n",
    "print(bool([1,2,3]))\n",
    "print(bool([]))\n",
    "print(bool((1,2,3)))\n",
    "print(bool(()))\n",
    "print(bool({'a':1}))\n",
    "print(bool({}))\n",
    "print(bool(-1))\n",
    "print(bool(0))\n",
    "print(bool(None))"
   ]
  },
  {
   "cell_type": "code",
   "execution_count": 61,
   "id": "548e24a9-142c-4a11-93ea-4eb397f24f28",
   "metadata": {},
   "outputs": [
    {
     "name": "stdout",
     "output_type": "stream",
     "text": [
      "어느 날, 용감한 기사는 마법의 성에서 모험을 떠나 비밀 통로를 발견했다. 그리고 명석한 탐정는 바닷속 도시에서 숨겨진 보물을 발견했다.\n"
     ]
    }
   ],
   "source": [
    "# random 으로 스토리 생성기 만들기\n",
    "\n",
    "# 등장인물 리스트\n",
    "characters = [\"용감한 기사\", \"모험심 넘치는 고양이\", \"호기심 많은 로봇\", \"서투른 마법사\", \"명석한 탐정\", \"민첩한 레이서\"]\n",
    "places = [\"어두운 숲에서\", \"먼 우주 행성에서\", \"마법의 성에서\", \"바닷속 도시에서\", \"귀신이 나오는 흉가에서\", \"경기장에서\"]\n",
    "events = [\"숨겨진 보물을 발견했다.\", \"무시무시한 용과 싸웠다.\", \"비밀 통로를 발견했다.\", \"고대의 미스터리를 풀었다.\", \"왕국을 위험에서 구하였다.\", \"자동차 레이스에서 1등 하였다.\"]\n",
    "\n",
    "ch = random.choice(characters)\n",
    "pl = random.choice(places)\n",
    "ev = random.choice(events)\n",
    "ch2 = random.choice(characters)\n",
    "pl2 = random.choice(places)\n",
    "ev2 = random.choice(events)\n",
    "\n",
    "print(f\"어느 날, {ch}는 {pl} 모험을 떠나 {ev} 그리고 {ch2}는 {pl2} {ev2}\")"
   ]
  },
  {
   "cell_type": "markdown",
   "id": "f76263bc-481c-4646-bc1c-6e58726f1739",
   "metadata": {},
   "source": [
    "# 자료형의 값을 저장하는 공간, 변수"
   ]
  },
  {
   "cell_type": "markdown",
   "id": "aaa7f8dd-1da1-40ee-86f3-1f2d0fcfe68e",
   "metadata": {},
   "source": [
    "## 리스트의 옅은 복사 깊은 복사"
   ]
  },
  {
   "cell_type": "code",
   "execution_count": 9,
   "id": "7e1e8717-030d-48cf-a7b1-4936d0603ade",
   "metadata": {},
   "outputs": [
    {
     "name": "stdout",
     "output_type": "stream",
     "text": [
      "[1, 2, 3] 1904306847040\n",
      "[1, 2, 3] 1904306847040\n",
      "[1, 7, 3] 1904306847040\n",
      "[1, 7, 3] 1904306847040\n"
     ]
    }
   ],
   "source": [
    "a = [1,2,3]\n",
    "b = a \n",
    "print(a,id(a))\n",
    "print(b,id(b))\n",
    "b[1] = 7\n",
    "print(a,id(a))\n",
    "print(b,id(b))"
   ]
  },
  {
   "cell_type": "code",
   "execution_count": 3,
   "id": "ebc5c2ee-8bb3-440c-9f44-dbb199beedf8",
   "metadata": {},
   "outputs": [
    {
     "data": {
      "text/plain": [
       "True"
      ]
     },
     "execution_count": 3,
     "metadata": {},
     "output_type": "execute_result"
    }
   ],
   "source": [
    "a is b"
   ]
  },
  {
   "cell_type": "code",
   "execution_count": 14,
   "id": "76312d8e-dbd8-4914-8a41-bd753bdafabd",
   "metadata": {},
   "outputs": [
    {
     "name": "stdout",
     "output_type": "stream",
     "text": [
      "[11, 22, 33] 1904306650496\n",
      "[11, 22, 33] 1904306235584\n",
      "[11, 22, 33] 1904306650496\n",
      "[11, 77, 33] 1904306235584\n"
     ]
    }
   ],
   "source": [
    "from copy import copy\n",
    "c = [11,22,33]\n",
    "# d = copy(c) # 방식1\n",
    "d = c[:] # 방식2\n",
    "# d = c.copy() #방식3\n",
    "print(c,id(c))\n",
    "print(d,id(d))\n",
    "d[1] = 77\n",
    "print(c,id(c))\n",
    "print(d,id(d))"
   ]
  },
  {
   "cell_type": "code",
   "execution_count": 8,
   "id": "f4549062-3732-4e2f-8af9-4ba96225ce0e",
   "metadata": {},
   "outputs": [
    {
     "data": {
      "text/plain": [
       "False"
      ]
     },
     "execution_count": 8,
     "metadata": {},
     "output_type": "execute_result"
    }
   ],
   "source": [
    "c is d"
   ]
  },
  {
   "cell_type": "markdown",
   "id": "b1c50f95-0b68-4a60-89e2-46eebe7023dc",
   "metadata": {},
   "source": [
    "## 변수를 만드는 여러가지 방법"
   ]
  },
  {
   "cell_type": "code",
   "execution_count": 18,
   "id": "4632e848-18c5-4e6d-b4d0-ff340b69982b",
   "metadata": {},
   "outputs": [
    {
     "name": "stdout",
     "output_type": "stream",
     "text": [
      "파이썬 짱짱\n",
      "배고파 밥줘\n",
      "10 10 10\n"
     ]
    }
   ],
   "source": [
    "a , b = '파이썬', '짱짱'\n",
    "[c, d] = ['배고파', '밥줘']\n",
    "print(a,b)\n",
    "print(c,d)\n",
    "num1 = num3 = num2 = 10\n",
    "print(num1, num2, num3)"
   ]
  },
  {
   "cell_type": "code",
   "execution_count": 21,
   "id": "cb0b966b-6e20-485d-9aef-dc0e4ca04f1b",
   "metadata": {},
   "outputs": [
    {
     "name": "stdout",
     "output_type": "stream",
     "text": [
      "3 7\n",
      "7 3\n"
     ]
    }
   ],
   "source": [
    "a = 3\n",
    "b = 7\n",
    "print(a, b)\n",
    "a, b = b, a\n",
    "print(a, b)"
   ]
  },
  {
   "cell_type": "code",
   "execution_count": 22,
   "id": "8e0595e8-4e33-43d5-9309-8402da753fd8",
   "metadata": {},
   "outputs": [
    {
     "name": "stdout",
     "output_type": "stream",
     "text": [
      "33 77\n",
      "77 33\n"
     ]
    }
   ],
   "source": [
    "a = 33\n",
    "b = 77\n",
    "print(a,b)\n",
    "temp = a\n",
    "a = b\n",
    "b = temp\n",
    "print(a,b)"
   ]
  }
 ],
 "metadata": {
  "kernelspec": {
   "display_name": "Python 3 (ipykernel)",
   "language": "python",
   "name": "python3"
  },
  "language_info": {
   "codemirror_mode": {
    "name": "ipython",
    "version": 3
   },
   "file_extension": ".py",
   "mimetype": "text/x-python",
   "name": "python",
   "nbconvert_exporter": "python",
   "pygments_lexer": "ipython3",
   "version": "3.13.1"
  }
 },
 "nbformat": 4,
 "nbformat_minor": 5
}
