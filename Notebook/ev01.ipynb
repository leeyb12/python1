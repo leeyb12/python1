{
 "cells": [
  {
   "cell_type": "markdown",
   "id": "c757292e-d769-4ac8-ab42-7d2e2c9f84c4",
   "metadata": {},
   "source": [
    "# 1일차"
   ]
  },
  {
   "cell_type": "code",
   "execution_count": 1,
   "id": "a9e67ce9-c120-4dc9-9b8b-9a10fa42305b",
   "metadata": {},
   "outputs": [
    {
     "name": "stdout",
     "output_type": "stream",
     "text": [
      "apple\n",
      "orange\n",
      "banana\n"
     ]
    }
   ],
   "source": [
    "# 파이썬 if\n",
    "# 0,1,2,3,4 X\n",
    "# 가라, 마라, 와라! , ok!! X \n",
    "fruit = [\"apple\", \"orange\", \"banana\"]\n",
    "fruit1 = [\"orange\", \"banana\"]\n",
    "fruit2 = [\"apple\", \"orange\", \"banana\"]\n",
    "fruit3 = [\"apple\", \"orange\", \"banana\"]\n",
    "fruit4 = [\"apple\", \"orange\", \"banana\"]\n",
    "fruit5 = [\"apple\", \"orange\", \"banana\"]\n",
    "print(fruit[0])\n",
    "print(fruit[1])\n",
    "print(fruit[2])"
   ]
  },
  {
   "cell_type": "code",
   "execution_count": 2,
   "id": "e981ea95-40fa-460d-b389-97b1e8bb48d4",
   "metadata": {},
   "outputs": [
    {
     "name": "stdout",
     "output_type": "stream",
     "text": [
      "조건이 맞아요.\n"
     ]
    }
   ],
   "source": [
    "if 5>0 : # 벽에 있는 스위치\n",
    "   print(\"조건이 맞아요.\")"
   ]
  },
  {
   "cell_type": "code",
   "execution_count": 3,
   "id": "de3d5519-6609-48b8-b1f3-8329e1c5c4ec",
   "metadata": {},
   "outputs": [
    {
     "name": "stdout",
     "output_type": "stream",
     "text": [
      "조건이 맞아요.\n"
     ]
    }
   ],
   "source": [
    "if True : # 벽에 있는 스위치\n",
    "    print(\"조건이 맞아요.\")"
   ]
  },
  {
   "cell_type": "code",
   "execution_count": 4,
   "id": "1b3bbfed-3c1f-4f87-9f14-01d80bf206e5",
   "metadata": {},
   "outputs": [],
   "source": [
    "if False : # 벽에 있는 스위치\n",
    "    print(\"조건이 맞아요.\")"
   ]
  },
  {
   "cell_type": "code",
   "execution_count": 5,
   "id": "31b05ea1-83b3-4a35-81d8-bfeed0a278f8",
   "metadata": {},
   "outputs": [
    {
     "name": "stdout",
     "output_type": "stream",
     "text": [
      "과일이 맞아요.\n"
     ]
    }
   ],
   "source": [
    "if fruit[0] == \"apple\" :\n",
    "    print(\"과일이 맞아요.\")"
   ]
  },
  {
   "cell_type": "code",
   "execution_count": 6,
   "id": "f850ec58-1dcd-4827-8327-77f20c6d9560",
   "metadata": {},
   "outputs": [
    {
     "name": "stdout",
     "output_type": "stream",
     "text": [
      "과일이 맞아요.\n"
     ]
    }
   ],
   "source": [
    "if \"apple\" in fruit:\n",
    "    print(\"과일이 맞아요.\")"
   ]
  },
  {
   "cell_type": "code",
   "execution_count": 7,
   "id": "7e86b8ff-1086-4b86-a789-849199ad921f",
   "metadata": {},
   "outputs": [
    {
     "name": "stdout",
     "output_type": "stream",
     "text": [
      "과일이 맞아요.\n"
     ]
    }
   ],
   "source": [
    "if \"kiwi\" not in fruit:\n",
    "    print(\"과일이 맞아요.\")"
   ]
  },
  {
   "cell_type": "code",
   "execution_count": 8,
   "id": "6f09a0c6-ef4b-472e-84ee-0bfb3fd4c17d",
   "metadata": {},
   "outputs": [
    {
     "name": "stdout",
     "output_type": "stream",
     "text": [
      "사과가 있어요.\n",
      "사과가 없어요.\n"
     ]
    }
   ],
   "source": [
    "if \"apple\" in fruit:\n",
    "    print(\"사과가 있어요.\")\n",
    "if \"apple\" in fruit:\n",
    "    print(\"사과가 없어요.\")"
   ]
  },
  {
   "cell_type": "code",
   "execution_count": 9,
   "id": "185086a4-aaa5-4ccc-a017-176a5ec1682a",
   "metadata": {},
   "outputs": [
    {
     "name": "stdout",
     "output_type": "stream",
     "text": [
      "사과가 있어요.\n"
     ]
    }
   ],
   "source": [
    "if \"apple\" in fruit:\n",
    "    print(\"사과가 있어요.\")\n",
    "else:\n",
    "    print(\"사과가 없어요.\")"
   ]
  },
  {
   "cell_type": "code",
   "execution_count": 10,
   "id": "69d75b87-f155-49bf-971d-02fbd21e3d79",
   "metadata": {},
   "outputs": [
    {
     "name": "stdout",
     "output_type": "stream",
     "text": [
      "fruit2에 사과가 있어요.\n",
      "fruit3에 사과가 있어요.\n",
      "fruit4에 사과가 있어요.\n",
      "fruit5에 사과가 있어요.\n"
     ]
    }
   ],
   "source": [
    "if \"apple\" in fruit1:\n",
    "    print(\"fruit1에 사과가 있어요.\")\n",
    "if \"apple\" in fruit2:\n",
    "    print(\"fruit2에 사과가 있어요.\")\n",
    "if \"apple\" in fruit3:\n",
    "    print(\"fruit3에 사과가 있어요.\")\n",
    "if \"apple\" in fruit4:\n",
    "    print(\"fruit4에 사과가 있어요.\")\n",
    "if \"apple\" in fruit5:\n",
    "    print(\"fruit5에 사과가 있어요.\")"
   ]
  },
  {
   "cell_type": "code",
   "execution_count": 11,
   "id": "b4499c49-3ec9-45cc-af5b-0cd25381fba9",
   "metadata": {},
   "outputs": [
    {
     "name": "stdout",
     "output_type": "stream",
     "text": [
      "fruit2에 사과가 있어요.\n"
     ]
    }
   ],
   "source": [
    "if \"apple\" in fruit1:\n",
    "    print(\"fruit1에 사과가 있어요.\")\n",
    "elif \"apple\" in fruit2:\n",
    "     print(\"fruit2에 사과가 있어요.\")\n",
    "elif \"apple\" in fruit3:\n",
    "     print(\"fruit3에 사과가 있어요.\")\n",
    "elif \"apple\" in fruit4:\n",
    "     print(\"fruit4에 사과가 있어요.\")\n",
    "elif \"apple\" in fruit5:\n",
    "     print(\"fruit5에 사과가 있어요.\")"
   ]
  },
  {
   "cell_type": "code",
   "execution_count": 12,
   "id": "0e0b0146-f070-4f8a-bb6b-ac395b87f9ce",
   "metadata": {},
   "outputs": [
    {
     "name": "stdout",
     "output_type": "stream",
     "text": [
      "조건이 맞아요.\n"
     ]
    }
   ],
   "source": [
    "num = 10 \n",
    "if (num > 5) and (num < 20)  and (num > 0):\n",
    "    print(\"조건이 맞아요.\")"
   ]
  },
  {
   "cell_type": "code",
   "execution_count": 13,
   "id": "4e6d90a6-5ffc-497c-8479-1fbf08794058",
   "metadata": {},
   "outputs": [
    {
     "name": "stdout",
     "output_type": "stream",
     "text": [
      "조건에 맞아요.\n"
     ]
    }
   ],
   "source": [
    "num = 10\n",
    "if (num < 5) or (num < 9) or (num >= 10):\n",
    "    print(\"조건에 맞아요.\")"
   ]
  },
  {
   "cell_type": "code",
   "execution_count": 14,
   "id": "e423505b-41c7-4b3e-88d1-f16cd0d22e03",
   "metadata": {},
   "outputs": [
    {
     "name": "stdout",
     "output_type": "stream",
     "text": [
      "True\n"
     ]
    }
   ],
   "source": [
    "# any()\n",
    "value = [0,0,0,0,'안녕?',0]\n",
    "what = any(value)\n",
    "print(what)"
   ]
  },
  {
   "cell_type": "code",
   "execution_count": 15,
   "id": "951c2b11-495b-4d79-b5b3-2110b69c87d3",
   "metadata": {},
   "outputs": [
    {
     "name": "stdout",
     "output_type": "stream",
     "text": [
      "false가 한개 이상있습니다\n"
     ]
    }
   ],
   "source": [
    "# all()\n",
    "value2 = [0,0,0,0,0]\n",
    "what2 = all(value2)\n",
    "\n",
    "if not all(value2):\n",
    "    print(\"false가 한개 이상있습니다\")"
   ]
  },
  {
   "cell_type": "markdown",
   "id": "cb1e1d47-b9d8-49b4-a066-f115ffcf9b30",
   "metadata": {},
   "source": [
    "# 2일차"
   ]
  },
  {
   "cell_type": "code",
   "execution_count": 16,
   "id": "9c4eac22-f2b5-4a62-9dce-b235fd47e7d5",
   "metadata": {},
   "outputs": [
    {
     "name": "stdin",
     "output_type": "stream",
     "text": [
      "숫자를 입력하세요. 12345\n"
     ]
    },
    {
     "name": "stdout",
     "output_type": "stream",
     "text": [
      "123450 <class 'int'>\n"
     ]
    }
   ],
   "source": [
    "inp = input(\"숫자를 입력하세요.\")\n",
    "result = int(inp) * 10\n",
    "print(result, type(result))"
   ]
  },
  {
   "cell_type": "code",
   "execution_count": 2,
   "id": "876a59c3-fe0f-4334-a136-8cb091c649f7",
   "metadata": {},
   "outputs": [
    {
     "name": "stdin",
     "output_type": "stream",
     "text": [
      "숫자를 입력하세요. 4\n"
     ]
    },
    {
     "name": "stdout",
     "output_type": "stream",
     "text": [
      "짝수입니다.\n"
     ]
    }
   ],
   "source": [
    "# 문제1 입력받은 수를 분석하여 홀수면 홀수, 짝수면 짝수라고 출력하기\n",
    "num = int(input(\"숫자를 입력하세요.\"))\n",
    "if num % 2 == 1 :\n",
    "    print(\"홀수입니다.\")\n",
    "else:\n",
    "    print(\"짝수입니다.\")"
   ]
  },
  {
   "cell_type": "code",
   "execution_count": 35,
   "id": "a61d1111-8061-4ddf-b3f3-88a6d0ac873d",
   "metadata": {},
   "outputs": [
    {
     "name": "stdin",
     "output_type": "stream",
     "text": [
      "나이를 입력하세요. 20\n"
     ]
    },
    {
     "name": "stdout",
     "output_type": "stream",
     "text": [
      "성인입니다. 한잔하자!!\n"
     ]
    }
   ],
   "source": [
    "# 문제2 나이를 입력받아서 20살 미만이면 미성년자입니다. 20살 이상이면 성인입니다. 한잔하자!!\n",
    "num2 = int(input(\"나이를 입력하세요.\"))\n",
    "if num2 < 20:\n",
    "    print(\"미성년자입니다.\")\n",
    "else:\n",
    "    print(\"성인입니다. 한잔하자!!\")"
   ]
  },
  {
   "cell_type": "code",
   "execution_count": 33,
   "id": "dee466d1-717a-4e9b-87ff-959c54d57898",
   "metadata": {},
   "outputs": [
    {
     "name": "stdin",
     "output_type": "stream",
     "text": [
      "과일을 입력하세요. 오렌지\n"
     ]
    },
    {
     "name": "stdout",
     "output_type": "stream",
     "text": [
      "없습니다.\n"
     ]
    }
   ],
   "source": [
    "# 문제3 과일박스 = ['사과', '바나나','키위','수박','참외']에서 들어있는 입력을 받을 때 과일박스에 과일이 존재하면 있다고 하고 없으면 없다고 나타내어라.\n",
    "과일박스 = ['사과', '바나나', '키위', '수박', '참외']\n",
    "과일 = input(\"과일을 입력하세요.\")\n",
    "if 과일 in 과일박스:\n",
    "    print(\"있습니다.\")\n",
    "else:\n",
    "    print(\"없습니다.\")"
   ]
  },
  {
   "cell_type": "code",
   "execution_count": 8,
   "id": "ee1d5ae3-d9bc-4e53-8f43-fbb4c95cf802",
   "metadata": {},
   "outputs": [
    {
     "name": "stdin",
     "output_type": "stream",
     "text": [
      "과일을 입력하세요. 바나나\n"
     ]
    },
    {
     "name": "stdout",
     "output_type": "stream",
     "text": [
      "바나나은(는) 과일박스에서 2번째에 있습니다.\n"
     ]
    }
   ],
   "source": [
    "과일박스 = ['사과', '바나나', '키위', '수박', '참외', '멜론', '딸기','감','코코넛']\n",
    "과일 = input(\"과일을 입력하세요.\")\n",
    "if 과일 in 과일박스:\n",
    "    i = 과일박스.index(과일)+1\n",
    "    print(f\"{과일}은(는) 과일박스에서 {i}번째에 있습니다.\")\n",
    "else:\n",
    "    print(f\"{과일}은(는) 과일박스에 없습니다.\")"
   ]
  },
  {
   "cell_type": "code",
   "execution_count": null,
   "id": "e615c865-1c36-4c07-8aaf-fca6f87a65d1",
   "metadata": {},
   "outputs": [],
   "source": []
  }
 ],
 "metadata": {
  "kernelspec": {
   "display_name": "Python 3 (ipykernel)",
   "language": "python",
   "name": "python3"
  },
  "language_info": {
   "codemirror_mode": {
    "name": "ipython",
    "version": 3
   },
   "file_extension": ".py",
   "mimetype": "text/x-python",
   "name": "python",
   "nbconvert_exporter": "python",
   "pygments_lexer": "ipython3",
   "version": "3.13.1"
  }
 },
 "nbformat": 4,
 "nbformat_minor": 5
}
