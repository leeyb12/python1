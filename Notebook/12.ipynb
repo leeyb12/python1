{
 "cells": [
  {
   "cell_type": "code",
   "execution_count": 12,
   "id": "67c783fa-8a3a-4aae-96df-65b0114d68d5",
   "metadata": {},
   "outputs": [],
   "source": [
    "from selenium import webdriver\n",
    "from selenium.webdriver.common.action_chains import ActionChains\n",
    "from selenium.webdriver.chrome.service import Service\n",
    "from selenium.webdriver.chrome.options import Options\n",
    "from selenium.webdriver.common.keys import Keys\n",
    "from selenium.webdriver.common.by import By\n",
    "from datetime import datetime\n",
    "from bs4 import BeautifulSoup as bs\n",
    "import pandas as pd\n",
    "import time"
   ]
  },
  {
   "cell_type": "code",
   "execution_count": 13,
   "id": "d6b5d1dc-6cb0-4d5a-8f5d-227f2ecd005f",
   "metadata": {},
   "outputs": [
    {
     "name": "stdout",
     "output_type": "stream",
     "text": [
      "교내 식당 주간식단표\n"
     ]
    }
   ],
   "source": [
    "# Chrome 옵션 설정\n",
    "options = Options()\n",
    "options.binary_location = \"..\\\\chrome-win64\\\\chrome.exe\" # chrome 경로 설정\n",
    "options.add_argument(\"--no-sandbox\") # sandbox 설정\n",
    "options.add_argument(\"--disable-dev-shm-usage\") # 공유메모리 설정\n",
    "options.add_argument(\"--window-size=1920,1080\") # 화면크기설정, 반응형 웹 대비\n",
    "# options.add_argument(\"--disable-gpu\") # GPU 비활성화\n",
    "\n",
    "# ChromeDriver 설정\n",
    "service = Service(\"..\\\\chromedriver.exe\")\n",
    "driver = webdriver.Chrome(service=service, options=options)\n",
    "driver.get(\"https://www.pknu.ac.kr/main/399\")\n",
    "print(driver.title)\n",
    "\n",
    "menu = driver.find_element(By.CSS_SELECTOR, \"#subCont > table > tbody > tr:nth-child(1) > td.bdlTitle > a\").click()\n",
    "time.sleep(5)\n",
    "menu_option = driver.find_element(By.CSS_SELECTOR, \"#container\")\n",
    "time.sleep(2)\n",
    "html = driver.page_source"
   ]
  },
  {
   "cell_type": "code",
   "execution_count": 24,
   "id": "476d46f0-ff60-4049-ad9d-57a41c9574a8",
   "metadata": {},
   "outputs": [
    {
     "name": "stdout",
     "output_type": "stream",
     "text": [
      "['Monday', 'Tuesday', 'Wednesday', 'Thursday', 'Friday']\n",
      "['4월 14일', '4월 15일', '4월 16일', '4월 17일', '4월 18일']\n",
      "['흑미밥/현미밥', '콩나물김치국', '불닭볶음', '고구마맛탕', '잡채어묵조림', '청포묵김무침', '그린샐러드', '키위/오리엔탈드레싱', '푸실리오일샐러드', '배추김치', '흑미밥/현미밥', '순두부찌개', '몽골리안돈까스', '순대볶음', '우엉조림', '배추찜', '그린샐러드', '흑임자/발사믹드레싱', '콘슬로우샐러드', '깍두기', '흑미밥/현미밥', '닭개장', '갈릭마요미트볼', '두부조림', '들기름막국수', '시금치나물', '그린샐러드', '석류/오리엔탈드레싱', '펜네샐러드', '베추김치', ' 흑미밥/현미밥', '시락국', '돈육분짜무침', '야채고로케/케찹', '콩나물무침', '고추지무침', '그린샐러드', '참깨/오렌지드레싱', '마카로니샐러드', '깍두기', '현미밥', '목살필라프', '달걀국', '돈육맛쵸킹', '짜장소스', '중국식오이무침', '그린샐러드', '딸기/파인드레싱', '실곤약샐러드', '배추김치']\n",
      "50\n"
     ]
    }
   ],
   "source": [
    "soup = bs(html,\"html.parser\")\n",
    "day = []\n",
    "day2 = []\n",
    "menu = []\n",
    "# 본문내용 가져오기\n",
    "for a in range(2,7):\n",
    "    contents = soup.select(f\"#subCont > div > div.bdvTxt_wrap > div > div > div:nth-child(18) > table > tbody > tr:nth-child(1) > td:nth-child({a})\")\n",
    "    for c in contents:\n",
    "        a = c.get_text()\n",
    "        day.append(a)\n",
    "print(day)\n",
    "\n",
    "for a in range(1,6):\n",
    "    contents = soup.select(f\"#subCont > div > div.bdvTxt_wrap > div > div > div:nth-child(18) > table > tbody > tr:nth-child(2) > td:nth-child({a})\")\n",
    "    for c in contents:\n",
    "        a = c.get_text()\n",
    "        day2.append(a)\n",
    "print(day2)\n",
    "\n",
    "for i in range(2,7):\n",
    "    for a in range(1,11):\n",
    "        contents = soup.select(f\"#subCont > div > div.bdvTxt_wrap > div > div > div:nth-child(18) > table > tbody > tr:nth-child(3) > td:nth-child({i}) > p:nth-child({a}) \")\n",
    "        for c in contents:\n",
    "            a = c.get_text()\n",
    "        menu.append(a)\n",
    "print(menu)\n",
    "\n",
    "print(len(menu))\n",
    "\n"
   ]
  },
  {
   "cell_type": "code",
   "execution_count": 23,
   "id": "897e28ab-1d5e-4cc4-ac21-b6a1237d4886",
   "metadata": {},
   "outputs": [
    {
     "data": {
      "text/html": [
       "<div>\n",
       "<style scoped>\n",
       "    .dataframe tbody tr th:only-of-type {\n",
       "        vertical-align: middle;\n",
       "    }\n",
       "\n",
       "    .dataframe tbody tr th {\n",
       "        vertical-align: top;\n",
       "    }\n",
       "\n",
       "    .dataframe thead th {\n",
       "        text-align: right;\n",
       "    }\n",
       "</style>\n",
       "<table border=\"1\" class=\"dataframe\">\n",
       "  <thead>\n",
       "    <tr style=\"text-align: right;\">\n",
       "      <th></th>\n",
       "      <th>요일</th>\n",
       "      <th>날짜</th>\n",
       "      <th>메뉴</th>\n",
       "    </tr>\n",
       "  </thead>\n",
       "  <tbody>\n",
       "    <tr>\n",
       "      <th>0</th>\n",
       "      <td>Monday</td>\n",
       "      <td>4월 14일</td>\n",
       "      <td>[흑미밥/현미밥콩나물김치국불닭볶음고구마맛탕잡채어묵조림청포묵김무침그린샐러드키위/오리엔...</td>\n",
       "    </tr>\n",
       "    <tr>\n",
       "      <th>1</th>\n",
       "      <td>Tuesday</td>\n",
       "      <td>4월 15일</td>\n",
       "      <td>[흑미밥/현미밥순두부찌개몽골리안돈까스순대볶음우엉조림배추찜그린샐러드흑임자/발사믹드레싱...</td>\n",
       "    </tr>\n",
       "    <tr>\n",
       "      <th>2</th>\n",
       "      <td>Wednesday</td>\n",
       "      <td>4월 16일</td>\n",
       "      <td>[흑미밥/현미밥닭개장갈릭마요미트볼두부조림들기름막국수시금치나물그린샐러드석류/오리엔탈드...</td>\n",
       "    </tr>\n",
       "    <tr>\n",
       "      <th>3</th>\n",
       "      <td>Thursday</td>\n",
       "      <td>4월 17일</td>\n",
       "      <td>[ 흑미밥/현미밥시락국돈육분짜무침야채고로케/케찹콩나물무침고추지무침그린샐러드참깨/오렌...</td>\n",
       "    </tr>\n",
       "    <tr>\n",
       "      <th>4</th>\n",
       "      <td>Friday</td>\n",
       "      <td>4월 18일</td>\n",
       "      <td>[현미밥목살필라프달걀국돈육맛쵸킹짜장소스중국식오이무침그린샐러드딸기/파인드레싱실곤약샐러...</td>\n",
       "    </tr>\n",
       "  </tbody>\n",
       "</table>\n",
       "</div>"
      ],
      "text/plain": [
       "          요일      날짜                                                 메뉴\n",
       "0     Monday  4월 14일  [흑미밥/현미밥콩나물김치국불닭볶음고구마맛탕잡채어묵조림청포묵김무침그린샐러드키위/오리엔...\n",
       "1    Tuesday  4월 15일  [흑미밥/현미밥순두부찌개몽골리안돈까스순대볶음우엉조림배추찜그린샐러드흑임자/발사믹드레싱...\n",
       "2  Wednesday  4월 16일  [흑미밥/현미밥닭개장갈릭마요미트볼두부조림들기름막국수시금치나물그린샐러드석류/오리엔탈드...\n",
       "3   Thursday  4월 17일  [ 흑미밥/현미밥시락국돈육분짜무침야채고로케/케찹콩나물무침고추지무침그린샐러드참깨/오렌...\n",
       "4     Friday  4월 18일  [현미밥목살필라프달걀국돈육맛쵸킹짜장소스중국식오이무침그린샐러드딸기/파인드레싱실곤약샐러..."
      ]
     },
     "execution_count": 23,
     "metadata": {},
     "output_type": "execute_result"
    }
   ],
   "source": [
    "soup = bs(html, 'html.parser')\n",
    "\n",
    "# 요일 및 날짜 수집\n",
    "days = [c.get_text().strip() for c in soup.select(\"#subCont > div > div.bdvTxt_wrap > div > div > div:nth-child(18) > table > tbody > tr:nth-child(1) > td\")]\n",
    "dates = [c.get_text().strip() for c in soup.select(\"#subCont > div > div.bdvTxt_wrap > div > div > div:nth-child(18) > table > tbody > tr:nth-child(2) > td\")]\n",
    "\n",
    "# 전체 메뉴 수집 (월~금: td 2~6번)\n",
    "menu_data = []\n",
    "for col in range(2, 7):  # 2~6번째 td (월~금)\n",
    "    contents = [c.get_text().strip() for c in soup.select(\n",
    "        f\"#subCont > div > div.bdvTxt_wrap > div > div > div:nth-child(18) > table > tbody > tr:nth-child(3) > td:nth-child({col})\")]\n",
    "    menu_data.append(contents)\n",
    "\n",
    "# 리스트 길이 확인 및 DataFrame 생성\n",
    "if len(days) == len(dates) == len(menu_data):\n",
    "    df = pd.DataFrame({\n",
    "        '요일': days,\n",
    "        '날짜': dates,\n",
    "        '메뉴': menu_data\n",
    "    })\n",
    "    print(df.to_string(index=False))\n",
    "df"
   ]
  },
  {
   "cell_type": "code",
   "execution_count": 5,
   "id": "3f7385ee-5cc9-4c82-b494-ac6307ca1dd9",
   "metadata": {},
   "outputs": [],
   "source": [
    "# soup = bs(html, 'html.parser')\n",
    "# contents = soup.select(\"#subCont > div > div.bdvTxt_wrap > div > div > div:nth-child(18)\")\n",
    "\n",
    "# for c in contents:\n",
    "#     menu = c.get_text(strip=True).split(\"\\n\")\n",
    "# c"
   ]
  },
  {
   "cell_type": "code",
   "execution_count": null,
   "id": "8343622a-8b3b-42ed-9675-49f1f019763c",
   "metadata": {},
   "outputs": [],
   "source": []
  },
  {
   "cell_type": "code",
   "execution_count": 6,
   "id": "1321a114-9222-4be0-b4ff-af65e29c855d",
   "metadata": {},
   "outputs": [],
   "source": [
    "#subCont > div > div.bdvTxt_wrap > div > div > div:nth-child(18) > table > tbody > tr:nth-child(3) > td:nth-child(1)"
   ]
  },
  {
   "cell_type": "code",
   "execution_count": null,
   "id": "3ef06dec-a053-4836-b5f0-379bbf4d1d75",
   "metadata": {},
   "outputs": [],
   "source": [
    "#subCont > div > div.bdvTxt_wrap > div > div > div:nth-child(18) > tablld(2)"
   ]
  },
  {
   "cell_type": "code",
   "execution_count": null,
   "id": "0afa82c1-a465-4876-a26d-a1a3908a8250",
   "metadata": {},
   "outputs": [],
   "source": []
  }
 ],
 "metadata": {
  "kernelspec": {
   "display_name": "Python 3 (ipykernel)",
   "language": "python",
   "name": "python3"
  },
  "language_info": {
   "codemirror_mode": {
    "name": "ipython",
    "version": 3
   },
   "file_extension": ".py",
   "mimetype": "text/x-python",
   "name": "python",
   "nbconvert_exporter": "python",
   "pygments_lexer": "ipython3",
   "version": "3.13.1"
  }
 },
 "nbformat": 4,
 "nbformat_minor": 5
}
