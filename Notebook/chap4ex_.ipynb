{
 "cells": [
  {
   "cell_type": "code",
   "execution_count": 15,
   "id": "443be17d-78fe-4796-a840-abcad28bc293",
   "metadata": {},
   "outputs": [],
   "source": [
    "# 1. 홀수, 짝수 판별하기 \n",
    "def is_odd(number): \n",
    "    if number % 2 == 0 :\n",
    "        return\n",
    "    else: \n",
    "         return Flase\n",
    "\n",
    "is_odd(2)"
   ]
  },
  {
   "cell_type": "code",
   "execution_count": 19,
   "id": "b5949d02-9776-4e10-9420-99bef579f828",
   "metadata": {},
   "outputs": [
    {
     "data": {
      "text/plain": [
       "0.2"
      ]
     },
     "execution_count": 19,
     "metadata": {},
     "output_type": "execute_result"
    }
   ],
   "source": [
    "# 2. 모든 입력의 평균값 구하기\n",
    "def avg_numbers(*args):\n",
    "    result = 0 \n",
    "    for i in args: \n",
    "        result += i \n",
    "        return result / len(args)\n",
    "avg_numbers(1,2)\n",
    "avg_numbers(1,2,3,4,5)"
   ]
  },
  {
   "cell_type": "code",
   "execution_count": 8,
   "id": "2c0cbc57-0442-4c89-8ec6-652d7f0fba09",
   "metadata": {},
   "outputs": [
    {
     "name": "stdin",
     "output_type": "stream",
     "text": [
      "첫 번째 숫자를 입력하세요:  3\n",
      "두 번째 숫자를 입력하세요:  6\n"
     ]
    },
    {
     "name": "stdout",
     "output_type": "stream",
     "text": [
      "두 수의 합은 9입니다\n"
     ]
    }
   ],
   "source": [
    "# 3. 프로그램 오류 수정하기 1\n",
    "input1 = input(\"첫 번째 숫자를 입력하세요: \")\n",
    "input2 = input(\"두 번째 숫자를 입력하세요: \")\n",
    "\n",
    "total = int(input1) + int(input2) # 숫자는 문자가 된다. \n",
    "print(\"두 수의 합은 %s입니다\" % total) # s는 만능이다."
   ]
  },
  {
   "cell_type": "code",
   "execution_count": 20,
   "id": "afc79e8f-7283-4f7a-9781-a736a6566c8e",
   "metadata": {},
   "outputs": [
    {
     "name": "stdout",
     "output_type": "stream",
     "text": [
      "youneedpython\n",
      "youneedpython\n",
      "you need python\n",
      "youneedpython\n"
     ]
    }
   ],
   "source": [
    "# 4. 출력 결과가 다른 것은?\n",
    "print(\"you\" \"need\" \"python\") # 없어 붙여\n",
    "print(\"you\" + \"need\" + \"python\") # 더해 붙여\n",
    "print(\"you\", \"need\", \"python\") \n",
    "print(\"\".join([\"you\", \"need\", \"python\"])) # 공백 없어"
   ]
  },
  {
   "cell_type": "code",
   "execution_count": 3,
   "id": "320b6631-10e0-41f3-b2d4-8a3e6eb31363",
   "metadata": {},
   "outputs": [
    {
     "name": "stdout",
     "output_type": "stream",
     "text": [
      "Life is too short\n"
     ]
    }
   ],
   "source": [
    "# 5. 프로그램 오류 수정하기 2\n",
    "f1 = open(\"test.txt\", 'w')\n",
    "f1.write(\"Life is too short\")\n",
    "f1.close() # 그냥 끄면 그때 저장된다.\n",
    "f2 = open(\"test.txt\", 'r') # 그래서 반복할 때 저장된다. \n",
    "print(f2.read())"
   ]
  },
  {
   "cell_type": "code",
   "execution_count": 4,
   "id": "4c389fb5-3643-4457-9f2b-1319795cf420",
   "metadata": {},
   "outputs": [
    {
     "name": "stdin",
     "output_type": "stream",
     "text": [
      "저장할 내용을 입력하세요: 안녕하세요\n"
     ]
    }
   ],
   "source": [
    "# 6. 사용자 입력 저장하기\n",
    "user_input = input(\"저장할 내용을 입력하세요:\")\n",
    "f = open('text.txt','a')\n",
    "f.write(user_input)\n",
    "f.write('\\n')\n",
    "f.close()"
   ]
  },
  {
   "cell_type": "code",
   "execution_count": 5,
   "id": "c9092fe1-bf71-4533-8a86-59aef07b8236",
   "metadata": {},
   "outputs": [],
   "source": [
    "# 7. 파일의 문자열 바꾸기\n",
    "f = open('test.txt','r')\n",
    "body = \"\"\"\n",
    "Life is too short\n",
    "you need java\n",
    "\n",
    "\"\"\"\n",
    "f.close()\n",
    "body = body.replace('java','python') # strip()은 .replace('\\n', ' ')와 같다. \n",
    "f = open('test.txt', 'w')\n",
    "f.write(body)\n",
    "f.close()"
   ]
  },
  {
   "cell_type": "code",
   "execution_count": 10,
   "id": "7c23857c-15d6-4cb0-9cea-a30452a8c4fd",
   "metadata": {},
   "outputs": [
    {
     "ename": "SyntaxError",
     "evalue": "unexpected character after line continuation character (2029540890.py, line 14)",
     "output_type": "error",
     "traceback": [
      "\u001b[1;36m  Cell \u001b[1;32mIn[10], line 14\u001b[1;36m\u001b[0m\n\u001b[1;33m    C:\\> cd doit\u001b[0m\n\u001b[1;37m       ^\u001b[0m\n\u001b[1;31mSyntaxError\u001b[0m\u001b[1;31m:\u001b[0m unexpected character after line continuation character\n"
     ]
    }
   ],
   "source": [
    "# 8. 입력값을 모두 더해 출력하기\n",
    "myargv.py\n",
    "\n",
    "import sys\n",
    "\n",
    "args = sys.argv[1:]\n",
    "\n",
    "output = 0 \n",
    "\n",
    "for arg in args :\n",
    "    output += int(arg)\n",
    "print(output)\n",
    "\n",
    "C:\\> cd doit\n",
    "C:\\doit> python myargv.py 1 2 3 4 5 6 7 8 9 10"
   ]
  },
  {
   "cell_type": "code",
   "execution_count": null,
   "id": "8ca77855-4cc2-41df-90c5-1c47a939749b",
   "metadata": {},
   "outputs": [],
   "source": []
  }
 ],
 "metadata": {
  "kernelspec": {
   "display_name": "Python 3 (ipykernel)",
   "language": "python",
   "name": "python3"
  },
  "language_info": {
   "codemirror_mode": {
    "name": "ipython",
    "version": 3
   },
   "file_extension": ".py",
   "mimetype": "text/x-python",
   "name": "python",
   "nbconvert_exporter": "python",
   "pygments_lexer": "ipython3",
   "version": "3.13.1"
  }
 },
 "nbformat": 4,
 "nbformat_minor": 5
}
