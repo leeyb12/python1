{
 "cells": [
  {
   "cell_type": "code",
   "execution_count": 27,
   "id": "fb79d72c-22d7-41b8-9e63-7634e596f04d",
   "metadata": {},
   "outputs": [
    {
     "name": "stdout",
     "output_type": "stream",
     "text": [
      "MySQL1 서버에 성공적으로 연결되었습니다.\n",
      "MySQL2 서버에 성공적으로 연결되었습니다.\n",
      "연결중...\n"
     ]
    }
   ],
   "source": [
    "import mysql.connector\n",
    "\n",
    "try:\n",
    "    conn1 = mysql.connector.connect(\n",
    "        host=\"mysql\", # MySQL 서버 주소\n",
    "        user=\"root\",\n",
    "        password=\"1234\"\n",
    "    )\n",
    "    if conn1.is_connected():\n",
    "        print(\"MySQL1 서버에 성공적으로 연결되었습니다.\")\n",
    "    conn2 = mysql.connector.connect(\n",
    "        host=\"210.119.14.59\", # MySQL 서버 주소\n",
    "        user=\"root\",\n",
    "        password=\"1234\"\n",
    "    )\n",
    "    if conn2.is_connected():\n",
    "        print(\"MySQL2 서버에 성공적으로 연결되었습니다.\")\n",
    "except mysql.connector.Error as err:\n",
    "        print(\"MySQL 서버 연결 실패\", err)\n",
    "finally:\n",
    "    if conn.is_connected():\n",
    "        print(\"연결중...\")"
   ]
  },
  {
   "cell_type": "code",
   "execution_count": 28,
   "id": "68186050-51d7-4753-9217-6670f92ac0a3",
   "metadata": {},
   "outputs": [],
   "source": [
    "# 커서 생성\n",
    "cursor1 = conn1.cursor()\n",
    "cursor2 = conn2.cursor()\n",
    "que = \"CREATE DATABASE IF NOT EXISTS ybdb\"\n",
    "cursor1.execute(que)\n",
    "cursor2.execute(que)\n",
    "conn1.close()\n",
    "conn2.close()"
   ]
  },
  {
   "cell_type": "code",
   "execution_count": 29,
   "id": "f4be78a0-592d-4afe-aa15-e887039b0440",
   "metadata": {},
   "outputs": [
    {
     "name": "stdout",
     "output_type": "stream",
     "text": [
      "MySQL 연결 성공!\n"
     ]
    }
   ],
   "source": [
    "# MySQL에 연결\n",
    "conn1 = mysql.connector.connect(\n",
    "        host=\"mysql\", # MySQL 서버 주소\n",
    "        user=\"root\",\n",
    "        password=\"1234\",\n",
    "        database=\"ybdb\" # 사용할 데이터 베이스\n",
    "    )\n",
    "conn2 = mysql.connector.connect(\n",
    "        host=\"210.119.14.59\", # MySQL 서버 주소\n",
    "        user=\"root\",\n",
    "        password=\"1234\",\n",
    "        database=\"ybdb\" # 사용할 데이터 베이스\n",
    "    )\n",
    "cursor1 = conn1.cursor()\n",
    "cursor2 = conn2.cursor()\n",
    "print(\"MySQL 연결 성공!\")"
   ]
  },
  {
   "cell_type": "code",
   "execution_count": 30,
   "id": "d623bd2b-724f-4747-b275-568c9413e2c0",
   "metadata": {},
   "outputs": [
    {
     "name": "stdout",
     "output_type": "stream",
     "text": [
      "테이블 생성완료\n"
     ]
    }
   ],
   "source": [
    "# 테이블 생성\n",
    "query = \"CREATE TABLE IF NOT EXISTS users(id INT AUTO_INCREMENT PRIMARY KEY ,name VARCHAR(50), age INT, city VARCHAR(50))\"\n",
    "cursor1.execute(query)\n",
    "cursor2.execute(query)\n",
    "print(\"테이블 생성완료\")"
   ]
  },
  {
   "cell_type": "code",
   "execution_count": 34,
   "id": "87c63018-09ac-488c-b076-ccf7cff5c2bc",
   "metadata": {},
   "outputs": [
    {
     "name": "stdout",
     "output_type": "stream",
     "text": [
      "여러개의 데이터를 두대의 DB에 삽입 완료!\n"
     ]
    }
   ],
   "source": [
    "# 여러개의 데이터 삽입\n",
    "m_values=[(\"superman\",33,\"Busan\"),(\"Cutegirl\",17,\"jeju\"),(\"Coolboy\",22,\"Jeju\")]\n",
    "cursor1.executemany(sql, m_values)\n",
    "cursor2.executemany(sql, m_values)\n",
    "conn1.commit()\n",
    "conn2.commit()\n",
    "print(\"여러개의 데이터를 두대의 DB에 삽입 완료!\")"
   ]
  },
  {
   "cell_type": "code",
   "execution_count": 35,
   "id": "305f9129-4e7c-4b3f-b186-b67706d4695d",
   "metadata": {},
   "outputs": [
    {
     "name": "stdout",
     "output_type": "stream",
     "text": [
      "=====서버1의 내용=====\n",
      "(1, 'Alice', 25, 'Seoul')\n",
      "(2, 'Alice', 25, 'Seoul')\n",
      "(3, 'Alice', 25, 'Seoul')\n",
      "(4, 'superman', 33, 'Busan')\n",
      "(5, 'Cutegirl', 17, 'jeju')\n",
      "(6, 'Coolboy', 22, 'Jeju')\n",
      "(7, 'superman', 33, 'Busan')\n",
      "(8, 'Cutegirl', 17, 'jeju')\n",
      "(9, 'Coolboy', 22, 'Jeju')\n",
      "(10, 'superman', 33, 'Busan')\n",
      "(11, 'Cutegirl', 17, 'jeju')\n",
      "(12, 'Coolboy', 22, 'Jeju')\n",
      "=====서버2의 내용=====\n",
      "(1, 'superman', 33, 'Busan')\n",
      "(2, 'Cutegirl', 17, 'jeju')\n",
      "(3, 'Coolboy', 22, 'Jeju')\n",
      "(4, 'superman', 33, 'Busan')\n",
      "(5, 'Cutegirl', 17, 'jeju')\n",
      "(6, 'Coolboy', 22, 'Jeju')\n",
      "(7, 'superman', 33, 'Busan')\n",
      "(8, 'Cutegirl', 17, 'jeju')\n",
      "(9, 'Coolboy', 22, 'Jeju')\n"
     ]
    }
   ],
   "source": [
    "# 모든 데이터 조회\n",
    "que = \"SELECT * FROM users\"\n",
    "cursor1.execute(que)\n",
    "users1 = cursor1.fetchall()\n",
    "cursor2.execute(que)\n",
    "users2 = cursor2.fetchall()\n",
    "# print(users)\n",
    "print(\"=====서버1의 내용=====\")\n",
    "for user in users1:\n",
    "    print(user)\n",
    "print(\"=====서버2의 내용=====\")\n",
    "for user in users2:\n",
    "    print(user)"
   ]
  },
  {
   "cell_type": "code",
   "execution_count": null,
   "id": "c4330071-db41-4395-b1a1-cd86e560bf00",
   "metadata": {},
   "outputs": [],
   "source": []
  }
 ],
 "metadata": {
  "kernelspec": {
   "display_name": "Python 3 (ipykernel)",
   "language": "python",
   "name": "python3"
  },
  "language_info": {
   "codemirror_mode": {
    "name": "ipython",
    "version": 3
   },
   "file_extension": ".py",
   "mimetype": "text/x-python",
   "name": "python",
   "nbconvert_exporter": "python",
   "pygments_lexer": "ipython3",
   "version": "3.10.12"
  }
 },
 "nbformat": 4,
 "nbformat_minor": 5
}
