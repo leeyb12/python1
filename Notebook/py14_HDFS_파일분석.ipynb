{
 "cells": [
  {
   "cell_type": "code",
   "execution_count": 1,
   "id": "21f5ba3f-b991-483c-a594-94bc908df91c",
   "metadata": {},
   "outputs": [
    {
     "name": "stdout",
     "output_type": "stream",
     "text": [
      "172.18.0.2 172.19.0.2 \n"
     ]
    }
   ],
   "source": [
    "!hostname -I"
   ]
  },
  {
   "cell_type": "code",
   "execution_count": 2,
   "id": "bacdb3c0-db7b-44a4-a2ce-aaf02daaef60",
   "metadata": {},
   "outputs": [],
   "source": [
    "# !pip install hdfs"
   ]
  },
  {
   "cell_type": "code",
   "execution_count": 2,
   "id": "877370b1-0b57-446a-8cf4-09de6d422fe0",
   "metadata": {},
   "outputs": [],
   "source": [
    "from hdfs import InsecureClient"
   ]
  },
  {
   "cell_type": "code",
   "execution_count": 3,
   "id": "f54bab4c-8673-4246-9f76-b9fae5d18e63",
   "metadata": {},
   "outputs": [
    {
     "name": "stdout",
     "output_type": "stream",
     "text": [
      "TION, AND DISTRIBUTION\n",
      "\n",
      "   1. Definitions.\n",
      "\n",
      "      \"License\" shall mean the terms and conditions for \n"
     ]
    }
   ],
   "source": [
    "user = \"hadoop\"\n",
    "host = \"http://namenode:9870\"\n",
    "path = \"/user/hadoop/LICENSE.txt\"\n",
    "hdfs = InsecureClient(host, user)\n",
    "with hdfs.read(path,encoding='utf-8') as reader:\n",
    "    text = reader.read()\n",
    "print(text[200:300])"
   ]
  },
  {
   "cell_type": "code",
   "execution_count": 4,
   "id": "ab964d9d-6487-4d48-89ac-235fe37f5ae3",
   "metadata": {},
   "outputs": [
    {
     "name": "stdout",
     "output_type": "stream",
     "text": [
      "Apache     1\n",
      "License     1\n",
      "Version     1\n",
      "2.0,     1\n",
      "January     1\n",
      "2004     1\n",
      "http://www.apache.org/licenses/     1\n",
      "TERMS     1\n",
      "AND     1\n",
      "CONDITIONS     1\n",
      "FOR     1\n",
      "USE,     1\n",
      "REPRODUC     1\n"
     ]
    }
   ],
   "source": [
    "from collections import Counter\n",
    "\n",
    "words = text[:200].strip().split()\n",
    "word_counts = Counter(words)\n",
    "# print(word_counts)\n",
    "for word, count in word_counts.items():\n",
    "    print(word,\"   \",count)"
   ]
  },
  {
   "cell_type": "code",
   "execution_count": 5,
   "id": "71afc75d-7798-4706-9f49-edd17b8f3335",
   "metadata": {},
   "outputs": [
    {
     "name": "stdout",
     "output_type": "stream",
     "text": [
      "부산.txt\n",
      "월분기연간인구동향_출생_2025.csv\n",
      "일별역별시간대별승하차인원(2025년1월).csv\n",
      "202306연령별인구현황월간.xlsx\n",
      "LICENSE.txt\n",
      "grep-output\n",
      "starbucks.csv\n",
      "starbucks2.csv\n",
      "starbucks_20250411113957.csv\n"
     ]
    }
   ],
   "source": [
    "# 경로내 파일 읽어오기\n",
    "hdfs_dir='/user/hadoop'\n",
    "show = hdfs.list(hdfs_dir)\n",
    "for s in show:\n",
    "    print(s)"
   ]
  },
  {
   "cell_type": "code",
   "execution_count": 6,
   "id": "cce98566-5131-4699-a1d9-55d6fc4fc71f",
   "metadata": {},
   "outputs": [
    {
     "name": "stdout",
     "output_type": "stream",
     "text": [
      "/home/pkdata/data/Notebook\n"
     ]
    }
   ],
   "source": [
    "!pwd"
   ]
  },
  {
   "cell_type": "code",
   "execution_count": 7,
   "id": "35ad7e4a-79b5-4b24-b90c-72eef208875b",
   "metadata": {},
   "outputs": [
    {
     "name": "stdout",
     "output_type": "stream",
     "text": [
      "업로드 완료\n"
     ]
    }
   ],
   "source": [
    "# 파일 업로드\n",
    "local_path = '../ref/starbucks_20250411113957.csv'\n",
    "hdfs_path = '/user/hadoop/starbucks2.csv'\n",
    "hdfs.upload(hdfs_path, local_path, overwrite = True)\n",
    "print(\"업로드 완료\")"
   ]
  },
  {
   "cell_type": "code",
   "execution_count": 8,
   "id": "e31dd66b-9a47-46ca-bc54-7b9f5a823092",
   "metadata": {},
   "outputs": [
    {
     "name": "stdout",
     "output_type": "stream",
     "text": [
      "{'accessTime': 0, 'blockSize': 0, 'childrenNum': 9, 'fileId': 16387, 'group': 'supergroup', 'length': 0, 'modificationTime': 1744783631811, 'owner': 'hadoop', 'pathSuffix': '', 'permission': '777', 'replication': 0, 'storagePolicy': 0, 'type': 'DIRECTORY'}\n"
     ]
    }
   ],
   "source": [
    "# 파일 확인 \n",
    "hdfs_path = '/user/hadoop/'\n",
    "file_name = 'starbucks2.csv'\n",
    "check = hdfs_path + file_name\n",
    "if hdfs.status(check, strict=False)==None:\n",
    "    print(f\"{hafs_path}의 파일이 없습니다.\")\n",
    "else:\n",
    "    print(hdfs.status(hdfs_path, strict=False))"
   ]
  },
  {
   "cell_type": "code",
   "execution_count": 14,
   "id": "33f8d8ff-239b-4c10-b1b2-864856428f63",
   "metadata": {},
   "outputs": [
    {
     "name": "stdout",
     "output_type": "stream",
     "text": [
      "user/hadoop/starbucks2.csv의 파일이 없습니다.\n"
     ]
    }
   ],
   "source": [
    "hdfs_path = 'user/hadoop/'\n",
    "del_file = 'starbucks2.csv'\n",
    "full_path = hdfs_path + del_file\n",
    "if hdfs.delete(full_path):\n",
    "    print(\"삭제되었습니다.\")\n",
    "else:\n",
    "    if hdfs.status(full_path, strict=False)==None:\n",
    "        print(f\"{full_path}의 파일이 없습니다.\")"
   ]
  },
  {
   "cell_type": "code",
   "execution_count": null,
   "id": "4f954263-8d0e-4ab2-b7f2-eb6b0c1c4bcb",
   "metadata": {},
   "outputs": [],
   "source": []
  },
  {
   "cell_type": "code",
   "execution_count": null,
   "id": "a413bd09-ffa3-4cda-b52d-a807efbc7736",
   "metadata": {},
   "outputs": [],
   "source": []
  },
  {
   "cell_type": "code",
   "execution_count": null,
   "id": "8083b255-b557-4ced-8201-40f6a6b4d3d2",
   "metadata": {},
   "outputs": [],
   "source": []
  },
  {
   "cell_type": "code",
   "execution_count": null,
   "id": "9f1e4e43-e910-4142-89dc-024976be3c61",
   "metadata": {},
   "outputs": [],
   "source": []
  },
  {
   "cell_type": "code",
   "execution_count": null,
   "id": "ae6aced0-bbde-4410-8032-4c9d2fc6c800",
   "metadata": {},
   "outputs": [],
   "source": []
  },
  {
   "cell_type": "code",
   "execution_count": null,
   "id": "c56012fb-cee9-4810-a6aa-0c8cd23038fd",
   "metadata": {},
   "outputs": [],
   "source": []
  }
 ],
 "metadata": {
  "kernelspec": {
   "display_name": "Python 3 (ipykernel)",
   "language": "python",
   "name": "python3"
  },
  "language_info": {
   "codemirror_mode": {
    "name": "ipython",
    "version": 3
   },
   "file_extension": ".py",
   "mimetype": "text/x-python",
   "name": "python",
   "nbconvert_exporter": "python",
   "pygments_lexer": "ipython3",
   "version": "3.10.12"
  }
 },
 "nbformat": 4,
 "nbformat_minor": 5
}
