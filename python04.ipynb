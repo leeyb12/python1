{
 "cells": [
  {
   "cell_type": "markdown",
   "id": "c40c7897-c6ff-446b-ab70-ff4a4ad312cd",
   "metadata": {},
   "source": [
    "# 함수"
   ]
  },
  {
   "cell_type": "code",
   "execution_count": 13,
   "id": "ab2de3f1-5c06-4064-b669-b567f7f5f8d2",
   "metadata": {},
   "outputs": [],
   "source": [
    "def 덧셈(a, b): \n",
    "    return a + b"
   ]
  },
  {
   "cell_type": "code",
   "execution_count": 14,
   "id": "e4d97dbf-a879-4eac-a30b-0774c6b677ee",
   "metadata": {},
   "outputs": [
    {
     "name": "stdout",
     "output_type": "stream",
     "text": [
      "7\n"
     ]
    }
   ],
   "source": [
    "c = 덧셈(3,4)\n",
    "print(c)"
   ]
  },
  {
   "cell_type": "code",
   "execution_count": 20,
   "id": "c77b4390-29e5-4060-b2d3-e31b1d953691",
   "metadata": {},
   "outputs": [
    {
     "name": "stdout",
     "output_type": "stream",
     "text": [
      "====2단====\n",
      "2 x 1 = 2\n",
      "2 x 2 = 4\n",
      "2 x 3 = 6\n",
      "2 x 4 = 8\n",
      "2 x 5 = 10\n",
      "2 x 6 = 12\n",
      "2 x 7 = 14\n",
      "2 x 8 = 16\n",
      "2 x 9 = 18\n",
      "\n"
     ]
    }
   ],
   "source": [
    "def gugu(end = 9):\n",
    "    data =''\n",
    "    for j in range(2,end+1):\n",
    "        print(f\"{str(j)+'단':=^10}\")\n",
    "        for i in range(1,10):\n",
    "            data += (f'{j} x {i} = {j*i}') + '\\n'\n",
    "    return data\n",
    "print(gugu(2))        "
   ]
  },
  {
   "cell_type": "markdown",
   "id": "6e5e93c7-a38f-49a2-899c-68b8c1ca4afd",
   "metadata": {},
   "source": [
    "## 입력값과 리턴값에 따른 함수의 형태"
   ]
  },
  {
   "cell_type": "markdown",
   "id": "4e3c4604-3755-4aaa-b6db-7303552291ef",
   "metadata": {},
   "source": [
    "### 일반적인 함수"
   ]
  },
  {
   "cell_type": "code",
   "execution_count": 21,
   "id": "bf05df5e-45ed-4462-a6b1-04a19f721233",
   "metadata": {},
   "outputs": [],
   "source": [
    "def add(a,b): \n",
    "    result = a + b\n",
    "    return result"
   ]
  },
  {
   "cell_type": "code",
   "execution_count": 23,
   "id": "0aac9978-d681-4732-ac65-08f7225c25a8",
   "metadata": {},
   "outputs": [
    {
     "name": "stdout",
     "output_type": "stream",
     "text": [
      "87\n"
     ]
    }
   ],
   "source": [
    "a = add(77,10)\n",
    "print(a)"
   ]
  },
  {
   "cell_type": "code",
   "execution_count": 24,
   "id": "2fb19077-57ec-4c4b-9edd-6efe18715f84",
   "metadata": {},
   "outputs": [],
   "source": [
    "# 입력값이 없는 함수\n",
    "def say(): \n",
    "    return '안녕'"
   ]
  },
  {
   "cell_type": "code",
   "execution_count": 25,
   "id": "6e597ec6-59c7-4030-8762-eb8f37a04408",
   "metadata": {},
   "outputs": [
    {
     "name": "stdout",
     "output_type": "stream",
     "text": [
      "안녕\n"
     ]
    }
   ],
   "source": [
    "a = say()\n",
    "print(a)"
   ]
  },
  {
   "cell_type": "code",
   "execution_count": 26,
   "id": "35a3a634-3edd-4227-8f0f-c7046422ff2a",
   "metadata": {},
   "outputs": [],
   "source": [
    "# 리턴값이 없는 함수\n",
    "def add (a, b): \n",
    "    print(\"%d, %d의 합은 %d 입니다.\" %(a, b, a+b))"
   ]
  },
  {
   "cell_type": "code",
   "execution_count": 28,
   "id": "a5d16992-5621-4ef6-8671-abc0e176dd48",
   "metadata": {},
   "outputs": [
    {
     "name": "stdout",
     "output_type": "stream",
     "text": [
      "11, 33의 합은 44 입니다.\n"
     ]
    }
   ],
   "source": [
    "add(11,33)"
   ]
  },
  {
   "cell_type": "code",
   "execution_count": 29,
   "id": "455d2911-889e-4fed-8805-339339b3e83d",
   "metadata": {},
   "outputs": [],
   "source": [
    "# 입력값과 리턴값이 없는 함수\n",
    "def say(): \n",
    "    print(\"안녕!\")\n",
    "    print(\"전 입력값과 리턴값이 없어요.\")\n",
    "    print(\"빠이~\")"
   ]
  },
  {
   "cell_type": "code",
   "execution_count": 30,
   "id": "40fff663-f14d-43ef-a08a-155cd606a539",
   "metadata": {},
   "outputs": [
    {
     "name": "stdout",
     "output_type": "stream",
     "text": [
      "안녕!\n",
      "전 입력값과 리턴값이 없어요.\n",
      "빠이~\n"
     ]
    }
   ],
   "source": [
    "say()"
   ]
  },
  {
   "cell_type": "code",
   "execution_count": 33,
   "id": "3bbb8e6a-3fdf-4034-afbd-2d09a3cb379c",
   "metadata": {},
   "outputs": [],
   "source": [
    "# 테스트\n",
    "import time as t \n",
    "def disp(): \n",
    "    print(\"안녕!\\r\",end=\"\")\n",
    "    t.sleep(2)\n",
    "    print(\"전 입력값과 리턴값이 없어요.\\r\",end=\"\")\n",
    "    t.sleep(2)\n",
    "    print(\"빠이              ~\",end=\"\")\n",
    "    t.sleep(2)"
   ]
  },
  {
   "cell_type": "code",
   "execution_count": 34,
   "id": "96b6d0e7-81f0-4dfa-ab43-2394bfa15547",
   "metadata": {},
   "outputs": [
    {
     "name": "stdout",
     "output_type": "stream",
     "text": [
      "빠이              ~"
     ]
    }
   ],
   "source": [
    "disp()"
   ]
  },
  {
   "cell_type": "code",
   "execution_count": 35,
   "id": "61b5eef2-8f37-4204-9dde-d6cf0a3ad18a",
   "metadata": {},
   "outputs": [
    {
     "name": "stdout",
     "output_type": "stream",
     "text": [
      "44\n"
     ]
    }
   ],
   "source": [
    "# max() // \n",
    "def bs(li=[33,11,22,44]):\n",
    "    sw = 0 \n",
    "    for x in range(len(li)): \n",
    "        if sw < li[x]:\n",
    "            sw = li[x]\n",
    "    return sw\n",
    "print(bs())  "
   ]
  },
  {
   "cell_type": "code",
   "execution_count": 36,
   "id": "860ddaff-7385-4f05-80ea-75cd00343a6f",
   "metadata": {},
   "outputs": [
    {
     "name": "stdout",
     "output_type": "stream",
     "text": [
      "176\n"
     ]
    }
   ],
   "source": [
    "print(bs([1,21,3,41,5,16,7,18,19,115,4,3,21,1,3,4,51,176,78,3,4]))"
   ]
  },
  {
   "cell_type": "code",
   "execution_count": 37,
   "id": "1435d645-a114-40e5-ba6b-e97a7284cf70",
   "metadata": {},
   "outputs": [],
   "source": [
    "# 매개변수를 지정하여 호출하기\n",
    "def sub(a,b):\n",
    "    return a-b"
   ]
  },
  {
   "cell_type": "code",
   "execution_count": 38,
   "id": "b3650b92-b0b1-43fa-8975-66a74924c2e2",
   "metadata": {},
   "outputs": [
    {
     "name": "stdout",
     "output_type": "stream",
     "text": [
      "4\n"
     ]
    }
   ],
   "source": [
    "# result = sub(a=7, b=3)\n",
    "result = sub(b=3, a=7)\n",
    "print(result)"
   ]
  },
  {
   "cell_type": "code",
   "execution_count": 4,
   "id": "577a1d7b-57c4-4f53-981f-1482d82b7d0a",
   "metadata": {},
   "outputs": [],
   "source": [
    "# !pip install matplotlib"
   ]
  },
  {
   "cell_type": "code",
   "execution_count": 21,
   "id": "d8a6d76f-73aa-4fe3-8049-2b334ef2de23",
   "metadata": {},
   "outputs": [],
   "source": [
    "# 테스트 : 함수 random 주사위\n",
    "import random as r\n",
    "import matplotlib.pyplot as plt\n",
    "def dice(target = 250000):\n",
    "    box = [ ] # 초기화\n",
    "    num = 0 \n",
    "    results = {}\n",
    "    while num < target: \n",
    "        num = num + 1\n",
    "        ran = r.randint(1,6)\n",
    "        box.append(ran)\n",
    "    if target == len(box): \n",
    "        print(f\"{target}회 정상 진행되었습니다.\")\n",
    "    else: \n",
    "        print(f\"검증 결과 횟수 이상이 있습니다. 이유:({target}회 목표로 동작하였으나, {len(box)}으로 측정되었습니다.)\")\n",
    "    for n in range(1,7): \n",
    "        results[n] = box.count(n)\n",
    "        print(f\" {n}번이 {box.count(n)}번({box.count(n)/len(box)*100:.2f}%) 나왔습니다.\")\n",
    "    print(results)\n",
    "    color = [\"skyblue\", \"blue\", \"red\", \"black\", \"darkgreen\", \"orange\"]\n",
    "    plt.bar(results.keys(), results.values(),color=color)\n",
    "    plt.show()"
   ]
  },
  {
   "cell_type": "code",
   "execution_count": 22,
   "id": "2312cc3e-96c6-460b-80f4-13c25f8c80c9",
   "metadata": {},
   "outputs": [
    {
     "name": "stdout",
     "output_type": "stream",
     "text": [
      "250000회 정상 진행되었습니다.\n",
      " 1번이 41332번(16.53%) 나왔습니다.\n",
      " 2번이 41813번(16.73%) 나왔습니다.\n",
      " 3번이 41702번(16.68%) 나왔습니다.\n",
      " 4번이 41627번(16.65%) 나왔습니다.\n",
      " 5번이 41689번(16.68%) 나왔습니다.\n",
      " 6번이 41837번(16.73%) 나왔습니다.\n",
      "{1: 41332, 2: 41813, 3: 41702, 4: 41627, 5: 41689, 6: 41837}\n"
     ]
    },
    {
     "data": {
      "image/png": "[encoded data removed]",
      "text/plain": [
       "<Figure size 640x480 with 1 Axes>"
      ]
     },
     "metadata": {},
     "output_type": "display_data"
    }
   ],
   "source": [
    "dice()\n",
    "# plt.bar(range(1,6),)"
   ]
  },
  {
   "cell_type": "code",
   "execution_count": 29,
   "id": "ae8bd0b9-a93e-420c-b755-437d5c1f5298",
   "metadata": {},
   "outputs": [],
   "source": [
    "# 여러개의 입력값을 받는 함수 만들기\n",
    "def add_many(*args): \n",
    "    result = 0 \n",
    "    for i in args:\n",
    "        result = result + i\n",
    "    return result"
   ]
  },
  {
   "cell_type": "code",
   "execution_count": 30,
   "id": "7a5b2c6a-2cd4-4aba-bf28-25abbd828c1a",
   "metadata": {},
   "outputs": [
    {
     "name": "stdout",
     "output_type": "stream",
     "text": [
      "16\n"
     ]
    }
   ],
   "source": [
    "res = add_many (1,4,5,2,4)\n",
    "print(res)"
   ]
  },
  {
   "cell_type": "code",
   "execution_count": 31,
   "id": "e71c2407-c1d9-4d2a-a2e2-438457eecdb0",
   "metadata": {},
   "outputs": [],
   "source": [
    "def add_mul(choice, *args): \n",
    "    if choice == \"add\":\n",
    "        result = 0 \n",
    "        for i in args:\n",
    "            result = result + i\n",
    "    elif choice ==\"mul\":\n",
    "        result = 1 \n",
    "        for i in args:\n",
    "            result = result * i \n",
    "    return result        "
   ]
  },
  {
   "cell_type": "code",
   "execution_count": 32,
   "id": "c9c5c0a6-a081-4d23-a4bb-b9eff9c08408",
   "metadata": {},
   "outputs": [
    {
     "name": "stdout",
     "output_type": "stream",
     "text": [
      "15\n",
      "120\n"
     ]
    }
   ],
   "source": [
    "result = add_mul('add', 1,2,3,4,5)\n",
    "print(result)\n",
    "result = add_mul('mul', 1,2,3,4,5)\n",
    "print(result)"
   ]
  },
  {
   "cell_type": "code",
   "execution_count": 44,
   "id": "d0352012-caa5-4583-9e83-3497cc6a3e4a",
   "metadata": {},
   "outputs": [],
   "source": [
    "def add_mul(choice, *args): \n",
    "    if choice == \"add\":   # 매개변수 choice에 \"add\"를 입력받았을 때\n",
    "        result = 0 \n",
    "        for i in args:\n",
    "            result = result + i\n",
    "    elif choice ==\"sub\":    # 매개변수 choice에 \"sub\"을 입력받았을 때\n",
    "        result = 1 \n",
    "        for i in args:\n",
    "            result = result - i \n",
    "    elif choice == \"mul\":   # 매개변수 choice에 \"mul\"을 입력받았을 때\n",
    "        result = 2\n",
    "        for i in args: \n",
    "            result = result * i \n",
    "    elif choice == \"div\":   # 매개변수 choice에 \"div\"을 입력받았을 때\n",
    "        result = 3 \n",
    "        for i in args:\n",
    "            result = result / i\n",
    "    else: \n",
    "         result = choice\n",
    "         print(\"정확하게 입력하세요\")\n",
    "    return result"
   ]
  },
  {
   "cell_type": "code",
   "execution_count": 45,
   "id": "1c653fc3-34a7-4718-9c33-1ca1fd7a3324",
   "metadata": {},
   "outputs": [
    {
     "name": "stdout",
     "output_type": "stream",
     "text": [
      "15\n",
      "-12\n",
      "48\n",
      "0.0003333333333333334\n"
     ]
    }
   ],
   "source": [
    "result = add_mul('add', 1,2,3,4,5)\n",
    "print(result)\n",
    "result = add_mul('sub', 7,4,1,1)\n",
    "print(result)\n",
    "result = add_mul('mul', 2,3,4)\n",
    "print(result)\n",
    "result = add_mul('div', 300,3,10)\n",
    "print(result)"
   ]
  },
  {
   "cell_type": "code",
   "execution_count": 46,
   "id": "b9b67a9c-900a-4d2f-a5ed-ed4eb5d16cdd",
   "metadata": {},
   "outputs": [
    {
     "data": {
      "text/plain": [
       "1.0"
      ]
     },
     "execution_count": 46,
     "metadata": {},
     "output_type": "execute_result"
    }
   ],
   "source": [
    "add_mul('div',3,1)"
   ]
  },
  {
   "cell_type": "code",
   "execution_count": 47,
   "id": "b85f0fc1-f86a-4015-b032-d0a90e1556f0",
   "metadata": {},
   "outputs": [],
   "source": [
    "# 키워드 매개변수 kwargs\n",
    "def print_kwargs(**kwargs): \n",
    "    print(kwargs)"
   ]
  },
  {
   "cell_type": "code",
   "execution_count": 50,
   "id": "1e44beee-f46c-45e4-87ad-3ed3b811d886",
   "metadata": {},
   "outputs": [
    {
     "name": "stdout",
     "output_type": "stream",
     "text": [
      "{'name': '홍길동', 'age': 21, 'address': '대한민국'}\n"
     ]
    }
   ],
   "source": [
    "def print_kwargs(kwargs): \n",
    "    print(kwargs)\n",
    "print_kwargs({'name': '홍길동', 'age': 21, 'address': '대한민국'})"
   ]
  },
  {
   "cell_type": "code",
   "execution_count": 51,
   "id": "22128cbb-d29f-46c9-9e06-db8d46996d8b",
   "metadata": {},
   "outputs": [],
   "source": [
    "# test \n",
    "def test(): \n",
    "    print('저야 영광이죠~!!')\n",
    "    return\n",
    "    print('집에가고싶어!~!')"
   ]
  },
  {
   "cell_type": "code",
   "execution_count": 52,
   "id": "f91e05cc-788b-4d33-b4f5-99e0e6e4553e",
   "metadata": {},
   "outputs": [
    {
     "name": "stdout",
     "output_type": "stream",
     "text": [
      "저야 영광이죠~!!\n"
     ]
    }
   ],
   "source": [
    "test()"
   ]
  },
  {
   "cell_type": "code",
   "execution_count": 55,
   "id": "a5f59aa1-93b4-45a0-8153-d77b551d3a51",
   "metadata": {},
   "outputs": [
    {
     "name": "stdout",
     "output_type": "stream",
     "text": [
      "35 286\n"
     ]
    }
   ],
   "source": [
    "# test2\n",
    "def test2(a,b):\n",
    "    return a+b, a*b\n",
    "add_result, mul_result = test2(13,22)\n",
    "print(add_result, mul_result)"
   ]
  },
  {
   "cell_type": "code",
   "execution_count": 73,
   "id": "43866f3b-a38a-42d8-9739-68caea0bc2a4",
   "metadata": {},
   "outputs": [],
   "source": [
    "def say_nick(nick):\n",
    "    if nick == \"야호\": \n",
    "        print(\"나의 별명은 %s입니다.\" % nick)"
   ]
  },
  {
   "cell_type": "code",
   "execution_count": 74,
   "id": "b9f3628d-9b3a-43fb-8df6-7116258ce02f",
   "metadata": {},
   "outputs": [
    {
     "name": "stdout",
     "output_type": "stream",
     "text": [
      "나의 별명은 야호입니다.\n"
     ]
    }
   ],
   "source": [
    "say_nick('야호')"
   ]
  },
  {
   "cell_type": "code",
   "execution_count": 71,
   "id": "dcfd40cb-762c-4738-9bf5-6338cc244ba2",
   "metadata": {},
   "outputs": [
    {
     "name": "stdout",
     "output_type": "stream",
     "text": [
      "나의 별명은 바보입니다.\n"
     ]
    }
   ],
   "source": [
    "say_nick('바보')"
   ]
  },
  {
   "cell_type": "code",
   "execution_count": null,
   "id": "51923c8a-1cb8-4834-9c44-4366d1c253be",
   "metadata": {},
   "outputs": [],
   "source": []
  }
 ],
 "metadata": {
  "kernelspec": {
   "display_name": "Python 3 (ipykernel)",
   "language": "python",
   "name": "python3"
  },
  "language_info": {
   "codemirror_mode": {
    "name": "ipython",
    "version": 3
   },
   "file_extension": ".py",
   "mimetype": "text/x-python",
   "name": "python",
   "nbconvert_exporter": "python",
   "pygments_lexer": "ipython3",
   "version": "3.13.1"
  }
 },
 "nbformat": 4,
 "nbformat_minor": 5
}
