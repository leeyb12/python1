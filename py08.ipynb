{
 "cells": [
  {
   "cell_type": "markdown",
   "id": "bc17cbc1-02ec-457d-a6e3-de4afea40164",
   "metadata": {},
   "source": [
    "# 외부 라이브러리"
   ]
  },
  {
   "cell_type": "markdown",
   "id": "e66e7aac-c972-4cc2-9750-ae8381b546ac",
   "metadata": {},
   "source": [
    "## pip *"
   ]
  },
  {
   "cell_type": "markdown",
   "id": "e67c5a04-54a1-4164-a781-b52d95b91362",
   "metadata": {},
   "source": [
    "- venv1 생성 후 백업: pip freeze > requirements.txt\n",
    "- venv2 생성 후 복구: pip install -r requirements.txt\n",
    "- venv3 jupyterlab 설치후 matplotlib 설치 후 백업하고\n",
    "- venv4에 pip 리스트 그대로 복구하라.\n",
    "- venv5에 numpy 2.2.2 버전으로 복구되도록 requirements.txt 수정 후 복구하라."
   ]
  },
  {
   "cell_type": "markdown",
   "id": "fc18a02a-2fec-4fd6-8bd2-84eed3dbba0d",
   "metadata": {},
   "source": [
    "## Faker"
   ]
  },
  {
   "cell_type": "code",
   "execution_count": 1,
   "id": "0ffeec4a-41af-42a9-ac53-c991688f3933",
   "metadata": {},
   "outputs": [],
   "source": [
    "# !pip install Faker"
   ]
  },
  {
   "cell_type": "code",
   "execution_count": 2,
   "id": "4253827c-f208-4883-956e-05114f5b2dd8",
   "metadata": {},
   "outputs": [
    {
     "data": {
      "text/plain": [
       "[{'name': '김영호',\n",
       "  'id': 'lhong',\n",
       "  'phone': '061-838-7121',\n",
       "  'email': 'jeongung07@example.net'},\n",
       " {'name': '박현지',\n",
       "  'id': 'ngim',\n",
       "  'phone': '053-272-4134',\n",
       "  'email': 'yeongsu33@example.net'},\n",
       " {'name': '정준영',\n",
       "  'id': 'gimminji',\n",
       "  'phone': '019-431-4467',\n",
       "  'email': 'jinhomun@example.net'},\n",
       " {'name': '오수민',\n",
       "  'id': 'junhoi',\n",
       "  'phone': '031-923-3359',\n",
       "  'email': 'yeongjinnam@example.net'},\n",
       " {'name': '배상현',\n",
       "  'id': 'jeongsigi',\n",
       "  'phone': '041-982-3975',\n",
       "  'email': 'bagsanghun@example.net'},\n",
       " {'name': '황은서',\n",
       "  'id': 'yeji00',\n",
       "  'phone': '063-111-1716',\n",
       "  'email': 'haeun54@example.net'},\n",
       " {'name': '서영일',\n",
       "  'id': 'hju',\n",
       "  'phone': '018-552-0133',\n",
       "  'email': 'him@example.net'},\n",
       " {'name': '장미정',\n",
       "  'id': 'seoyeon48',\n",
       "  'phone': '044-836-2950',\n",
       "  'email': 'jinu07@example.net'},\n",
       " {'name': '김민재',\n",
       "  'id': 'ino',\n",
       "  'phone': '054-026-9639',\n",
       "  'email': 'kgim@example.org'},\n",
       " {'name': '강진우',\n",
       "  'id': 'jeongsig67',\n",
       "  'phone': '042-078-9604',\n",
       "  'email': 'nasanghyeon@example.net'}]"
      ]
     },
     "execution_count": 2,
     "metadata": {},
     "output_type": "execute_result"
    }
   ],
   "source": [
    "from faker import Faker\n",
    "fake = Faker('ko-KR')\n",
    "[{'name':fake.name(), 'id':fake.user_name(),'phone':fake.phone_number(),'email':fake.email()} for n in range(10)]"
   ]
  },
  {
   "attachments": {},
   "cell_type": "markdown",
   "id": "52b15611-a3bc-4ae1-8594-7562dbd70f10",
   "metadata": {},
   "source": [
    "Faker 활용하기\n",
    "\n",
    "<table style=\"float:left;width:400px\">\n",
    "<thead>\n",
    "<tr>\n",
    "<th>항목</th>\n",
    "<th>설명</th>\n",
    "</tr>\n",
    "</thead>\n",
    "<tbody>\n",
    "<tr>\n",
    "<td>fake.name()</td>\n",
    "<td>이름</td>\n",
    "</tr>\n",
    "<tr>\n",
    "<td>fake.address()</td>\n",
    "<td>주소</td>\n",
    "</tr>\n",
    "<tr>\n",
    "<td>fake.postcode()</td>\n",
    "<td>우편 번호</td>\n",
    "</tr>\n",
    "<tr>\n",
    "<td>fake.country()</td>\n",
    "<td>국가명</td>\n",
    "</tr>\n",
    "<tr>\n",
    "<td>fake.company()</td>\n",
    "<td>회사명</td>\n",
    "</tr>\n",
    "<tr>\n",
    "<td>fake.job()</td>\n",
    "<td>직업명</td>\n",
    "</tr>\n",
    "<tr>\n",
    "<td>fake.phone_number()</td>\n",
    "<td>휴대전화 번호</td>\n",
    "</tr>\n",
    "<tr>\n",
    "<td>fake.email()</td>\n",
    "<td>이메일 주소</td>\n",
    "</tr>\n",
    "<tr>\n",
    "<td>fake.user_name()</td>\n",
    "<td>사용자명</td>\n",
    "</tr>\n",
    "<tr>\n",
    "<td>fake.pyint(min_value=0, max_value=100)</td>\n",
    "<td>0부터 100 사이의 임의의 숫자</td>\n",
    "</tr>\n",
    "<tr>\n",
    "<td>fake.ipv4_private()</td>\n",
    "<td>IP 주소</td>\n",
    "</tr>\n",
    "<tr>\n",
    "<td>fake.text()</td>\n",
    "<td>임의의 문장 (한글 임의의 문장은 <code>fake.catch_phrase()</code> 사용)</td>\n",
    "</tr>\n",
    "<tr>\n",
    "<td>fake.color_name()</td>\n",
    "<td>색상명</td>\n",
    "</tr>\n",
    "</tbody>\n",
    "</table>"
   ]
  },
  {
   "cell_type": "code",
   "execution_count": 3,
   "id": "fe48b951-8b21-4f20-9fc7-4e35c938612a",
   "metadata": {},
   "outputs": [
    {
     "ename": "NameError",
     "evalue": "name 'req' is not defined",
     "output_type": "error",
     "traceback": [
      "\u001b[1;31m---------------------------------------------------------------------------\u001b[0m",
      "\u001b[1;31mNameError\u001b[0m                                 Traceback (most recent call last)",
      "Cell \u001b[1;32mIn[3], line 5\u001b[0m\n\u001b[0;32m      3\u001b[0m url \u001b[38;5;241m=\u001b[39m \u001b[38;5;124m\"\u001b[39m\u001b[38;5;124mhttps://www.melon.com/chart/index.htm\u001b[39m\u001b[38;5;124m\"\u001b[39m\n\u001b[0;32m      4\u001b[0m headers \u001b[38;5;241m=\u001b[39m {\u001b[38;5;124m'\u001b[39m\u001b[38;5;124mUser-Agent\u001b[39m\u001b[38;5;124m'\u001b[39m:\u001b[38;5;124m'\u001b[39m\u001b[38;5;124mMozilla/5.0 (Windows NT 10.0; Win64; x64) AppleWebKit/537.36 (KHTML, like Gecko) Chrome/133.0.0.0 Safari/537.36 Edg/133.0.0.0\u001b[39m\u001b[38;5;124m'\u001b[39m}\n\u001b[1;32m----> 5\u001b[0m web \u001b[38;5;241m=\u001b[39m \u001b[43mreq\u001b[49m\u001b[38;5;241m.\u001b[39mget(url, headers \u001b[38;5;241m=\u001b[39m headers)\n\u001b[0;32m      6\u001b[0m soup \u001b[38;5;241m=\u001b[39m bs(web\u001b[38;5;241m.\u001b[39mcontent, \u001b[38;5;124m'\u001b[39m\u001b[38;5;124mhtml.parser\u001b[39m\u001b[38;5;124m'\u001b[39m)\n\u001b[0;32m      8\u001b[0m title \u001b[38;5;241m=\u001b[39m soup\u001b[38;5;241m.\u001b[39mselect(\u001b[38;5;124m'\u001b[39m\u001b[38;5;124m.rank01\u001b[39m\u001b[38;5;124m'\u001b[39m)\n",
      "\u001b[1;31mNameError\u001b[0m: name 'req' is not defined"
     ]
    }
   ],
   "source": [
    "import requests as bs\n",
    "from bs4 import BeautifulSoup as bs\n",
    "url = \"https://www.melon.com/chart/index.htm\"\n",
    "headers = {'User-Agent':'Mozilla/5.0 (Windows NT 10.0; Win64; x64) AppleWebKit/537.36 (KHTML, like Gecko) Chrome/133.0.0.0 Safari/537.36 Edg/133.0.0.0'}\n",
    "web = req.get(url, headers = headers)\n",
    "soup = bs(web.content, 'html.parser')\n",
    "\n",
    "title = soup.select('.rank01')\n",
    "name = soup.select('.checkEllipsis a')\n",
    "str = ''\n",
    "for i, (t,n) in enumerate(zip(title, name),1):\n",
    "    str += f'{i}위:{t.text.strip()}/{n.text}\\n'\n",
    "print(str,end=' ')"
   ]
  },
  {
   "cell_type": "code",
   "execution_count": null,
   "id": "4c5749a5-1cd6-4225-8c0b-41e45d9227f3",
   "metadata": {},
   "outputs": [],
   "source": [
    "import melon\n",
    "melon.mel()"
   ]
  },
  {
   "cell_type": "code",
   "execution_count": null,
   "id": "d4d012a1-cd55-443e-a1b5-d575eb8400ea",
   "metadata": {},
   "outputs": [],
   "source": [
    "!pip install html5lib"
   ]
  },
  {
   "cell_type": "code",
   "execution_count": null,
   "id": "e91b032c-a4e8-4922-a057-cbe8fd814129",
   "metadata": {},
   "outputs": [],
   "source": [
    "import requests as req\n",
    "from bs4 import BeautifulSoup as bs\n",
    "url = \"https://www.pusan.ac.kr/kor/CMS/MenuMgr/menuListOnBuilding.do?mCode=MN202\"\n",
    "headers = {'user-agent':'Mozilla/5.0 (Windows NT 10.0; Win64; x64) AppleWebKit/537.36 (KHTML, like Gecko) Chrome/133.0.0.0 Safari/537.36 Edg/133.0.0.0'}\n",
    "web = req.get(url, headers = headers)\n",
    "soup = bs(web.content, 'html5lib')\n",
    "menucard = soup.select('.menu-tb1')\n",
    "won = soup.select('.menu-tit01')\n",
    "menu = soup.select('h3.menu-tit01+p')\n",
    "day = soup.select('.day')\n",
    "date = soup.select('.date')\n",
    "for d, dd, w, m in zip(day, date, won, menu):\n",
    "    print('='*15)\n",
    "    print(d.text, dd.text)\n",
    "    print(w.text+'\\n'+m.text)\n",
    "    print('='*15)"
   ]
  },
  {
   "cell_type": "code",
   "execution_count": null,
   "id": "093bc98c-1332-4c9e-ba24-46f32738d1d7",
   "metadata": {},
   "outputs": [],
   "source": [
    "# ! pip install python-telegram-bot"
   ]
  },
  {
   "cell_type": "code",
   "execution_count": null,
   "id": "6b1c24d0-3592-4c5e-b975-3c0ebf5f7d28",
   "metadata": {},
   "outputs": [],
   "source": [
    "# !pip install asyncio"
   ]
  },
  {
   "cell_type": "code",
   "execution_count": null,
   "id": "ff349071-8cbb-41b0-951d-facab7271022",
   "metadata": {},
   "outputs": [],
   "source": [
    "import asyncio\n",
    "import nest_asyncio # 주피터랩용\n",
    "from dotenv import load_dotenv\n",
    "import os \n",
    "# .env 파일 로드\n",
    "load_dotenv()\n",
    "\n",
    "from telegram import Update\n",
    "from telegram.ext import Application, CommandHandler, MessageHandler, filters, CallbackContext\n",
    "nest_asyncio.apply() # 주피터랩용\n",
    "\n",
    "TELEGRAM_TOKEN = os.getenv(\"TELEGRAM_TOKEN\")\n",
    "\n",
    "async def start( update, context):\n",
    "    await context.bot.send_message(chat_id=update.effective_chat.id, text=\"봇이 가동되었습니다!\")\n",
    "async def handle_message(update , context ):\n",
    "    user_message = update.message.text.lower()  # Text -> text\n",
    "\n",
    "    if \"밥\" in user_message:\n",
    "        response = \"밥 먹으러 갑시다!\"\n",
    "    elif \"집\" in user_message:\n",
    "        response = \"집에 가즈아\"\n",
    "    print(response)\n",
    "\n",
    "    #응답 메세지 전송\n",
    "    await context.bot.send_message(chat_id=update.effective_chat.id, text=response)\n",
    "\n",
    "async def main():\n",
    "    application = Application.builder().token(TELEGRAM_TOKEN).build()\n",
    "    await application.initialize() # 초기화 필수\n",
    "\n",
    "    # 핸들러 추가\n",
    "    application.add_handler(CommandHandler(\"start\", start))\n",
    "    application.add_handler(MessageHandler(filters.TEXT & ~filters.COMMAND, handle_message))\n",
    "    \n",
    "    await application.start()\n",
    "    print(\"봇이 실행중 입니다.\")\n",
    "\n",
    "    await application.updater.start_polling()\n",
    "\n",
    "\n",
    "if __name__ == \"__main__\":\n",
    "    asyncio.run(main())"
   ]
  },
  {
   "cell_type": "code",
   "execution_count": null,
   "id": "e73b7b49-cbc6-4439-804a-a87ecb51200d",
   "metadata": {},
   "outputs": [],
   "source": [
    "import requests as req\n",
    "from bs4 import BeautifulSoup as bs # 정적 웹영\n",
    "url = \"https://www.weather.go.kr/w/weather/forecast/short-term.do?stnId=159\"\n",
    "web = req.get(url)\n",
    "soup = bs(web.content,'html.parser')\n",
    "summary = soup.select('p.summary') # 배열로 가져옴\n",
    "for s in summary:\n",
    "    print(s.text.replace('○','\\n○'))"
   ]
  },
  {
   "cell_type": "code",
   "execution_count": null,
   "id": "c8030f65-81f9-44a9-a183-ef37c9ccf338",
   "metadata": {},
   "outputs": [],
   "source": [
    "table = soup.select('.table-col')[0]\n",
    "data = table.select('tr')\n",
    "header = data[0].select('th')\n",
    "line1 = ['최고기온'] + data[1].select('td')\n",
    "line2 = ['최저기온'] + data[2].select('td')\n",
    "raw_data = []\n",
    "for h, l1, l2 in zip(header, line1, line2):\n",
    "    try:\n",
    "        out = h.text + ': ' + l1.text + ' / ' +  l2.text\n",
    "    except:\n",
    "        out = h.text + '  : ' +  l1 + ' / ' +  l2\n",
    "    finally: \n",
    "        print(out)\n",
    "        raw_data.append(out)"
   ]
  },
  {
   "cell_type": "code",
   "execution_count": null,
   "id": "e2348aeb-587b-486c-a44e-f320239c01aa",
   "metadata": {},
   "outputs": [],
   "source": [
    "import pandas as pd\n",
    "parsed_data = []\n",
    "for entry in raw_data[1:]:\n",
    "    date, temps = entry.split(':')\n",
    "    low_temp, high_temp = temps.split('/')\n",
    "    parsed_data.append([date.strip(),low_temp.strip(),high_temp.strip()])\n",
    "# 데이터 프레임 생성\n",
    "df = pd.DataFrame(parsed_data,columns=[\"날짜\",\"최저기온\",\"최고기온\"])\n",
    "# df.to_csv('weather.csv',index=False, encoding='utf-8')\n",
    "df.to_csv('weather_x.csv',index=False, encoding='utf-8-sig')"
   ]
  },
  {
   "cell_type": "code",
   "execution_count": null,
   "id": "9ab4d221-c911-4ddc-8c33-345e4bae254e",
   "metadata": {},
   "outputs": [],
   "source": [
    "df = pd.DataFrame([entry.split(':')[0].strip(), *entry.split(':')[1].strip().split('/')] for entry in raw_data[1:])\n",
    "df.columns=[\"날짜\",\"최저기온\",\"최고기온\"]\n",
    "df"
   ]
  },
  {
   "cell_type": "code",
   "execution_count": null,
   "id": "0e7ff1c7-a2e8-47b0-8ef6-b94910e29183",
   "metadata": {},
   "outputs": [],
   "source": []
  },
  {
   "cell_type": "code",
   "execution_count": null,
   "id": "9a89e572-e6e7-4a3f-b0c0-c72d78da310f",
   "metadata": {},
   "outputs": [],
   "source": []
  }
 ],
 "metadata": {
  "kernelspec": {
   "display_name": "Python 3 (ipykernel)",
   "language": "python",
   "name": "python3"
  },
  "language_info": {
   "codemirror_mode": {
    "name": "ipython",
    "version": 3
   },
   "file_extension": ".py",
   "mimetype": "text/x-python",
   "name": "python",
   "nbconvert_exporter": "python",
   "pygments_lexer": "ipython3",
   "version": "3.13.1"
  }
 },
 "nbformat": 4,
 "nbformat_minor": 5
}
