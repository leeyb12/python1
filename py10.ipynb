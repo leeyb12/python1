{
 "cells": [
  {
   "cell_type": "code",
   "execution_count": 1,
   "metadata": {
    "colab": {
     "base_uri": "https://localhost:8080/"
    },
    "executionInfo": {
     "elapsed": 113,
     "status": "ok",
     "timestamp": 1740445370991,
     "user": {
      "displayName": "이윤범",
      "userId": "06065046603657350129"
     },
     "user_tz": -540
    },
    "id": "Ap0pqfpKfY4x",
    "outputId": "9f973ccb-9e69-4ad7-e0de-98a1044386a6"
   },
<<<<<<< HEAD
   "outputs": [],
   "source": [
    "# with open('./drive/MyDrive/ReadME.md','w') as f:\n",
    "#   data = f.write('*반가워요.')\n",
    "#   print(\"저장되었습니다.\")\n",
    "#   !pwd"
=======
   "outputs": [
    {
     "ename": "FileNotFoundError",
     "evalue": "[Errno 2] No such file or directory: './drive/MyDrive/ReadME.md'",
     "output_type": "error",
     "traceback": [
      "\u001b[1;31m---------------------------------------------------------------------------\u001b[0m",
      "\u001b[1;31mFileNotFoundError\u001b[0m                         Traceback (most recent call last)",
      "Cell \u001b[1;32mIn[1], line 1\u001b[0m\n\u001b[1;32m----> 1\u001b[0m \u001b[38;5;28;01mwith\u001b[39;00m \u001b[38;5;28;43mopen\u001b[39;49m\u001b[43m(\u001b[49m\u001b[38;5;124;43m'\u001b[39;49m\u001b[38;5;124;43m./drive/MyDrive/ReadME.md\u001b[39;49m\u001b[38;5;124;43m'\u001b[39;49m\u001b[43m,\u001b[49m\u001b[38;5;124;43m'\u001b[39;49m\u001b[38;5;124;43mw\u001b[39;49m\u001b[38;5;124;43m'\u001b[39;49m\u001b[43m)\u001b[49m \u001b[38;5;28;01mas\u001b[39;00m f:\n\u001b[0;32m      2\u001b[0m   data \u001b[38;5;241m=\u001b[39m f\u001b[38;5;241m.\u001b[39mwrite(\u001b[38;5;124m'\u001b[39m\u001b[38;5;124m*반가워요.\u001b[39m\u001b[38;5;124m'\u001b[39m)\n\u001b[0;32m      3\u001b[0m   \u001b[38;5;28mprint\u001b[39m(\u001b[38;5;124m\"\u001b[39m\u001b[38;5;124m저장되었습니다.\u001b[39m\u001b[38;5;124m\"\u001b[39m)\n",
      "File \u001b[1;32m~\\AppData\\Local\\Programs\\Python\\Python313\\Lib\\site-packages\\IPython\\core\\interactiveshell.py:324\u001b[0m, in \u001b[0;36m_modified_open\u001b[1;34m(file, *args, **kwargs)\u001b[0m\n\u001b[0;32m    317\u001b[0m \u001b[38;5;28;01mif\u001b[39;00m file \u001b[38;5;129;01min\u001b[39;00m {\u001b[38;5;241m0\u001b[39m, \u001b[38;5;241m1\u001b[39m, \u001b[38;5;241m2\u001b[39m}:\n\u001b[0;32m    318\u001b[0m     \u001b[38;5;28;01mraise\u001b[39;00m \u001b[38;5;167;01mValueError\u001b[39;00m(\n\u001b[0;32m    319\u001b[0m         \u001b[38;5;124mf\u001b[39m\u001b[38;5;124m\"\u001b[39m\u001b[38;5;124mIPython won\u001b[39m\u001b[38;5;124m'\u001b[39m\u001b[38;5;124mt let you open fd=\u001b[39m\u001b[38;5;132;01m{\u001b[39;00mfile\u001b[38;5;132;01m}\u001b[39;00m\u001b[38;5;124m by default \u001b[39m\u001b[38;5;124m\"\u001b[39m\n\u001b[0;32m    320\u001b[0m         \u001b[38;5;124m\"\u001b[39m\u001b[38;5;124mas it is likely to crash IPython. If you know what you are doing, \u001b[39m\u001b[38;5;124m\"\u001b[39m\n\u001b[0;32m    321\u001b[0m         \u001b[38;5;124m\"\u001b[39m\u001b[38;5;124myou can use builtins\u001b[39m\u001b[38;5;124m'\u001b[39m\u001b[38;5;124m open.\u001b[39m\u001b[38;5;124m\"\u001b[39m\n\u001b[0;32m    322\u001b[0m     )\n\u001b[1;32m--> 324\u001b[0m \u001b[38;5;28;01mreturn\u001b[39;00m \u001b[43mio_open\u001b[49m\u001b[43m(\u001b[49m\u001b[43mfile\u001b[49m\u001b[43m,\u001b[49m\u001b[43m \u001b[49m\u001b[38;5;241;43m*\u001b[39;49m\u001b[43margs\u001b[49m\u001b[43m,\u001b[49m\u001b[43m \u001b[49m\u001b[38;5;241;43m*\u001b[39;49m\u001b[38;5;241;43m*\u001b[39;49m\u001b[43mkwargs\u001b[49m\u001b[43m)\u001b[49m\n",
      "\u001b[1;31mFileNotFoundError\u001b[0m: [Errno 2] No such file or directory: './drive/MyDrive/ReadME.md'"
     ]
    }
   ],
   "source": [
    "with open('./drive/MyDrive/ReadME.md','w') as f:\n",
    "  data = f.write('*반가워요.')\n",
    "  print(\"저장되었습니다.\")\n",
    "  !pwd"
>>>>>>> 2e32c9e6b780bfb5680537eee9485afda2c3d2b1
   ]
  },
  {
   "cell_type": "markdown",
   "metadata": {
    "id": "7pb5ZhGijNPP"
   },
   "source": [
    "# 넘파이(numpy)"
   ]
  },
  {
   "cell_type": "markdown",
   "metadata": {
    "id": "GSf3exAsjrMv"
   },
   "source": [
    "- ndim: 축의 개수\n",
    "- shape: 배열의 차원정보\n",
    "- size: 배열안에 있는 원소의 총 개수\n",
    "- dtype: 배열 원소의 자료형\n"
   ]
  },
  {
   "cell_type": "markdown",
   "metadata": {
    "id": "BKEVLTFwuOGX"
   },
   "source": [
    "## 1차원과 속성들"
   ]
  },
  {
   "cell_type": "code",
   "execution_count": null,
   "metadata": {
    "colab": {
     "base_uri": "https://localhost:8080/"
    },
    "executionInfo": {
     "elapsed": 17,
     "status": "ok",
     "timestamp": 1740444843635,
     "user": {
      "displayName": "이윤범",
      "userId": "06065046603657350129"
     },
     "user_tz": -540
    },
    "id": "B5h7OzzVhBwQ",
    "outputId": "f1822565-baf4-40da-a6da-bee5e399821b"
   },
   "outputs": [],
   "source": [
    "# pip install numpy\n",
    "import numpy as np\n",
    "narry = np.array(range(5))\n",
    "print(narry, type(narry))\n",
    "print(narry.ndim)\n",
    "print(narry.shape)\n",
    "print(narry.size)\n",
    "print(narry.dtype)\n",
    "print(narry[3])\n",
    "print(narry[2:4])  #     <= x <"
   ]
  },
  {
   "cell_type": "code",
   "execution_count": null,
   "metadata": {
    "colab": {
     "base_uri": "https://localhost:8080/"
    },
    "executionInfo": {
     "elapsed": 12,
     "status": "ok",
     "timestamp": 1740444943507,
     "user": {
      "displayName": "이윤범",
      "userId": "06065046603657350129"
     },
     "user_tz": -540
    },
    "id": "_4foINfLi8Dp",
    "outputId": "8f2ceb78-d637-458f-fd79-6ce27fcd3e00"
   },
   "outputs": [],
   "source": [
    "narr1 = np.array([1,2,3,4])\n",
    "narr2 = np.array([1,2,'a','b'])\n",
    "narr3 = np.array([1,2,3,4],dtype='str')\n",
    "print(narr1,narr1.dtype)\n",
    "print(narr2,narr2.dtype)\n",
    "print(narr3,narr3.dtype)"
   ]
  },
  {
   "cell_type": "code",
   "execution_count": null,
   "metadata": {
    "colab": {
     "base_uri": "https://localhost:8080/"
    },
    "executionInfo": {
     "elapsed": 22,
     "status": "ok",
     "timestamp": 1740451092317,
     "user": {
      "displayName": "이윤범",
      "userId": "06065046603657350129"
     },
     "user_tz": -540
    },
    "id": "HEsD0CKlp4jv",
    "outputId": "48bdd431-6d3e-4c2d-d305-5c723d34d833"
   },
   "outputs": [],
   "source": [
    "narr4 = np.zeros((2,2),dtype='int64')\n",
    "narr5 = np.ones((2,2))\n",
    "narr6 = np.full((3,3),3)\n",
    "narr7 = np.full((3,3),'number')\n",
    "narr8 = np.eye(3)\n",
    "narr9 = np.linspace(0,100,5,endpoint=False)\n",
    "narr10 = np.arange(0,100,20)\n",
    "print(narr4,narr4.ndim,narr4.dtype,narr4.shape,narr4.size,type(narr4))\n",
    "print(narr5,narr5.ndim,narr5.dtype,narr5.shape,narr5.size,type(narr5))\n",
    "print(narr6,narr6.ndim,narr6.dtype,narr6.shape,narr6.size,type(narr6))\n",
    "print(narr7,narr7.ndim,narr7.dtype,narr7.shape,narr7.size,type(narr7))\n",
    "print(narr8,narr8.ndim,narr8.dtype,narr8.shape,narr8.size,type(narr8))\n",
    "print(narr9,narr9.ndim,narr9.dtype,narr9.shape,narr9.size,type(narr9))\n",
    "print(narr10,narr10.ndim,narr10.dtype,narr10.shape,narr10.size,type(narr10))"
   ]
  },
  {
   "cell_type": "code",
   "execution_count": null,
   "metadata": {
    "colab": {
     "base_uri": "https://localhost:8080/"
    },
    "executionInfo": {
     "elapsed": 20,
     "status": "ok",
     "timestamp": 1740446576870,
     "user": {
      "displayName": "이윤범",
      "userId": "06065046603657350129"
     },
     "user_tz": -540
    },
    "id": "54J1_uXYlegZ",
    "outputId": "83e7d122-508a-4b9f-c879-ffee46ef9519"
   },
   "outputs": [],
   "source": [
    "arr1 = np.array([[0,0],[0,0]])\n",
    "print(arr1,arr1.ndim, arr1.dtype, arr1.shape, arr1.size,type(arr1))"
   ]
  },
  {
   "cell_type": "markdown",
   "metadata": {
    "id": "rsCzCqaMuXKn"
   },
   "source": [
    "## 2차원 배열"
   ]
  },
  {
   "cell_type": "code",
   "execution_count": null,
   "metadata": {
    "colab": {
     "base_uri": "https://localhost:8080/"
    },
    "executionInfo": {
     "elapsed": 15,
     "status": "ok",
     "timestamp": 1740447340377,
     "user": {
      "displayName": "이윤범",
      "userId": "06065046603657350129"
     },
     "user_tz": -540
    },
    "id": "I89u5AqovhnG",
    "outputId": "5c45a244-c26f-43ce-80fa-ac2e8f57d672"
   },
   "outputs": [],
   "source": [
    "print(list(range(2,10)))\n",
    "print(np.arange(2,10))\n",
    "range(10)\n",
    "np.arange(10)"
   ]
  },
  {
   "cell_type": "code",
   "execution_count": null,
   "metadata": {
    "colab": {
     "base_uri": "https://localhost:8080/"
    },
    "executionInfo": {
     "elapsed": 15,
     "status": "ok",
     "timestamp": 1740447223859,
     "user": {
      "displayName": "이윤범",
      "userId": "06065046603657350129"
     },
     "user_tz": -540
    },
    "id": "jSTkU4aBpvsa",
    "outputId": "0c249b3e-95be-4d21-8bb8-ae6e8aeacc61"
   },
   "outputs": [],
   "source": [
    "arr1 = np.array([[0,0],[0,0]])\n",
    "print(arr1,arr1.ndim,arr1.dtype,arr1.shape,arr1.size, type(arr1))"
   ]
  },
  {
   "cell_type": "code",
   "execution_count": null,
   "metadata": {
    "colab": {
     "base_uri": "https://localhost:8080/"
    },
    "executionInfo": {
     "elapsed": 26,
     "status": "ok",
     "timestamp": 1740447984039,
     "user": {
      "displayName": "이윤범",
      "userId": "06065046603657350129"
     },
     "user_tz": -540
    },
    "id": "p8SgwjRWvNLp",
    "outputId": "ddd7664b-ce0b-4401-b034-fb5405df813e"
   },
   "outputs": [],
   "source": [
    "arr2 = np.array([1,2,3,4,5,6,7,8,9]).reshape(3,3)\n",
    "arr3 = np.arange(1,10).reshape(3,3)\n",
    "arr4 = np.arange(1,11).reshape(2,5)\n",
    "arr5 = np.arange(1,11).reshape(5,2)\n",
    "arr6 = np.arange(1,28).reshape(3,3,3)\n",
    "print('차원:',arr2.ndim,'/ 데이터타입:', arr2.dtype,'/ 형태:', arr2.shape, '/ 크기:', arr2.size, type(arr2),arr2)\n",
    "print('차원:',arr3.ndim,'/ 데이터타입:', arr3.dtype,'/ 형태:', arr3.shape, '/ 크기:', arr3.size, type(arr3),arr3)\n",
    "print('차원:',arr4.ndim,'/ 데이터타입:', arr4.dtype,'/ 형태:', arr4.shape, '/ 크기:', arr4.size, type(arr4),arr4)\n",
    "print('차원:',arr5.ndim,'/ 데이터타입:', arr5.dtype,'/ 형태:', arr5.shape, '/ 크기:', arr5.size, type(arr5),arr5)\n",
    "print('차원:',arr6.ndim,'/ 데이터타입:', arr6.dtype,'/ 형태:', arr6.shape, '/ 크기:', arr6.size, type(arr6),arr6)"
   ]
  },
  {
   "cell_type": "code",
   "execution_count": null,
   "metadata": {
    "colab": {
     "base_uri": "https://localhost:8080/"
    },
    "executionInfo": {
     "elapsed": 17,
     "status": "ok",
     "timestamp": 1740450870386,
     "user": {
      "displayName": "이윤범",
      "userId": "06065046603657350129"
     },
     "user_tz": -540
    },
    "id": "1t9LWYrgvgp2",
    "outputId": "a289e855-5a2c-45c4-eea7-45137c6359fe"
   },
   "outputs": [],
   "source": [
    "t1 = np.arange(1,22).reshape(3,7)\n",
    "t2 = np.arange(1,8).reshape(7,1)\n",
    "t3 = np.arange(1,11).reshape(5,2)\n",
    "t4 = np.arange(1,22).reshape(3,7)\n",
    "t5 = np.arange(1,13).reshape(4,3,1)\n",
    "print('='*30)\n",
    "print(t1)\n",
    "print('='*30)\n",
    "print(t2)\n",
    "print('='*30)\n",
    "print(t3)\n",
    "print('='*30)\n",
    "print(t4)\n",
    "print('='*30)\n",
    "print(t5)\n",
    "print('='*30)"
   ]
  },
  {
   "cell_type": "code",
   "execution_count": null,
   "metadata": {
    "colab": {
     "base_uri": "https://localhost:8080/"
    },
    "executionInfo": {
     "elapsed": 17,
     "status": "ok",
     "timestamp": 1740453134619,
     "user": {
      "displayName": "이윤범",
      "userId": "06065046603657350129"
     },
     "user_tz": -540
    },
    "id": "9UEtdjMZ-9LW",
    "outputId": "c5571502-eeee-46bd-956d-87d3ef1234f5"
   },
   "outputs": [],
   "source": [
    "# test\n",
    "print(t1[1][2:5])\n",
    "print(t4)\n",
    "print(t4[1:3,2:4])\n",
    "print(t4[1:3,4:6])\n",
    "print(t4 % 2 == 0)"
   ]
  },
  {
   "cell_type": "code",
   "execution_count": null,
   "metadata": {
    "colab": {
     "base_uri": "https://localhost:8080/"
    },
    "executionInfo": {
     "elapsed": 45,
     "status": "ok",
     "timestamp": 1740453342495,
     "user": {
      "displayName": "이윤범",
      "userId": "06065046603657350129"
     },
     "user_tz": -540
    },
    "id": "G4_CTkGNFnO1",
    "outputId": "070a3944-279e-4405-862e-c1d19a955bfb"
   },
   "outputs": [],
   "source": [
    "# np 배열 연산 // shape가 같은 경우 원소별 연산이 가능\n",
    "np1 = np.array([6,7,8,9,10])\n",
    "np2 = np.array([1,2,3,4,5])\n",
    "print(\"덧셈:\",np1 + np2)\n",
    "print(\"뺄셈:\",np1 - np2)\n",
    "print(\"곱셈:\",np1 * np2)\n",
    "print(\"나눗셈:\",np1 / np2)"
   ]
  },
  {
   "cell_type": "code",
   "execution_count": null,
   "metadata": {
    "colab": {
     "base_uri": "https://localhost:8080/"
    },
    "executionInfo": {
     "elapsed": 10,
     "status": "ok",
     "timestamp": 1740453653232,
     "user": {
      "displayName": "이윤범",
      "userId": "06065046603657350129"
     },
     "user_tz": -540
    },
    "id": "lHdHcHp7GRjm",
    "outputId": "868aafb4-8738-4d95-803b-188eb690b070"
   },
   "outputs": [],
   "source": [
    "# 브로드캐스팅\n",
    "np3 = np1 + 10\n",
    "print(np3)"
   ]
  },
  {
   "cell_type": "code",
   "execution_count": null,
   "metadata": {
    "colab": {
     "base_uri": "https://localhost:8080/"
    },
    "executionInfo": {
     "elapsed": 17,
     "status": "ok",
     "timestamp": 1740454086721,
     "user": {
      "displayName": "이윤범",
      "userId": "06065046603657350129"
     },
     "user_tz": -540
    },
    "id": "EkCJgdU9HyoG",
    "outputId": "47fa9697-93ec-41cb-dc84-f7e48fe8199e"
   },
   "outputs": [],
   "source": [
    "br1 = np.arange(1,10).reshape(3,3)\n",
    "br2 = np.array([11,22,33]) # .reshape(3,1)\n",
    "print(br1)\n",
    "print(br2)\n",
    "# 스칼라와 연산\n",
    "print(\"=====스칼라와 연산=====\")\n",
    "print(br1)\n",
    "print(br1+3)\n",
    "print(br1*2)\n",
    "# 2D와 1D의 연산\n",
    "print(\"=====2D와 1D의 연산=====\")\n",
    "print(br2)\n",
    "print(br1+br2)\n",
    "print(br1*br2)"
   ]
  },
  {
   "cell_type": "code",
   "execution_count": null,
   "metadata": {
    "colab": {
     "base_uri": "https://localhost:8080/"
    },
    "executionInfo": {
     "elapsed": 45,
     "status": "ok",
     "timestamp": 1740454332312,
     "user": {
      "displayName": "이윤범",
      "userId": "06065046603657350129"
     },
     "user_tz": -540
    },
    "id": "EArb_lB3InUk",
    "outputId": "209ca012-5ce5-4121-c2f5-adf144deb46b"
   },
   "outputs": [],
   "source": [
    "# flatten 처리\n",
    "ff = np.arange(1,10).reshape(3,3)\n",
    "print(ff)\n",
    "print(ff.reshape(9))\n",
    "print(ff.flatten())"
   ]
  },
  {
   "cell_type": "code",
   "execution_count": null,
   "metadata": {},
   "outputs": [],
   "source": [
    "# 구글 제미나이 AI\n",
    "from google import genai\n",
    "def aiai(text):\n",
    "    client = genai.Client(api_key=\"AIzaSyB0B892131434353oRaufhBjoi_ewE-PlIzDEttu_sjA\")\n",
    "    response = client.models.generate_content(model=\"gemini-2.0-flash\",contents=text + \";단, 400자 이내 그리고 서술형으로 친절하게 알려줘.\" )\n",
    "    answer = response.text\n",
    "    print(answer)\n",
    "    return answer\n",
    "aiai(\"pandas에 대해서 궁금해\")"
   ]
  },
  {
   "cell_type": "markdown",
   "metadata": {},
   "source": [
    "## Random number 발생\n",
    "- np.random.randint(): 균일 분포의 정수 난수\n",
    "- np.random.rand(): 0부터 1사이의 균일 분포 난수 생성\n",
    "- np.random.randn(): 표준 정규 분포 난수 생성\n",
    "- np.random.normal(): 정규 분포 난수 생성 "
   ]
  },
  {
   "cell_type": "code",
   "execution_count": null,
   "metadata": {},
   "outputs": [],
   "source": [
    "# randomint\n",
    "import numpy as np\n",
    "x = np.random.randint(0,255,size=(3,3,3))\n",
    "x"
   ]
  },
  {
   "cell_type": "code",
   "execution_count": null,
   "metadata": {},
   "outputs": [],
   "source": [
    "print('평균값:',np.mean(x),'표준편차:',np.std(x),'최소값:',x.min(),'최대값:',x.max())"
   ]
  },
  {
   "cell_type": "code",
   "execution_count": null,
   "metadata": {},
   "outputs": [],
   "source": [
    "print(len(x.flatten()))"
   ]
  },
  {
   "cell_type": "code",
   "execution_count": null,
   "metadata": {},
   "outputs": [],
   "source": [
    "y = np.array([0,1,2,3,4,5,6,34,2,0,23,3,1,2,3,0,0,12,3,5,34,3,3,23,0,1,2]).reshape(3,3,3)\n",
    "print(len(y.flatten()))\n",
    "print(np.count_nonzero(y))"
   ]
  },
  {
   "cell_type": "code",
   "execution_count": null,
   "metadata": {},
   "outputs": [],
   "source": []
  },
  {
   "cell_type": "code",
   "execution_count": null,
   "metadata": {},
   "outputs": [],
   "source": [
    "# sort_value 1\n",
    "sorted_df1 = df.sort_values('col1',ascending=True)\n",
    "sorted_df1"
   ]
  },
  {
   "cell_type": "code",
   "execution_count": null,
   "metadata": {},
   "outputs": [],
   "source": [
    "# sort_value 2\n",
    "sorted_df2 = df.sort_values(['col2','col1'],ascending=[True,False])\n",
    "sorted_df2"
   ]
  },
  {
   "cell_type": "code",
   "execution_count": 26,
   "metadata": {},
   "outputs": [
    {
     "data": {
      "text/plain": [
       "array([[3, 2, 3, 2, 3],\n",
       "       [4, 1, 2, 2, 2],\n",
       "       [1, 3, 4, 4, 1],\n",
       "       [4, 3, 1, 2, 4],\n",
       "       [3, 3, 2, 3, 1],\n",
       "       [1, 1, 1, 4, 3],\n",
       "       [4, 1, 4, 2, 3],\n",
       "       [1, 3, 1, 2, 1],\n",
       "       [2, 3, 4, 4, 2],\n",
       "       [2, 2, 1, 1, 3]], dtype=int32)"
      ]
     },
     "execution_count": 26,
     "metadata": {},
     "output_type": "execute_result"
    }
   ],
   "source": [
    "size=(10,5)\n",
    "x = np.random.randint(1,5,size=size)\n",
    "x\n",
    "# print(np.mean())"
   ]
  },
  {
   "cell_type": "code",
   "execution_count": 24,
   "metadata": {},
   "outputs": [
    {
     "data": {
      "text/plain": [
       "array([[0.36074894, 0.57266186, 0.05045941, 0.64476755, 0.80793763],\n",
       "       [0.29541128, 0.25239252, 0.31039547, 0.02902355, 0.39039824],\n",
       "       [0.23187584, 0.93807772, 0.82255778, 0.92069094, 0.42010723],\n",
       "       [0.42272858, 0.156307  , 0.71270533, 0.07441704, 0.24165387],\n",
       "       [0.7412348 , 0.37364203, 0.36476006, 0.77454538, 0.44195548],\n",
       "       [0.13048523, 0.81417945, 0.28275989, 0.65766507, 0.33315911],\n",
       "       [0.10007243, 0.37440553, 0.35256014, 0.49844269, 0.46565162],\n",
       "       [0.56555204, 0.83695615, 0.19605814, 0.73060793, 0.74216466],\n",
       "       [0.07551391, 0.9908507 , 0.14835222, 0.26407856, 0.34920333],\n",
       "       [0.95674247, 0.65124631, 0.2453004 , 0.87237614, 0.27226169]])"
      ]
     },
     "execution_count": 24,
     "metadata": {},
     "output_type": "execute_result"
    }
   ],
   "source": [
    "x = np.random.rand(10,5)\n",
    "x\n",
    "# print(np.mean(x))"
   ]
  },
  {
   "cell_type": "code",
   "execution_count": 21,
   "metadata": {},
   "outputs": [
    {
     "name": "stdout",
     "output_type": "stream",
     "text": [
      "[[ 0.70556442  2.38234964  6.04816019  4.69010297  4.49957014]\n",
      " [ 3.1130449   8.10303031  5.39867145  7.86110228  7.49759215]\n",
      " [ 2.64444788  2.39904067  4.89185279  5.057104    3.20514206]\n",
      " [ 3.96933156  7.29654729  4.46944404  1.92749956  5.60126513]\n",
      " [ 5.83028641  8.99498126 -0.87578322  3.62496496  7.20560199]\n",
      " [ 5.5313906   1.76916679  8.25591736  7.32627402  8.69939799]\n",
      " [ 4.77226948  2.59995888  4.11669136  4.66010432  2.9877347 ]\n",
      " [ 6.21985564  6.23247985  6.98282394  7.05582957  4.96074021]\n",
      " [ 5.26499642  3.24399659  0.75720924  6.52443249  7.94789613]\n",
      " [ 0.44873885  3.19244051 -5.57821634  6.13806093  3.35924912]]\n",
      "4.600207070244688 2.7232249400368156\n"
     ]
    }
   ],
   "source": [
    "x =np.random.normal(5,3,(10,5)) # 평균이 , 표준편차 3\n",
    "print(x)\n",
    "print(np.mean(x),np.std(x))"
   ]
  },
  {
   "cell_type": "code",
   "execution_count": 23,
   "metadata": {},
   "outputs": [
    {
     "name": "stdout",
     "output_type": "stream",
     "text": [
      "[[-1.55462142 -1.68985686 -0.09153762  2.5261968   0.51608722]\n",
      " [-1.14967555 -0.48558724 -1.13996087  1.84813081 -0.22987082]\n",
      " [ 3.27770178  1.1822737  -1.46135944  1.01598473 -0.82177262]\n",
      " [ 0.26583458  0.75542933 -0.17064535 -0.84761165  0.05070634]\n",
      " [ 0.23260234 -0.59747324 -0.81277151 -0.75323426  1.27884027]\n",
      " [ 0.60965946 -1.24945671 -0.90152207  1.07296679 -1.48990003]\n",
      " [ 0.08676072 -0.77361696 -0.74879092 -1.95775367 -1.01319822]\n",
      " [-1.41444783  0.63837451  0.69567258  0.8412343   0.46441503]\n",
      " [-0.09752913 -0.37895695 -0.61993146  2.64574509 -0.55799787]\n",
      " [-2.34364707 -0.2807993  -0.95037595  1.39593345 -1.85738394]]\n",
      "-0.1408147337236107 1.2132046368528662 -2.3436470710915933 3.277701784592671\n"
     ]
    }
   ],
   "source": [
    "x = np.random.randn(10,5)\n",
    "print(x)\n",
    "print(np.mean(x),np.std(x),x.min(),x.max())"
   ]
  },
  {
   "cell_type": "code",
   "execution_count": 22,
   "metadata": {},
   "outputs": [
    {
     "name": "stdout",
     "output_type": "stream",
     "text": [
      "x의 개수 14\n",
      "x의 개수 11\n",
      "0의 개수 3\n"
     ]
    }
   ],
   "source": [
    "x = np.array([3,4,45,43,65,0,0,0,24362,6,45,6,432,562])\n",
    "print('x의 개수',len(x))\n",
    "print('x의 개수',np.count_nonzero(x))\n",
    "print('0의 개수',len(x) - np.count_nonzero(x))"
   ]
  },
  {
   "cell_type": "code",
   "execution_count": 28,
   "metadata": {
    "scrolled": true
   },
   "outputs": [
    {
     "name": "stdout",
     "output_type": "stream",
     "text": [
      "2.38\n",
      "2.38\n",
      "1.1956000000000002\n",
      "1.1956000000000002\n",
      "1.0934349546269317\n",
      "1.0934349546269317\n",
      "4\n",
      "1\n",
      "2.0\n"
     ]
    }
   ],
   "source": [
    "print(np.mean(x))\n",
    "print(x.mean())\n",
    "print(np.var(x))\n",
    "print(x.var())\n",
    "print(np.std(x))\n",
    "print(x.std())\n",
    "print(x.max())\n",
    "print(x.min())\n",
    "print(np.median(x))"
   ]
  },
  {
   "cell_type": "code",
   "execution_count": 30,
   "metadata": {},
   "outputs": [
    {
     "name": "stdout",
     "output_type": "stream",
     "text": [
      "1.0\n",
      "1.0\n",
      "2.0\n",
      "3.0\n",
      "4.0\n"
     ]
    }
   ],
   "source": [
    "print(np.percentile(x,0)) # 최소값\n",
    "print(np.percentile(x,25)) # 제1사분위수\n",
    "print(np.percentile(x,50)) # 중앙값, 제2사분위수\n",
    "print(np.percentile(x,75)) # 제3사분위수\n",
    "print(np.percentile(x,100)) # 최대값"
   ]
  },
  {
   "cell_type": "markdown",
   "metadata": {},
   "source": [
    "# 판다스(pandas)\n",
    "- 시리즈(series) - 단수\n",
    "- 데이터프레임(dataframe) - 복수"
   ]
  },
  {
   "cell_type": "code",
   "execution_count": null,
   "metadata": {},
   "outputs": [],
   "source": [
    "# ! pip install pandas"
   ]
  },
  {
   "cell_type": "code",
   "execution_count": null,
   "metadata": {},
   "outputs": [],
   "source": [
    "import numpy as np\n",
    "import pandas as pd"
   ]
  },
  {
   "cell_type": "code",
   "execution_count": null,
   "metadata": {},
   "outputs": [],
   "source": [
    "# 판다스 기초\n",
    "data1 = np.arange(1,6)\n",
    "print(data1)\n",
    "data2 = pd.Series(data1)\n",
    "print(data2, type(data2), data2.index, data2.values, data2.dtype)"
   ]
  },
  {
   "cell_type": "code",
   "execution_count": null,
   "metadata": {},
   "outputs": [],
   "source": [
    "# 판다스 시리즈의 데이터타입\n",
    "data3 = pd.Series([1,2,3.14,4,5,6,7]) #, dtype=\"float\")\n",
    "print(data3)"
   ]
  },
  {
   "cell_type": "code",
   "execution_count": null,
   "metadata": {},
   "outputs": [],
   "source": [
    "# 판다스 시리즈의 인덱스설정\n",
    "data3 = pd.Series([1,2,3,4], index=['a','b','c','d'])\n",
    "print(data3)"
   ]
  },
  {
   "cell_type": "code",
   "execution_count": null,
   "metadata": {},
   "outputs": [],
   "source": [
    "# 판다스 시리즈 딕셔너리데이터\n",
    "population_dict = {\n",
    "    'korea':5182,\n",
    "    'japan':12622,\n",
    "    'china':141178,\n",
    "    'usa':32976\n",
    "}\n",
    "# population_dict.keys()\n",
    "# population_dict.values()\n",
    "# population_dict.items()\n",
    "country = pd.Series(population_dict)\n",
    "print(country, country.index, country.values)\n",
    "print(country.ndim, country.shape, country.size)\n",
    "# 시리즈 원소에 접근방법\n",
    "print(country.loc['usa'])\n",
    "print(country.iloc[3])"
   ]
  },
  {
   "cell_type": "code",
   "execution_count": null,
   "metadata": {},
   "outputs": [],
   "source": [
    "# 판다스 데이터 프레임\n",
    "df = pd.DataFrame([[1,2,3],[4,5,6],[7,8,9]],index=['a','b','c'],columns=['A','B','C'])\n",
    "df"
   ]
  },
  {
   "cell_type": "code",
   "execution_count": null,
   "metadata": {},
   "outputs": [],
   "source": [
    "# 테스트\n",
    "import numpy as np\n",
    "import pandas as pd\n",
    "\n",
    "# 두 개의 시리즈 데이터\n",
    "print(\"인구수 시리즈 데이터:\")\n",
    "population_dict = {\n",
    "    'korea':5182,\n",
    "    'japan':12622,\n",
    "    'china':141178,\n",
    "    'usa':32976\n",
    "}\n",
    "population = pd.Series(population_dict)\n",
    "print(population)\n",
    "print('='*30)\n",
    "print(\"GDP 시리즈 데이터:\")\n",
    "GDP_dict = {\n",
    "    'korea':169320000,\n",
    "    'japan':516700000,\n",
    "    'china':140925000,\n",
    "    'usa':2041280000\n",
    "}\n",
    "GDP = pd.Series(GDP_dict)\n",
    "print(GDP)\n",
    "print('='*30)\n",
    "print(\"데이터 프레임 생성:\")\n",
    "country = pd.DataFrame({'population':population,'gdp':GDP})\n",
    "country.index.name = \"Country\" # 인덱스 이름 지정\n",
    "country.columns.name = \"Info\" # 컬럼 이름 지정\n",
    "country\n",
    "# print(country.index, country.columns)\n",
    "# print(country.values, country.shape, country.size, country.ndim)"
   ]
  },
  {
   "cell_type": "code",
   "execution_count": null,
   "metadata": {},
   "outputs": [],
   "source": [
    "# 데이터 프레임의 요소 접근 방법, loc ,iloc\n",
    "country.loc['korea'],country.loc['usa']\n",
    "country.iloc[2],country.iloc[1]"
   ]
  },
  {
   "cell_type": "code",
   "execution_count": null,
   "metadata": {},
   "outputs": [],
   "source": [
    "country.loc['korea':'japan','population'] # <= x <="
   ]
  },
  {
   "cell_type": "code",
   "execution_count": null,
   "metadata": {},
   "outputs": [],
   "source": [
    "country.iloc[0:2,:1] # <= x <"
   ]
  },
  {
   "cell_type": "code",
   "execution_count": null,
   "metadata": {
    "scrolled": true
   },
   "outputs": [],
   "source": [
    "country.loc['japan':'usa','gdp']"
   ]
  },
  {
   "cell_type": "code",
   "execution_count": null,
   "metadata": {},
   "outputs": [],
   "source": [
    "country.loc['japan':'china','population':'gdp']"
   ]
  },
  {
   "cell_type": "code",
   "execution_count": null,
   "metadata": {},
   "outputs": [],
   "source": [
    "# 컬럼 추가\n",
    "# country['test']=[11,22,33,44]\n",
    "# country = country.drop('test',axis=1)\n",
    "gdpper = country['gdp'] / country['population']\n",
    "country['gdp_per'] = gdpper\n",
    "country"
   ]
  },
  {
   "cell_type": "code",
   "execution_count": null,
   "metadata": {},
   "outputs": [],
   "source": [
    "# 행추가 방법1\n",
    "country.loc['india'] = [142222,150505000,'NaN']\n",
    "country.loc['india','gdp_per'] = country.loc['india','gdp']/country.loc['india','population']\n",
    "country"
   ]
  },
  {
   "cell_type": "code",
   "execution_count": null,
   "metadata": {},
   "outputs": [],
   "source": [
    "# 행추가 방법2\n",
    "africa = pd.Series(data = [123456,7777777],index=['population','gdp'])\n",
    "country.loc['africa'] = africa\n",
    "# country.loc['africa','gdp_per'] = country.loc['africa','gdp'] / country.loc['africa','population']\n",
    "country"
   ]
  },
  {
   "cell_type": "code",
   "execution_count": null,
   "metadata": {},
   "outputs": [],
   "source": [
    "# 결측값(NaN) 확인\n",
    "country.isnull()# .sum()"
   ]
  },
  {
   "cell_type": "code",
   "execution_count": null,
   "metadata": {
    "scrolled": true
   },
   "outputs": [],
   "source": [
    "# 열제거 drop(이름, axis=0)\n",
    "country = country.drop('africa', axis=0) # inplace = True\n",
    "country"
   ]
  },
  {
   "cell_type": "code",
   "execution_count": null,
   "metadata": {},
   "outputs": [],
   "source": [
    "# 테스트 1 조건\n",
    "country[country['population'] > 140000]"
   ]
  },
  {
   "cell_type": "code",
   "execution_count": null,
   "metadata": {},
   "outputs": [],
   "source": [
    "# 테스트 2 조건 , 슬라이싱 (loc,iloc 필수)\n",
    "country[(country['population'] > 10000) & (country['population'] < 100000)].loc[:,:'population']"
   ]
  },
  {
   "attachments": {
    "95f5c81c-1535-409c-8f80-d6f89e7aef77.png": {
     "image/png": "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"
    }
   },
   "cell_type": "markdown",
   "metadata": {},
   "source": [
    "![image.png](attachment:95f5c81c-1535-409c-8f80-d6f89e7aef77.png)"
   ]
  },
  {
   "cell_type": "code",
   "execution_count": null,
   "metadata": {},
   "outputs": [],
   "source": [
    "# 문제 1\n",
    "data = {\n",
    "    '이름': ['홍길동','박철수','김영희'], \n",
    "    '국어':[80,60,70], \n",
    "    '수학':[70,70,90], \n",
    "    '영어':[80,80,80]\n",
    "}\n",
    "df = pd.DataFrame(data)\n",
    "df"
   ]
  },
  {
   "cell_type": "code",
   "execution_count": null,
   "metadata": {},
   "outputs": [],
   "source": [
    "# 문제 2\n",
    "df.loc[:, ['박철수','국어']]"
   ]
  },
  {
   "cell_type": "code",
   "execution_count": null,
   "metadata": {},
   "outputs": [],
   "source": [
    "# 기본적인 방법\n",
    "data = ({'이름': ['홍길동','박철수','김영희'], '국어':[80,60,70], '수학':[70,70,90], '영어':[80,80,80] })\n",
    "df = pd.DataFrame(data)\n",
    "df"
   ]
  },
  {
   "cell_type": "code",
   "execution_count": null,
   "metadata": {},
   "outputs": [],
   "source": [
    "# 키값쌍으로 리스트에 저장하는 방법\n",
    "data = [\n",
    "    {'이름':'홍길동', '국어':80,'수학':70,'영어':80},\n",
    "    {'이름':'박철수', '국어':60,'수학':70,'영어':80},\n",
    "    {'이름':'김영희', '국어':70,'수학':90,'영어':80},]\n",
    "df = pd.DataFrame(data)\n",
    "df"
   ]
  },
  {
   "cell_type": "code",
   "execution_count": null,
   "metadata": {},
   "outputs": [],
   "source": [
    "# 리스트에 튜플로 저장하는 방법\n",
    "data = [\n",
    "    ('홍길동',80,70,80),\n",
    "    ('박철수',60,70,80),\n",
    "    ('김영희',70,90,80)]\n",
    "df = pd.DataFrame(data,columns=['이름','국어','수학','영어'])\n",
    "df"
   ]
  },
  {
   "cell_type": "code",
   "execution_count": null,
   "metadata": {},
   "outputs": [],
   "source": [
    "import numpy as np \n",
    "# data0 = [\n",
    "#     ('홍길동',80,70,80),\n",
    "#     ('박철수',60,70,80),\n",
    "#     ('김영희',70,90,80)]\n",
    "data = np.array([['홍길동',80,70,80],['박철수',60,70,80],['김영희',70,90,80]])\n",
    "df = pd.DataFrame(data,columns=['이름','국어','수학','영어'])"
   ]
  },
  {
   "cell_type": "code",
   "execution_count": null,
   "metadata": {},
   "outputs": [],
   "source": [
    "# 1\n",
    "df"
   ]
  },
  {
   "cell_type": "code",
   "execution_count": null,
   "metadata": {},
   "outputs": [],
   "source": [
    "# 2 \n",
    "df.loc[1:1]\n",
    "df.iloc[1:2]"
   ]
  },
  {
   "cell_type": "code",
   "execution_count": null,
   "metadata": {},
   "outputs": [],
   "source": [
    "# 3\n",
    "# print(df['국어'].dtype)\n",
    "df[df['국어'].astype(int)>= 70]"
   ]
  },
  {
   "cell_type": "code",
   "execution_count": null,
   "metadata": {},
   "outputs": [],
   "source": [
    "# 4\n",
    "df['평균'] = (df['국어'].astype(int) + df['수학'].astype(int) + df['영어'].astype(int))/3 \n",
    "print('평균',df['평균'].dtype)\n",
    "df.round()"
   ]
  },
  {
   "cell_type": "code",
   "execution_count": null,
   "metadata": {},
   "outputs": [],
   "source": [
    "# 5 \n",
    "df.loc[3] = ('최자바',55,95,70,77)\n",
    "df"
   ]
  },
  {
   "cell_type": "code",
   "execution_count": null,
   "metadata": {},
   "outputs": [],
   "source": []
  }
 ],
 "metadata": {
  "colab": {
   "authorship_tag": "ABX9TyMyD3/2ZCCz6sGkLiMsXaQl",
   "provenance": [],
   "toc_visible": true
  },
  "kernelspec": {
   "display_name": "Python 3 (ipykernel)",
   "language": "python",
   "name": "python3"
  },
  "language_info": {
   "codemirror_mode": {
    "name": "ipython",
    "version": 3
   },
   "file_extension": ".py",
   "mimetype": "text/x-python",
   "name": "python",
   "nbconvert_exporter": "python",
   "pygments_lexer": "ipython3",
   "version": "3.13.1"
  }
 },
 "nbformat": 4,
 "nbformat_minor": 4
}
