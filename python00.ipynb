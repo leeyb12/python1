{
 "cells": [
  {
   "cell_type": "markdown",
   "id": "6da92add-ddaf-44c9-b030-69bff3fe305e",
   "metadata": {},
   "source": [
    "# 파이썬 시작하기"
   ]
  },
  {
   "cell_type": "code",
   "execution_count": 16,
   "id": "ce396eb8-9f0f-4805-ae1f-b7a7cc2dd1c5",
   "metadata": {},
   "outputs": [
    {
     "name": "stdout",
     "output_type": "stream",
     "text": [
      "Hello World\n",
      "Hello World\n"
     ]
    }
   ],
   "source": [
    "# print 기초\n",
    "\n",
    "# print는 정수, 실수, 문자열 등을 화면에 출력합니다. 문자열은 큰따옴표 또는 작은따옴표로 표현 가능합니다. \n",
    "print(\"Hello World\")\n",
    "print('Hello World')"
   ]
  },
  {
   "cell_type": "code",
   "execution_count": 17,
   "id": "1f003daf-c1ca-4213-b9c0-ad442d9206e7",
   "metadata": {},
   "outputs": [
    {
     "name": "stdout",
     "output_type": "stream",
     "text": [
      "Mary's cosmetics\n"
     ]
    }
   ],
   "source": [
    "#print 기초\n",
    "\n",
    "# 문자열은 큰따옴표나 작은따옴표로 표현 가능합니다. 표현하고 싶은 문자열에 작은따옴표가 있으므로 문자열을 큰따옴표로 만들어주면 됩니다. \n",
    "print(\"Mary's cosmetics\")"
   ]
  },
  {
   "cell_type": "code",
   "execution_count": 14,
   "id": "54b17992-9c16-470e-a3d4-5d64e20cbc8b",
   "metadata": {},
   "outputs": [
    {
     "name": "stdout",
     "output_type": "stream",
     "text": [
      "신씨가 소리질렀다.\"도둑이야\".\n"
     ]
    }
   ],
   "source": [
    "# print 기초\n",
    "\n",
    "# 표현하고 싶은 문자열은 큰따옴표가 포함되어 있습니다. 따라서 작은따옴표로 문자열을 만들어주면 됩니다. \n",
    "print('신씨가 소리질렀다.\"도둑이야\".')"
   ]
  },
  {
   "cell_type": "code",
   "execution_count": 18,
   "id": "ba858416-0009-4e47-922f-e013603f8b2e",
   "metadata": {},
   "outputs": [
    {
     "name": "stdout",
     "output_type": "stream",
     "text": [
      "C:\\Windows\n"
     ]
    },
    {
     "name": "stderr",
     "output_type": "stream",
     "text": [
      "<>:2: SyntaxWarning: invalid escape sequence '\\W'\n",
      "<>:2: SyntaxWarning: invalid escape sequence '\\W'\n",
      "C:\\Users\\Admin\\AppData\\Local\\Temp\\ipykernel_15480\\2586786405.py:2: SyntaxWarning: invalid escape sequence '\\W'\n",
      "  print(\"C:\\Windows\")\n"
     ]
    }
   ],
   "source": [
    "# print 기초\n",
    "print(\"C:\\Windows\")\n",
    "\n",
    "# 운영체제(윈도우/리눅스/맥) 및 설정 폰트에 따라 역슬래시가 원화 표시로 표기될 수 있습니다. 모두 정답입니다. "
   ]
  },
  {
   "cell_type": "code",
   "execution_count": 9,
   "id": "10e9d7f0-c28d-43a3-9416-8eaeadf31fb6",
   "metadata": {},
   "outputs": [
    {
     "name": "stdout",
     "output_type": "stream",
     "text": [
      "안녕하세요.\n",
      "만나서\t\t반갑습니다.\n"
     ]
    }
   ],
   "source": [
    "# print 탭과 줄바꿈\n",
    "print(\"안녕하세요.\\n만나서\\t\\t반갑습니다.\")\n",
    "\n",
    "# 't'는 탭을 의미하고, '\\n'은 줄바꿈을 의미합니다. "
   ]
  },
  {
   "cell_type": "code",
   "execution_count": 10,
   "id": "08e2607c-655b-45e8-8f45-5731f4a0cf99",
   "metadata": {},
   "outputs": [
    {
     "name": "stdout",
     "output_type": "stream",
     "text": [
      "오늘은 일요일\n"
     ]
    }
   ],
   "source": [
    "# print 여러 데이터 출력\n",
    "print(\"오늘은\", \"일요일\")"
   ]
  },
  {
   "cell_type": "code",
   "execution_count": null,
   "id": "31c68b84-adee-4c64-acd3-fc39e4381771",
   "metadata": {},
   "outputs": [],
   "source": []
  }
 ],
 "metadata": {
  "kernelspec": {
   "display_name": "Python 3 (ipykernel)",
   "language": "python",
   "name": "python3"
  },
  "language_info": {
   "codemirror_mode": {
    "name": "ipython",
    "version": 3
   },
   "file_extension": ".py",
   "mimetype": "text/x-python",
   "name": "python",
   "nbconvert_exporter": "python",
   "pygments_lexer": "ipython3",
   "version": "3.13.1"
  }
 },
 "nbformat": 4,
 "nbformat_minor": 5
}
