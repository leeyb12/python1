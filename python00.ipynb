{
 "cells": [
  {
   "cell_type": "markdown",
   "id": "6da92add-ddaf-44c9-b030-69bff3fe305e",
   "metadata": {},
   "source": [
    "# 파이썬 시작하기"
   ]
  },
  {
   "cell_type": "code",
   "execution_count": null,
   "id": "38879aef-696b-4fff-998c-639aeef3eb59",
   "metadata": {},
   "outputs": [],
   "source": [
    "def solution(rank, attendance):\n",
    "    # 학생들의 등수와 번호를 묶어서 하나의 튜플로 만들고, 이 튜플들을 리스트에 저장합니다. \n",
    "    students = sorted([(r,i) for i, r in enumerate(rank)])\n",
    "\n",
    "    # 선발된 학생들의 번호를 저장할 리스트를 생성합니다. \n",
    "    selected = []\n",
    "\n",
    "    # 학생들의 리스트를 순회하면서 선발 가능한 학생을 찾습니다. \n",
    "    for r, i in students:\n",
    "        if attendance[i]:\n",
    "            selected.append(i)\n",
    "            if len(selected) == 3:\n",
    "                break\n",
    "    # 선발된 학생들의 번호로 최종 결과를 계산합니다. \n",
    "    answer = 10000 * selected[0] + "
   ]
  }
 ],
 "metadata": {
  "kernelspec": {
   "display_name": "Python 3 (ipykernel)",
   "language": "python",
   "name": "python3"
  },
  "language_info": {
   "codemirror_mode": {
    "name": "ipython",
    "version": 3
   },
   "file_extension": ".py",
   "mimetype": "text/x-python",
   "name": "python",
   "nbconvert_exporter": "python",
   "pygments_lexer": "ipython3",
   "version": "3.13.1"
  }
 },
 "nbformat": 4,
 "nbformat_minor": 5
}
