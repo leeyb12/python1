{
 "cells": [
  {
   "cell_type": "code",
   "execution_count": 1,
   "id": "ff54fa7f-3477-472e-bf55-7303c6ea990d",
   "metadata": {},
   "outputs": [],
   "source": [
    "# !pip install pymongo"
   ]
  },
  {
   "cell_type": "code",
   "execution_count": 2,
   "id": "55146c53-685f-4f8f-825d-0631e0aca49f",
   "metadata": {},
   "outputs": [
    {
     "name": "stdout",
     "output_type": "stream",
     "text": [
      "{'ok': 1.0}\n",
      "MongoDB 서버에 성공적으로 연결되었습니다.\n"
     ]
    }
   ],
   "source": [
    "from pymongo import MongoClient\n",
    "client = MongoClient(\"mongodb://mongodb:27017\")\n",
    "\n",
    "try:\n",
    "    print(client.admin.command('ping'))\n",
    "    print(\"MongoDB 서버에 성공적으로 연결되었습니다.\")\n",
    "except Exception as e:\n",
    "    print(\"MongoDB 서버 연결 실패:\", e)"
   ]
  },
  {
   "cell_type": "code",
   "execution_count": 3,
   "id": "a6eb9293-e634-4f5f-8836-ddfb8248d0af",
   "metadata": {},
   "outputs": [
    {
     "name": "stdout",
     "output_type": "stream",
     "text": [
      "사용할 데이터베이스 선택됨\n",
      "사용할 컬렉션 선택됨\n"
     ]
    }
   ],
   "source": [
    "# 사용할 데이터베이스 선택\n",
    "db = client[\"mdb\"]\n",
    "print(\"사용할 데이터베이스 선택됨\")\n",
    "\n",
    "# 사용할 컬렉션 선택\n",
    "collection = db[\"c1\"]\n",
    "print(\"사용할 컬렉션 선택됨\")"
   ]
  },
  {
   "cell_type": "code",
   "execution_count": 4,
   "id": "c7983d63-a98b-49dd-97d2-583a9026d50a",
   "metadata": {},
   "outputs": [
    {
     "name": "stdout",
     "output_type": "stream",
     "text": [
      "Inserted ID: InsertOneResult(ObjectId('67f5e05c46f48875246b842a'), acknowledged=True)\n"
     ]
    }
   ],
   "source": [
    "# 단일 문서 삽입\n",
    "user = {\"name\":\"Alice\",\"age\":25,\"city\":\"Seoul\"}\n",
    "insert_result = collection.insert_one(user)\n",
    "print(\"Inserted ID:\", insert_result)"
   ]
  },
  {
   "cell_type": "code",
   "execution_count": 5,
   "id": "9698e354-fe1f-4b25-8bf3-8e53d7c86807",
   "metadata": {},
   "outputs": [
    {
     "name": "stdout",
     "output_type": "stream",
     "text": [
      "Inserted IDs: InsertManyResult([ObjectId('67f5e05c46f48875246b842b'), ObjectId('67f5e05c46f48875246b842c'), ObjectId('67f5e05c46f48875246b842d')], acknowledged=True)\n"
     ]
    }
   ],
   "source": [
    "# 여러개 문서 삽입\n",
    "user = [\n",
    "    {\"name\":\"Bob\",\"age\":30,\"city\":\"Busan\"},\n",
    "    {\"name\":\"Char\",\"age\":35,\"city\":\"Incheon\"},\n",
    "    {\"name\":\"Apple\",\"age\":15,\"city\":\"Daegu\"}]\n",
    "insert_results = collection.insert_many(user)\n",
    "print(\"Inserted IDs:\", insert_results)"
   ]
  },
  {
   "cell_type": "code",
   "execution_count": 28,
   "id": "682b6d69-fdd3-447c-8d08-2c38377348a4",
   "metadata": {},
   "outputs": [
    {
     "name": "stdout",
     "output_type": "stream",
     "text": [
      "{'name': 'superman', 'etc': '힘쌤'}\n",
      "{'name': 'cutegirl', 'age': 20, 'gender': 'female'}\n",
      "{'name': 'Bob', 'age': 30, 'city': 'Busan'}\n",
      "{'name': 'Char', 'age': 35, 'city': 'Incheon'}\n"
     ]
    }
   ],
   "source": [
    "# 여러개의 문서 조회\n",
    "users = collection.find({}, {\"_id\":0})\n",
    "for u in users:\n",
    "    print(u)"
   ]
  },
  {
   "cell_type": "code",
   "execution_count": 12,
   "id": "bb50bf47-c435-4f93-be90-60656b72e544",
   "metadata": {},
   "outputs": [
    {
     "name": "stdout",
     "output_type": "stream",
     "text": [
      "{'name': 'Apple', 'age': 15, 'city': 'Daegu'}\n"
     ]
    }
   ],
   "source": [
    "# 단일 문서 조회\n",
    "user = collection.find_one({\"name\":\"Apple\"}, {\"_id\":0}) \n",
    "print(user)"
   ]
  },
  {
   "cell_type": "code",
   "execution_count": 29,
   "id": "a61dc582-6415-4bf8-9d93-ebeb694b3ef9",
   "metadata": {},
   "outputs": [
    {
     "name": "stdout",
     "output_type": "stream",
     "text": [
      "{'name': 'Bob', 'age': 30, 'city': 'Busan'}\n",
      "{'name': 'Char', 'age': 35, 'city': 'Incheon'}\n"
     ]
    }
   ],
   "source": [
    "# 특정 조건을 만족하는 문서 조회\n",
    "filters = {\"age\":{\"$gt\":20}} # 나이가 20보다 큰 문서 찾기\n",
    "filtered = collection.find(filters, {\"_id\":0})\n",
    "for f in filtered:\n",
    "    print(f)"
   ]
  },
  {
   "cell_type": "code",
   "execution_count": 30,
   "id": "d3a4f30f-c610-45a7-9670-c9b84c1790bb",
   "metadata": {},
   "outputs": [
    {
     "name": "stdout",
     "output_type": "stream",
     "text": [
      "수정됨: UpdateResult({'n': 0, 'nModified': 0, 'ok': 1.0, 'updatedExisting': False}, acknowledged=True)\n"
     ]
    }
   ],
   "source": [
    "# 특정 문서 한 개 수정\n",
    "update = collection.update_one({\"name\":\"Alice\"},{\"$set\":{\"age\":26}})\n",
    "print(\"수정됨:\",update)"
   ]
  },
  {
   "cell_type": "code",
   "execution_count": 31,
   "id": "60f5d226-24d4-40d5-b38f-d5de65b7f775",
   "metadata": {},
   "outputs": [
    {
     "name": "stdout",
     "output_type": "stream",
     "text": [
      "수정됨s: UpdateResult({'n': 0, 'nModified': 0, 'ok': 1.0, 'updatedExisting': False}, acknowledged=True)\n"
     ]
    }
   ],
   "source": [
    "# 특정 문서 여러개 수정\n",
    "updates = collection.update_many({\"name\":{\"$regex\": \"^A\"}},{\"$inc\":{\"age\":5}}) # A로 시작하는 이름은 5살 증가시켜라.\n",
    "# updates = collection.update_many({\"name\":\"\\/^A\\/\"},{\"$inc\":{\"age\":5}})\n",
    "print(\"수정됨s:\",updates)"
   ]
  },
  {
   "cell_type": "code",
   "execution_count": 21,
   "id": "d2d657fe-b342-47a5-827b-3c39fbd96c0e",
   "metadata": {},
   "outputs": [
    {
     "name": "stdout",
     "output_type": "stream",
     "text": [
      "DeleteResult({'n': 1, 'ok': 1.0}, acknowledged=True)\n"
     ]
    }
   ],
   "source": [
    "# 특정 문서 한개 삭제\n",
    "delete = collection.delete_one({\"etc\":\"잘생김\"})\n",
    "print(delete)"
   ]
  },
  {
   "cell_type": "code",
   "execution_count": 27,
   "id": "cf47aa6c-7916-4922-8c50-11be57b96473",
   "metadata": {},
   "outputs": [
    {
     "name": "stdout",
     "output_type": "stream",
     "text": [
      "DeleteResult({'n': 0, 'ok': 1.0}, acknowledged=True)\n"
     ]
    }
   ],
   "source": [
    "# 특정 문서 여러개 문서 삭제\n",
    "deletes = collection.delete_many({\"name\":{\"$regex\":\"e$\"}})\n",
    "print(deletes)"
   ]
  },
  {
   "cell_type": "code",
   "execution_count": 34,
   "id": "d02fe82c-2936-44f7-80be-20d661e19eae",
   "metadata": {},
   "outputs": [],
   "source": [
    "import json \n",
    "\n",
    "with open('./photos.json') as f:\n",
    "    data = json.load(f)"
   ]
  },
  {
   "cell_type": "code",
   "execution_count": 39,
   "id": "752da01f-343a-42eb-a1dc-291c2ccb0684",
   "metadata": {},
   "outputs": [
    {
     "name": "stdout",
     "output_type": "stream",
     "text": [
      "사용할 데이터베이스 선택됨\n",
      "사용할 컬렉션 선택됨\n"
     ]
    }
   ],
   "source": [
    "# 사용할 데이터베이스 선택\n",
    "db2 = client[\"jdb\"]\n",
    "print(\"사용할 데이터베이스 선택됨\")\n",
    "\n",
    "# 사용할 컬렉션 선택\n",
    "collection2 = db2[\"j1\"]\n",
    "print(\"사용할 컬렉션 선택됨\")"
   ]
  },
  {
   "cell_type": "code",
   "execution_count": 40,
   "id": "8850f993-36d9-4dd1-85f4-ee465d8da18a",
   "metadata": {},
   "outputs": [
    {
     "name": "stdout",
     "output_type": "stream",
     "text": [
      "로드완료\n"
     ]
    }
   ],
   "source": [
    "collection2.insert_many(data)\n",
    "print(\"로드완료\")"
   ]
  },
  {
   "cell_type": "code",
   "execution_count": 51,
   "id": "dde156af-d7fd-4533-ac90-2afcd24559bf",
   "metadata": {},
   "outputs": [
    {
     "name": "stdout",
     "output_type": "stream",
     "text": [
      "https://via.placeholder.com/600/92c952\n",
      "https://via.placeholder.com/600/771796\n",
      "https://via.placeholder.com/600/24f355\n",
      "https://via.placeholder.com/600/d32776\n",
      "https://via.placeholder.com/600/f66b97\n",
      "https://via.placeholder.com/600/56a8c2\n",
      "https://via.placeholder.com/600/b0f7cc\n",
      "https://via.placeholder.com/600/54176f\n",
      "https://via.placeholder.com/600/51aa97\n",
      "https://via.placeholder.com/600/810b14\n",
      "https://via.placeholder.com/600/1ee8a4\n",
      "https://via.placeholder.com/600/66b7d2\n",
      "https://via.placeholder.com/600/197d29\n",
      "https://via.placeholder.com/600/61a65\n",
      "https://via.placeholder.com/600/f9cee5\n",
      "https://via.placeholder.com/600/fdf73e\n",
      "https://via.placeholder.com/600/9c184f\n",
      "https://via.placeholder.com/600/1fe46f\n",
      "https://via.placeholder.com/600/56acb2\n",
      "https://via.placeholder.com/600/8985dc\n",
      "https://via.placeholder.com/600/5e12c6\n",
      "https://via.placeholder.com/600/45601a\n",
      "https://via.placeholder.com/600/e924e6\n",
      "https://via.placeholder.com/600/8f209a\n",
      "https://via.placeholder.com/600/5e3a73\n",
      "https://via.placeholder.com/600/474645\n",
      "https://via.placeholder.com/600/c984bf\n",
      "https://via.placeholder.com/600/392537\n",
      "https://via.placeholder.com/600/602b9e\n",
      "https://via.placeholder.com/600/372c93\n"
     ]
    }
   ],
   "source": [
    "# id가 30이하인 문서의 url만을 출력하여라.\n",
    "out = collection2.find({'id': {'$lte':30}})\n",
    "for o in out:\n",
    "    print(o[\"url\"])"
   ]
  },
  {
   "cell_type": "code",
   "execution_count": null,
   "id": "84b516c3-be5e-45db-b053-91c25fd57fc8",
   "metadata": {},
   "outputs": [],
   "source": []
  },
  {
   "cell_type": "code",
   "execution_count": null,
   "id": "678a1412-12d0-4f85-a508-863cd6bec2c8",
   "metadata": {},
   "outputs": [],
   "source": []
  }
 ],
 "metadata": {
  "kernelspec": {
   "display_name": "Python 3 (ipykernel)",
   "language": "python",
   "name": "python3"
  },
  "language_info": {
   "codemirror_mode": {
    "name": "ipython",
    "version": 3
   },
   "file_extension": ".py",
   "mimetype": "text/x-python",
   "name": "python",
   "nbconvert_exporter": "python",
   "pygments_lexer": "ipython3",
   "version": "3.10.12"
  }
 },
 "nbformat": 4,
 "nbformat_minor": 5
}
