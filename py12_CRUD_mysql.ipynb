{
 "cells": [
  {
   "cell_type": "code",
   "execution_count": 1,
   "id": "ced7c37d-acef-4c70-9b2e-db8dec38c9c9",
   "metadata": {},
   "outputs": [],
   "source": [
    "# !ping MONGODB"
   ]
  },
  {
   "cell_type": "code",
   "execution_count": 2,
   "id": "d070c621-9628-4fa7-ba3a-7ff5109ad88d",
   "metadata": {
    "scrolled": true
   },
   "outputs": [],
   "source": [
    "# !pip install mysql-connector-python"
   ]
  },
  {
   "cell_type": "code",
   "execution_count": 3,
   "id": "5ee71875-5a98-4f9e-b23f-3de9066e16a7",
   "metadata": {},
   "outputs": [
    {
     "name": "stdout",
     "output_type": "stream",
     "text": [
      "MySQL 서버에 성공적으로 연결되었습니다.\n",
      "연결중...\n"
     ]
    }
   ],
   "source": [
    "import mysql.connector\n",
    "\n",
    "try:\n",
    "    conn = mysql.connector.connect(\n",
    "        host=\"mysql\",\n",
    "        user=\"root\",\n",
    "        password=\"1234\"\n",
    "    )\n",
    "    if conn.is_connected():\n",
    "        print(\"MySQL 서버에 성공적으로 연결되었습니다.\")\n",
    "except mysql.connector.Error as err:\n",
    "        print(\"MySQL 서버 연결 실패\", err)\n",
    "finally:\n",
    "    if conn.is_connected():\n",
    "        print(\"연결중...\")"
   ]
  },
  {
   "cell_type": "code",
   "execution_count": 4,
   "id": "77d5249d-0a85-47be-851d-c6a931fbd840",
   "metadata": {},
   "outputs": [],
   "source": [
    "# 커서 생성\n",
    "cursor = conn.cursor()\n",
    "que = \"CREATE DATABASE IF NOT EXISTS judb\"\n",
    "cursor.execute(que)\n",
    "conn.close()"
   ]
  },
  {
   "cell_type": "code",
   "execution_count": 5,
   "id": "a69663d3-53b1-42fe-861a-6cd01cb8e292",
   "metadata": {},
   "outputs": [
    {
     "name": "stdout",
     "output_type": "stream",
     "text": [
      "MySQL 연결 성공!\n"
     ]
    }
   ],
   "source": [
    "# MySQL에 연결\n",
    "conn = mysql.connector.connect(\n",
    "        host=\"mysql\",\n",
    "        user=\"root\",\n",
    "        password=\"1234\",\n",
    "        database=\"judb\" # 사용할 데이터 베이스\n",
    "    )\n",
    "cursor = conn.cursor()\n",
    "print(\"MySQL 연결 성공!\")"
   ]
  },
  {
   "cell_type": "code",
   "execution_count": 6,
   "id": "8e36c49c-f796-4252-9da0-59f680affbc8",
   "metadata": {},
   "outputs": [
    {
     "name": "stdout",
     "output_type": "stream",
     "text": [
      "테이블 생성완료\n"
     ]
    }
   ],
   "source": [
    "# 테이블 생성\n",
    "query = \"CREATE TABLE IF NOT EXISTS users(id INT AUTO_INCREMENT PRIMARY KEY ,name VARCHAR(50), age INT, city VARCHAR(50))\"\n",
    "cursor.execute(query)\n",
    "print(\"테이블 생성완료\")"
   ]
  },
  {
   "cell_type": "code",
   "execution_count": 7,
   "id": "d4c5e218-9eda-4d7d-8076-305d2eb50a23",
   "metadata": {},
   "outputs": [
    {
     "name": "stdout",
     "output_type": "stream",
     "text": [
      "1개의 데이터 삽입 완료, ID: 11\n"
     ]
    }
   ],
   "source": [
    "# 단일 데이터 삽입\n",
    "sql = \"INSERT INTO users (name, age, city) VALUES (%s, %s, %s)\"\n",
    "values = (\"Alice\", 25, \"Seoul\")\n",
    "cursor.execute(sql, values)\n",
    "conn.commit()\n",
    "print(\"1개의 데이터 삽입 완료, ID:\", cursor.lastrowid)"
   ]
  },
  {
   "cell_type": "code",
   "execution_count": 8,
   "id": "c023dc7a-d181-48df-9121-4130b5504392",
   "metadata": {},
   "outputs": [
    {
     "name": "stdout",
     "output_type": "stream",
     "text": [
      "(1, 'Alice', 19, 'Seoul')\n",
      "(2, 'superman', 33, 'Busan')\n",
      "(3, 'Cutegirl', 17, 'jeju')\n",
      "(5, 'smith', 19, 'Seoul')\n",
      "(6, 'mark', 33, 'Busan')\n",
      "(7, 'Alice', 19, 'Seoul')\n",
      "(8, 'superman', 33, 'Busan')\n",
      "(9, 'Cutegirl', 17, 'jeju')\n",
      "(11, 'Alice', 25, 'Seoul')\n"
     ]
    }
   ],
   "source": [
    "# 모든 데이터 조회\n",
    "que = \"SELECT * FROM users\"\n",
    "cursor.execute(que)\n",
    "users = cursor.fetchall()\n",
    "# print(users)\n",
    "for user in users:\n",
    "    print(user)"
   ]
  },
  {
   "cell_type": "code",
   "execution_count": 9,
   "id": "58aa03fa-9350-4193-938a-0818ce7918fe",
   "metadata": {},
   "outputs": [
    {
     "name": "stdout",
     "output_type": "stream",
     "text": [
      "여러개의 데이터 삽입 완료!\n"
     ]
    }
   ],
   "source": [
    "# 여러개의 데이터 삽입\n",
    "m_values=[(\"superman\",33,\"Busan\"),(\"Cutegirl\",17,\"jeju\"),(\"Coolboy\",22,\"Jeju\")]\n",
    "cursor.executemany(sql, m_values)\n",
    "conn.commit()\n",
    "print(\"여러개의 데이터 삽입 완료!\")"
   ]
  },
  {
   "cell_type": "code",
   "execution_count": 10,
   "id": "7b63f64e-279f-4a23-b113-27efe66bb3f0",
   "metadata": {},
   "outputs": [
    {
     "name": "stdout",
     "output_type": "stream",
     "text": [
      "(2, 'superman', 33, 'Busan')\n",
      "(6, 'mark', 33, 'Busan')\n",
      "(8, 'superman', 33, 'Busan')\n",
      "(11, 'Alice', 25, 'Seoul')\n",
      "(12, 'superman', 33, 'Busan')\n"
     ]
    }
   ],
   "source": [
    "# 특정 조건 데이터 조회( 24살 이상만 조회)\n",
    "que = \"SELECT * FROM users\"\n",
    "filters = \" WHERE age >= 24\"\n",
    "cursor.execute(que + filters)\n",
    "\n",
    "filtered = cursor.fetchall()\n",
    "for f in filtered:\n",
    "    print(f)"
   ]
  },
  {
   "cell_type": "code",
   "execution_count": 11,
   "id": "113e7601-b89f-4e92-a023-810f40d25c8c",
   "metadata": {},
   "outputs": [
    {
     "name": "stdout",
     "output_type": "stream",
     "text": [
      "수정된 행 개수: 1\n"
     ]
    }
   ],
   "source": [
    "# 특정 사용자의 나이 수정\n",
    "sql = \"UPDATE users SET age = %s WHERE name = %s\"\n",
    "values = (19, \"Alice\")\n",
    "cursor.execute(sql, values)\n",
    "conn.commit()\n",
    "print(\"수정된 행 개수:\", cursor.rowcount)"
   ]
  },
  {
   "cell_type": "code",
   "execution_count": 12,
   "id": "6f7cfe35-d7c8-434c-85d4-0625993a726e",
   "metadata": {},
   "outputs": [
    {
     "name": "stdout",
     "output_type": "stream",
     "text": [
      "(20, 'jeju')에 해당하는 목록을 삭제하였습니다.\n"
     ]
    }
   ],
   "source": [
    "# 특정 조건 사용자 삭제\n",
    "que = \"DELETE FROM users WHERE age > %s AND city = %s\"\n",
    "filters = (20 , \"jeju\")\n",
    "cursor.execute(que , filters)\n",
    "conn.commit()\n",
    "print(f\"{filters}에 해당하는 목록을 삭제하였습니다.\" )"
   ]
  },
  {
   "cell_type": "code",
   "execution_count": null,
   "id": "3ba0cfc7-dfef-4fcd-b695-1c088f1da1f3",
   "metadata": {},
   "outputs": [],
   "source": []
  }
 ],
 "metadata": {
  "kernelspec": {
   "display_name": "Python 3 (ipykernel)",
   "language": "python",
   "name": "python3"
  },
  "language_info": {
   "codemirror_mode": {
    "name": "ipython",
    "version": 3
   },
   "file_extension": ".py",
   "mimetype": "text/x-python",
   "name": "python",
   "nbconvert_exporter": "python",
   "pygments_lexer": "ipython3",
   "version": "3.10.12"
  }
 },
 "nbformat": 4,
 "nbformat_minor": 5
}
