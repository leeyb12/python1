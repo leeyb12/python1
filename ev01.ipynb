{
 "cells": [
  {
   "cell_type": "code",
   "execution_count": 28,
   "id": "a9e67ce9-c120-4dc9-9b8b-9a10fa42305b",
   "metadata": {},
   "outputs": [
    {
     "name": "stdout",
     "output_type": "stream",
     "text": [
      "apple\n",
      "orange\n",
      "banana\n"
     ]
    }
   ],
   "source": [
    "# 파이썬 if\n",
    "# 0,1,2,3,4 X\n",
    "# 가라, 마라, 와라! , ok!! X \n",
    "fruit = [\"apple\", \"orange\", \"banana\"]\n",
    "fruit1 = [\"orange\", \"banana\"]\n",
    "fruit2 = [\"apple\", \"orange\", \"banana\"]\n",
    "fruit3 = [\"apple\", \"orange\", \"banana\"]\n",
    "fruit4 = [\"apple\", \"orange\", \"banana\"]\n",
    "fruit5 = [\"apple\", \"orange\", \"banana\"]\n",
    "print(fruit[0])\n",
    "print(fruit[1])\n",
    "print(fruit[2])"
   ]
  },
  {
   "cell_type": "code",
   "execution_count": 39,
   "id": "e981ea95-40fa-460d-b389-97b1e8bb48d4",
   "metadata": {},
   "outputs": [
    {
     "name": "stdout",
     "output_type": "stream",
     "text": [
      "조건이 맞아요.\n"
     ]
    }
   ],
   "source": [
    "if 5>0 : # 벽에 있는 스위치\n",
    "   print(\"조건이 맞아요.\")"
   ]
  },
  {
   "cell_type": "code",
   "execution_count": 30,
   "id": "de3d5519-6609-48b8-b1f3-8329e1c5c4ec",
   "metadata": {},
   "outputs": [
    {
     "name": "stdout",
     "output_type": "stream",
     "text": [
      "조건이 맞아요.\n"
     ]
    }
   ],
   "source": [
    "if True : # 벽에 있는 스위치\n",
    "    print(\"조건이 맞아요.\")"
   ]
  },
  {
   "cell_type": "code",
   "execution_count": 31,
   "id": "1b3bbfed-3c1f-4f87-9f14-01d80bf206e5",
   "metadata": {},
   "outputs": [],
   "source": [
    "if False : # 벽에 있는 스위치\n",
    "    print(\"조건이 맞아요.\")"
   ]
  },
  {
   "cell_type": "code",
   "execution_count": 32,
   "id": "31b05ea1-83b3-4a35-81d8-bfeed0a278f8",
   "metadata": {},
   "outputs": [
    {
     "name": "stdout",
     "output_type": "stream",
     "text": [
      "과일이 맞아요.\n"
     ]
    }
   ],
   "source": [
    "if fruit[0] == \"apple\" :\n",
    "    print(\"과일이 맞아요.\")"
   ]
  },
  {
   "cell_type": "code",
   "execution_count": 33,
   "id": "f850ec58-1dcd-4827-8327-77f20c6d9560",
   "metadata": {},
   "outputs": [
    {
     "name": "stdout",
     "output_type": "stream",
     "text": [
      "과일이 맞아요.\n"
     ]
    }
   ],
   "source": [
    "if \"apple\" in fruit:\n",
    "    print(\"과일이 맞아요.\")"
   ]
  },
  {
   "cell_type": "code",
   "execution_count": 34,
   "id": "7e86b8ff-1086-4b86-a789-849199ad921f",
   "metadata": {},
   "outputs": [
    {
     "name": "stdout",
     "output_type": "stream",
     "text": [
      "과일이 맞아요.\n"
     ]
    }
   ],
   "source": [
    "if \"kiwi\" not in fruit:\n",
    "    print(\"과일이 맞아요.\")"
   ]
  },
  {
   "cell_type": "code",
   "execution_count": 35,
   "id": "6f09a0c6-ef4b-472e-84ee-0bfb3fd4c17d",
   "metadata": {},
   "outputs": [
    {
     "name": "stdout",
     "output_type": "stream",
     "text": [
      "사과가 있어요.\n",
      "사과가 없어요.\n"
     ]
    }
   ],
   "source": [
    "if \"apple\" in fruit:\n",
    "    print(\"사과가 있어요.\")\n",
    "if \"apple\" in fruit:\n",
    "    print(\"사과가 없어요.\")"
   ]
  },
  {
   "cell_type": "code",
   "execution_count": 36,
   "id": "185086a4-aaa5-4ccc-a017-176a5ec1682a",
   "metadata": {},
   "outputs": [
    {
     "name": "stdout",
     "output_type": "stream",
     "text": [
      "사과가 있어요.\n"
     ]
    }
   ],
   "source": [
    "if \"apple\" in fruit:\n",
    "    print(\"사과가 있어요.\")\n",
    "else:\n",
    "    print(\"사과가 없어요.\")"
   ]
  },
  {
   "cell_type": "code",
   "execution_count": 37,
   "id": "69d75b87-f155-49bf-971d-02fbd21e3d79",
   "metadata": {},
   "outputs": [
    {
     "name": "stdout",
     "output_type": "stream",
     "text": [
      "fruit2에 사과가 있어요.\n",
      "fruit3에 사과가 있어요.\n",
      "fruit4에 사과가 있어요.\n",
      "fruit5에 사과가 있어요.\n"
     ]
    }
   ],
   "source": [
    "if \"apple\" in fruit1:\n",
    "    print(\"fruit1에 사과가 있어요.\")\n",
    "if \"apple\" in fruit2:\n",
    "    print(\"fruit2에 사과가 있어요.\")\n",
    "if \"apple\" in fruit3:\n",
    "    print(\"fruit3에 사과가 있어요.\")\n",
    "if \"apple\" in fruit4:\n",
    "    print(\"fruit4에 사과가 있어요.\")\n",
    "if \"apple\" in fruit5:\n",
    "    print(\"fruit5에 사과가 있어요.\")"
   ]
  },
  {
   "cell_type": "code",
   "execution_count": 38,
   "id": "b4499c49-3ec9-45cc-af5b-0cd25381fba9",
   "metadata": {},
   "outputs": [
    {
     "name": "stdout",
     "output_type": "stream",
     "text": [
      "fruit2에 사과가 있어요.\n"
     ]
    }
   ],
   "source": [
    "if \"apple\" in fruit1:\n",
    "    print(\"fruit1에 사과가 있어요.\")\n",
    "elif \"apple\" in fruit2:\n",
    "     print(\"fruit2에 사과가 있어요.\")\n",
    "elif \"apple\" in fruit3:\n",
    "     print(\"fruit3에 사과가 있어요.\")\n",
    "elif \"apple\" in fruit4:\n",
    "     print(\"fruit4에 사과가 있어요.\")\n",
    "elif \"apple\" in fruit5:\n",
    "     print(\"fruit5에 사과가 있어요.\")"
   ]
  },
  {
   "cell_type": "code",
   "execution_count": 41,
   "id": "0e0b0146-f070-4f8a-bb6b-ac395b87f9ce",
   "metadata": {},
   "outputs": [
    {
     "name": "stdout",
     "output_type": "stream",
     "text": [
      "조건이 맞아요.\n"
     ]
    }
   ],
   "source": [
    "num = 10 \n",
    "if (num > 5) and (num < 20)  and (num > 0):\n",
    "    print(\"조건이 맞아요.\")"
   ]
  },
  {
   "cell_type": "code",
   "execution_count": 43,
   "id": "4e6d90a6-5ffc-497c-8479-1fbf08794058",
   "metadata": {},
   "outputs": [
    {
     "name": "stdout",
     "output_type": "stream",
     "text": [
      "조건에 맞아요.\n"
     ]
    }
   ],
   "source": [
    "num = 10\n",
    "if (num < 5) or (num < 9) or (num >= 10):\n",
    "    print(\"조건에 맞아요.\")"
   ]
  },
  {
   "cell_type": "code",
   "execution_count": 45,
   "id": "e423505b-41c7-4b3e-88d1-f16cd0d22e03",
   "metadata": {},
   "outputs": [
    {
     "name": "stdout",
     "output_type": "stream",
     "text": [
      "True\n"
     ]
    }
   ],
   "source": [
    "# any()\n",
    "value = [0,0,0,0,'안녕?',0]\n",
    "what = any(value)\n",
    "print(what)"
   ]
  },
  {
   "cell_type": "code",
   "execution_count": 50,
   "id": "951c2b11-495b-4d79-b5b3-2110b69c87d3",
   "metadata": {},
   "outputs": [
    {
     "name": "stdout",
     "output_type": "stream",
     "text": [
      "false가 한개 이상있습니다\n"
     ]
    }
   ],
   "source": [
    "# all()\n",
    "value2 = [0,0,0,0,0]\n",
    "what2 = all(value2)\n",
    "\n",
    "if not all(value2):\n",
    "    print(\"false가 한개 이상있습니다\")"
   ]
  },
  {
   "cell_type": "code",
   "execution_count": null,
   "id": "5b65ed15-005b-447f-a220-e831cc9253a3",
   "metadata": {},
   "outputs": [],
   "source": []
  }
 ],
 "metadata": {
  "kernelspec": {
   "display_name": "Python 3 (ipykernel)",
   "language": "python",
   "name": "python3"
  },
  "language_info": {
   "codemirror_mode": {
    "name": "ipython",
    "version": 3
   },
   "file_extension": ".py",
   "mimetype": "text/x-python",
   "name": "python",
   "nbconvert_exporter": "python",
   "pygments_lexer": "ipython3",
   "version": "3.10.12"
  }
 },
 "nbformat": 4,
 "nbformat_minor": 5
}
