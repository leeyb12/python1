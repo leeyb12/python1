{
 "cells": [
  {
   "cell_type": "code",
   "execution_count": 7,
   "id": "9a34f00e-1e84-407e-accf-9bf4ab49be4d",
   "metadata": {},
   "outputs": [
    {
     "ename": "NameError",
     "evalue": "name 'song' is not defined",
     "output_type": "error",
     "traceback": [
      "\u001b[1;31m---------------------------------------------------------------------------\u001b[0m",
      "\u001b[1;31mNameError\u001b[0m                                 Traceback (most recent call last)",
      "Cell \u001b[1;32mIn[7], line 1\u001b[0m\n\u001b[1;32m----> 1\u001b[0m \u001b[38;5;28;01mfor\u001b[39;00m song \u001b[38;5;129;01min\u001b[39;00m \u001b[43msong\u001b[49m:\n\u001b[0;32m      2\u001b[0m     title \u001b[38;5;241m=\u001b[39m song\u001b[38;5;241m.\u001b[39mselect(\u001b[38;5;124m'\u001b[39m\u001b[38;5;124mdiv.ellipsis.rank01 > span > a\u001b[39m\u001b[38;5;124m'\u001b[39m) [\u001b[38;5;241m0\u001b[39m]\u001b[38;5;241m.\u001b[39mtext\n\u001b[0;32m      3\u001b[0m     num \u001b[38;5;241m=\u001b[39m \u001b[38;5;28mlen\u001b[39m(song\u001b[38;5;241m.\u001b[39mselect(\u001b[38;5;124m'\u001b[39m\u001b[38;5;124mdiv.ellipsis.rank02 > a\u001b[39m\u001b[38;5;124m'\u001b[39m))\n",
      "\u001b[1;31mNameError\u001b[0m: name 'song' is not defined"
     ]
    }
   ],
   "source": [
    "for song in songs:\n",
    "    title = song.select('div.ellipsis.rank01 > span > a') [0].text\n",
    "    num = len(song.select('div.ellipsis.rank02 > a'))\n",
    "    if num != 1:\n",
    "        i = 0\n",
    "        singers= []\n",
    "        for i in range(0,num):\n",
    "            singer = song.select('div.ellipsis.rank02 > a') [i].text\n",
    "            singers.append(singer)\n",
    "        print(title,',  '.join(singers),sep = '|')\n",
    "    else: \n",
    "        singer = song.select('div.ellipsis.rank02 > a')[0].text\n",
    "        print(title, singer, sep='|')"
   ]
  },
  {
   "cell_type": "code",
   "execution_count": null,
   "id": "36e67224-0631-4d80-b5b2-f8dd034a8b22",
   "metadata": {},
   "outputs": [],
   "source": []
  }
 ],
 "metadata": {
  "kernelspec": {
   "display_name": "Python 3 (ipykernel)",
   "language": "python",
   "name": "python3"
  },
  "language_info": {
   "codemirror_mode": {
    "name": "ipython",
    "version": 3
   },
   "file_extension": ".py",
   "mimetype": "text/x-python",
   "name": "python",
   "nbconvert_exporter": "python",
   "pygments_lexer": "ipython3",
   "version": "3.13.1"
  }
 },
 "nbformat": 4,
 "nbformat_minor": 5
}
